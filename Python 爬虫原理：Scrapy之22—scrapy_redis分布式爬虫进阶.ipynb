{
 "cells": [
  {
   "cell_type": "markdown",
   "metadata": {},
   "source": [
    "# Scrapy_redis分布式爬虫进阶\n",
    "　　参考：[scrapy爬虫开发(8)Redis分布式](https://blog.csdn.net/csdn_yym/article/details/86571464)<br>\n",
    "　　　　　[Scrapy_Redis Settings.py设置文件](https://www.jianshu.com/p/7bc1b21d8073)<br>\n",
    "　　　　　[scrapy-redis(调度器Scheduler源码分析)](https://www.cnblogs.com/yunxintryyoubest/p/9954481.html)<br>\n",
    "　　　　　[]()<br>\n",
    "　　　　　[]()<br>\n",
    "　　　　　[]()<br>\n",
    "　　　　　[]()<br>\n",
    "　　　　　[]()<br>\n"
   ]
  }
 ],
 "metadata": {
  "kernelspec": {
   "display_name": "Python 3",
   "language": "python",
   "name": "python3"
  },
  "language_info": {
   "codemirror_mode": {
    "name": "ipython",
    "version": 3
   },
   "file_extension": ".py",
   "mimetype": "text/x-python",
   "name": "python",
   "nbconvert_exporter": "python",
   "pygments_lexer": "ipython3",
   "version": "3.7.4"
  }
 },
 "nbformat": 4,
 "nbformat_minor": 4
}
