{
 "cells": [
  {
   "cell_type": "markdown",
   "metadata": {},
   "source": [
    "## Smtplib邮件发送库详解\n",
    "　　参考：[Python用QQ邮箱发送邮件时授权码问题](https://blog.csdn.net/wateryouyo/article/details/51766345)<br>\n",
    "　　　　　[利用python的smtp发送邮件后没收到邮件也没提示报错](https://segmentfault.com/q/1010000010552199)<br>\n",
    "　　　　　[如何将异常“全部”捕获，并发送邮件？](https://segmentfault.com/q/1010000012344118)<br>"
   ]
  }
 ],
 "metadata": {
  "kernelspec": {
   "display_name": "Python 3",
   "language": "python",
   "name": "python3"
  },
  "language_info": {
   "codemirror_mode": {
    "name": "ipython",
    "version": 3
   },
   "file_extension": ".py",
   "mimetype": "text/x-python",
   "name": "python",
   "nbconvert_exporter": "python",
   "pygments_lexer": "ipython3",
   "version": "3.7.4"
  }
 },
 "nbformat": 4,
 "nbformat_minor": 2
}
