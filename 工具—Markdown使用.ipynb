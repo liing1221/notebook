{
 "cells": [
  {
   "cell_type": "markdown",
   "id": "3452cf27",
   "metadata": {},
   "source": [
    "# Markdown使用\n",
    "　　参考：[]()  \n",
    "　　　　　[]()  \n",
    "　　　　　[]()  \n",
    "　　　　　[搭建 Markdown 强大写作环境（VSCode）](https://zhuanlan.zhihu.com/p/139140492)  \n",
    "　　　　　[markdown常见错误速查](https://blog.csdn.net/longtype/article/details/103582331)  \n",
    "　　　　　[MarkDown: TODO LIST的写法](https://blog.csdn.net/csu_passer/article/details/102495104)  \n",
    "　　　　　[markdown语法补充和todo制作](https://blog.csdn.net/sad_study/article/details/105808741)  \n",
    "　　　　　[markdown中插入图片怎么定义图片的大小或比例？](https://www.zhihu.com/question/23378396)  \n",
    "　　　　　[]()  \n"
   ]
  }
 ],
 "metadata": {
  "kernelspec": {
   "display_name": "Python 3 (ipykernel)",
   "language": "python",
   "name": "python3"
  },
  "language_info": {
   "codemirror_mode": {
    "name": "ipython",
    "version": 3
   },
   "file_extension": ".py",
   "mimetype": "text/x-python",
   "name": "python",
   "nbconvert_exporter": "python",
   "pygments_lexer": "ipython3",
   "version": "3.9.7"
  }
 },
 "nbformat": 4,
 "nbformat_minor": 5
}
