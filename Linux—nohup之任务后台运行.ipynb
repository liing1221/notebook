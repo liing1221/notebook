{
 "cells": [
  {
   "cell_type": "markdown",
   "metadata": {},
   "source": [
    "## Linux—nohup之任务后台运行"
   ]
  },
  {
   "cell_type": "markdown",
   "metadata": {},
   "source": [
    "**nohup命令**<br>\n",
    "#### 一、解释\n",
    "　　不挂断地运行命令。no hangup的缩写，意即“不挂断”，即将程序以忽略挂起信号的方式运行起来。一般理解&记住一个命令最简单的方法是记住它是什么缩写，就自然理解了这个命令。<br>\n",
    "　　如果你正在运行一个进程，而且你觉得在退出帐户时该进程还不会结束，那么可以使用nohup命令。该命令可以在你退出帐户/关闭终端之后继续运行相应的进程。在缺省情况下该作业的所有输出都被重定向到一个名为nohup.out的文件中。<br>\n",
    "#### 二、语法\n",
    ">nohup Command [ Arg ... ] [　& ]\n",
    "\n",
    "　　nohup 命令运行由 Command参数和任何相关的 Arg参数指定的命令，忽略所有挂断（SIGHUP）信号。在注销后使用 nohup 命令运行后台中的程序。要运行后台中的 nohup 命令，添加 &（表示“and”的符号）到命令的尾部。<br>\n",
    "　　无论是否将 nohup 命令的输出重定向到终端，输出都将附加到当前目录的 nohup.out 文件中。（如果不将 nohup 命令的输出重定向，输出将附加到当前目录的 nohup.out 文件中。）<br>\n",
    "　　如果当前目录的 nohup.out 文件不可写，输出重定向到 HOME/nohup.out 文件中。<br>\n",
    "　　如果没有文件能创建或打开以用于追加，那么 Command 参数指定的命令不可调用。<br>\n",
    "退出状态：该命令返回下列出口值：<br> 　　\n",
    "　　126 可以查找但不能调用 Command 参数指定的命令。<br>\n",
    "　　127 nohup 命令发生错误或不能查找由 Command 参数指定的命令。 <br>　　\n",
    "　　否则，nohup 命令的退出状态是 Command 参数指定命令的退出状态。<br>\n",
    "linux重定向：<br>\n",
    "　　0、1和2分别表示标准输入、标准输出和标准错误信息输出，可以用来指定需要重定向的标准输入或输出。<br>\n",
    "　　在一般使用时，默认的是标准输出，既1.当我们需要特殊用途时，可以使用其他标号。例如，将某个程序的错误信息输出到log文件中：./program 2>log。这样标准输出还是在屏幕上，但是错误信息会输出到log文件中。<br>\n",
    "　　另外，也可以实现0，1，2之间的重定向。2>&1：将错误信息重定向到标准输出。<br>\n",
    "　　Linux下还有一个特殊的文件/dev/null，它就像一个无底洞，所有重定向到它的信息都会消失得无影无踪。这一点非常有用，当我们不需要回显程序的所有信息时，就可以将输出重定向到/dev/null。<br>\n",
    "如果想要正常输出和错误信息都不显示，则要把标准输出和标准错误都重定向到/dev/null， 例如：\n",
    ">ls 1>/dev/null 2>/dev/null<br>\n",
    "ls >/dev/null 2>&1　　　#　还有一种做法是将错误重定向到标准输出，然后再重定向到 /dev/null．<br>\n",
    "\n",
    "　　注意：此处的顺序不能更改，否则达不到想要的效果，此时先将标准输出重定向到 /dev/null，然后将标准错误重定向到标准输出，由于标准输出已经重定向到了/dev/null，因此标准错误也会重定向到/dev/null，于是一切静悄悄。<br>\n",
    "　　由于使用nohup时，会自动将输出写入nohup.out文件中，如果文件很大的话，nohup.out就会不停的增大，这是我们不希望看到的，因此，可以利用/dev/null来解决这个问题。<br>\n",
    ">nohup ./program >/dev/null 2>log &    #　（1）舍弃标准输出，将错误输出到log文件中<br>\n",
    "nohup ./program >/dev/null 2>&1 &　　　#　　如果错误信息也不想要的话<br>\n",
    "\n",
    "#### 3、& 以及nohup与&的区别\n",
    "&：指在后台运行，但当用户推出(挂起)的时候，命令自动也跟着退出<br>\n",
    "nohup ： nohup运行命令可以使命令永久的执行下去，和用户终端没有关系，例如我们断开SSH连接都不会影响他的运行，注意了nohup没有后台运行的意思；&才是后台运行<br>\n",
    "结合起来用就是：nohup COMMAND &<br>\n",
    "这样就能使命令永久的在后台执行<br>\n",
    "\n",
    "#### 4、查看运行的后台进程\n",
    "（1）jobs -l<br>\n",
    "jobs命令只看当前终端生效的，关闭终端后，在另一个终端jobs已经无法看到后台跑得程序了，此时利用ps（进程查看命令）<br>\n",
    "（2）ps -ef <br>\n",
    "ps -aux|grep chat.js<br>\n",
    " a:显示所有程序 <br>\n",
    " u:以用户为主的格式来显示 <br>\n",
    " x:显示所有程序，不以终端机来区分<br>\n",
    "注：用ps -def | grep查找进程很方便，最后一行总是会grep自己<br>\n",
    "　　用grep -v参数可以将grep命令排除掉：<br>\n",
    "　　　　ps -aux|grep chat.js| grep -v grep<br>\n",
    "　　再用awk提取一下进程ID<br>\n",
    "　　　　ps -aux|grep chat.js| grep -v grep | awk '{print $2}'<br>\n",
    "（3）如果某个进程起不来，可能是某个端口被占用<br>\n",
    "　　查看使用某端口的进程<br>\n",
    "　　lsof -i:8090<br>\n",
    "　　netstat -ap|grep 8090<br>\n",
    "　　查看到进程id之后，使用netstat命令查看其占用的端口<br>\n",
    "　　netstat -nap|grep 7779<br>\n"
   ]
  }
 ],
 "metadata": {
  "kernelspec": {
   "display_name": "Python 3",
   "language": "python",
   "name": "python3"
  },
  "language_info": {
   "codemirror_mode": {
    "name": "ipython",
    "version": 3
   },
   "file_extension": ".py",
   "mimetype": "text/x-python",
   "name": "python",
   "nbconvert_exporter": "python",
   "pygments_lexer": "ipython3",
   "version": "3.7.0"
  }
 },
 "nbformat": 4,
 "nbformat_minor": 2
}
