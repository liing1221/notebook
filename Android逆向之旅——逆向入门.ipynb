{
 "cells": [
  {
   "cell_type": "markdown",
   "metadata": {},
   "source": [
    "## APP逆向入门\n",
    "　　参考：[入门指导](https://blog.csdn.net/qq_38851536/article/details/99062444)<br>\n",
    "　　　　　[入门与app抓包](https://blog.csdn.net/qq_38851536/article/details/96270806)<br>\n",
    "　　　　　[Genymotion模拟器使用](https://www.runoob.com/w3cnote/android-tutorial-genymotion-install.html)<br>\n",
    "　　　　　[win10下 Genymotion + Xposed + Inspeckage 安装调试安卓app](https://www.zhihu.com/topic/20032560/hot)<br>\n",
    "　　　　　[APP逆向神器之Frida](https://zhuanlan.zhihu.com/p/73008784)<br>\n",
    "　　　　　[APP的请求的加密参数常规处理](https://zhuanlan.zhihu.com/p/71750595)<br>"
   ]
  },
  {
   "cell_type": "code",
   "execution_count": null,
   "metadata": {},
   "outputs": [],
   "source": []
  }
 ],
 "metadata": {
  "kernelspec": {
   "display_name": "Python 3",
   "language": "python",
   "name": "python3"
  },
  "language_info": {
   "codemirror_mode": {
    "name": "ipython",
    "version": 3
   },
   "file_extension": ".py",
   "mimetype": "text/x-python",
   "name": "python",
   "nbconvert_exporter": "python",
   "pygments_lexer": "ipython3",
   "version": "3.7.1"
  }
 },
 "nbformat": 4,
 "nbformat_minor": 2
}
