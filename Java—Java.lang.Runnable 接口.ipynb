{
 "cells": [
  {
   "cell_type": "markdown",
   "id": "4f7f8bcd",
   "metadata": {},
   "source": [
    "# Java.lang.Runnable 接口\n",
    "\n",
    "\n",
    "## Runnable 介绍\n",
    "　　Runnable是传统创建线程的借口，想要创建一个线程可运行实例，需要实现Runnable接口或者继承Thread类。  \n",
    "　　Runnable只有一个抽象的run()方法，此方法是在运行时有JVM调用，每一个运行期的Runnable实现类实例(包括Thread的子类，因为Thread亦是实现了Runnable接口)都对应于操作系统中的一个线程，所以说Java中的线程只是操作系统线程的一个映射，Java中线程的运行效率也不可能高于底层语言线程，因为Java中线程的创建和调用需要经过JVM，JVM再向下调用(JNI的方式与特定平台进行通信)。  \n",
    "\n",
    "\n"
   ]
  }
 ],
 "metadata": {
  "kernelspec": {
   "display_name": "Python 3",
   "language": "python",
   "name": "python3"
  },
  "language_info": {
   "codemirror_mode": {
    "name": "ipython",
    "version": 3
   },
   "file_extension": ".py",
   "mimetype": "text/x-python",
   "name": "python",
   "nbconvert_exporter": "python",
   "pygments_lexer": "ipython3",
   "version": "3.9.7"
  }
 },
 "nbformat": 4,
 "nbformat_minor": 5
}
