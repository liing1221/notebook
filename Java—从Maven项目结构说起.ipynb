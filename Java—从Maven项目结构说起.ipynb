{
 "cells": [
  {
   "cell_type": "markdown",
   "id": "5d39ef60",
   "metadata": {},
   "source": [
    "# Maven项目\n",
    "　　参考：[]()     \n",
    "　　　　　[]()   \n",
    "　　　　　[很全的mvn介绍](https://blog.csdn.net/DR_LF/article/details/7292441)   \n",
    "　　　　　[指定Maven版本：.mvn目录&mvnw和mvnw.cmd文件说明](https://blog.csdn.net/adparking/article/details/114692211)   \n",
    "　　　　　[maven的pom.xml文件详解学习分享](https://blog.csdn.net/weixin_42440011/article/details/118751845)   \n",
    "　　　　　[maven：pom文件详解](https://blog.csdn.net/weixin_38569499/article/details/91456988)   \n",
    "　　　　　[pom文件详解](https://blog.csdn.net/Coder_Qiang/article/details/83306721)   \n",
    "　　　　　[Maven之pom.xml与setting.xml配置文件详解](https://liuyandeng.blog.csdn.net/article/details/79138294)   \n",
    "　　　　　[]()   \n",
    "　　　　　[]()   \n",
    "　　　　　[]()   \n",
    "　　　　　[]()   \n",
    "\n"
   ]
  }
 ],
 "metadata": {
  "kernelspec": {
   "display_name": "Python 3 (ipykernel)",
   "language": "python",
   "name": "python3"
  },
  "language_info": {
   "codemirror_mode": {
    "name": "ipython",
    "version": 3
   },
   "file_extension": ".py",
   "mimetype": "text/x-python",
   "name": "python",
   "nbconvert_exporter": "python",
   "pygments_lexer": "ipython3",
   "version": "3.9.7"
  }
 },
 "nbformat": 4,
 "nbformat_minor": 5
}
