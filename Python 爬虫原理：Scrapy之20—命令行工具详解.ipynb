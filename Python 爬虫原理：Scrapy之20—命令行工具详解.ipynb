{
 "cells": [
  {
   "cell_type": "markdown",
   "metadata": {},
   "source": [
    "# Shell命令行工具详解\n",
    "　　参考：[Scrapy爬虫入门教程三 命令行工具介绍和示例](https://www.jianshu.com/p/034444bc6ff7)<br>\n",
    "　　　　　[Scrapy爬虫入门教程八 交互式 shell 方便调试](https://www.jianshu.com/p/10d0c997edd5)<br>\n",
    "　　　　　[Scrapy详解之命令行工具](https://zhuanlan.zhihu.com/p/38906349)<br>\n",
    "　　　　　[scrapy shell 的使用](https://www.cnblogs.com/xpwi/p/9601058.html)<br>\n",
    "　　　　　[python爬虫进阶之scrapy的暂停与重启](https://blog.csdn.net/m0_37338590/article/details/81332540)<br>\n",
    "　　　　　[scrapy添加新命令](https://segmentfault.com/a/1190000016234008)<br>"
   ]
  }
 ],
 "metadata": {
  "kernelspec": {
   "display_name": "Python 3",
   "language": "python",
   "name": "python3"
  },
  "language_info": {
   "codemirror_mode": {
    "name": "ipython",
    "version": 3
   },
   "file_extension": ".py",
   "mimetype": "text/x-python",
   "name": "python",
   "nbconvert_exporter": "python",
   "pygments_lexer": "ipython3",
   "version": "3.7.4"
  }
 },
 "nbformat": 4,
 "nbformat_minor": 4
}
