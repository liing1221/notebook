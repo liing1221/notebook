{
 "cells": [
  {
   "cell_type": "markdown",
   "metadata": {},
   "source": [
    "## Jenkins使用讲义\n",
    "　　参考：[Jenkins官方文档](https://www.jenkins.io/zh/doc/)<br>\n",
    "　　　　　[Jenkins详细教程](https://www.jianshu.com/p/5f671aca2b5a)<br>\n",
    "　　　　　[jekins部署python项目到远程服务器](https://www.cnblogs.com/kwzblog/p/12869596.html)<br>\n",
    "　　　　　[Jenkins](https://blog.csdn.net/chenpengjia006/category_8013810.html)<br>"
   ]
  }
 ],
 "metadata": {
  "kernelspec": {
   "display_name": "Python 3",
   "language": "python",
   "name": "python3"
  },
  "language_info": {
   "codemirror_mode": {
    "name": "ipython",
    "version": 3
   },
   "file_extension": ".py",
   "mimetype": "text/x-python",
   "name": "python",
   "nbconvert_exporter": "python",
   "pygments_lexer": "ipython3",
   "version": "3.7.4"
  }
 },
 "nbformat": 4,
 "nbformat_minor": 2
}
