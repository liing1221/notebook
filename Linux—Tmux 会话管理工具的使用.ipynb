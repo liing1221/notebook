{
 "cells": [
  {
   "cell_type": "markdown",
   "metadata": {},
   "source": [
    "## Tmux会话管理工具的使用\n",
    "　　参考:<br>\n",
    "　　　　[Tmux 速成教程：技巧和调整](https://www.cnblogs.com/maoxiaolv/p/5526602.html)<br>\n",
    "　　　　[Tmux 使用教程](http://www.ruanyifeng.com/blog/2019/10/tmux.html)<br>\n",
    "　　　　[tmux基本操作](https://www.cnblogs.com/liuguanglin/p/9290345.html)<br>\n",
    "　　　　[Linux终端复用神器-Tmux使用梳理](https://www.cnblogs.com/kevingrace/p/6496899.html)<br>"
   ]
  }
 ],
 "metadata": {
  "kernelspec": {
   "display_name": "Python 3",
   "language": "python",
   "name": "python3"
  },
  "language_info": {
   "codemirror_mode": {
    "name": "ipython",
    "version": 3
   },
   "file_extension": ".py",
   "mimetype": "text/x-python",
   "name": "python",
   "nbconvert_exporter": "python",
   "pygments_lexer": "ipython3",
   "version": "3.7.4"
  }
 },
 "nbformat": 4,
 "nbformat_minor": 2
}
