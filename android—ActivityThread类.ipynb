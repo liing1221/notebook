{
 "cells": [
  {
   "cell_type": "markdown",
   "id": "c8cce5f2",
   "metadata": {},
   "source": [
    "# ActivityThread 类\n",
    "　　参考：[]()  \n",
    "　　　　　[]()  \n",
    "　　　　　[一文读懂ActivityThread](https://blog.csdn.net/zhuzp_blog/article/details/120894309)  \n",
    "　　　　　[ActivityThread的理解和APP的启动过程](https://blog.csdn.net/hzwailll/article/details/85339714)  \n",
    "　　　　　[]()  \n",
    "　　　　　[]()  \n",
    "　　　　　[]()  \n",
    "　　　　　[]()  "
   ]
  }
 ],
 "metadata": {
  "kernelspec": {
   "display_name": "Python 3 (ipykernel)",
   "language": "python",
   "name": "python3"
  },
  "language_info": {
   "codemirror_mode": {
    "name": "ipython",
    "version": 3
   },
   "file_extension": ".py",
   "mimetype": "text/x-python",
   "name": "python",
   "nbconvert_exporter": "python",
   "pygments_lexer": "ipython3",
   "version": "3.9.7"
  }
 },
 "nbformat": 4,
 "nbformat_minor": 5
}
