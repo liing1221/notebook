{
 "cells": [
  {
   "cell_type": "markdown",
   "metadata": {},
   "source": [
    "# Pandas详解\n",
    "　　参考：[]()<br>\n",
    "　　　　　[]()<br>\n",
    "　　　　　[22个案例详解 Pandas 数据分析/预处理时的实用技巧，超简单](https://mp.weixin.qq.com/s/3O1H_u4PAHaNWEzIDhEY3g)<br>\n",
    "　　　　　[Pandas 重复数据处理大全](https://mp.weixin.qq.com/s/dmfUBmmIRoJ1XhfK7zElyA)<br>\n",
    "　　　　　[第3次翻译了 Pandas 官方文档，叒写了这一份R万字肝货操作！](https://mp.weixin.qq.com/s/dmfUBmmIRoJ1XhfK7zElyA)<br>\n",
    "　　　　　[10000字的Pandas核心操作知识大全！](https://mp.weixin.qq.com/s/vQdmKdrOJ49z2M6SQwmbEQ)<br>\n",
    "　　　　　[Pandas缺失数据处理大全](https://mp.weixin.qq.com/s/Ly7P1zhAJSdNu8TU5Xc2uA)<br>\n",
    "　　　　　[pandas 文本处理大全（附代码）](https://mp.weixin.qq.com/s/5_A5gQPYFAJkbTrjIq1WzQ)<br>"
   ]
  }
 ],
 "metadata": {
  "kernelspec": {
   "display_name": "Python 3",
   "language": "python",
   "name": "python3"
  },
  "language_info": {
   "codemirror_mode": {
    "name": "ipython",
    "version": 3
   },
   "file_extension": ".py",
   "mimetype": "text/x-python",
   "name": "python",
   "nbconvert_exporter": "python",
   "pygments_lexer": "ipython3",
   "version": "3.7.4"
  }
 },
 "nbformat": 4,
 "nbformat_minor": 4
}
