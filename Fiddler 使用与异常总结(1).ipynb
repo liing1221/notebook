{
 "cells": [
  {
   "cell_type": "markdown",
   "metadata": {},
   "source": [
    "## Fiddler 使用与异常总结(1)"
   ]
  },
  {
   "cell_type": "markdown",
   "metadata": {},
   "source": [
    "### 1、fiddler的简单使用"
   ]
  },
  {
   "cell_type": "markdown",
   "metadata": {},
   "source": [
    "（fiddler使用已有一段时间，具体使用细节慢慢补充）\n",
    "Fiddler是一个http协议调试代理工具，它能够记录客户端和服务器之间的所有 HTTP请求，可以针对特定的HTTP请求，分析请求数据、设置断点、调试web应用、修改请求的数据，甚至可以修改服务器返回的数据，功能非常强大，是web调试与爬虫抓包的利器。\n",
    "## Fiddler工作原理:## \n",
    "Fiddler是以代理web服务器的形式工作的,它使用代理地址:127.0.0.1,端口:8888. 当Fiddler启动后将自己变成一个代理服务器,这个代理服务器默认监听127.0.0.1:8888.然后打开IE的时候,IE浏览器会向代理服务器发请求（也就是向127.0.0.1:8888请求，然后由fiddler向Internet上的服务器发请求获取响应，在返回给浏览器）。Fiddler退出的时候,会自动注销代理，这样就不会影响别的程序。不过如果Fiddler非正常退出，这时候因为Fiddler没有自动注销，会造成网页无法访问。Fiddler的具体工作原理如下：\n",
    "\n",
    "首先fiddler截获客户端浏览器发送给服务器的https请求， 此时还未建立握手。\n",
    "第一步， fiddler向服务器发送请求进行握手， 获取到服务器的CA证书， 用根证书公钥进行解密， 验证服务器数据签名， 获取到服务器CA证书公钥。\n",
    "第二步， fiddler伪造自己的CA证书， 冒充服务器证书传递给客户端浏览器， 客户端浏览器做跟fiddler一样的事。\n",
    "第三步， 客户端浏览器生成https通信用的对称密钥， 用fiddler伪造的证书公钥加密后传递给服务器， 被fiddler截获。\n",
    "第四步， fiddler将截获的密文用自己伪造证书的私钥解开， 获得https通信用的对称密钥。\n",
    "第五步， fiddler将对称密钥用服务器证书公钥加密传递给服务器， 服务器用私钥解开后建立信任， 握手完成， 用对称密钥加密消息， 开始通信。\n",
    "第六步， fiddler接收到服务器发送的密文， 用对称密钥解开， 获得服务器发送的明文。再次加密， 发送给客户端浏览器。\n",
    "第七步， 客户端向服务器发送消息， 用对称密钥加密， 被fidller截获后， 解密获得明文。\n",
    "由于fiddler一直拥有通信用对称密钥， 所以在整个https通信过程中信息对其透明。"
   ]
  },
  {
   "attachments": {},
   "cell_type": "markdown",
   "metadata": {},
   "source": [
    "## Fiddler设置##\n",
    "Fiddler 抓取 Https 设置\n",
    "\n",
    "1、启动Fiddler，打开菜单栏中的 Tools > Options 。<br>\n",
    "                \n",
    "2、打开工具栏->Tools->Options->HTTPS <br>\n",
    "        3.1.1：选中Capture HTTPS CONNECTs (捕捉HTTPS连接)，<br>\n",
    "        3.1.2：选中Decrypt HTTPS traffic（解密HTTPS通信）<br>\n",
    "        3.1.3：我们要用Fiddler获取本机所有进程的HTTPS请求，所以中间的下拉菜单中选中...from all processes <br>\n",
    "        3.1.4：选中下方Ignore server certificate errors（忽略服务器证书错误）<br>\n",
    "        3.1.5：在Actions 里为 Fiddler 配置Windows信任这个根证书解决安全警告：Trust Root Certificate ，<br>\n",
    "                    在mac 上运行 Fiddler 是没有这个选项的，不用选择即可<br>\n",
    "                \n",
    "3、Fiddler 主菜单 Tools -> Options> Connections<br>\n",
    "       3.2.1: 选中Allow remote computers to connect（允许远程连接）<br>\n",
    "       3.2.2: Act as system proxy on startup（作为系统启动代理）<br>\n",
    "                    \n",
    "4、重启Fiddler，使配置生效（这一步很重要，必须做)<br>\n",
    "5、Fiddler 如何捕获 Chrome的会话<br>\n",
    "安装SwitchyOmega 代理管理 Chrome 浏览器插件<br>\n",
    "       5.1.1：在Chrome 应用商城即可添加插件<br>\n",
    "                   \n",
    "6、添加好插件后，打开SwitchyOmega点击新建情景模式，如图所示，设置代理服务器为127.0.0.1:8888<br>\n",
    "    设置好后，点击应用选项保存即可<br>\n",
    "                                    \n",
    "7、通过浏览器插件切换为设置好的代理，请注意(这里如果不需要，你设置的代理，请切换成 auto switch) 不然会影响浏览器正常使用，无法访问网页<br>                      \n",
    "8、切换成你设置好的代理之后，打开Fiddler，在浏览器输入你要访问的Https请求，操作即可，Fiddler会自动拦截信息<br>\n",
    "             "
   ]
  },
  {
   "cell_type": "markdown",
   "metadata": {},
   "source": [
    "### 2、 fiddler代理的异常"
   ]
  },
  {
   "cell_type": "markdown",
   "metadata": {},
   "source": [
    "##### 从代理的原理到解决办法"
   ]
  },
  {
   "attachments": {
    "image.png": {
     "image/png": "[encoded data removed]"
    }
   },
   "cell_type": "markdown",
   "metadata": {},
   "source": [
    "一般能支持HTTP代理的任意程序的数据包都能被Fiddler嗅探到，Fiddler的运行机制其实就是本机上监听8888端口的HTTP代理。Fiddler启动的时候默认将浏览器（IE）的代理设置为127.0.0.1:8888，而其他浏览器是需要手动设置的，所以将浏览器的代理改为127.0.0.1:8888就可以监听数据了。\n",
    "###### 本次遇到的问题是：装好fiddler时可以浏览器上网，也可以fiddler抓包，但现在突然出现fiddler无法抓包，使用代理时浏览器也无法上网的异常\n",
    "判断异常原因：fiddler设置没有问题，使用代理时无法上网，但电脑有网，浏览器代理设置上了但没有正常工作！(浏览器代理到Fiddler代理之间通信异常)<br>\n",
    "解决办法：认真检查浏览器与Fiddler的代理设置没有问题后，决定查看代理端口的使用情况，具体方法如下：<br>\n",
    "1、查看电脑端口占用情况命令：netstat -an <br>\n",
    "2、查看特定端口占用情况的命令：netstat -aon|findstr  \"端口号\"（此处查看fiddler默认端口8888）<br>\n",
    "下图所示结果截图：(以第一行列：TCP表示传输层通讯协议，接下来是本机地址或主机名称与端口号、远程主机地址或主机名称与端口号，以及进程PID号)<br>\n",
    "端口的状态信息有4种：<br>\n",
    "LISTENING：当前正在监听<br>\n",
    "ESTABLISHED： 已建立连接，正在通信<br>\n",
    "TIME_WAIT：已结束访问<br>\n",
    "CLOSE_WAIT：等待从本地用户发来的连接中断请求<br>\n",
    "了解更多关于netstat的使用方法命令：netstat -help\n",
    "![image.png](attachment:image.png)\n",
    "查看占用8888端口的进程，发现是Python进程，查资料发现IPython使用的是8888端口。找到问题原因，修改Fiddler与浏览器代理端口为其他端口后，问题解决。\n",
    "附python开发常见端口号：<br>\n",
    "端口范围 0-65535\n",
    "系统的预留或占用端口 0-1024\n",
    "MySQL默认端口 3306<br>\n",
    "Redis默认端口 6379<br>\n",
    "MongoDB默认端口 27017<br>\n",
    "django端口 8000<br>\n",
    "flask端口 5000<br>\n",
    "pyspider服务端口 5000（由flask开发）<br>\n",
    "gerapy服务端口 8000（由django开发）<br>\n",
    "scrapyd服务端口 6800<br>\n",
    "ipython notebook 默认端口 8888<br>\n",
    "HTTP默认端口 80<br>\n",
    "HTTPS服务默认端口443<br>\n",
    "NNTP 帖子  119<br>\n",
    "FTP  文件传输  20<br>\n",
    "SMTP 发送邮件  25<br>\n",
    "ssh  安全协议  22<br>\n",
    "POP3  接收邮件  110<br>\n",
    "IMAP4   获取邮件  143<br>\n",
    "Telnet  命令行  23   <br> \n",
    "Gopher   信息查找  70<br>\n",
    "\n"
   ]
  }
 ],
 "metadata": {
  "kernelspec": {
   "display_name": "Python 3",
   "language": "python",
   "name": "python3"
  },
  "language_info": {
   "codemirror_mode": {
    "name": "ipython",
    "version": 3
   },
   "file_extension": ".py",
   "mimetype": "text/x-python",
   "name": "python",
   "nbconvert_exporter": "python",
   "pygments_lexer": "ipython3",
   "version": "3.7.0"
  }
 },
 "nbformat": 4,
 "nbformat_minor": 2
}
