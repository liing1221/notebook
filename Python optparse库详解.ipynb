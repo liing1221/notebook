{
 "cells": [
  {
   "cell_type": "markdown",
   "metadata": {},
   "source": [
    "# optparse库详解\n",
    "　　参考：[Python学习笔记之optparse模块OptionParser](https://blog.csdn.net/m0_37717595/article/details/80603884)<br>\n",
    "　　　　　[Python optionParser模块的使用方法](https://blog.csdn.net/lwnylslwnyls/article/details/8199454)<br>\n",
    "　　　　　[python中optparse模块用法](https://blog.csdn.net/weixin_30586085/article/details/95614766)<br>"
   ]
  }
 ],
 "metadata": {
  "kernelspec": {
   "display_name": "Python 3",
   "language": "python",
   "name": "python3"
  },
  "language_info": {
   "codemirror_mode": {
    "name": "ipython",
    "version": 3
   },
   "file_extension": ".py",
   "mimetype": "text/x-python",
   "name": "python",
   "nbconvert_exporter": "python",
   "pygments_lexer": "ipython3",
   "version": "3.7.4"
  }
 },
 "nbformat": 4,
 "nbformat_minor": 4
}
