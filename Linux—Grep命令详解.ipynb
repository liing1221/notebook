{
 "cells": [
  {
   "cell_type": "markdown",
   "id": "23ea6f20",
   "metadata": {},
   "source": [
    "# Grep命令详解\n",
    "\n",
    "\n",
    "　　如果你想在当前目录下 查找\"hello,world!\"字符串,可以这样:\n",
    ">grep -rn \"hello,world!\" *\n",
    "\n",
    "- \\* : 表示当前目录所有文件，也可以是某个文件名\n",
    "- -r : 递归查找\n",
    "- -n : 显示行号\n",
    "- -R : 查找所有文件包含子目录\n",
    "- -i : 忽略大小写\n",
    "\n",
    "  \n",
    "　　下面是一些有意思的命令行参数：\n",
    ">grep -i pattern files  # 不区分大小写地搜索。默认情况区分大小写，   \n",
    "grep -l pattern files  # 只列出匹配的文件名，   \n",
    "grep -L pattern files  # 列出不匹配的文件名，   \n",
    "grep -w pattern files  # 只匹配整个单词，而不是字符串的一部分（如匹配‘magic’，而不是‘magical’），   \n",
    "grep -C number pattern files  # 匹配的上下文分别显示[number]行，   \n",
    "grep pattern1 | pattern2 files  # 显示匹配 pattern1 或 pattern2 的行，   \n",
    "grep pattern1 files | grep pattern2   # 显示既匹配 pattern1 又匹配 pattern2 的行。   \n",
    "\n",
    "  \n",
    "　　这里还有些用于搜索的特殊符号：\n",
    "　　\\< 和 \\> 分别标注单词的开始与结尾。\n",
    "  \n",
    "　　例如： \n",
    "1. grep man * 会匹配 ‘Batman’、‘manic’、‘man’等，   \n",
    "2. grep '\\<man' * 匹配‘manic’和‘man’，但不是‘Batman’，   \n",
    "3. grep '\\<man\\>' 只匹配‘man’，而不是‘Batman’或‘manic’等其他的字符串。   \n",
    "4. '^'：指匹配的字符串在行首，   \n",
    "5. '$'：指匹配的字符串在行尾，  \n",
    "\n"
   ]
  }
 ],
 "metadata": {
  "kernelspec": {
   "display_name": "Python 3",
   "language": "python",
   "name": "python3"
  },
  "language_info": {
   "codemirror_mode": {
    "name": "ipython",
    "version": 3
   },
   "file_extension": ".py",
   "mimetype": "text/x-python",
   "name": "python",
   "nbconvert_exporter": "python",
   "pygments_lexer": "ipython3",
   "version": "3.9.7"
  }
 },
 "nbformat": 4,
 "nbformat_minor": 5
}
