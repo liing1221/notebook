{
 "cells": [
  {
   "cell_type": "markdown",
   "metadata": {},
   "source": [
    "## Vim 使用与快捷键"
   ]
  },
  {
   "cell_type": "markdown",
   "metadata": {},
   "source": [
    "#### 4、vim 跳转操作\n",
    "：set nu 显示行号<br>\n",
    "：行号　　　跳转到指定行， 如 ：1 跳转到首行<br>\n",
    "：$ 　　　　跳转到文件末尾<br>\n",
    "：gg　　　　跳转到文件头<br>\n",
    "：shift + g　跳转到文件末尾<br>"
   ]
  },
  {
   "cell_type": "markdown",
   "metadata": {},
   "source": [
    "#### 5、vim 查找与替换"
   ]
  },
  {
   "cell_type": "markdown",
   "metadata": {},
   "source": [
    "#### 6、vim 撤销、回退操作<br>\n",
    "在vi中按u可以撤销一次操作<br>\n",
    "Ctrl+r 恢复上一步被撤销的操作<br>\n",
    "\n",
    "注意：如果你输入“u”两次，你的文本恢复原样，那应该是你的Vim被配置在Vi兼容模式了。<br>\n",
    "重做\n",
    "如果你撤销得太多，你可以输入CTRL-R（redo）回退前一个命令。换句话说，它撤销一个撤销。<br>\n",
    "有一个特殊版本的撤销命令：“U”（行撤销）。行撤销命令撤销所有在前一个编辑行上的操作。<br>\n",
    "输入这些命令两次取消前一个“U”：<br>\n",
    "A very intelligent turtle<br>\n",
    "xxxx 删除very<br>\n",
    "A intelligent turtle<br>\n",
    "xxxxxx 删除turtle<br>\n",
    "A intelligent<br>\n",
    "用“U”恢复行<br>\n",
    "A very intelligent turtle<br>\n",
    "用“u”撤销“U”<br>\n",
    "A intelligent<br>\n",
    "“U”命令自己改变自己，“u”命令撤销操作，CTRL-R命令重做操作。这有点乱，但不用担心，用“u”和CTRL-R命令你可以切换到任何状态。<br>\n",
    "流行的文本编辑器通常都有前进和后退功能，可以在文件中曾经浏览过的位置之间来回移动。在 vim 中使用 Ctrl-O 执行后退，使用 Ctrl-I 执行前进。<br>\n",
    "#### 7、vim批量插入、删除\n",
    "vim批量插入：<br>\n",
    ">1.采用正则的方式 <br>\n",
    "在普通模式下，输入如下命令 <br>\n",
    ":%s/^/123/g　　　　　#这样就在行首插入123三个字符<br>\n",
    "2.可视块模式<br> \n",
    "比如想在文件中每行行首插入三个字符，在普通模式下，ctrl+v可进入可视块模式。gg到文件最开始位置，然后ctrl+v进入可视块模式，再按G到文件最后一行。然后shift+i进入插入模式，输入’123’,再连按两次esc，这样就达到了在每行行首插入’123’的目的。<br>\n",
    "\n",
    "vim 批量删除：<br>\n",
    ">1.采用正则的方式 <br>\n",
    "在普通模式下，输入如下命令<br> \n",
    ":%s/^…//g　　　　　 #这样就将行首的三个字符用空白串替换，即达到了删除行首三个字符的效果<br>\n",
    "2.可视块模式 <br>\n",
    "比如想删除文件中每行前三个字符，在普通模式下，ctrl+v可进入可视块模式。gg到文件最开始位置，然后ctrl+v进入可视块模式，再按G到文件最后一行。然后用方向键或者l调整选中位置。比如想删除三个字符，按三次l，然后再按d或者x，就可以将每行行首三个字符删除。 <br>\n",
    "这种方式的好处是删除的过程比较清晰<br>\n"
   ]
  },
  {
   "cell_type": "markdown",
   "metadata": {},
   "source": [
    "#### 7、vim缩进\n",
    "1、多行或快缩进：<br>\n",
    "　　按v进入visual状态，选择多行，用>或<缩进或缩出 <br>\n",
    "2、通常根据语言特征使用自动缩进排版：<br>\n",
    "　　在命令状态下对当前行用== （连按=两次）, 或对多行用n==（n是自然数）表示自动缩进从当前行起的下面n行。<br>\n",
    "　　你可以试试把代码缩进任意打乱再用n==排版，相当于一般IDE里的code format。使用gg=G可对整篇代码进行排版。<br>"
   ]
  },
  {
   "cell_type": "markdown",
   "metadata": {},
   "source": [
    "#### 8、在vim使用shell命令\n",
    "vim中执行shell命令，有以下几种形式：<br>\n",
    "1)**:!command**<br>\n",
    "不退出vim，并执行shell命令command，将命令输出显示在vim的命令区域，不会改变当前编辑的文件的内容<br>\n",
    ">:!ls -l<br>\n",
    "\n",
    "特别的可以运行:!bash来启动一个bash shell并执行命令，不需要退出vim<br>\n",
    "2)**:r !command**<br>\n",
    "将shell命令command的结果插入到当前行的下一行<br>\n",
    ">:r !date　　　　　# 读取系统时间并插入到当前行的下一行。<br>\n",
    "\n",
    "3)**:起始行号,结束行号 !command**<br>\n",
    "将起始行号和结束行号指定的范围中的内容输入到shell命令command处理，并将处理结果替换起始行号和结束行号指定的范围中的内容.<br>\n",
    ">:62,72 !sort　　　　　　　# 将62行到72行的内容进行排序<br>\n",
    "\n",
    "可以只指定起始行，例如:62 !tr [a-z] [A-Z]，将62行的小写字母转为大写字母。<br>\n",
    "当前光标所在行，除可以指定行号外，也可以用.表示<br>\n",
    ">. !tr [a-z] [A-Z] 　　　# 将当前行的小写转为大写<br>\n",
    "\n",
    "4)**:起始行号,结束行号 w !command**<br>\n",
    "将起始行号和结束行号所指定的范围的内容作为命令command的输入。不会改变当前编辑的文件的内容<br>\n",
    ">:62,72 w !sort　　　　　# 将62行到72行的内容进行排序，但排序的结果并不会直接输出到当前编辑的文件中，而是显示在vim敲命令的区域。<br>\n",
    "\n",
    "特殊的可以下面这么用<br>\n",
    ">:62 w !bash 　　　　　# 将会把第62行的内容作为bash命令来执行并显示结果，而且不会改变当前编辑的文件的内容<br>\n",
    "\n",
    "同样的:. w !bash，将当前行的内容作为bash命令来执行,如第52行内容为ls -l<br>\n",
    ">:52 w !bash　　　　# 就跟执行!ls -l是一样的效果，如果你用的shell是bash shell<br>\n",
    "\n",
    "如果输入的是:52 !bash，那么会把第52行的内容也就是ls -l作为命令执行，同时命令的输出结果会替换第52行的内容，注意其中的区别。<br>"
   ]
  },
  {
   "cell_type": "markdown",
   "metadata": {},
   "source": [
    "#### 9、文件重载<br>\n",
    "有时候要使用VIM打开了一些文件，但是在其他地方把次文件改动了，例如使用git进行checkout等操作，需要重新载入此文件。<br>\n",
    "1、**重新载入当前文件：**<br>\n",
    ">:e<br>\n",
    ":e!　　　　　　# 放弃当前修改，强制重新载入<br>\n",
    "\n",
    "2、**重新载入所有打开的文件：**<br>\n",
    ">:bufdo e 或者 :bufdo :e!<br>\n",
    "\n",
    ":bufdo命令表示把后面的命令应用到所有buffer中的文件。<br>\n"
   ]
  }
 ],
 "metadata": {
  "kernelspec": {
   "display_name": "Python 3",
   "language": "python",
   "name": "python3"
  },
  "language_info": {
   "codemirror_mode": {
    "name": "ipython",
    "version": 3
   },
   "file_extension": ".py",
   "mimetype": "text/x-python",
   "name": "python",
   "nbconvert_exporter": "python",
   "pygments_lexer": "ipython3",
   "version": "3.7.4"
  }
 },
 "nbformat": 4,
 "nbformat_minor": 2
}
