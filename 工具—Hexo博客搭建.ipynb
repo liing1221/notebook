{
 "cells": [
  {
   "cell_type": "markdown",
   "metadata": {},
   "source": [
    "# Hexo博客\n",
    "　　参考：[hexo史上最全搭建教程](https://blog.csdn.net/sinat_37781304/article/details/82729029/)<br>\n",
    "　　　　　[使用hexo+github搭建个人博客(进阶篇)](https://blog.csdn.net/qq_37210523/article/details/80909983)<br>\n",
    "　　　　　[hexo小白学习详细教程](https://www.jianshu.com/p/f7a84b4c5bca)<br>\n",
    "　　　　　[Hexo系列(三) 常用命令详解](https://www.cnblogs.com/wsmrzx/p/9439448.html)<br>\n",
    "　　　　　[对 Hexo 博客文章进行加密](https://zhuanlan.zhihu.com/p/113235573)<br>\n",
    "　　　　　[Hexo文档](https://hexo.io/zh-cn/docs/)<br>\n",
    "　　　　　[自定义 Hexo 配置文件](https://www.cnblogs.com/mfrank/p/12830094.html)<br>\n",
    "　　　　　[Github个人博客：绑定域名](https://blog.csdn.net/heimu24/article/details/81159099)<br>\n",
    "　　　　　[Hexo+GitHub 博客部署 个人踩坑记录](https://www.cnblogs.com/glitzy-void/p/14500063.html)<br>\n",
    "　　　　　[如何新建分支上传_使用git分支保存hexo博客源码到github](https://blog.csdn.net/weixin_28865923/article/details/112502427)<br>\n",
    "　　　　　[hexo deploy一键部署免每次输入github账号密码](https://blog.csdn.net/silence_pinot/article/details/117515439)<br>\n",
    "　　　　　\n"
   ]
  }
 ],
 "metadata": {
  "kernelspec": {
   "display_name": "Python 3",
   "language": "python",
   "name": "python3"
  },
  "language_info": {
   "codemirror_mode": {
    "name": "ipython",
    "version": 3
   },
   "file_extension": ".py",
   "mimetype": "text/x-python",
   "name": "python",
   "nbconvert_exporter": "python",
   "pygments_lexer": "ipython3",
   "version": "3.7.4"
  }
 },
 "nbformat": 4,
 "nbformat_minor": 4
}
