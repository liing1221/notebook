{
 "cells": [
  {
   "cell_type": "markdown",
   "metadata": {},
   "source": [
    "## Github 详解"
   ]
  },
  {
   "cell_type": "markdown",
   "metadata": {},
   "source": [
    "#### 1、注册Git账号并登录<br>\n",
    "#### 2、创建远程Git项目<br>\n",
    "    1)、创建仓库文件夹，并cd到文件夹内<br>\n",
    "    2)、命令行输入：git init,使文件夹成为Git仓库<br>\n",
    "#### 3、创建本地客户端Git项目仓库<br>\n",
    "    1)、创建仓库文件夹，并cd到文件夹内<br>\n",
    "    2)、命令行输入：git init,使文件夹成为Git仓库<br>\n",
    "#### 4、添加并推送项目文件到本地Git仓库<br>\n",
    "    1)、\n",
    "5、修改或删除本地仓库文件<br>\n",
    "6、推送本地仓库的文件到远程Git仓库<br>\n",
    "7、从远程仓库下载文件<br>\n",
    "8、Git分支管理"
   ]
  }
 ],
 "metadata": {
  "kernelspec": {
   "display_name": "Python 3",
   "language": "python",
   "name": "python3"
  },
  "language_info": {
   "codemirror_mode": {
    "name": "ipython",
    "version": 3
   },
   "file_extension": ".py",
   "mimetype": "text/x-python",
   "name": "python",
   "nbconvert_exporter": "python",
   "pygments_lexer": "ipython3",
   "version": "3.7.1"
  }
 },
 "nbformat": 4,
 "nbformat_minor": 2
}
