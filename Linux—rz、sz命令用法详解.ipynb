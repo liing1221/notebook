{
 "cells": [
  {
   "cell_type": "markdown",
   "metadata": {},
   "source": [
    "## Xshell拖拽文件到Linux—rz、sz命令用法详解"
   ]
  },
  {
   "cell_type": "markdown",
   "metadata": {},
   "source": [
    "在linux中rz 和 sz 命令允许开发板与主机通过串口进行传递文件。<br>\n",
    "rz，sz是Linux/Unix同Windows进行ZModem文件传输的命令行工具。Linux本身并不支持rz、sz命令。<br>\n",
    "其优点就是不用再开一个sftp工具登录上去上传下载文件。<br>\n",
    "sz：将选定的文件发送（send）到本地机器<br>\n",
    "rz：运行该命令会弹出一个文件选择窗口，从本地选择文件上传到Linux服务器<br>\n",
    "### 1、协议(命令)安装：\n",
    "apt-get install lrzsz<br>\n",
    "yun install lrzsz<br>\n",
    "### 2、sz命令：从服务端发送文件到客户端：<br>\n",
    "用途说明：sz命令是利用ZModem协议来从Linux服务器传送文件到本地，一次可以传送一个或多个文件。相对应的从本地上传文件到Linux服务器，可以使用rz命令。<br>\n",
    "常用参数:<br>\n",
    ">-a 以文本方式传输（ascii）。<br>\n",
    "-b 以二进制方式传输（binary）。<br>\n",
    "-e 对控制字符转义（escape），这可以保证文件传输正确。<br>\n",
    "\n",
    "如果能够确定所传输的文件是文本格式的，使用 sz -a files<br>\n",
    "如果是二进制文件，使用 sz -be files<br>\n",
    "> sz filename   \n",
    "\n",
    "### 3、rz命令：从客户端上传文件到服务端<br>\n",
    "用途说明：在弹出的框中选择文件，上传文件的用户和组是当前登录的用户<br>\n",
    "常用参数：<br>\n",
    ">-b 以二进制方式，默认为文本方式。<br>\n",
    "-e 对所有控制字符转义。<br>\n",
    "\n",
    "如果要保证上传的文件内容在服务器端保存之后与原始文件一致，最好同时设置这两个标志，如下所示方式使用：rz -be  <br>\n",
    "此命令执行时，会弹出文件选择对话框，选择好需要上传的文件之后，点确定，就可以开始上传的过程了。上传的速度取决于当时网络的状况。<br>\n",
    "### 4、SecureCRT设置默认路径：<br>\n",
    "Options -> Session Options -> Terminal -> Xmodem/Zmodem ->Directories<br>\n",
    "Xshell设置默认路径：<br>\n",
    "右键会话 -> 属性 -> ZMODEM -> 接收文件夹<br>"
   ]
  },
  {
   "cell_type": "code",
   "execution_count": null,
   "metadata": {},
   "outputs": [],
   "source": []
  }
 ],
 "metadata": {
  "kernelspec": {
   "display_name": "Python 3",
   "language": "python",
   "name": "python3"
  },
  "language_info": {
   "codemirror_mode": {
    "name": "ipython",
    "version": 3
   },
   "file_extension": ".py",
   "mimetype": "text/x-python",
   "name": "python",
   "nbconvert_exporter": "python",
   "pygments_lexer": "ipython3",
   "version": "3.7.0"
  }
 },
 "nbformat": 4,
 "nbformat_minor": 2
}
