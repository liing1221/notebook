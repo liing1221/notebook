{
 "cells": [
  {
   "cell_type": "markdown",
   "metadata": {},
   "source": [
    "# APK反编译基础\n",
    "　　参考：[]()<br>\n",
    "　　　　　[Android混淆从入门到精通](https://www.jianshu.com/p/7436a1a32891)<br>\n",
    "　　　　　[APK反编译之一：基础知识](https://blog.csdn.net/lpohvbe/article/details/7981386)<br>\n",
    "　　　　　[Android混淆编译、反混淆、反编译](https://blog.csdn.net/u013082948/article/details/52195514)<br>\n",
    "　　　　　[Android安全攻防战，反编译与混淆技术完全解析（上）](https://guolin.blog.csdn.net/article/details/49738023)  \n",
    "　　　　　[Android安全攻防战，反编译与混淆技术完全解析（下）](https://guolin.blog.csdn.net/article/details/50451259)<br>\n",
    "　　　　　[Android安全攻防战，反编译与混淆技术完全解析](https://blog.csdn.net/lostinai/article/details/51577124)<br>\n",
    "　　　　　[一个APK中包含多个dex方法](https://www.jianshu.com/p/bf8b1393773a)  \n",
    "　　　　　[Android 程序静态分析](https://blog.csdn.net/banketree/article/details/10919297)  \n",
    "　　　　　[]()  \n",
    "　　　　　[]()  \n",
    "　　　　　[]()  \n",
    "\n",
    "## APK反编译\n",
    "　　APK文件，其实就是一个MIME为ZIP的压缩包，我们修改ZIP后缀名方式可以看到内部的文件结构，例如：修改后缀后，用RAR打开APK能看到：<br>\n",
    "\n",
    "  | 序号 | 内容 | 说明 | \n",
    "  | :---: | :----: | :----- |\n",
    "  | 1 | asset／assets | 保存一些额外的资源文件，如游戏的声音文件，字体文件等等。|\n",
    "  | 2 | lib | so库存放位置，一般由NDK编译得到，供java端调用，常见于使用游戏引擎或JNI native调用的工程中。<br>so库文件分为不同的CPU架构<br>---armeabi　so库文件分为不同的CPU架构 <br>---armeabi-v7a|\n",
    "  | 3 | META-INF | 存放工程一些属性文件，例如Manifest.MF。存放apk签名信息，用来保证apk包的完整性和系统的安全。在IDE编译生成一个apk包时，会对里面所有的文件做一个校验计算，并把计算结果存放在META-INF文件夹内，apk在安装的时候，系统会按照同样的算法对apk包里面的文件做校验，如果结果与META-INF里面的值不一样，系统就不会安装这个apk，这就保证了apk包里的文件不能被随意替换。比如拿到一个apk包后，如果想要替换里面的一幅图片，一段代码， 或一段版权信息，想直接解压缩、替换再重新打包，基本是不可能的。如此一来就给病毒感染和恶意修改增加了难度，有助于保护系 统的安全。|\n",
    "  | 4 | res | 存放资源文件，包括icon，xml文件。<br>---drawable　　　　　　　　　　　　　图片和对应的xml资源<br>---layout　　　　　　　　　　　　　　定义布局的xml资源<br>---... |\n",
    "  | 5 | AndroidManifest.xml | 应用程序基础配置文件，每个应用都必须定义和包含的，它描述了应用的名字、版本、权限、引用的库文件等信息。|\n",
    "  | 6 | classes.dex | 可以直接在Dalvik虚拟机上加载运行的文件，由java文件经过IDE编译生成。Dalvik虚拟机的指令码不是标准的Jvm指令码，而是使用了自己独有的一套指令集（类似汇编语言）。dex文件中共用了很多类名称，常量字符串，使它的体积更小，运行效率更高。|\n",
    "  | 7 | resources.arsc | 二进制资源文件，包括字符串等。是对res目录下的资源的一个索引文件，保存了原工程中strings.xml等文件内容。|\n",
    "\n",
    "　　asset和res资源目录的不同在于：<br>\n",
    " 　　　　1、res目录下的资源文件在编译时会自动生成索引文件（R.java），在Java代码中用R.xxx.yyy来引用；而asset目录下的资源文件不需要生成索引，在Java代码中需要用AssetManager来访问。<br>\n",
    " 　　　　2、一般来说，除了音频和视频资源（需要放在raw或asset下），使用Java开发的Android工程使用到的资源文件都会放在res下；使用C++游戏引擎（或使用Lua binding等）的资源文件均需要放在asset下。<br>\n",
    "\n",
    "\n",
    "\n",
    "\n",
    "\n"
   ]
  }
 ],
 "metadata": {
  "kernelspec": {
   "display_name": "Python 3",
   "language": "python",
   "name": "python3"
  },
  "language_info": {
   "codemirror_mode": {
    "name": "ipython",
    "version": 3
   },
   "file_extension": ".py",
   "mimetype": "text/x-python",
   "name": "python",
   "nbconvert_exporter": "python",
   "pygments_lexer": "ipython3",
   "version": "3.9.7"
  }
 },
 "nbformat": 4,
 "nbformat_minor": 4
}
