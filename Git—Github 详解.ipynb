{
 "cells": [
  {
   "cell_type": "markdown",
   "metadata": {},
   "source": [
    "## Github 详解"
   ]
  },
  {
   "cell_type": "markdown",
   "metadata": {},
   "source": [
    "#### 1、注册Git账号并登录<br>\n",
    "#### 2、创建本地客户端Git仓库<br>\n",
    "> 1)、查看当前项目根目录中有没有 .git文件（隐藏文件），如果没有，右键->Git bash here ，然后输入命令git init建立本地仓库<br>\n",
    "　　git init　　　　　#　创建仓库文件夹，并cd到文件夹内<br>\n",
    "#### 3、创建远程Git项目<br>\n",
    "    1)、创建仓库文件夹，并cd到文件夹内<br>\n",
    "    2)、命令行输入：git init,使文件夹成为Git仓库<br>\n",
    "#### 4、添加并推送项目文件到本地Git仓库<br>\n",
    ">git add test.py　　　　#　添加文件到本地仓库暂存，其他如：git add . 或 git add -A<br>\n",
    ">git commit -m \"start 2018-06-06\"　　　#　将本地仓库暂存的文件提交到本地仓库 　　　-m 参数为：提交说明<br>\n",
    "\n",
    "5、修改或删除本地仓库文件<br>\n",
    ">git rm a.txt (删除文件)\n",
    "git rm -r test (删除文件夹)\n",
    "\n",
    "6、推送本地仓库的文件到远程Git仓库<br>\n",
    "> 1)、首先要建立本地的分支，并切换到该分支上（本地建立完分支，默认是在master分支上）<br>\n",
    "　　git branch hello_git_branch<br>\n",
    "　　git checkout hello_git_branch<br>\n",
    "> 2)、创建远程仓库链接(需github账号以及远程仓库)：<br>\n",
    "　　git remote add 连接名 https://github.com/git账户/远程仓库名　　　#　HTTP连接方式默认连接名一般为origin<br>\n",
    "　　git remote add 连接名 git@github.com:git账户/远程仓库名　　　  #　SSH连接方式\n",
    "　　git remote -v　　#　查看创建的远程仓库链接<br>\n",
    "\n",
    "\n",
    "> 2)、从远程仓库同步文件到本地(将远程仓库的文件拉取到本地仓库/更新本地代码库)<br>\n",
    "　　git pull origin master<br> 　　\n",
    "　　报错处理：fatal: refusing to merge unrelated histories<br> \n",
    "　　原因：在于本地仓库和远程仓库实际上是独立的两个仓库。若之前是直接clone的方式在本地建立起远程github仓库的克隆本地仓库就不会有这问题了。<br> \n",
    "　　解决：使用 --allow-unrelated-history 选项来解决问题（该选项可以合并两个独立启动仓库的历史）。如下：<br> \n",
    "　　git pull origin master –allow-unrelated-histories<br> \n",
    "> 3)、将本地仓库的提交推送到远程github仓库<br>\n",
    "　　git push <远程主机名> <本地分支名>:<远程分支名><br>\n",
    "　　eg: git push origin master:master<br>\n",
    "　　git push origin hello_git_branch<br>\n",
    "　　由于刚才我们为远程仓库起了一个别名，那么这里就可以使用别名origin调用。<br>\n",
    "　　这里的含义是将hello_git_branch这个分支提交到远程仓库上面。如果远程仓库没有这个分支，那么也会新建一个该分支。<br>\n",
    "　　还有一种方法，可以指定提交到远程仓库的某个分支上。如下，是将hello_git_branch分支提交到远程仓库的master上面<br>\n",
    "　　git push origin hello_git_branch:master<br>\n",
    "　　拓展：<br>\n",
    "　　如果本地当前是在hello_git_branch分支上面，此时想把远程仓库的master与我的hello_git_branch分支合并（merge），可以使用如下命令:<br>\n",
    "　　git pull origin hello_git_branch:master<br>\n",
    "　　如果您使用如下指令，含义就是将远程仓库的master分支合并下来。如果本地没有master分支，那么本地就新建一个master分支<br>\n",
    "　　git pull master<br>\n",
    "> 4)、删除远程连接<br>\n",
    "　　git remote rm origin<br>　　　　#　git push －u origin master //第一次push的时候要- u \n",
    "> 5)、pull<br>\n",
    "　　git pull 命令基本上就是 git fetch 和 git merge 命令的组合体，Git 从指定的远程仓库中抓取内容，然后马上尝试将其合并进你所在的分支中。<br>\n",
    "　　从远程仓库中获得数据，可以执行：<br>\n",
    "　　git fetch [remote-name]<br>\n",
    "　　这个命令会访问远程仓库，从中拉取所有你还没有的数据。执行完成后，你将会拥有那个远程仓库中所有分支的引用，可以随时合并或查看。但是注意的是 git fetch 并不会自动合并或修改你当前的工作。当准备好时你必须手动将其合并入你的工作。如果你使用 clone 命令克隆了一个仓库，命令会自动将其添加为远程仓库并默认以 “origin” 为简写。 所以，git fetch origin 会抓取克隆（或上一次抓取）后新推送的所有工作。<br>由于fetch命令后还要再做一步merge命令的操作，所以使用 git pull 命令来自动的抓取然后合并远程分支到当前分支。 （相当于一次执行fetch加merge命令）这可能会是一个更简单或更舒服的工作流程。<br>\n",
    "\n",
    "7、从远程仓库下载文件<br>\n",
    "8、Git分支管理"
   ]
  }
 ],
 "metadata": {
  "kernelspec": {
   "display_name": "Python 3",
   "language": "python",
   "name": "python3"
  },
  "language_info": {
   "codemirror_mode": {
    "name": "ipython",
    "version": 3
   },
   "file_extension": ".py",
   "mimetype": "text/x-python",
   "name": "python",
   "nbconvert_exporter": "python",
   "pygments_lexer": "ipython3",
   "version": "3.7.4"
  }
 },
 "nbformat": 4,
 "nbformat_minor": 2
}
