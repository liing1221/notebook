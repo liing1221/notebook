{
 "cells": [
  {
   "cell_type": "markdown",
   "id": "84637d26",
   "metadata": {},
   "source": [
    "# 常见分布原理与试验\n",
    "[Gamma分布拟合图](https://blog.csdn.net/qq_37948866/article/details/104109762)   \n",
    "[三大抽样分布：卡方分布，t分布和F分布的简单理解](https://blog.csdn.net/anshuai_aw1/article/details/82735201)   \n",
    "[F分布及其应用](https://blog.csdn.net/weixin_43899490/article/details/88641851)   \n",
    "[概率统计Python计算：F分布分位点计算](https://blog.csdn.net/u012958850/article/details/116605784)   \n",
    "[09-理解常见分布及其密度函数曲线](https://zhuanlan.zhihu.com/p/364315752)   \n",
    "[关于python：scipy，对数正态分布-参数](https://www.codenong.com/8747761/)   \n",
    "[scipy.stats实现各种常见的统计分布](https://cloud.tencent.com/developer/article/1670735)   \n",
    "[]()   \n",
    "[]()   \n"
   ]
  }
 ],
 "metadata": {
  "kernelspec": {
   "display_name": "Python 3 (ipykernel)",
   "language": "python",
   "name": "python3"
  },
  "language_info": {
   "codemirror_mode": {
    "name": "ipython",
    "version": 3
   },
   "file_extension": ".py",
   "mimetype": "text/x-python",
   "name": "python",
   "nbconvert_exporter": "python",
   "pygments_lexer": "ipython3",
   "version": "3.9.7"
  }
 },
 "nbformat": 4,
 "nbformat_minor": 5
}
