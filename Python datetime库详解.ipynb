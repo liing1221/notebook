{
 "cells": [
  {
   "cell_type": "markdown",
   "metadata": {},
   "source": [
    "## Python datetime库详解\n",
    "\n",
    "参考：[Python 标准库-Datetime](https://docs.python.org/zh-cn/3/library/datetime.html)       \n",
    "　　　[Datetime模块详解](https://www.jb51.net/article/147429.htm)<br>\n",
    "　　　[Python 日期和时间戳的转换](https://www.cnblogs.com/strivepy/p/10436213.html#_label2_2)<br>\n",
    "　　　[python中的时间和时区详解](https://blog.csdn.net/wuwei_201/article/details/105164151)   \n",
    "　　　[datetime模块参数详解](https://www.cnblogs.com/guigujun/p/6149759.html)  \n",
    "### 简介：\n",
    "　　python中的datetime模块提供了操作日期和时间功能,该模块提供了五种核心对象:datetime时间日期类型,date日期类型,time时间类型,tzinfo时区类型,timedelta时间差类型。<br>\n",
    "　　**datetime模块中包含如下类：**<br>\n",
    "  \n",
    "|类名|功能说明|\n",
    "|:----|----:|\n",
    "|date|日期对象,常用的属性有year, month, day|\n",
    "|time|时间对象|\n",
    "|datetime|日期时间对象,常用的属性有hour, minute, second, microsecond|\n",
    "|datetime_CAPI|日期时间对象C语言接口|\n",
    "|timedelta|时间间隔，即两个时间点之间的间隔|\n",
    "|tzinfo|时区信息对象|\n",
    "\n",
    "　　**datetime模块中包含的常量:**<br>\n",
    "  \n",
    "|常量|功能说明|用法|返回值|\n",
    "|:----|----:|:----:|----:|\n",
    "|MAXYEAR|返回能表示的最大年份|datetime.MAXYEAR|9999|\n",
    "|MINYEAR|返回能表示的最小年份|datetime.MINYEAR|1|"
   ]
  },
  {
   "cell_type": "markdown",
   "metadata": {},
   "source": [
    "### 一、datetime.date类：<br>\n",
    "#### 1、构造方法：\n",
    ">datetime.date(year,month,day)\n",
    "datetime.date.today()　　　#　返回当前日期对象\n",
    "\n",
    "返回datetime.date对象<br>\n",
    "#### 2、date类属性：<br>\n",
    ">date.year　　　#　对象的年\n",
    "date.month　　　#　对象的月\n",
    "date.day　　　#　对象的日\n",
    "date.resolution　　　#　date对象表示日期的最小单位,是timedelta对象。这里是天。\n",
    "\n",
    "注意：1、date对象包含python用于逻辑比较的魔法方法，可以直接拿来比较大小，返回bool值。\n",
    "2、date对象包含Python魔法方法__sub__(正向计算）和__rsub__(反向计算)，可以直接计算两个对象之间的差值，返回timedelta对象。"
   ]
  },
  {
   "cell_type": "code",
   "execution_count": 14,
   "metadata": {},
   "outputs": [
    {
     "name": "stdout",
     "output_type": "stream",
     "text": [
      "False\n",
      "True\n",
      "2\n",
      "1 day, 0:00:00 1 day, 0:00:00\n"
     ]
    }
   ],
   "source": [
    "from datetime import date, timedelta\n",
    "\n",
    "a = date(2019, 7, 20)\n",
    "b = date.today()\n",
    "print(b.__eq__(a))\n",
    "print(b > a)\n",
    "print((b - a).days)\n",
    "print(b.resolution)"
   ]
  },
  {
   "cell_type": "markdown",
   "metadata": {},
   "source": [
    "#### 3、date类方法：<br>\n",
    ">datetime.date.isoformat()\n",
    "\n",
    "返回符合ISO 8601标准的日期字符串，形如：YYYY-MM-DD；"
   ]
  },
  {
   "cell_type": "markdown",
   "metadata": {},
   "source": [
    ">datetime.date.isocalendar()\n",
    "\n",
    "返回一个包含三个值的元组，三个值依次为：year年份，week number周数，weekday星期数（周一为1…周日为7), 格式为： (year，month，day)。"
   ]
  },
  {
   "cell_type": "code",
   "execution_count": 6,
   "metadata": {},
   "outputs": [
    {
     "data": {
      "text/plain": [
       "(2017, 12, 3)"
      ]
     },
     "execution_count": 6,
     "metadata": {},
     "output_type": "execute_result"
    }
   ],
   "source": [
    "a = date(2017,3,22)\n",
    "a.isocalendar()"
   ]
  },
  {
   "cell_type": "markdown",
   "metadata": {},
   "source": [
    ">datetime.date.isoweekday()\n",
    "\n",
    " 返回符合ISO标准的指定日期所在的星期数,给定日期的星期（0-6）星期一=0，星期日=6 这里表明下python3中是从[1-7]表示的，就是本来是星期几现在显示就是星期几<br>"
   ]
  },
  {
   "cell_type": "markdown",
   "metadata": {},
   "source": [
    ">datetime.date.weekday()\n",
    "\n",
    "与isoweekday()方法类似，只不过是weekday(...)方法返回的周一为 0, 周日为 6 "
   ]
  },
  {
   "cell_type": "markdown",
   "metadata": {},
   "source": [
    ">datetime.date.timetuple()\n",
    "\n",
    "该方法为了兼容time.localtime(...),返回一个类型为time.struct_time的数组，但有关时间的部分元素值为0："
   ]
  },
  {
   "cell_type": "code",
   "execution_count": 7,
   "metadata": {},
   "outputs": [
    {
     "data": {
      "text/plain": [
       "time.struct_time(tm_year=2017, tm_mon=3, tm_mday=22, tm_hour=0, tm_min=0, tm_sec=0, tm_wday=2, tm_yday=81, tm_isdst=-1)"
      ]
     },
     "execution_count": 7,
     "metadata": {},
     "output_type": "execute_result"
    }
   ],
   "source": [
    "a = date(2017,3,22)\n",
    "a.timetuple()"
   ]
  },
  {
   "cell_type": "markdown",
   "metadata": {},
   "source": [
    ">datetime.date.toordinal(...)\n",
    "\n",
    "返回公元公历开始到现在的天数。公元1年1月1日为1"
   ]
  },
  {
   "cell_type": "code",
   "execution_count": 9,
   "metadata": {},
   "outputs": [
    {
     "data": {
      "text/plain": [
       "736410"
      ]
     },
     "execution_count": 9,
     "metadata": {},
     "output_type": "execute_result"
    }
   ],
   "source": [
    "a = date(2017,3,22)\n",
    "a.toordinal()"
   ]
  },
  {
   "cell_type": "markdown",
   "metadata": {},
   "source": [
    ">datetime.date.replace(year,month,day)\n",
    "\n",
    "返回一个替换指定日期字段的新date对象。参数3个可选参数，分别为year,month,day。注意替换是产生新对象，不影响原date对象。"
   ]
  },
  {
   "cell_type": "code",
   "execution_count": 11,
   "metadata": {},
   "outputs": [
    {
     "name": "stdout",
     "output_type": "stream",
     "text": [
      "2017-03-22\n",
      "2017-02-28\n"
     ]
    }
   ],
   "source": [
    "a = date(2017,3,22)\n",
    "b = a.replace(2017,2,28)\n",
    "print(a, b, sep='\\n')"
   ]
  },
  {
   "cell_type": "markdown",
   "metadata": {},
   "source": [
    ">datetime.date.fromtimestamp(timestamp)\n",
    "\n",
    "根据给定的时间戮，返回一个date对象；datetime.date.today()作用相同；"
   ]
  },
  {
   "cell_type": "code",
   "execution_count": 19,
   "metadata": {},
   "outputs": [
    {
     "data": {
      "text/plain": [
       "datetime.date(2019, 7, 22)"
      ]
     },
     "execution_count": 19,
     "metadata": {},
     "output_type": "execute_result"
    }
   ],
   "source": [
    "import time\n",
    "\n",
    "date.fromtimestamp(time.time())\n"
   ]
  },
  {
   "cell_type": "markdown",
   "metadata": {},
   "source": [
    ">datetime.date.strftime(format)　　　\n",
    "\n",
    "把日期时间按照给定的format进行格式化。"
   ]
  },
  {
   "cell_type": "code",
   "execution_count": 25,
   "metadata": {},
   "outputs": [
    {
     "data": {
      "text/plain": [
       "'2019/07/22'"
      ]
     },
     "execution_count": 25,
     "metadata": {},
     "output_type": "execute_result"
    }
   ],
   "source": [
    "a = date.today()\n",
    "a.strftime('%Y/%m/%d')"
   ]
  },
  {
   "cell_type": "markdown",
   "metadata": {},
   "source": [
    ">datetime.date.ctime()   \n",
    "\n",
    "返回格式如 Sun Apr 16 00:00:00 2017"
   ]
  },
  {
   "cell_type": "code",
   "execution_count": 26,
   "metadata": {},
   "outputs": [
    {
     "data": {
      "text/plain": [
       "'Mon Jul 22 00:00:00 2019'"
      ]
     },
     "execution_count": 26,
     "metadata": {},
     "output_type": "execute_result"
    }
   ],
   "source": [
    "a.ctime()"
   ]
  },
  {
   "cell_type": "markdown",
   "metadata": {},
   "source": [
    "### 二、datetime.time类：<br>\n",
    "　　time类由hour小时、minute分钟、second秒、microsecond毫秒和tzinfo五部分组成<br>\n",
    "#### 1、构造方法：\n",
    ">datetime.time([hour[, minute[, second[, microsecond[, tzinfo]]]]])"
   ]
  },
  {
   "cell_type": "code",
   "execution_count": 32,
   "metadata": {
    "scrolled": true
   },
   "outputs": [
    {
     "name": "stdout",
     "output_type": "stream",
     "text": [
      "00:00:00\n"
     ]
    }
   ],
   "source": [
    "from datetime import time\n",
    "a = time()\n",
    "print(a)\n"
   ]
  },
  {
   "cell_type": "markdown",
   "metadata": {},
   "source": [
    "#### 2、time类属性：<br>\n",
    ">a.hour　　　#　当前小时数<br>\n",
    "a.minute　　　#　当前分钟数<br>\n",
    "a.second　　　#　当前秒数<br>\n",
    "a.microsecond　　　#　当前微秒数<br>\n",
    "a.tzinfo　　　#　当前？<br>\n",
    "a.max　　　#　最大的时间表示数值，time对象<br>\n",
    "a.min　　　#　最小的时间表示数值，time对象<br>\n",
    "a.resolution　　　#　时间间隔单位为分钟, timedelta对象<br>\n",
    "\n",
    "注意：time类也可以直接进行比较大小，数值计算等操作。<br>"
   ]
  },
  {
   "cell_type": "code",
   "execution_count": 40,
   "metadata": {},
   "outputs": [
    {
     "name": "stdout",
     "output_type": "stream",
     "text": [
      "23:59:59.999999\n",
      "00:00:00\n",
      "0:00:00.000001\n"
     ]
    }
   ],
   "source": [
    "print(time.max)\n",
    "print(time.min)\n",
    "print(time.resolution)"
   ]
  },
  {
   "cell_type": "markdown",
   "metadata": {},
   "source": [
    "#### 2、time类方法：<br>\n",
    ">time.strftime(format)\n",
    "\n",
    "将时间对象转化为字符串对象，格式化输出。\n",
    ">time.isoformat()\n",
    "\n",
    "使输出的时间字符串符合ISO标准"
   ]
  },
  {
   "cell_type": "code",
   "execution_count": 43,
   "metadata": {},
   "outputs": [
    {
     "name": "stdout",
     "output_type": "stream",
     "text": [
      "12:20:59\n",
      "12:20:59.000899\n"
     ]
    }
   ],
   "source": [
    "a = time(12,20,59,899)\n",
    "print(a.strftime('%H:%M:%S'))\n",
    "print(a.isoformat())"
   ]
  },
  {
   "cell_type": "markdown",
   "metadata": {},
   "source": [
    "### 三、datetime.datetime类<br>\n",
    "　　datetime类其实是可以看做是date类和time类的合体，其大部分的方法和属性都继承于这二个类。其数据构成也是由这二个类所有的属性所组成的。\n",
    "#### 1、构造方法：\n",
    ">datetime(year, month, day[, hour[, minute[, second[, microsecond[,tzinfo]]]]])<br>\n",
    "datetime.datetime.now()　　　　　#　返回当前日期时间对象\n",
    "datetime.datetime.utcnow()　　　　#　返回当前日期时间的UTC datetime对象\n",
    "\n",
    "返回年月日，时分秒\n",
    "#### 2、datetime类属性：<br>\n",
    "类方法：<br>\n",
    "1.datetime.datetime.ctime()<br>\n",
    "2.datetime.datetime.now().date()：返回当前日期时间的日期部分<br>\n",
    "3.datetime.datetime.now().time()：返回当前日期时间的时间部分<br>\n",
    "4.datetime.datetime.fromtimestamp()<br>\n",
    "5.datetime.datetime.now()：返回当前系统时间<br>\n",
    "6.datetime.datetime.replace()<br>\n",
    "7.datetime.datetime.strftime()：由日期格式转化为字符串格式<br>\n",
    "　datetime.datetime.now().strftime('%b-%d-%Y %H:%M:%S')    输出：'Apr-16-2017 21:01:35'<br>\n",
    "8.datetime.datetime.strptime():由字符串格式转化为日期格式<br>\n",
    "　datetime.datetime.strptime('Apr-16-2017 21:01:35', '%b-%d-%Y %H:%M:%S')   输出：2017-04-16 21:01:35<br>　"
   ]
  },
  {
   "cell_type": "markdown",
   "metadata": {},
   "source": [
    "#### 3、datetime类方法：<br>\n",
    ">datetime().date()\n",
    "\n",
    "返回datetime对象的日期部分, date对象"
   ]
  },
  {
   "cell_type": "code",
   "execution_count": 46,
   "metadata": {},
   "outputs": [
    {
     "data": {
      "text/plain": [
       "datetime.date(2019, 7, 22)"
      ]
     },
     "execution_count": 46,
     "metadata": {},
     "output_type": "execute_result"
    }
   ],
   "source": [
    "from datetime import datetime\n",
    "a = datetime.now()\n",
    "a.date()"
   ]
  },
  {
   "cell_type": "markdown",
   "metadata": {},
   "source": [
    ">datetime().time()\n",
    "\n",
    "返回datetime对象的时间部分, time对象"
   ]
  },
  {
   "cell_type": "code",
   "execution_count": 47,
   "metadata": {},
   "outputs": [
    {
     "data": {
      "text/plain": [
       "datetime.time(16, 30, 44, 647882)"
      ]
     },
     "execution_count": 47,
     "metadata": {},
     "output_type": "execute_result"
    }
   ],
   "source": [
    "a.time()"
   ]
  },
  {
   "cell_type": "markdown",
   "metadata": {},
   "source": [
    ">datetime().utctimetuple()\n",
    "\n",
    "返回UTC时间元组"
   ]
  },
  {
   "cell_type": "code",
   "execution_count": 48,
   "metadata": {},
   "outputs": [
    {
     "data": {
      "text/plain": [
       "time.struct_time(tm_year=2019, tm_mon=7, tm_mday=22, tm_hour=16, tm_min=30, tm_sec=44, tm_wday=0, tm_yday=203, tm_isdst=0)"
      ]
     },
     "execution_count": 48,
     "metadata": {},
     "output_type": "execute_result"
    }
   ],
   "source": [
    "a.utctimetuple()"
   ]
  },
  {
   "cell_type": "markdown",
   "metadata": {},
   "source": [
    ">datetime().combine()\n",
    "\n",
    "将一个date对象和一个time对象合并生成一个datetime对象"
   ]
  },
  {
   "cell_type": "code",
   "execution_count": 51,
   "metadata": {},
   "outputs": [
    {
     "name": "stdout",
     "output_type": "stream",
     "text": [
      "2019-07-22 16:30:44.647882\n"
     ]
    },
    {
     "data": {
      "text/plain": [
       "datetime.datetime(2019, 7, 22, 16, 30, 44, 647882)"
      ]
     },
     "execution_count": 51,
     "metadata": {},
     "output_type": "execute_result"
    }
   ],
   "source": [
    "print(a)\n",
    "datetime.combine(a.date(),a.time())"
   ]
  },
  {
   "cell_type": "markdown",
   "metadata": {},
   "source": [
    ">datetime.strptime(string, format)\n",
    "\n",
    "根据string, format 2个参数，返回一个对应的datetime对象"
   ]
  },
  {
   "cell_type": "code",
   "execution_count": 52,
   "metadata": {},
   "outputs": [
    {
     "data": {
      "text/plain": [
       "datetime.datetime(2017, 3, 22, 15, 25)"
      ]
     },
     "execution_count": 52,
     "metadata": {},
     "output_type": "execute_result"
    }
   ],
   "source": [
    "datetime.strptime('2017-3-22 15:25','%Y-%m-%d %H:%M')"
   ]
  },
  {
   "cell_type": "markdown",
   "metadata": {},
   "source": [
    ">datetime.utcfromtimestamp(时间戳)\n",
    "\n",
    "UTC时间戳的datetime对象，时间戳值为time.time()"
   ]
  },
  {
   "cell_type": "code",
   "execution_count": 54,
   "metadata": {},
   "outputs": [
    {
     "data": {
      "text/plain": [
       "datetime.datetime(2019, 7, 22, 8, 46, 4, 575280)"
      ]
     },
     "execution_count": 54,
     "metadata": {},
     "output_type": "execute_result"
    }
   ],
   "source": [
    "import time\n",
    "datetime.utcfromtimestamp(time.time())"
   ]
  },
  {
   "cell_type": "markdown",
   "metadata": {},
   "source": [
    "### 四、timedelta类<br>\n",
    "timedelta对象用于计算两个日期之间的差值。<br>\n",
    "#### 1、timedelta类属性：<br>\n",
    ">days　　　　#　天数<br>\n",
    "microseconds　　　　#　微秒数(>=0 并且 <1秒）<br>\n",
    "seconds　　　　#　秒数(>=0 并且 <1天）<br>\n",
    "\n",
    "#### ２、timedelta时间差值计算实例：<br>"
   ]
  },
  {
   "cell_type": "code",
   "execution_count": 74,
   "metadata": {},
   "outputs": [
    {
     "name": "stdout",
     "output_type": "stream",
     "text": [
      "2019-07-22\n",
      "17:12:26.282248\n",
      "2019-06-01 2019-06-30\n",
      "29 0 0\n",
      "01:12:26.282248\n",
      "2019-07-15 2019-07-21\n",
      "2019-07-01 2019-07-31 31\n",
      "2019-08-22\n"
     ]
    }
   ],
   "source": [
    "from datetime import datetime, time, date, timedelta\n",
    "\n",
    "a = datetime.now()     #　获取当前时间\n",
    "print(a.date())\n",
    "print(a.time())\n",
    "today = date.today()\n",
    "# 获取上个月第一天和最后一天的日期\n",
    "last_day = date(today.year, today.month, 1) - timedelta(1)\n",
    "first_day = date(last_day.year, last_day.month, 1)\n",
    "print(first_day.isoformat(), last_day.isoformat())\n",
    "# 计算时间差\n",
    "timedel = last_day - first_day\n",
    "print(timedel.days, timedel.seconds, timedel.microseconds)     # 必须：0 <= seconds < 1天， 0 <= microseconds < 1s \n",
    "# 计算当前时间向后8个小时的时间\n",
    "eight = a + timedelta(hours=8)\n",
    "print(eight.time().isoformat())\n",
    "# 计算上周一和周日的日期\n",
    "today_weekday = today.isoweekday()\n",
    "last_sunday = today - timedelta(days=today_weekday)\n",
    "last_monday = last_sunday - timedelta(days=6)\n",
    "print(last_monday, last_sunday)\n",
    "# 计算指定日期当月最后一天的日期和本月天数\n",
    "month_last = date(a.year, a.month + 1, 1) - timedelta(1)\n",
    "month_first = date(a.year, a.month, 1)\n",
    "print(month_first, month_last, (month_last - month_first).days + 1)\n",
    "# 计算指定日期下个月当天的日期\n",
    "print(date(a.year, a.month + 1, a.day))"
   ]
  },
  {
   "cell_type": "markdown",
   "metadata": {},
   "source": [
    "### 五、python中时间日期格式化符号：\n",
    "\n",
    "|符号|说明|\n",
    "|---|---|\n",
    "|%y|\t两位数的年份表示（00-99）|\n",
    "|%Y|\t四位数的年份表示（000-9999）|\n",
    "|%m|\t月份（01-12）|\n",
    "|%d|\t月内中的一天（0-31）|\n",
    "|%H|\t24小时制小时数（0-23）|\n",
    "|%I|\t12小时制小时数（01-12）|\n",
    "|%M|\t分钟数（00=59）|\n",
    "|%S|\t秒（00-59）|\n",
    "|%a|\t本地简化星期名称|\n",
    "|%A|\t本地完整星期名称|\n",
    "|%b|\t本地简化的月份名称|\n",
    "|%B|\t本地完整的月份名称|\n",
    "|%c|\t本地相应的日期表示和时间表示|\n",
    "|%j|\t年内的一天（001-366）|\n",
    "|%p|\t本地A.M.或P.M.的等价符|\n",
    "|%U|\t一年中的星期数（00-53）星期天为星期的开始|\n",
    "|%w|\t星期（0-6），星期天为星期的开始|\n",
    "|%W|\t一年中的星期数（00-53）星期一为星期的开始|\n",
    "|%x|\t本地相应的日期表示|\n",
    "|%X|\t本地相应的时间表示|\n",
    "|%Z|\t当前时区的名称|\n",
    "|%%|\t%号本身"
   ]
  }
 ],
 "metadata": {
  "kernelspec": {
   "display_name": "Python 3 (ipykernel)",
   "language": "python",
   "name": "python3"
  },
  "language_info": {
   "codemirror_mode": {
    "name": "ipython",
    "version": 3
   },
   "file_extension": ".py",
   "mimetype": "text/x-python",
   "name": "python",
   "nbconvert_exporter": "python",
   "pygments_lexer": "ipython3",
   "version": "3.9.7"
  }
 },
 "nbformat": 4,
 "nbformat_minor": 2
}
