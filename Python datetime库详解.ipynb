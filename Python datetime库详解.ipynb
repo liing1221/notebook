{
 "cells": [
  {
   "cell_type": "markdown",
   "metadata": {},
   "source": [
    "## Python datetime库详解"
   ]
  },
  {
   "cell_type": "code",
   "execution_count": null,
   "metadata": {},
   "outputs": [],
   "source": []
  },
  {
   "cell_type": "markdown",
   "metadata": {},
   "source": [
    "datetime模块用于是date和time模块的合集，datetime有两个常量，MAXYEAR和MINYEAR，分别是9999和1.<br>\n",
    "datetime模块定义了5个类，分别是：<br>\n",
    "1.datetime.date：表示日期的类<br>\n",
    "2.datetime.datetime：表示日期时间的类<br>\n",
    "3.datetime.time：表示时间的类<br>\n",
    "4.datetime.timedelta：表示时间间隔，即两个时间点的间隔<br>\n",
    "5.datetime.tzinfo：时区的相关信息<br>"
   ]
  },
  {
   "cell_type": "markdown",
   "metadata": {},
   "source": [
    "#### 1）、datetime.date类：<br>\n",
    "date类有三个参数,datetime.date(year,month,day)，返回year-month-day<br>\n",
    "类方法：<br>\n",
    "1.datetime.date.ctime(),返回格式如 Sun Apr 16 00:00:00 2017<br>\n",
    "2.datetime.date.fromtimestamp(timestamp),根据给定的时间戮，返回一个date对象；datetime.date.today()作用相同<br>\n",
    "3.datetime.date.isocalendar():返回格式如(year，month，day)的元组,(2017, 15, 6)<br>\n",
    "4.datetime.date.isoformat()：返回格式如YYYY-MM-DD<br>\n",
    "5.datetime.date.isoweekday()：返回给定日期的星期（0-6）星期一=0，星期日=6 这里表明下python3中是从[1-7]表示的 就是本来是星期几现在显示就是星期几<br>\n",
    "6.datetime.date.replace(year,month,day)：替换给定日期，但不改变原日期<br>\n",
    "7.datetime.date.strftime(format):把日期时间按照给定的format进行格式化。<br>\n",
    "8.datetime.date.timetuple()：返回日期对应的time.struct_time对象<br>\n",
    "　time.struct_time(tm_year=2017, tm_mon=4, tm_mday=15, tm_hour=0, tm_min=0, tm_sec=0, tm_wday=5, tm_yday=105, tm_isdst=-1)<br>\n",
    "9.datetime.date.weekday()：返回日期的星期<br>"
   ]
  },
  {
   "cell_type": "markdown",
   "metadata": {},
   "source": [
    "#### 2）、datetime的datetime类<br>\n",
    "datetime类有很多参数，datetime(year, month, day[, hour[, minute[, second[, microsecond[,tzinfo]]]]])，返回年月日，时分秒<br>\n",
    "类方法：<br>\n",
    "1.datetime.datetime.ctime()<br>\n",
    "2.datetime.datetime.now().date()：返回当前日期时间的日期部分<br>\n",
    "3.datetime.datetime.now().time()：返回当前日期时间的时间部分<br>\n",
    "4.datetime.datetime.fromtimestamp()<br>\n",
    "5.datetime.datetime.now()：返回当前系统时间<br>\n",
    "6.datetime.datetime.replace()<br>\n",
    "7.datetime.datetime.strftime()：由日期格式转化为字符串格式<br>\n",
    "　datetime.datetime.now().strftime('%b-%d-%Y %H:%M:%S')    输出：'Apr-16-2017 21:01:35'<br>\n",
    "8.datetime.datetime.strptime():由字符串格式转化为日期格式<br>\n",
    "　datetime.datetime.strptime('Apr-16-2017 21:01:35', '%b-%d-%Y %H:%M:%S')   输出：2017-04-16 21:01:35<br>　"
   ]
  },
  {
   "cell_type": "markdown",
   "metadata": {},
   "source": [
    "#### 3)、datetime的timedelta类<br>\n",
    "datetime.datetime.timedelta用于计算两个日期之间的差值。"
   ]
  },
  {
   "cell_type": "code",
   "execution_count": 5,
   "metadata": {},
   "outputs": [
    {
     "name": "stdout",
     "output_type": "stream",
     "text": [
      "2019-04-19 15:21:43.213127\n",
      "2019-04-19 15:21:59.213804\n",
      "0:00:16.000677\n",
      "16\n",
      "0\n",
      "16.000677\n"
     ]
    }
   ],
   "source": [
    "import time, datetime\n",
    "a=datetime.datetime.now()\n",
    "time.sleep(16)\n",
    "b=datetime.datetime.now()\n",
    "print(a)\n",
    "print(b)\n",
    "print(b-a)\n",
    "print((b-a).seconds)\n",
    "\"\"\"计算天数差值\"\"\"\n",
    "print((b-a).days)\n",
    "\"\"\"计算两个日期之间相隔的秒数\"\"\"\n",
    "print((b-a).total_seconds())"
   ]
  }
 ],
 "metadata": {
  "kernelspec": {
   "display_name": "Python 3",
   "language": "python",
   "name": "python3"
  },
  "language_info": {
   "codemirror_mode": {
    "name": "ipython",
    "version": 3
   },
   "file_extension": ".py",
   "mimetype": "text/x-python",
   "name": "python",
   "nbconvert_exporter": "python",
   "pygments_lexer": "ipython3",
   "version": "3.7.0"
  }
 },
 "nbformat": 4,
 "nbformat_minor": 2
}
