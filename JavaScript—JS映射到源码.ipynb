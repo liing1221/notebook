{
 "cells": [
  {
   "cell_type": "markdown",
   "metadata": {},
   "source": [
    "# JS映射到源码\n",
    "　　参考：[将JavaScript压缩代码映射到源码](https://baijiahao.baidu.com/s?id=1666638268962153874&wfr=spider&for=pc)<br>\n",
    "　　　　　[动态调试JS脚本文件：（JS源映射 - sourceURL）与 debugger](https://blog.csdn.net/qq_16559905/article/details/78346717)<br>\n",
    "　　　　　[深入浏览器工作原理和JS引擎（V8引擎为例）](https://mbd.baidu.com/newspage/data/landingsuper?context=%7B%22nid%22%3A%22news_8916152922928088617%22%7D&n_type=1&p_from=4)<br>"
   ]
  }
 ],
 "metadata": {
  "kernelspec": {
   "display_name": "Python 3",
   "language": "python",
   "name": "python3"
  },
  "language_info": {
   "codemirror_mode": {
    "name": "ipython",
    "version": 3
   },
   "file_extension": ".py",
   "mimetype": "text/x-python",
   "name": "python",
   "nbconvert_exporter": "python",
   "pygments_lexer": "ipython3",
   "version": "3.7.4"
  }
 },
 "nbformat": 4,
 "nbformat_minor": 4
}
