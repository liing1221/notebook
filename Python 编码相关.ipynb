{
 "cells": [
  {
   "cell_type": "markdown",
   "metadata": {},
   "source": [
    "## Python 编码相关\n",
    "\n",
    "\n",
    "\n",
    "#### 3、编码错误 UnicodeEncodeError\n",
    "异常：UnicodeEncodeError: 'gbk' codec can't encode character '\\xa9' in position 6732: illegal multibyte sequence<br>\n",
    "原因：window下，对于Unicode字符，需要print出来的话，由于本地系统是Windows中的cmd，默认codepage是CP936，即GBK的编码，所以python解释器需要先将上述的Unicode字符编码为GBK，然后再在cmd中显示出来。但是由于该Unicode字符串中包含一些GBK中无法显示的字符，比如图中的圈C，导致此时提示“’gbk’ codec can’t encode”的错误的。<br>\n",
    "　　通过查看，这个u'xa9' Unicode编码所表示的字符是：©。<br>\n",
    "　　windows下面，新文件的默认编码是gbk，这样的话，python解释器会用gbk编码去解析我们的网络数据流txt，然而txt此时已经是decode过的unicode编码，这样的话就会导致解析不了，出现上述问题。 解决的办法就是，改变目标文件的编码：<br>\n",
    "解决：<br>\n",
    "> 1、data.encode('GBK', 'ignore')'　　　#　在对unicode字符编码时添加ignore参数忽略无法编码的字符，这样就可以正常编码为GBK了。<br>\n",
    "2、response.body.decode('utf-8', 'ignore').replace(u'\\xa9', u'')　　　#　忽略‘\\xa9’编码<br>\n",
    "3、f = open(\"out.html\",\"w\",encoding='utf-8')　　　#　修改写入文件的编码方式（windows下默认GBK编码）<br>\n",
    "\n",
    "#### 4、编码错误 JSONDecodeError\n",
    "异常：json.decoder.JSONDecodeError: Expecting value: line 1 column 1 (char 0)问题\n",
    "原因：json格式不对引起的错误（比如：json字符串内引号使用错误：json要求的引号为双引号，单引号则出错。）"
   ]
  }
 ],
 "metadata": {
  "kernelspec": {
   "display_name": "Python 3",
   "language": "python",
   "name": "python3"
  },
  "language_info": {
   "codemirror_mode": {
    "name": "ipython",
    "version": 3
   },
   "file_extension": ".py",
   "mimetype": "text/x-python",
   "name": "python",
   "nbconvert_exporter": "python",
   "pygments_lexer": "ipython3",
   "version": "3.6.8"
  }
 },
 "nbformat": 4,
 "nbformat_minor": 2
}
