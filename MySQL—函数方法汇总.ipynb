{
 "cells": [
  {
   "cell_type": "markdown",
   "metadata": {},
   "source": [
    "## Sql函数方法\n",
    "　　参考：[MySQL—字符串拆分（含分隔符的字符串截取）](https://blog.csdn.net/pjymyself/article/details/81668157?utm_medium=distribute.pc_relevant_t0.none-task-blog-BlogCommendFromMachineLearnPai2-1.channel_param&depth_1-utm_source=distribute.pc_relevant_t0.none-task-blog-BlogCommendFromMachineLearnPai2-1.channel_param)<BR>\n",
    "    \n",
    "### 1、SUBSTRING_INDEX（str, delim, count）\n",
    "　　含分隔符的字符串拆分\n",
    "\n",
    "|参数名|解释|\n",
    "|:--- |:--- |\n",
    "|str|需要拆分的字符串|\n",
    "|delim|分隔符，通过某字符进行拆分|\n",
    "|count|当 count 为正数，取第 n 个分隔符之前的所有字符； 当 count 为负数，取倒数第 n 个分隔符之后的所有字符。|\n",
    "\n",
    "#### 1.1、获取第2个以“，”逗号为分隔符之前的所有字符。\n",
    "SUBSTRING_INDEX('7654,7698,7782,7788',',',2)\n",
    "#### 1.2、获取倒数第2个以“，”逗号分隔符之后的所有字符\n",
    "SUBSTRING_INDEX('7654,7698,7782,7788',',',-2)\n",
    "\n",
    "### 2、replace( str, from_str, to_str)\n",
    "　　替换函数\n",
    "\n",
    "|参数名|解释|\n",
    "|:--- |:--- |\n",
    "|str|\t需要进行替换的字符串|\n",
    "|from_str|\t需要被替换的字符串|\n",
    "|to_str|\t需要替换的字符串|\n",
    "    \n",
    "#### 2.1、将分隔符“，”逗号替换为“”空。\n",
    "REPLACE('7654,7698,7782,7788',',','')\n",
    "\n",
    "### 3、LENGTH( str )\n",
    "　　获取字符串长度\n",
    "\n",
    "|参数名|\t解释|\n",
    "|:--- |:--- |\n",
    "|str|需要计算长度的字符串|\n",
    "    \n",
    "#### 3.1、获取 ‘7654,7698,7782,7788’ 字符串的长度\n",
    "LENGTH('7654,7698,7782,7788')\n",
    "\n"
   ]
  }
 ],
 "metadata": {
  "kernelspec": {
   "display_name": "Python 3",
   "language": "python",
   "name": "python3"
  },
  "language_info": {
   "codemirror_mode": {
    "name": "ipython",
    "version": 3
   },
   "file_extension": ".py",
   "mimetype": "text/x-python",
   "name": "python",
   "nbconvert_exporter": "python",
   "pygments_lexer": "ipython3",
   "version": "3.7.4"
  }
 },
 "nbformat": 4,
 "nbformat_minor": 4
}
