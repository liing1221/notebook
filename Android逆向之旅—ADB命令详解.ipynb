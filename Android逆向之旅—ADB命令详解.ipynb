{
 "cells": [
  {
   "cell_type": "markdown",
   "metadata": {},
   "source": [
    "# ADB命令详解\n",
    "　　参考：[ADB常用命令](https://juejin.cn/post/7027766928211083295)<br>\n",
    "  \n",
    " \n",
    " \n",
    " \n",
    "[Android adb安装时强制应用App以32位或者64位运行](https://blog.csdn.net/tkwxty/article/details/107608252)  \n",
    " 　　强制应用以32位运行看看是否OK，如果OK，则APK没有适配64位的so库。\n",
    "　　应用以32位在64位终端环境下运行，先上命令格式如下：\n",
    ">adb install --abi armeabi-v7a \\<path to apk\\>\n",
    "\n",
    "应用以64位在64位终端环境下运行,先上命令格式如下：\n",
    ">adb install --abi arm64-v8a \\<path to apk\\>\n",
    "\n",
    "其他的Android平台，譬如X86或者其它的，可以使用如下命令：\n",
    ">adb install --abi <path to apk>\n",
    "  \n",
    " \n",
    "    \n",
    "## adb指定安装设备\n",
    ">adb -s G2W02186660113443 install /Users/liing/Desktop/app/app.apk      # G2W02186660113443 指定的安装设备"
   ]
  }
 ],
 "metadata": {
  "kernelspec": {
   "display_name": "Python 3 (ipykernel)",
   "language": "python",
   "name": "python3"
  },
  "language_info": {
   "codemirror_mode": {
    "name": "ipython",
    "version": 3
   },
   "file_extension": ".py",
   "mimetype": "text/x-python",
   "name": "python",
   "nbconvert_exporter": "python",
   "pygments_lexer": "ipython3",
   "version": "3.9.7"
  }
 },
 "nbformat": 4,
 "nbformat_minor": 4
}
