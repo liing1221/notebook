{
 "cells": [
  {
   "cell_type": "markdown",
   "metadata": {},
   "source": [
    "## Git 之使用详解\n",
    "　　参考：[易百教程—Git](https://www.yiibai.com/git/git_add.html)<br>\n",
    "　　　　　[Git教程 Git Bash详细教程](https://blog.csdn.net/qq_36667170/article/details/79085301)<br>\n",
    "\n",
    "### 1、Git Bash显示(命令行输出结果)中文乱码：\n",
    "　　解决：打开GitBash（git-bash.exe）后，对窗口右键->Options->Text->Locale改为zh_CN，Character set改为utf-8(一般试一下就行)；exit退出关闭，再打开就OK啦<br>\n",
    "  \n",
    "### 2、git add用法<br>\n",
    "git add 命令是将工作区内容添加到暂存区。git commit 将暂存区内容添加到版本库。<br>\n",
    ">git add -A　　　　　提交所有变化<br>\n",
    "git add -u　　　　　提交被修改(modified)和被删除(deleted)文件，不包括新文件(new)<br>\n",
    "git add .　　　　　提交新文件(new)和被修改(modified)文件，不包括被删除(deleted)文件<br>\n",
    "\n",
    "### 3、deleted 状态文件处理\n",
    "\n",
    "#### 1、处理方式1\n",
    ">git rm --cached \"文件路径\"\n",
    "\n",
    "　　不删除物理文件，仅将该文件从缓存中删除；\n",
    "#### 2、处理方式2\n",
    ">git rm --f \"文件路径\"\n",
    "\n",
    "　　不仅将该文件从缓存中删除，还会将物理文件删除（不会回收到垃圾桶）\n",
    "　　之后查看一下状态，你就能看到由红色的状态变成绿色了,之后再推送到远程仓库即可\n",
    "\n",
    "#### 3、处理方式3\n",
    "　　有时候我们删除文件后，git status下，查看有deleted 状态的文件，这时用 git rm ‘文件名’命令会报错，did not match any files，提示没有此文件。可用如下解决方法：<br>\n",
    ">git add -u　　　　　　#　提交被修改(modified)和被删除(deleted)文件，不包括新文件(new)<br>\n",
    "git commit -m \"commit deleted files\"<br>\n",
    "git push -u origin api_mybatis<br>\n",
    "\n",
    "### 4、放弃本地修改，强制拉取更新\n",
    ">git fetch --all　　　　　　# 下载远程仓库最新内容，不做合并<br>\n",
    "git reset --hard origin/分支名(如：master）　　　　　　# 把HEAD指向master最新版本<br>\n",
    "git pull　　　　　　# 可以省略<br>\n"
   ]
  }
 ],
 "metadata": {
  "kernelspec": {
   "display_name": "Python 3 (ipykernel)",
   "language": "python",
   "name": "python3"
  },
  "language_info": {
   "codemirror_mode": {
    "name": "ipython",
    "version": 3
   },
   "file_extension": ".py",
   "mimetype": "text/x-python",
   "name": "python",
   "nbconvert_exporter": "python",
   "pygments_lexer": "ipython3",
   "version": "3.9.7"
  }
 },
 "nbformat": 4,
 "nbformat_minor": 2
}
