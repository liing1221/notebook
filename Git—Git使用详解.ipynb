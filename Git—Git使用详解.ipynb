{
 "cells": [
  {
   "cell_type": "markdown",
   "metadata": {},
   "source": [
    "## Git 之使用详解\n",
    "　　参考：[易百教程—Git](https://www.yiibai.com/git/git_add.html)<br>\n",
    "\n",
    "### 1、Git Bash显示(命令行输出结果)中文乱码：\n",
    "　　解决：打开GitBash（git-bash.exe）后，对窗口右键->Options->Text->Locale改为zh_CN，Character set改为utf-8(一般试一下就行)；exit退出关闭，再打开就OK啦<br>\n",
    "  \n",
    "### 2、git add用法<br>\n",
    "git add 命令是将工作区内容添加到暂存区。git commit 将暂存区内容添加到版本库。<br>\n",
    ">git add -A　　　　　提交所有变化<br>\n",
    "git add -u　　　　　提交被修改(modified)和被删除(deleted)文件，不包括新文件(new)<br>\n",
    "git add .　　　　　提交新文件(new)和被修改(modified)文件，不包括被删除(deleted)文件<br>\n",
    "\n",
    "### 3、deleted 状态文件处理\n",
    "\n",
    "有时候我们删除文件后，git status下，查看有deleted 状态的文件，这时用 git rm ‘文件名’命令会报错，did not match any files，提示没有此文件。<br>\n",
    "可用如下解决方法：<br>\n",
    ">git add -u　　　　　　#　提交被修改(modified)和被删除(deleted)文件，不包括新文件(new)<br>\n",
    "git commit -m \"commit deleted files\"<br>\n",
    "git push -u origin api_mybatis<br>\n"
   ]
  }
 ],
 "metadata": {
  "kernelspec": {
   "display_name": "Python 3",
   "language": "python",
   "name": "python3"
  },
  "language_info": {
   "codemirror_mode": {
    "name": "ipython",
    "version": 3
   },
   "file_extension": ".py",
   "mimetype": "text/x-python",
   "name": "python",
   "nbconvert_exporter": "python",
   "pygments_lexer": "ipython3",
   "version": "3.7.4"
  }
 },
 "nbformat": 4,
 "nbformat_minor": 2
}
