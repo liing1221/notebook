{
 "cells": [
  {
   "cell_type": "markdown",
   "metadata": {},
   "source": [
    "### 、collections模块实现栈和队列\n",
    "　　使用 list 实现队列时，插入数据的部分是通过 insert() 方法实现的，这种方法效率并不高，因为每次从列表的开头插入一个数据，列表中所有元素都得向后移动一个位置。<br>\n",
    "　　这里介绍一个相对更高效的方法，即使用标准库的 collections 模块中的 deque 结构体，它被设计成在两端存入和读取都很快的特殊 list，可以用来实现栈和队列的功能。<br>\n",
    "示例：<br>\n",
    ">queueAndStack = deque()<br>\n",
    "queueAndStack.append(1)<br>\n",
    "queueAndStack.append(2)<br>\n",
    "queueAndStack.append(\"hello\")<br>\n",
    "print(list(queueAndStack))　　　#实现队列功能，从队列中取一个元素，根据先进先出原则，这里应输出 1<br>\n",
    "print(queueAndStack.popleft())　　　#实现栈功能，从栈里取一个元素，根据后进先出原则，这里应输出 hello<br>\n",
    "print(queueAndStack.pop())　　　#再次打印列表<br>\n",
    "print(list(queueAndStack))<br>\n",
    "\n",
    "输出结果:<br>\n",
    ">\\[1, 2, 'hello'\\]<br>\n",
    "1<br>\n",
    "hello<br>\n",
    "\\[2\\]<br>"
   ]
  }
 ],
 "metadata": {
  "kernelspec": {
   "display_name": "Python 3",
   "language": "python",
   "name": "python3"
  },
  "language_info": {
   "codemirror_mode": {
    "name": "ipython",
    "version": 3
   },
   "file_extension": ".py",
   "mimetype": "text/x-python",
   "name": "python",
   "nbconvert_exporter": "python",
   "pygments_lexer": "ipython3",
   "version": "3.7.1"
  }
 },
 "nbformat": 4,
 "nbformat_minor": 2
}
