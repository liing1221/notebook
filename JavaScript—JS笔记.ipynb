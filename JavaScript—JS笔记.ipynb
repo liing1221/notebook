{
 "cells": [
  {
   "cell_type": "markdown",
   "metadata": {},
   "source": [
    "# JavaScript\n",
    "　　参考：[76张脑图带你彻底搞懂原生JS](https://juejin.cn/post/6844904166192578567)<br>\n",
    "　　　　　[2.6万字JS干货分享，带你领略前端魅力！](https://juejin.cn/post/6844904136161361933)<br>\n",
    "　　　　　[原生JS灵魂之](https://juejin.cn/post/6844904004007247880)<br>\n",
    "　　　　　[前端万字面经——进阶篇](https://juejin.cn/post/6993141036600000548)<br>\n",
    "　　　　　[前端万字面经——基础篇](https://juejin.cn/post/6992767550543265829)<br>\n",
    "　　　　　[中级前端工程师需要掌握的 28 个 JavaScript 技巧](https://juejin.cn/post/6844903856489365518)<br>\n",
    "　　　　　[原生JS灵魂之问, 请问你能接得住几个](https://juejin.cn/post/6844903974378668039)<br>\n",
    "　　　　　[最全的手写JS面试题](https://juejin.cn/post/6968713283884974088)<br>\n",
    "　　　　　[前端必备的实用工具，都在这里了](https://juejin.cn/post/6844904008365113351)<br>\n",
    "　　　　　[死磕 36 个 JS 手写题](https://juejin.cn/post/6946022649768181774)<br>\n",
    "　　　　　[前端模块化详解(完整版)](https://juejin.cn/post/6844903744518389768)<br>\n",
    "　　　　　[JS 进阶】你真的掌握变量和类型了吗](https://juejin.cn/post/6844903854882947080)<br>\n",
    "　　　　　[理解 JavaScript 中的执行上下文和执行栈](https://juejin.cn/post/6844903682283143181)<br>\n",
    "　　　　　[js 数组详细操作方法及解析合集](https://juejin.cn/post/6844903614918459406)<br>\n",
    "　　　　　[前端该如何准备数据结构和算法？](https://juejin.cn/post/6844903919722692621)<br>\n",
    "　　　　　[深入探究：null 和 undefined 究竟有何区别？](https://juejin.cn/post/7051144396615450655)<br>\n",
    "　　　　　[JS之Generator（生成器）](https://blog.csdn.net/lu1024188315/article/details/73322640)<br>\n",
    "　　　　　[]()<br>\n",
    "　　　　　[]()<br>\n",
    "　　　　　[]()<br>\n",
    "　　　　　[]()<br>\n",
    "　　　　　[]()<br>\n",
    "     \n",
    "    \n",
    "## 一、JSON.stringify()\n",
    "　　JSON 通常用于与服务端交换数据。但在向服务器发送数据时一般是字符串，此时，我们可以使用 JSON.stringify() 方法将 JavaScript 对象转换为字符串。\n",
    ">JSON.stringify(value[, replacer[, space]])  \n",
    "\n",
    "　　参数说明：　　\n",
    "- value:　必需，要转换的 JavaScript 值（通常为对象或数组）。\n",
    "- replacer:　可选。用于转换结果的函数或数组。如果 replacer 为函数，则 JSON.stringify 将调用该函数，并传入每个成员的键和值。使用返回值而不是原始值。如果此函数返回 undefined，则排除成员。根对象的键是一个空字符串：\"\"。如果 replacer 是一个数组，则仅转换该数组中具有键值的成员。成员的转换顺序与键在数组中的顺序一样。当 value 参数也为数组时，将忽略 replacer 数组。\n",
    "- space:　可选，文本添加缩进、空格和换行符，如果 space 是一个数字，则返回值文本在每个级别缩进指定数目的空格，如果 space 大于 10，则文本缩进 10 个空格。space 也可以使用非数字，如：\\t。  \n",
    "\n",
    "　　JavaScript 对象转换示例：\n",
    "```javascript\n",
    "var obj = { \"name\":\"runoob\", \"alexa\":10000, \"site\":\"www.runoob.com\"};\n",
    "// 使用 JSON.stringify() 方法处理以上数据，将其转换为字符串\n",
    "var myJSON = JSON.stringify(obj);\n",
    "// myJSON 为字符串,可以用于向服务器发送数据。\n",
    "```\n",
    "     \n",
    "     "
   ]
  }
 ],
 "metadata": {
  "kernelspec": {
   "display_name": "Python 3",
   "language": "python",
   "name": "python3"
  },
  "language_info": {
   "codemirror_mode": {
    "name": "ipython",
    "version": 3
   },
   "file_extension": ".py",
   "mimetype": "text/x-python",
   "name": "python",
   "nbconvert_exporter": "python",
   "pygments_lexer": "ipython3",
   "version": "3.9.7"
  }
 },
 "nbformat": 4,
 "nbformat_minor": 4
}
