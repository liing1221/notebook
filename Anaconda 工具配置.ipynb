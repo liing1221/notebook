{
 "cells": [
  {
   "cell_type": "markdown",
   "metadata": {},
   "source": [
    "## Anaconda 工具配置"
   ]
  },
  {
   "cell_type": "markdown",
   "metadata": {},
   "source": [
    "　　参考：[Anaconda工具使用](https://www.cnblogs.com/chenhuabin/p/10718471.html)<br>\n",
    "　　　　　[Anaconda官方资料](https://conda.io/projects/conda/en/latest/commands.html)<br><br>\n",
    "　　默认情况下，conda 创建的新环境 以及过往安装的模块缓存都存储在用户目录下，这一点不会在 conda （user-specific）配置文件 $HOME/.condarc 中体现出来，除非用户修改了默认设置。当前的默认信息可通过 conda info 指令打印查看，其中不仅能够查看当前默认环境路径和默认缓存路径，还能查看conda的源设置（关于conda的源设置：conda改源之路中已经说明过了）。示列：<br>\n",
    ">(tensorflow) C:\\Users\\xxx>conda info<br>\n",
    "Current conda install:\n",
    "\n",
    "               platform : win-32\n",
    "          conda version : 4.3.30\n",
    "       conda is private : False\n",
    "      conda-env version : 4.3.30\n",
    "    conda-build version : not installed\n",
    "         python version : 3.6.3.final.0\n",
    "       requests version : 2.18.4\n",
    "       root environment : C:\\ProgramData\\Miniconda3  (read only)\n",
    "    default environment : C:\\Users\\xxx\\AppData\\Local\\conda\\conda\\envs\\tensorflow\n",
    "       envs directories : C:\\Users\\xxx\\AppData\\Local\\conda\\conda\\envs     #环境依次存储在下面几个目录，第一个为默认存储目录\n",
    "                          C:\\ProgramData\\Miniconda3\\envs\n",
    "                          C:\\Users\\xxx\\.conda\\envs\n",
    "          package cache : C:\\ProgramData\\Miniconda3\\pkgs       　　　　　#缓存依次存储在下面几个目录，第一个为默认存储目录\n",
    "                          C:\\Users\\xxx\\AppData\\Local\\conda\\conda\\pkgs\n",
    "           channel URLs : https://repo.continuum.io/pkgs/main/win-32     #源地址\n",
    "                          https://repo.continuum.io/pkgs/main/noarch\n",
    "                          https://repo.continuum.io/pkgs/free/win-32\n",
    "                          https://repo.continuum.io/pkgs/free/noarch\n",
    "                          https://repo.continuum.io/pkgs/r/win-32\n",
    "                          https://repo.continuum.io/pkgs/r/noarch\n",
    "                          https://repo.continuum.io/pkgs/pro/win-32\n",
    "                          https://repo.continuum.io/pkgs/pro/noarch\n",
    "                          https://repo.continuum.io/pkgs/msys2/win-32\n",
    "                          https://repo.continuum.io/pkgs/msys2/noarch\n",
    "            config file : None\n",
    "             netrc file : None\n",
    "           offline mode : False\n",
    "             user-agent : conda/4.3.30 requests/2.18.4 CPython/3.6.3 Windows/7 Windows/6.1.7601\n",
    "          administrator : False\n"
   ]
  },
  {
   "cell_type": "markdown",
   "metadata": {},
   "source": [
    "　　这种默认的处理方式的好处是友好利用了现代操作系统多用户的特点，保证每个用户操作之间的隔离性；问题是 在用户个人目录存储空间设置得很小的情况下，随着用户使用时间变长，可用的用户目录空间将越来越少，很可能导致没有足够的空间来容纳新创建的环境或没有足够的空间来为环境安装新的模块。这时候该怎么办？<br>\n",
    "　　实际上，conda环境和缓存的默认路径（envs directories 和 package cache）不一定要默认存储在用户目录，我们可以将他们设置到盈余空间稍大的其他目录来缓解这种空间压力，只要保证不同用户之间的设置不同即可。路径的设置可以通过编辑 $HOME/.condarc 来实现。添加或修改  $HOME/.condarc 中的 env_dirs 和 pkgs_dirs 配置项分别设置环境和缓存路径，按顺序第一个路径作为默认存储路径，搜索环境和缓存时按先后顺序在各目录中查找。<br>\n",
    ">配置示例<br>\n",
    ">channels:<br>\n",
    ">  \\- https://mirrors.tuna.tsinghua.edu.cn/anaconda/cloud/conda-forge/<br>\n",
    ">  \\- https://mirrors.tuna.tsinghua.edu.cn/anaconda/pkgs/free/<br>\n",
    ">  \\- defaults<br>\n",
    ">show_channel_urls: true<br>\n",
    ">envs_dirs:<br>\n",
    ">  \\- D:\\data\\xxx\\Miniconda\\envs<br>\n",
    ">  \\- C:\\Users\\xxx\\AppData\\Local\\conda\\conda\\envs<br>\n",
    ">  \\- C:\\Users\\xxx\\.conda\\envs<br>\n",
    ">  \\- C:\\ProgramData\\Anaconda\\Miniconda3\\envs   <br>                       \n",
    ">pkgs_dirs:<br>\n",
    ">  \\- D:\\data\\xxx\\Miniconda\\pkgs<br>\n",
    ">  \\- C:\\Users\\xxx\\AppData\\Local\\conda\\conda\\pkgs<br>\n",
    ">  \\- C:\\Users\\xxx\\.conda<br>\n",
    ">  \\- C:\\ProgramData\\Anaconda\\Miniconda3\\pkgs<br>\n"
   ]
  },
  {
   "cell_type": "markdown",
   "metadata": {},
   "source": [
    "## conda 使用之前安装的Python环境"
   ]
  },
  {
   "cell_type": "markdown",
   "metadata": {},
   "source": [
    "在装anaconda时，很多时候，我们自己之前已经安装了python环境，里面装了很多的包，不想换，想直接使用原来的python环境，可以使用以下命令：\n",
    "\n",
    ">conda create --prefix=\"D:\\Program Files (x86)\\python\\Python27\" python=2.7.9<br>\n",
    "\n",
    "--prefix指定安装python环境的路径位置，如果该位置有以前装过的python环境，这时候等该命令执行安装完后，直接使用即可，该命令不会删除以前的安装包，可以直接使用以前的包，输入conda info -e 这个命令也可以看出该python环境已经添加至conda的环境中了。但是 记住，路径一定要用双引号包含，不然路径有空格会报错的。而且activate的时候也需要带上路径名（用双引号包含），才能激活。比如该例子则需输入：<br>\n",
    ">activate D:\\Program Files (x86)\\python\\Python27\n",
    "\n",
    "之后添加该python环境作为jupyter的内核kernel：<br>\n",
    "首先安装ipykernel:<br>\n",
    ">python2 -m pip install -U ipykernel<br>\n",
    "\n",
    "添加kernel：<br>\n",
    ">python2 -m ipykernel install --user<br>\n",
    "\n",
    "同理 python3类似的。至此，可以使用自己之前的python环境了。<br>\n",
    "还有一种方法是使用别名：<br>\n",
    "　　进入conda 安装目录修改<br>\n",
    "　　.bashrc加入如下内容：<br>\n",
    ">export PATH=$PATH:/home/weiyx/minconda3/bin<br>\n",
    ">alias python=\"/usr/bin/python\"<br>\n",
    ">alias python3=\"/usr/bin/python3\"<br>\n",
    ">alias pyana=\"/home/weiyx/minconda3/bin/python3\"<br>\n",
    ">source ./bashrc<br>\n",
    ">关闭shell 重启<br>\n"
   ]
  },
  {
   "cell_type": "markdown",
   "metadata": {},
   "source": [
    "#### 附录：cona的简单使用\n",
    "\n",
    ">conda create -n [name]　　　　　　#创建名为name的conda环境，如tensorflow<br>\n",
    "source activate [name]　　　　　　　#激活刚才创建的环境，命令完成后，回答先命令行之前多了刚创建的环境的名字<br>\n",
    "source deactivate [name]　　　　　　#退出名为name的环境，回到系统默认环境<br>\n",
    "conda remove -n [name] --all 　　　#删除刚刚创建的conda环境 <br>\n",
    "conda info -envs　　　　　　　　　　#查看所安装环境列表，创建的环境都在`~/anaconda2/envs/`目录下面<br>\n",
    "conda list　　　　　　　　　　　　　#查看已经安装的包<br>\n",
    "conda install [packagename]　　　　#安装具体的包，加-n [name]可以安装到指定环境<br>\n",
    "conda list -n [name]　　　　　　　　#name环境下安装了哪些包<br>\n",
    "conda update -n [name] [packagename]　　　　#升级name环境的名为packagename的包<br>\n",
    "conda remove -n [name] [packagename]　　　　#删除name环境的名为packagename的包<br>"
   ]
  }
 ],
 "metadata": {
  "kernelspec": {
   "display_name": "Python 3",
   "language": "python",
   "name": "python3"
  },
  "language_info": {
   "codemirror_mode": {
    "name": "ipython",
    "version": 3
   },
   "file_extension": ".py",
   "mimetype": "text/x-python",
   "name": "python",
   "nbconvert_exporter": "python",
   "pygments_lexer": "ipython3",
   "version": "3.7.1"
  }
 },
 "nbformat": 4,
 "nbformat_minor": 2
}
