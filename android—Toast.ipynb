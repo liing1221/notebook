{
 "cells": [
  {
   "cell_type": "markdown",
   "id": "f66a534d",
   "metadata": {},
   "source": [
    "# Toast\n",
    "　　参考：[小小的Toast蕴含大道理](https://blog.csdn.net/nihaomabmt/article/details/108104146)   \n",
    "　　　　　[深入分享一下android.widget.Toast](https://blog.csdn.net/u013762572/article/details/80671565)   \n",
    "　　　　　[]()   \n",
    "　　　　　[]()   \n",
    "　　　　　[]()   \n",
    "　　　　　[]()   \n",
    "　　　　　[]()   \n",
    "\n",
    "## 一、\n",
    "\n",
    "## 二、\n",
    "\n",
    "## 三、\n",
    "\n",
    "## 四、\n",
    "\n",
    "\n",
    "\n",
    "\n",
    "\n"
   ]
  }
 ],
 "metadata": {
  "kernelspec": {
   "display_name": "Python 3 (ipykernel)",
   "language": "python",
   "name": "python3"
  },
  "language_info": {
   "codemirror_mode": {
    "name": "ipython",
    "version": 3
   },
   "file_extension": ".py",
   "mimetype": "text/x-python",
   "name": "python",
   "nbconvert_exporter": "python",
   "pygments_lexer": "ipython3",
   "version": "3.9.7"
  }
 },
 "nbformat": 4,
 "nbformat_minor": 5
}
