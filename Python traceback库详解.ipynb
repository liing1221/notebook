{
 "cells": [
  {
   "cell_type": "markdown",
   "metadata": {},
   "source": [
    "## Python traceback库详解"
   ]
  },
  {
   "cell_type": "markdown",
   "metadata": {},
   "source": [
    "traceback模块提供了一个标准接口来提取、格式化和打印程序的堆栈跟踪信息。它精确地模拟了Python解释器在打印堆栈跟踪时的行为。\n",
    "\n",
    "刚接触Python的时候，简单的异常处理已经可以帮助我们解决大多数问题，但是随着逐渐地深入，我们会发现有很多情况下简单的异常处理（通常是异常的value值），只有很少量的信息，我们很难定位在哪块代码出的问题，以及如何出现这种异常。那么到底要如何打印更加详细的信息呢？\n",
    "\n",
    "这时，就是traceback模块大施拳脚的时候了！\n"
   ]
  },
  {
   "cell_type": "markdown",
   "metadata": {},
   "source": [
    "Python程序的traceback信息均来源于一个叫做traceback object的对象，而这个traceback object通常是通过函数sys.exc_info()来获取的\n",
    "\n",
    "exc_type, exc_value, exc_traceback_obj = sys.exc_info() \n",
    "\n",
    "可以看出，sys.exc_info()获取了当前处理的exception的相关信息，并返回一个元组，元组的第一个数据是异常的类型(示例是NameError类型)，第二个返回值是异常的value值，第三个就是我们要的traceback object.有了traceback object我们就可以通过traceback module来打印和格式化traceback的相关信息。\n",
    "\n",
    "Python的traceback module提供一整套接口用于提取，格式化和打印Python程序的stack traces信息，下面我们通过例子来详细了解下这些接口："
   ]
  },
  {
   "cell_type": "markdown",
   "metadata": {},
   "source": [
    "1、traceback.print_tb(tb[, limit[, file]])"
   ]
  },
  {
   "cell_type": "markdown",
   "metadata": {},
   "source": [
    "tb: 这个就是traceback object, 是我们通过sys.exc_info获取到的\n",
    "\n",
    "limit: 这个是限制stack trace层级的，如果不设或者为None，就会打印所有层级的stack trace\n",
    "\n",
    "file: 这个是设置打印的输出流的，可以为文件，也可以是stdout之类的file-like object。如果不设或为None，则输出到sys.stderr。"
   ]
  },
  {
   "cell_type": "markdown",
   "metadata": {},
   "source": [
    "2、traceback.print_exception(etype, value, tb[, limit[, file]])"
   ]
  },
  {
   "cell_type": "markdown",
   "metadata": {},
   "source": [
    "跟print_tb相比多了两个参数etype和value，分别是exception type和exception value，加上tb(traceback object)，正好是sys.exc_info()返回的三个值\n",
    "\n",
    "另外，与print_tb相比，打印信息多了开头的\"Traceback (most...)\"信息以及最后一行的异常类型和value信息\n",
    "\n",
    "还有一个不同是当异常为SyntaxError时，会有\"^\"来指示语法错误的位置\n"
   ]
  },
  {
   "cell_type": "markdown",
   "metadata": {},
   "source": [
    "3、traceback.print_exc([limit[, file]])"
   ]
  },
  {
   "cell_type": "markdown",
   "metadata": {},
   "source": [
    "print_exc是简化版的print_exception, 由于exception type, value和traceback object都可以通过sys.exc_info()获取，因此print_exc()就自动执行exc_info()来帮助获取这三个参数了，也因此这个函数是我们的程序中最常用的，因为它足够简单"
   ]
  },
  {
   "cell_type": "markdown",
   "metadata": {},
   "source": [
    "4、traceback.format_exc([limit[, file]])"
   ]
  },
  {
   "cell_type": "markdown",
   "metadata": {},
   "source": [
    "有时候我们想得到的是一个字符串，比如我们想通过logger将异常记录在log里，这个时候就需要format_exc了，这个也是最常用的一个函数，它跟print_exc用法相同，只是不直接打印而是返回了字符串。"
   ]
  },
  {
   "cell_type": "code",
   "execution_count": 2,
   "metadata": {},
   "outputs": [
    {
     "name": "stdout",
     "output_type": "stream",
     "text": [
      "*** print_tb:\n",
      "  File \"<ipython-input-2-97ab824f2cc0>\", line 10, in <module>\n",
      "    lumberjack()\n",
      "*** print_exception:\n",
      "Traceback (most recent call last):\n",
      "  File \"<ipython-input-2-97ab824f2cc0>\", line 10, in <module>\n",
      "    lumberjack()\n",
      "  File \"<ipython-input-2-97ab824f2cc0>\", line 4, in lumberjack\n",
      "    bright_side_of_death()\n",
      "IndexError: tuple index out of range\n",
      "*** print_exc:\n",
      "Traceback (most recent call last):\n",
      "  File \"<ipython-input-2-97ab824f2cc0>\", line 10, in <module>\n",
      "    lumberjack()\n",
      "  File \"<ipython-input-2-97ab824f2cc0>\", line 4, in lumberjack\n",
      "    bright_side_of_death()\n",
      "IndexError: tuple index out of range\n",
      "*** format_exc, first and last line:\n",
      "Traceback (most recent call last):\n",
      "IndexError: tuple index out of range\n",
      "*** format_exception:\n",
      "['Traceback (most recent call last):\\n', '  File \"<ipython-input-2-97ab824f2cc0>\", line 10, in <module>\\n    lumberjack()\\n', '  File \"<ipython-input-2-97ab824f2cc0>\", line 4, in lumberjack\\n    bright_side_of_death()\\n', '  File \"<ipython-input-2-97ab824f2cc0>\", line 7, in bright_side_of_death\\n    return tuple()[0]\\n', 'IndexError: tuple index out of range\\n']\n",
      "*** extract_tb:\n",
      "[<FrameSummary file <ipython-input-2-97ab824f2cc0>, line 10 in <module>>, <FrameSummary file <ipython-input-2-97ab824f2cc0>, line 4 in lumberjack>, <FrameSummary file <ipython-input-2-97ab824f2cc0>, line 7 in bright_side_of_death>]\n",
      "*** format_tb:\n",
      "['  File \"<ipython-input-2-97ab824f2cc0>\", line 10, in <module>\\n    lumberjack()\\n', '  File \"<ipython-input-2-97ab824f2cc0>\", line 4, in lumberjack\\n    bright_side_of_death()\\n', '  File \"<ipython-input-2-97ab824f2cc0>\", line 7, in bright_side_of_death\\n    return tuple()[0]\\n']\n",
      "*** tb_lineno: 10\n"
     ]
    }
   ],
   "source": [
    "import sys, traceback\n",
    "\n",
    "def lumberjack():\n",
    "    bright_side_of_death()\n",
    "\n",
    "def bright_side_of_death():\n",
    "    return tuple()[0]\n",
    "\n",
    "try:\n",
    "    lumberjack()\n",
    "except IndexError:\n",
    "    exc_type, exc_value, exc_traceback = sys.exc_info()\n",
    "    print(\"*** print_tb:\")\n",
    "    traceback.print_tb(exc_traceback, limit=1, file=sys.stdout)\n",
    "    print(\"*** print_exception:\")\n",
    "    traceback.print_exception(exc_type, exc_value, exc_traceback,\n",
    "                              limit=2, file=sys.stdout)\n",
    "    print(\"*** print_exc:\")\n",
    "    traceback.print_exc(limit=2, file=sys.stdout)\n",
    "    print(\"*** format_exc, first and last line:\")\n",
    "    formatted_lines = traceback.format_exc().splitlines()\n",
    "    print(formatted_lines[0])\n",
    "    print(formatted_lines[-1])\n",
    "    print(\"*** format_exception:\")\n",
    "    print(repr(traceback.format_exception(exc_type, exc_value,\n",
    "                                          exc_traceback)))\n",
    "    print(\"*** extract_tb:\")\n",
    "    print(repr(traceback.extract_tb(exc_traceback)))\n",
    "    print(\"*** format_tb:\")\n",
    "    print(repr(traceback.format_tb(exc_traceback)))\n",
    "    print(\"*** tb_lineno:\", exc_traceback.tb_lineno)"
   ]
  }
 ],
 "metadata": {
  "kernelspec": {
   "display_name": "Python 3",
   "language": "python",
   "name": "python3"
  },
  "language_info": {
   "codemirror_mode": {
    "name": "ipython",
    "version": 3
   },
   "file_extension": ".py",
   "mimetype": "text/x-python",
   "name": "python",
   "nbconvert_exporter": "python",
   "pygments_lexer": "ipython3",
   "version": "3.7.0"
  }
 },
 "nbformat": 4,
 "nbformat_minor": 2
}
