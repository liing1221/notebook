{
 "cells": [
  {
   "cell_type": "markdown",
   "metadata": {},
   "source": [
    "## MySQL—数据库管理\n",
    "### 一、数据库安装\n",
    "##### 2、数据库版本查看：\n",
    "查看mysql版本：<br>\n",
    ">1、在终端下执行 mysql -V<br>\n",
    "2、 在help中查找 mysql --help |grep Distrib<br>\n",
    "3、 在mysql 里查看 select version()；<br>\n",
    "4、 在mysql 里查看 status；<br>\n",
    "### 二、数据库配置\n",
    "### 三、数据库用户管理\n",
    "### 四、数据库"
   ]
  }
 ],
 "metadata": {
  "kernelspec": {
   "display_name": "Python 3",
   "language": "python",
   "name": "python3"
  },
  "language_info": {
   "codemirror_mode": {
    "name": "ipython",
    "version": 3
   },
   "file_extension": ".py",
   "mimetype": "text/x-python",
   "name": "python",
   "nbconvert_exporter": "python",
   "pygments_lexer": "ipython3",
   "version": "3.6.8"
  }
 },
 "nbformat": 4,
 "nbformat_minor": 2
}
