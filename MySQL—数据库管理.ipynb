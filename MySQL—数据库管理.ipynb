{
 "cells": [
  {
   "cell_type": "markdown",
   "metadata": {},
   "source": [
    "# MySQL—数据库管理\n",
    "参考：[MySQL 导入数据](https://www.runoob.com/mysql/mysql-database-import.html)   \n",
    "\n",
    "## 一、数据库安装\n",
    "### 2、数据库版本查看：\n",
    "查看mysql版本：<br>\n",
    ">1、在终端下执行 mysql -V<br>\n",
    "2、 在help中查找 mysql --help |grep Distrib<br>\n",
    "3、 在mysql 里查看 select version()；<br>\n",
    "4、 在mysql 里查看 status；<br>\n",
    "## 二、数据库配置\n",
    "## 三、数据库用户管理\n",
    "## 四、数据导出\n",
    "### 4.1 导出到csv\n",
    "mysql导出数据到csv要点包括：  \n",
    "1. 字段之间以逗号分隔，数据行之间以\\r\\n分隔；  \n",
    "2. 字符串以半角双引号包围，字符串本身的双引号用两个双引号表示。  \n",
    "\n",
    "#### 4.1.1 方法一：select ... into outfile\n",
    "　　直接在mysql的交互界面使用select命令导出数据到文件。  \n",
    "```mysql\n",
    "root@liing 09:53:08>select * from datas where id < 1000 into outfile \"/db/test.csv\";\n",
    "ERROR 1290 (HY000): The MySQL server is running with the --secure-file-priv option so it cannot execute this statement\n",
    "```\n",
    "　　ERROR说明: 需要在配置文件中指定secure_file_priv参数的值，这个值指向一个地址，导出的文件需要写入到对应的地址中。    \n",
    "　　在不知道设置，默认的情况下，导出文件中字段之间用TAB键隔开，每行记录之间用\\n换行符隔开。  \n",
    "    \n",
    "　　可以使用如下参数指定导出文件分隔符：  \n",
    "+ character set 导出文件字符集  \n",
    "+ fields terminated by 描述字段的分隔符，默认情况下是tab字符（\\t） \n",
    "+ optionally enclosed by 描述的是字段的括起字符(数值型字段无效)。\n",
    "+ escaped by 描述的转义字符。默认的是反斜杠（backslash：\\ ）  \n",
    "+ lines terminated by : 行与行之间的分隔符\n",
    "\n",
    "```mysql\n",
    "root@liing 01:50:35>select * from datas limit 3 into outfile \"/db/test2.csv\" fields terminated by ',' optionally enclosed by '\"' escaped by '\"' lines terminated by \"\\r\\n\";\n",
    "Query OK, 3 rows affected (0.01 sec)\n",
    "root@liing 01:56:01>select * from datas limit 3 into outfile \"/db/test2.csv\" character set gbk fields terminated by ',' optionally enclosed by '\"' escaped by '\"' lines terminated by \"\\r\\n\";\n",
    "Query OK, 3 rows affected (0.00 sec)\n",
    "```\n",
    "\n",
    "#### 4.1.2 方法二：使用mysql命令导出数据\n",
    "　　利用mysql的-e参数，可以导出数据，最重要的是我们可以对导出的数据进行正则处理。  \n",
    "　　如下利用mysql命令导出数据到csv文件，并且把表中的null值在excel中显示为空。  \n",
    "  \n",
    "```shell\n",
    "[root@liing ~]$ mysql -e \"set names gbk;select * from test.datas where id < 1000;\" | sed -e  \"s/\\t/,/g\" -e \"s/NULL/  /g\" -e \"s/\\n/\\r\\n/g\" > /db/test.csv\n",
    "\n",
    "[root@liing ~]$ mysql -h服务器 -u用户名 -p密码 -e\"select * from test.datas where id < 1000;\" > ~/test.csv\n",
    "\n",
    "\n",
    "# 在-e参数中实际使用了两条命令，一条是设置字符集，另一条是select语句，通过管道把每一行数据都通过正则来处理。\n",
    "# 正则中把字段之间的TAB键换为“，”，然后把字段值中的null替换为空字符\n",
    "```\n",
    "### 四、数据库"
   ]
  }
 ],
 "metadata": {
  "kernelspec": {
   "display_name": "Python 3 (ipykernel)",
   "language": "python",
   "name": "python3"
  },
  "language_info": {
   "codemirror_mode": {
    "name": "ipython",
    "version": 3
   },
   "file_extension": ".py",
   "mimetype": "text/x-python",
   "name": "python",
   "nbconvert_exporter": "python",
   "pygments_lexer": "ipython3",
   "version": "3.9.7"
  }
 },
 "nbformat": 4,
 "nbformat_minor": 2
}
