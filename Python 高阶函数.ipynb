{
 "cells": [
  {
   "cell_type": "markdown",
   "metadata": {},
   "source": [
    "## Python 高阶函数\n",
    "　　参考：[写 Python 代码不可不知的函数式编程技术](https://mp.weixin.qq.com/s/ja5he45l74otYH6JUMmseg)<br>\n",
    "　　　　　[编程大神进阶之路：Python技巧小贴士](https://mp.weixin.qq.com/s/-zeYGJ4VLjf7v52D32wPlA)<br>\n",
    "　　　　　[53个技巧！老司机熬夜总结Python 使用和高性能技巧大集合！](https://mp.weixin.qq.com/s/ZzyadVipDQlBbcKavl2elA)<br>\n",
    "　　　　　[]()<br>\n",
    "　　　　　[]()<br>"
   ]
  },
  {
   "cell_type": "markdown",
   "metadata": {},
   "source": [
    "1、map(function,iterable1,iterable2)\n",
    "　　map主要作用是求一个序列或者多个序列进行函数映射之后的值。<br>\n",
    "　　function中参数值可以是一个，也可以是多个；后面的iterable代表function运算中的参数值，有几个参数值就传入几个iterable。map()将传入的函数依次作用到序列的每个元素，并把结果作为新的list返回。<br>\n",
    "　　注意：1.迭代器需要进行列表转换 2.map中如果传入的序列长度不一，会依据最短的序列计算。<br>"
   ]
  },
  {
   "cell_type": "code",
   "execution_count": 20,
   "metadata": {},
   "outputs": [
    {
     "data": {
      "text/plain": [
       "['1', '2', '3', '4', '5', '6', '7', '8', '9']"
      ]
     },
     "execution_count": 20,
     "metadata": {},
     "output_type": "execute_result"
    }
   ],
   "source": [
    " map(lambda x, y: x + y, [1, 2, 3, 4, 5, 6, 7, 8, 9], [1, 2, 3, 4, 5, 6, 7, 8, 9])\n",
    "    \n",
    "['1', '2', '3', '4', '5', '6', '7', '8', '9']"
   ]
  },
  {
   "cell_type": "markdown",
   "metadata": {},
   "source": [
    "2、reduce()"
   ]
  },
  {
   "cell_type": "markdown",
   "metadata": {},
   "source": [
    "语法：reduce(function, iterable[, initializer])\n",
    "参数：function -- 函数，有两个参数；iterable -- 可迭代对象；initializer -- 可选，初始参数\n",
    "reduce把一个函数作用在一个序列[x1, x2, x3...]上，这个函数必须接收两个参数，reduce把结果继续和序列的下一个元素做累积计算，其效果就是：reduce(f, [x1, x2, x3, x4]) = f(f(f(x1, x2), x3), x4)\n",
    "注意：reduce使用前需要导包 from functools import reduce，map和filter是内置函数"
   ]
  },
  {
   "cell_type": "markdown",
   "metadata": {},
   "source": [
    "3、filter()"
   ]
  },
  {
   "cell_type": "markdown",
   "metadata": {},
   "source": [
    "filter() 函数用于过滤序列，过滤掉不符合条件的元素，返回由符合条件元素组成的新列表。<br>\n",
    "该接收两个参数，第一个为函数，第二个为序列，序列的每个元素作为参数传递给函数进行判断，然后返回 True 或 False，最后将返回 True 的元素放到新列表中。<br>\n",
    "Python 3.x 中，该函数返回一个迭代器对象，可以用 list()、tuple() 等方法获取过滤后得到的新序列。<br>"
   ]
  },
  {
   "cell_type": "code",
   "execution_count": 19,
   "metadata": {},
   "outputs": [
    {
     "name": "stdout",
     "output_type": "stream",
     "text": [
      "['__class__', '__delattr__', '__dir__', '__doc__', '__eq__', '__format__', '__ge__', '__getattribute__', '__gt__', '__hash__', '__init__', '__init_subclass__', '__iter__', '__le__', '__lt__', '__ne__', '__new__', '__next__', '__reduce__', '__reduce_ex__', '__repr__', '__setattr__', '__sizeof__', '__str__', '__subclasshook__']\n",
      "['A', 'B', 'C']\n"
     ]
    }
   ],
   "source": [
    "def not_empty(s):\n",
    "    return s and s.strip()\n",
    "# 把一个序列中的空字符串删掉\n",
    "l = ['A', '', 'B', None, 'C', '  ']\n",
    "fl = filter(not_empty, l)    # 返回实现了iter方法与next方法的迭代器\n",
    "print(dir(fl))\n",
    "print(list(fl))"
   ]
  },
  {
   "cell_type": "markdown",
   "metadata": {},
   "source": [
    "4、sorted()"
   ]
  },
  {
   "cell_type": "markdown",
   "metadata": {},
   "source": [
    "语法：sorted(iterable[, cmp[, key[, reverse]]])\n",
    "\n",
    "功能：函数对所有可迭代的对象进行排序操作。\n",
    "\n",
    "参数说明：\n",
    "\n",
    "iterable -- 可迭代对象。\n",
    "\n",
    "cmp -- 比较的函数，这个具有两个参数，参数的值都是从可迭代对象中取出，此函数必须遵守的规则为，大于则返回1，小于则返回-1，等于则返回0。\n",
    "\n",
    "key -- 主要是用来进行比较的元素，只有一个参数，具体的函数的参数就是取自于可迭代对象中，指定可迭代对象中的一个元素来进行排序。\n",
    "\n",
    "reverse -- 排序规则，reverse = True 降序 ， reverse = False 升序（默认）。\n",
    "\n",
    "注意:key 和 reverse 比一个等价的 cmp 函数处理速度要快。这是因为对于每个列表元素，cmp 都会被调用多次，而 key 和 reverse 只被调用一次\n",
    "\n",
    "返回值：返回重新排序的列表。\n",
    "\n",
    "对比：\n",
    "sort 与 sorted 区别\n",
    "\n",
    "sort 是应用在 list 上的方法，sorted 可以对所有可迭代的对象进行排序操作。\n",
    "\n",
    "list 的 sort 方法返回的是对已经存在的列表进行操作，无返回值，而内建函数 sorted 方法返回的是一个新的 list，而不是在原来的基础上进行的操作。"
   ]
  },
  {
   "cell_type": "markdown",
   "metadata": {},
   "source": [
    "5、cmp()"
   ]
  },
  {
   "cell_type": "markdown",
   "metadata": {},
   "source": [
    "cmp(x,y) 函数用于比较2个对象（x -- 数值表达式；y -- 数值表达式），如果 x < y 返回 -1, 如果 x == y 返回 0, 如果 x > y 返回 1。"
   ]
  },
  {
   "cell_type": "markdown",
   "metadata": {},
   "source": [
    "6、enumerate()"
   ]
  },
  {
   "cell_type": "markdown",
   "metadata": {},
   "source": [
    "enumerate() 函数用于将一个可遍历的数据对象(如列表、元组或字符串)组合为一个索引序列，同时列出数据和数据下标，一般用在 for 循环当中。\n",
    "\n",
    "语法：enumerate(sequence, [start=0])\n",
    "\n",
    "参数：sequence -- 一个序列、迭代器或其他支持迭代对象；start -- 下标起始位置。\n",
    "\n",
    "返回值：返回 enumerate(枚举) 对象。"
   ]
  },
  {
   "cell_type": "code",
   "execution_count": 22,
   "metadata": {},
   "outputs": [
    {
     "name": "stdout",
     "output_type": "stream",
     "text": [
      "<class 'enumerate'>\n",
      "['__class__', '__delattr__', '__dir__', '__doc__', '__eq__', '__format__', '__ge__', '__getattribute__', '__gt__', '__hash__', '__init__', '__init_subclass__', '__iter__', '__le__', '__lt__', '__ne__', '__new__', '__next__', '__reduce__', '__reduce_ex__', '__repr__', '__setattr__', '__sizeof__', '__str__', '__subclasshook__']\n",
      "(0, 'Spring')\n"
     ]
    }
   ],
   "source": [
    "seasons = ['Spring', 'Summer', 'Fall', 'Winter']\n",
    "en = enumerate(seasons)\n",
    "print(type(en), dir(en), sep='\\n')\n",
    "print(next(en))"
   ]
  },
  {
   "cell_type": "markdown",
   "metadata": {},
   "source": [
    "7、execfile()"
   ]
  },
  {
   "cell_type": "markdown",
   "metadata": {},
   "source": [
    "execfile() 函数可以用来执行一个文件。\n",
    "\n",
    "语法：execfile(filename[, globals[, locals]])\n",
    "\n",
    "参数：filename -- 文件名；globals -- 变量作用域，全局命名空间，如果被提供，则必须是一个字典对象；locals -- 变量作用域，局部命名空间，如果被提供，可以是任何映射对象。\n",
    "\n",
    "返回值：返回表达式执行结果。"
   ]
  },
  {
   "cell_type": "markdown",
   "metadata": {},
   "source": [
    "8、zip() "
   ]
  },
  {
   "cell_type": "markdown",
   "metadata": {},
   "source": [
    "zip() 函数用于将可迭代的对象作为参数，将对象中对应的元素打包成一个个元组，然后返回由这些元组组成的对象，这样做的好处是节约了不少的内存。\n",
    "\n",
    "我们可以使用 list() 转换来输出列表。\n",
    "\n",
    "如果各个迭代器的元素个数不一致，则返回列表长度与最短的对象相同，利用 * 号操作符，可以将元组解压为列表。\n",
    "\n",
    "zip 方法在 Python 2 和 Python 3 中的不同：在 Python 3.x 中为了减少内存，zip() 返回的是一个对象。如需展示列表，需手动 list() 转换。"
   ]
  },
  {
   "cell_type": "code",
   "execution_count": 25,
   "metadata": {},
   "outputs": [
    {
     "name": "stdout",
     "output_type": "stream",
     "text": [
      "('f', 'f', 'f')\n",
      "('l', 'l', 'l')\n",
      "('o', 'o', 'i')\n",
      "('w', 'w', 'g')\n"
     ]
    }
   ],
   "source": [
    "nums = ['flower','flow','flight']\n",
    "for i in zip(*nums):\n",
    "    print(i)"
   ]
  },
  {
   "cell_type": "markdown",
   "metadata": {},
   "source": [
    "9、compile()"
   ]
  },
  {
   "cell_type": "markdown",
   "metadata": {},
   "source": [
    "compile() 函数将一个字符串编译为字节代码(如同repr的结果)。\n",
    "\n",
    "语法：compile(source, filename, mode[, flags[, dont_inherit]])\n",
    "\n",
    "参数：source -- 字符串或者AST（Abstract Syntax Trees）对象；filename -- 代码文件名称，如果不是从文件读取代码则传递一些可辨认的值；mode -- 指定编译代码的种类。可以指定为 exec, eval, single（当source中包含流程语句时，model应指定为‘exec’；当source中只包含一个简单的求值表达式，model应指定为‘eval’；当source中包含了交互式命令语句，model应指定为'single'。）；flags -- 变量作用域，局部命名空间，如果被提供，可以是任何映射对象；flags和dont_inherit是用来控制编译源码时的标志。\n",
    "\n",
    "返回值：字节代码对象（返回表达式执行结果。）"
   ]
  },
  {
   "cell_type": "code",
   "execution_count": 28,
   "metadata": {},
   "outputs": [
    {
     "name": "stdout",
     "output_type": "stream",
     "text": [
      "0  1  2  3  4  5  6  7  8  9  "
     ]
    }
   ],
   "source": [
    "#流程语句使用exec\n",
    "code1 = 'for i in range(0,10): print (i, end=\"  \")'\n",
    "compile1 = compile(code1,'','exec')\n",
    "exec (compile1)"
   ]
  }
 ],
 "metadata": {
  "kernelspec": {
   "display_name": "Python 3",
   "language": "python",
   "name": "python3"
  },
  "language_info": {
   "codemirror_mode": {
    "name": "ipython",
    "version": 3
   },
   "file_extension": ".py",
   "mimetype": "text/x-python",
   "name": "python",
   "nbconvert_exporter": "python",
   "pygments_lexer": "ipython3",
   "version": "3.7.4"
  }
 },
 "nbformat": 4,
 "nbformat_minor": 2
}
