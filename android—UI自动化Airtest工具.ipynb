{
 "cells": [
  {
   "cell_type": "markdown",
   "id": "68222ad9",
   "metadata": {},
   "source": [
    "# Airtest 工具\n",
    "\n",
    "[官方文档1](https://airtest.doc.io.netease.com/)  \n",
    "[官方文档2](https://airtest.readthedocs.io/zh_CN/latest/)   \n",
    "[Github-Atrtest](https://github.com/AirtestProject)"
   ]
  }
 ],
 "metadata": {
  "kernelspec": {
   "display_name": "Python 3 (ipykernel)",
   "language": "python",
   "name": "python3"
  },
  "language_info": {
   "codemirror_mode": {
    "name": "ipython",
    "version": 3
   },
   "file_extension": ".py",
   "mimetype": "text/x-python",
   "name": "python",
   "nbconvert_exporter": "python",
   "pygments_lexer": "ipython3",
   "version": "3.9.7"
  }
 },
 "nbformat": 4,
 "nbformat_minor": 5
}
