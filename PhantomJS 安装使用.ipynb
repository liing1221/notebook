{
 "cells": [
  {
   "cell_type": "markdown",
   "metadata": {},
   "source": [
    "## PhantomJS 安装使用\n",
    "参考：[PhantomJS官方](https://phantomjs.org/)(2018年已停止维护)<br>\n",
    "注意：最新版本的Selenium已经不再支持PhantomJS，所以selenium安装3.8.0版本，是支持PhantomJS的最后一个版本。<br>\n",
    "### 一、PhantomJS安装:<br>\n",
    "**linux:**<br>\n",
    ">sudo apt-get install phantomjs　　　　#　安装PhantomJS<br>\n",
    "phantomjs --version　　　　　　　#　查看是否安装成功：显示版本号则成功。<br>\n",
    "\n",
    "注：有时查看安装情况，会有如下错误：QXcbConnection: Could not connect to display。这是因为，默认安装好的PhantomJS，好像还是需要有display这个东西（就是如果你直接用Xshell连接服务器而不是用Xmanager时，命令行执行firefox会告诉你的错误信息相关的）<br>\n",
    "　　这是只需要设置PhantomJS在无图形界面的情况下运行，即在/usr/bin/phantomjs文件的合适位置加上以下设置代码即可：<br>\n",
    ">export QT_QPA_PLATFORM=offscreen<br>\n",
    "export QT_QPA_FONTDIR=/usr/share/fonts<br>\n"
   ]
  },
  {
   "cell_type": "markdown",
   "metadata": {},
   "source": [
    "### 二、PhantomJS介绍：\n",
    "　　1、一个**基于webkit内核的无头浏览器**，即没有UI界面，即它就是一个浏览器，只是其内的点击、翻页等人为相关操作需要程序设计实现。<br>\n",
    "　　2、提供javascript API接口，即通过编写js程序可以直接与webkit内核交互，在此之上可以结合java语言等，通过java调用js等相关操作，从而解决了以前c/c++才能比较好的基于webkit开发优质采集器的限制。<br>\n",
    "　　3、提供windows、linux、mac等不同os的安装使用包，也就是说可以在不同平台上二次开发采集项目或是自动项目测试等工作。<br>\n",
    "\n",
    "### 三、phantomjs常用API介绍：\n",
    "　　1、常用内置几大对象：<br>\n",
    ">var system=require('system');<br>\n",
    "　　　//获得系统操作对象，包括命令行参数、phantomjs系统设置等信息<br>\n",
    "var page = require('webpage');<br>\n",
    "　　　//获取操作dom或web网页的对象，通过它可以打开网页、接收网页内容、request、response参数，其为最核心对象。<br>\n",
    "var fs = require('fs');<br>\n",
    "　　　//获取文件系统对象，通过它可以操作操作系统的文件操作，包括read、write、move、copy、delete等。<br>\n",
    "\n",
    "　　2、常用API：<br>\n",
    ">page.open(url,function (status) {}<br>\n",
    "　　　//通过page对象打开url链接，并可以回调其声明的回调函数，其回调发生的时机为该URL被彻底打开完毕，即该URL所引发的<br>\n",
    "　　　//请求项被全部加载完，但ajax请求是与它的加载完成与否没有关系<br>\n",
    "page.onLoadStarted = function() {}<br>\n",
    "　　　//当page.open调用时，回调先执行该函数，在此可以预置一些参数或函数，用于后边的回调函数中<br>\n",
    "page.onResourceError = function(resourceError) {}<br>\n",
    "　　　//page的所要加载的资源在加载过程中，出现了各种失败，则在此回调处理<br>\n",
    "page.onResourceRequested = function(requestData, networkRequest) {}<br>\n",
    "　　　//page的所要加载的资源在发起请求时，都可以回调该函数<br>\n",
    "page.onResourceReceived = function(response) {}<br>\n",
    "　　　//page的所要加载的资源在加载过程中，每加载一个相关资源，都会在此先做出响应，它相当于http头部分,其核心回调对象为response，<br>\n",
    "　　　//可以在此获取本次请求的cookies、userAgent等<br>\n",
    "page.onConsoleMessage = function (msg) {}<br>\n",
    "　　　//欲在执行web网页时，打印一些输出信息到控制台，则可以在此回调显示。<br>\n",
    "page.onAlert = function(msg) {}<br>\n",
    "　　　//phantomjs是没有界面的，所以对alert也是无法直接弹出的，故phantomjs以该函数回调在page在执行过程中的alert事件<br>\n",
    "page.onError = function(msg, trace) {}<br>\n",
    "　　　//当page.open中的url，它自己（不包括所引起的其它的加载资源）出现了异常，如404、no route to web site等，都会在此回调显示。<br>\n",
    "page.onUrlChanged = function(targetUrl) {}<br>\n",
    "　　　// 当page.open打开的url或是该url在打开过程中基于该URL进行了跳转，则可在此函数中回调。<br>\n",
    "page.onLoadFinished = function(status){}<br>\n",
    "　　　// 当page.open的目标URL被真正打开后，会在调用open的回调函数前调用该函数，在此可以进行内部的翻页等操作<br>\n",
    "page.evaluate(function(){});<br>\n",
    "　　　// 在所加载的web page内部执行该函数，像翻页、点击、滑动等，均可在此中执行<br>\n",
    "page.render(\"\");<br>\n",
    "　　　//将当前page的现状渲染成图片，输出到指定的文件中去。<br>\n",
    "\n",
    "　　3、注意事项：<br>\n",
    "　　　1、区分phantomjs的对象和打开的web page的对象，如document、window等，两者都有，在调用page.evaluate和不调用的时候，注意区分二者的范围，容易在调试时出现很多的问题，且不好发现。<br>    \n",
    "　　　2、page.injectJs和page.includeJs的区别，前者侧重本地的js文件，与libraryPath挂购，后者侧重网络js文件，尤其在引入jquery等第三方库时，会经常遇到。<br>\n",
    "　　　3、编码问题，两个重要参数，--output-encoding,--script-encoding，前者为输出编码，后者为所使用js、参数配置文件的编码，为方便起鉴，建议均采用utf-8编码，并注所应用到的目标文件的编码，以免引起很不可思议的异常，又无从查起。<br>"
   ]
  }
 ],
 "metadata": {
  "kernelspec": {
   "display_name": "Python 3",
   "language": "python",
   "name": "python3"
  },
  "language_info": {
   "codemirror_mode": {
    "name": "ipython",
    "version": 3
   },
   "file_extension": ".py",
   "mimetype": "text/x-python",
   "name": "python",
   "nbconvert_exporter": "python",
   "pygments_lexer": "ipython3",
   "version": "3.6.8"
  }
 },
 "nbformat": 4,
 "nbformat_minor": 2
}
