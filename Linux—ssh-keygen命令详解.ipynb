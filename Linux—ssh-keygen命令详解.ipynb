{
 "cells": [
  {
   "cell_type": "markdown",
   "metadata": {},
   "source": [
    "# ssh-keygen命令\n",
    "　　参考：[Centos7 SSH_KEY免密登陆（证书认证）](https://blog.csdn.net/m0_37477061/article/details/83420925)<br>\n",
    "　　　　　[ssh-keygen命令生成密钥 -t -C参数说明](https://blog.csdn.net/mengzuchao/article/details/84190811)<br>\n",
    "　　　　　[ssh-keygen -t rsa -b 4096 -C \"邮箱\"](https://blog.csdn.net/weixin_33775582/article/details/93798019)<br>\n",
    "　　　　　[ssh-keygen 的 详解](https://blog.csdn.net/wh_19910525/article/details/7433164)<br>\n",
    "　　　　　[SSH下authorized_keys, id_rsa, id_rsa.pub, known_hosts作用](https://blog.csdn.net/chenaini119/article/details/79391041)<br>\n",
    "　　　　　[Git 远程仓库操作（生成SSH key、测试连接、添加到远程仓库）](https://blog.csdn.net/qq_36761831/article/details/88725670)<br>\n",
    "　　　　　[]()<br>\n",
    "　　　　　[]()<br>"
   ]
  }
 ],
 "metadata": {
  "kernelspec": {
   "display_name": "Python 3",
   "language": "python",
   "name": "python3"
  },
  "language_info": {
   "codemirror_mode": {
    "name": "ipython",
    "version": 3
   },
   "file_extension": ".py",
   "mimetype": "text/x-python",
   "name": "python",
   "nbconvert_exporter": "python",
   "pygments_lexer": "ipython3",
   "version": "3.7.4"
  }
 },
 "nbformat": 4,
 "nbformat_minor": 4
}
