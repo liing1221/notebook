{
 "cells": [
  {
   "cell_type": "markdown",
   "id": "bb357595",
   "metadata": {},
   "source": [
    "# Visual Studio使用\n",
    "　　参考：[官网文档](https://visualstudio.microsoft.com/zh-hans/thank-you-downloading-visual-studio/?sku=Community&rel=16#cplusplus)<br>\n",
    "　　　　　[下载官网](https://code.visualstudio.com/)<br>\n",
    "　　　　　[MinGW下载](https://sourceforge.net/projects/mingw-w64/files/mingw-w64/mingw-w64-release/)<br>\n",
    "　　　　　[在windows系统中搭建基于VSCode的C开发环境](https://zhuanlan.zhihu.com/p/84258079)<br>\n",
    "\n",
    "\n",
    "\n",
    "\n",
    "\n",
    "\n",
    "\n",
    "\n"
   ]
  }
 ],
 "metadata": {
  "kernelspec": {
   "display_name": "Python 3",
   "language": "python",
   "name": "python3"
  },
  "language_info": {
   "codemirror_mode": {
    "name": "ipython",
    "version": 3
   },
   "file_extension": ".py",
   "mimetype": "text/x-python",
   "name": "python",
   "nbconvert_exporter": "python",
   "pygments_lexer": "ipython3",
   "version": "3.8.8"
  }
 },
 "nbformat": 4,
 "nbformat_minor": 5
}
