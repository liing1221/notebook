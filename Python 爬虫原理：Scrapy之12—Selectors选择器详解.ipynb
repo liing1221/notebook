{
 "cells": [
  {
   "cell_type": "markdown",
   "metadata": {},
   "source": [
    "# Selectors选择器详解\n",
    "　　参考：[爬虫Scrapy框架之css选择器使用](https://segmentfault.com/a/1190000019584168)<br>\n",
    "　　　　　[Scrapy之Selector详解](https://blog.csdn.net/trayvontang/article/details/103298913)<br>\n",
    "　　　　　[Scrapy进阶知识点总结（二）——选择器Selectors](https://www.cnblogs.com/fengf233/p/11281925.html)<br>\n",
    "     \n",
    "     "
   ]
  }
 ],
 "metadata": {
  "kernelspec": {
   "display_name": "Python 3",
   "language": "python",
   "name": "python3"
  },
  "language_info": {
   "codemirror_mode": {
    "name": "ipython",
    "version": 3
   },
   "file_extension": ".py",
   "mimetype": "text/x-python",
   "name": "python",
   "nbconvert_exporter": "python",
   "pygments_lexer": "ipython3",
   "version": "3.7.4"
  }
 },
 "nbformat": 4,
 "nbformat_minor": 4
}
