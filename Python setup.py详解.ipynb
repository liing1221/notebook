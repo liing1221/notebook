{
 "cells": [
  {
   "cell_type": "markdown",
   "metadata": {},
   "source": [
    "# setup.py详解\n",
    "　　参考：[花了两天，终于把 Python 的 setup.py 给整明白了](https://zhuanlan.zhihu.com/p/276461821?utm_oi=948852089393336320)<br>\n",
    "　　　　　[setup.py里的几个require](https://note.qidong.name/2018/01/python-setup-requires/)<br>\n",
    "　　　　　[python的构建工具setup.py](https://www.cnblogs.com/maociping/p/6633948.html)<br>\n",
    "　　　　　[关于python中的setup.py](https://blog.csdn.net/lynn_kong/article/details/17540207)<br>"
   ]
  }
 ],
 "metadata": {
  "kernelspec": {
   "display_name": "Python 3",
   "language": "python",
   "name": "python3"
  },
  "language_info": {
   "codemirror_mode": {
    "name": "ipython",
    "version": 3
   },
   "file_extension": ".py",
   "mimetype": "text/x-python",
   "name": "python",
   "nbconvert_exporter": "python",
   "pygments_lexer": "ipython3",
   "version": "3.7.4"
  }
 },
 "nbformat": 4,
 "nbformat_minor": 4
}
