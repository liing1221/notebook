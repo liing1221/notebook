{
 "cells": [
  {
   "cell_type": "markdown",
   "metadata": {},
   "source": [
    "# itsdangerous库详解\n",
    "　　参考：[]()<br>\n",
    "　　　　　[itsdangerous 中文文档](https://juejin.cn/post/6844903426560622600)<br>\n",
    "　　　　　[python itsdangerous模块的具体使用方法](https://www.jb51.net/article/180543.htm)<br>\n",
    "　　　　　[itsdangerous模块](https://blog.csdn.net/weixin_45439324/article/details/102674356)<br>\n",
    "　　　　　[]()<br>\n",
    "　　　　　[]()<br>\n",
    "　　　　　[]()<br>\n",
    "　　　　　[]()<br>\n",
    "　　　　　[]()<br>"
   ]
  }
 ],
 "metadata": {
  "kernelspec": {
   "display_name": "Python 3",
   "language": "python",
   "name": "python3"
  },
  "language_info": {
   "codemirror_mode": {
    "name": "ipython",
    "version": 3
   },
   "file_extension": ".py",
   "mimetype": "text/x-python",
   "name": "python",
   "nbconvert_exporter": "python",
   "pygments_lexer": "ipython3",
   "version": "3.7.4"
  }
 },
 "nbformat": 4,
 "nbformat_minor": 4
}
