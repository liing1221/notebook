{
 "cells": [
  {
   "cell_type": "markdown",
   "metadata": {},
   "source": [
    "## Windows WMIC详解\n",
    "　　参考：[WMIC命令使用详解(附实例)](https://www.cnblogs.com/lsgxeva/p/8283662.html)<br>\n",
    "　　　　　[比CMD更强大的命令行：WMIC后渗透利用（系统命令）](https://blog.csdn.net/discover2210212455/article/details/82711930)<br><br>\n",
    "  \n",
    "  \n",
    "  ### 简介：<br>\n",
    "　　WMIC扩展WMI（Windows Management Instrumentation，Windows管理工具） ，提供了从命令行接口和批命令脚本执行系统管理的支持。<br>"
   ]
  }
 ],
 "metadata": {
  "kernelspec": {
   "display_name": "Python 3",
   "language": "python",
   "name": "python3"
  },
  "language_info": {
   "codemirror_mode": {
    "name": "ipython",
    "version": 3
   },
   "file_extension": ".py",
   "mimetype": "text/x-python",
   "name": "python",
   "nbconvert_exporter": "python",
   "pygments_lexer": "ipython3",
   "version": "3.6.8"
  }
 },
 "nbformat": 4,
 "nbformat_minor": 2
}
