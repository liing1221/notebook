{
 "cells": [
  {
   "cell_type": "markdown",
   "metadata": {},
   "source": [
    "## Python inspect库详解"
   ]
  },
  {
   "cell_type": "markdown",
   "metadata": {},
   "source": [
    "inspect模块主要提供了四种用处：\n",
    "\n",
    "1.对是否是模块、框架、函数进行类型检查\n",
    "2.获取源码\n",
    "3.获取类或者函数的参数信息\n",
    "4.解析堆栈\n",
    "\n",
    "检查对象类型\n",
    "1.is{module|class|function|method|builtin}(obj): \n",
    "检查对象是否为模块、类、函数、方法、内建函数或方法。\n",
    "\n",
    "2.isroutine(obj): \n",
    "检查对象是否为函数、方法、内建函数或方法等等可调用类型。用这个方法会比多个is*()更方便，不过它的实现仍然是用了多个is*()。\n",
    "\n",
    "获取对象信息\n",
    "1.getmembers(object[, predicate]):\n",
    "这个方法是dir()的扩展版，它会将dir()找到的名字对应的属性一并返回，形如[(name, value), …]。另外，predicate是一个方法的引用，如果指定，则应当接受value作为参数并返回一个布尔值，如果为False，相应的属性将不会返回。使用is*作为第二个参数可以过滤出指定类型的属性。\n",
    "\n",
    "2.getmodule(object):\n",
    "它返回object的定义所在的模块对象。\n",
    "\n",
    "3.get{file|sourcefile}(object):\n",
    "获取object的定义所在的模块的文件名|源代码文件名（如果没有则返回None）。用于内建的对象（内建模块、类、函数、方法）上时会抛出TypeError异常。\n",
    "\n",
    "4.get{source|sourcelines}(object):\n",
    "获取object的定义的源代码，以字符串|字符串列表返回。代码无法访问时会抛出IOError异常。只能用于module/class/function/method/code/frame/traceack对象。\n",
    "\n",
    "5.getargspec(func):\n",
    "仅用于方法，获取方法声明的参数，返回元组，分别是(普通参数名的列表, *参数名, **参数名, 默认值元组)。如果没有值，将是空列表和3个None。如果是2.6以上版本，将返回一个命名元组(Named Tuple)，即除了索引外还可以使用属性名访问元组中的元素。\n",
    "\n",
    "6.getargvalues(frame):\n",
    "仅用于栈帧，获取栈帧中保存的该次函数调用的参数值，返回元组，分别是(普通参数名的列表, *参数名, **参数名, 帧的locals())。如果是2.6以上版本，将返回一个命名元组(Named Tuple)，即除了索引外还可以使用属性名访问元组中的元素。\n",
    "\n",
    "7.getcallargs(func[, *args][, **kwds]):\n",
    "返回使用args和kwds调用该方法时各参数对应的值的字典。这个方法仅在2.7版本中才有。\n",
    "\n",
    "8.getmro(cls):\n",
    "返回一个类型元组，查找类属性时按照这个元组中的顺序。如果是新式类，与cls.__mro__结果一样。但旧式类没有__mro__这个属性，直接使用这个属性会报异常，所以这个方法还是有它的价值的。 返回当前的栈帧对象。"
   ]
  },
  {
   "cell_type": "code",
   "execution_count": null,
   "metadata": {},
   "outputs": [],
   "source": []
  }
 ],
 "metadata": {
  "kernelspec": {
   "display_name": "Python 3",
   "language": "python",
   "name": "python3"
  },
  "language_info": {
   "codemirror_mode": {
    "name": "ipython",
    "version": 3
   },
   "file_extension": ".py",
   "mimetype": "text/x-python",
   "name": "python",
   "nbconvert_exporter": "python",
   "pygments_lexer": "ipython3",
   "version": "3.7.0"
  }
 },
 "nbformat": 4,
 "nbformat_minor": 2
}
