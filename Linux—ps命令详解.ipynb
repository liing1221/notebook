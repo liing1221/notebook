{
 "cells": [
  {
   "cell_type": "markdown",
   "metadata": {},
   "source": [
    "## Linux—ps命令详解"
   ]
  },
  {
   "cell_type": "markdown",
   "metadata": {},
   "source": [
    "#### 2、ps -ef | grep XXX命令详解：<br>\n",
    "ps：将某个进程显示出来，是LINUX下最常用的也是非常强大的进程查看命令。<br>\n",
    "grep：是查找，是一种强大的文本搜索工具，它能使用正则表达式搜索文本，并把匹配的行打印出来。grep全称是Global Regular Expression Print，表示全局正则表达式版本，它的使用权限是所有用户。<br>\n",
    "|是管道命令 是指ps命令与grep同时执行,|前面的命令结果作为后面的命令的输入。<br>\n",
    "以下这条命令是检查java 进程是否存在：ps -ef |grep Python<br>\n",
    "字段含义如下：<br>\n",
    "UID　　　PID　　　　PPID　　　 C　　　STIME　　　TTY　　　　TIME　　　　　CMD<br>\n",
    "zzw　　　14124　　　13991　　　0　　　00:38　　　pts/0　　　00:00:00　　　grep --color=auto python<br>\n",
    "\n",
    "UID    ：程序被该 UID 所拥有<br>\n",
    "PID    ：就是这个程序的 ID <br>\n",
    "PPID    ：则是其上级父程序的ID<br>\n",
    "C   ：CPU使用的资源百分比<br>\n",
    "STIME ：系统启动时间<br>\n",
    "TTY    ：登入者的终端机位置<br>\n",
    "TIME   ：使用掉的CPU时间。<br>\n",
    "CMD ：所下达的是什么指令<br>\n"
   ]
  },
  {
   "cell_type": "code",
   "execution_count": null,
   "metadata": {},
   "outputs": [],
   "source": []
  }
 ],
 "metadata": {
  "kernelspec": {
   "display_name": "Python 3",
   "language": "python",
   "name": "python3"
  },
  "language_info": {
   "codemirror_mode": {
    "name": "ipython",
    "version": 3
   },
   "file_extension": ".py",
   "mimetype": "text/x-python",
   "name": "python",
   "nbconvert_exporter": "python",
   "pygments_lexer": "ipython3",
   "version": "3.7.1"
  }
 },
 "nbformat": 4,
 "nbformat_minor": 2
}
