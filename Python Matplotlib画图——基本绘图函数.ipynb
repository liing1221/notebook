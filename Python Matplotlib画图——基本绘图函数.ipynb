{
 "cells": [
  {
   "cell_type": "markdown",
   "metadata": {},
   "source": [
    "## Python Matplotlib画图——基本绘图函数\n",
    "　　参考：[matplotlib设置坐标轴的刻度样式](https://blog.csdn.net/qq_34562355/article/details/124855636)   \n",
    "　　　　　[matplotlib基础知识](https://copyfuture.com/blogs-details/202207120607502673#_48)   "
   ]
  },
  {
   "cell_type": "markdown",
   "metadata": {},
   "source": [
    "1. plot()<br>\n",
    "plot()函数包含了很多基础的绘图功能，这里我们用它来绘制线图，用以展现数据的变化趋势。<br>\n",
    "\n",
    "2. scatter()<br>\n",
    "scatter()函数用以绘制散点图，我们常用它来观察变量间的相关性。<br>\n",
    "\n",
    "3. xlim() / ylim()<br>\n",
    "这两个函数用于设置坐标轴的数值显示范围。<br>\n",
    "\n",
    "4. xlabel() / ylabel()<br>\n",
    "顾名思义，这两个函数用于设置坐标轴的标签。<br>\n",
    "\n",
    "5. grid()<br>\n",
    "就喜欢这么直白的命名，grid()函数正是用于设置图形中的网格线。<br>\n",
    "\n",
    "6. axhline() / axvline()<br>\n",
    "ax ~ axis<br>\n",
    "h ~ horizontal，水平的<br>\n",
    "v ~ vertical，垂直的<br>\n",
    "组合起来看，我们可以猜到，这两个函数分别用于设置水平参考线和垂直参考线。<br>\n",
    "\n",
    "7. axhspan() / axvspan()<br>\n",
    "ax ~ axis<br>\n",
    "h ~ horizontal，水平的<br>\n",
    "v ~ vertical，垂直的<br>\n",
    "span ~ 跨度，区间，范围<br>\n",
    "这两个函数分别用于设置平行于x轴/y轴的参考区域。<br>\n",
    "8. xticks() / yticks()  \n",
    "设置x轴与y轴的刻度和刻度标签  \n",
    "用法： plt.xticks()   \n",
    "9. xlable() / ylable()  \n",
    "为x轴、y轴添加标题标签\n",
    "10. title()    \n",
    "为绘图添加标题  \n",
    "11. 样式与字体\n",
    "Matplotlib自带了一些样式供用户使用，如常用的ggplot样式，通过plt.style.use('ggplot') 函数即可调用该样式绘图。  \n",
    "Matplotlib默认为英文字体，如果绘制中出现汉字就会乱码，因此需要指定matplotlib的默认字体，这样就可以解决乱码的问题  \n",
    "plt.rcParams['font.sans-serif']=['simhei']         #指定默认字体  \n",
    "plt.rcParams['axes.unicode_minus']=False        #解决保存图像时负号‘-’显示为方块的问题    \n",
    "\n",
    "12.subplots__adjust(left=None,bottom=None,right=None,top=None,wspace=None,hspace=None)   \n",
    "　　其中前4个参数用于设置subplot子图的外围边距，wspace和hapace参数设置用于设置subplot子图间的边距。  \n",
    "\n",
    "\n"
   ]
  }
 ],
 "metadata": {
  "kernelspec": {
   "display_name": "Python 3",
   "language": "python",
   "name": "python3"
  },
  "language_info": {
   "codemirror_mode": {
    "name": "ipython",
    "version": 3
   },
   "file_extension": ".py",
   "mimetype": "text/x-python",
   "name": "python",
   "nbconvert_exporter": "python",
   "pygments_lexer": "ipython3",
   "version": "3.7.0"
  }
 },
 "nbformat": 4,
 "nbformat_minor": 2
}
