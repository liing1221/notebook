{
 "cells": [
  {
   "cell_type": "markdown",
   "metadata": {},
   "source": [
    "## Python Matplotlib画图——基本绘图函数"
   ]
  },
  {
   "cell_type": "markdown",
   "metadata": {},
   "source": [
    "1. plot()<br>\n",
    "plot()函数包含了很多基础的绘图功能，这里我们用它来绘制线图，用以展现数据的变化趋势。<br>\n",
    "\n",
    "2. scatter()<br>\n",
    "scatter()函数用以绘制散点图，我们常用它来观察变量间的相关性。<br>\n",
    "\n",
    "3. xlim() / ylim()<br>\n",
    "这两个函数用于设置坐标轴的数值显示范围。<br>\n",
    "\n",
    "4. xlabel() / ylabel()<br>\n",
    "顾名思义，这两个函数用于设置坐标轴的标签。<br>\n",
    "\n",
    "5. grid()<br>\n",
    "就喜欢这么直白的命名，grid()函数正是用于设置图形中的网格线。<br>\n",
    "\n",
    "6. axhline() / axvline()<br>\n",
    "ax ~ axis<br>\n",
    "h ~ horizontal，水平的<br>\n",
    "v ~ vertical，垂直的<br>\n",
    "组合起来看，我们可以猜到，这两个函数分别用于设置水平参考线和垂直参考线。<br>\n",
    "\n",
    "7. axhspan() / axvspan()<br>\n",
    "ax ~ axis<br>\n",
    "h ~ horizontal，水平的<br>\n",
    "v ~ vertical，垂直的<br>\n",
    "span ~ 跨度，区间，范围<br>\n",
    "这两个函数分别用于设置平行于x轴/y轴的参考区域。<br>"
   ]
  }
 ],
 "metadata": {
  "kernelspec": {
   "display_name": "Python 3",
   "language": "python",
   "name": "python3"
  },
  "language_info": {
   "codemirror_mode": {
    "name": "ipython",
    "version": 3
   },
   "file_extension": ".py",
   "mimetype": "text/x-python",
   "name": "python",
   "nbconvert_exporter": "python",
   "pygments_lexer": "ipython3",
   "version": "3.7.0"
  }
 },
 "nbformat": 4,
 "nbformat_minor": 2
}
