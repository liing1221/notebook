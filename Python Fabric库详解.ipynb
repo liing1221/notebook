{
 "cells": [
  {
   "cell_type": "markdown",
   "metadata": {},
   "source": [
    "## Python Fabric库详解\n",
    "　　参考：[Python 远程部署利器 Fabric 模块详解](https://blog.csdn.net/freeking101/article/details/81103945)<br>\n",
    "　　　　　[Fabric教程](https://fabric-chs.readthedocs.io/zh_CN/chs/tutorial.html)<br><br>"
   ]
  }
 ],
 "metadata": {
  "kernelspec": {
   "display_name": "Python 3",
   "language": "python",
   "name": "python3"
  },
  "language_info": {
   "codemirror_mode": {
    "name": "ipython",
    "version": 3
   },
   "file_extension": ".py",
   "mimetype": "text/x-python",
   "name": "python",
   "nbconvert_exporter": "python",
   "pygments_lexer": "ipython3",
   "version": "3.6.8"
  }
 },
 "nbformat": 4,
 "nbformat_minor": 2
}
