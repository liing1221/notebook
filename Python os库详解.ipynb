{
 "cells": [
  {
   "cell_type": "markdown",
   "metadata": {},
   "source": [
    "## Python os库详解"
   ]
  },
  {
   "cell_type": "markdown",
   "metadata": {},
   "source": [
    "OS库提供了使用各种操作系统功能的接口。"
   ]
  },
  {
   "cell_type": "markdown",
   "metadata": {},
   "source": [
    "### 1、系统相关\n",
    "os.getcwd() # 获得当前工作目录，即当前 Python 脚本工作的目录路径。类似于linux中的pwd命令<br>\n",
    "os.name  # 获取当前使用的操作系统,Windows是NT内核,所以会得到nt,而Linux/Unix用户则会得到posix,sys.platform 有更详细的描述. <br>\n",
    "os.remove()   # 删除文件路径， 功能同os.unlink()。如果path是一个目录，则会引发IsADirectoryError。使用rmdir()删除目录。<br>\n",
    "os.removedirs()  # 递归删除目录（删除指定目录后，会层层向上删除空的父目录，直到父目录非空目录为止），若目录非空，则报错：OSError<br>\n",
    "shutil.rmtree(path)　　　#　需导入shutil包；删除目录树，会同时递归删除目录以及内部文件文件夹。<br>\n",
    "os.system()  # 执行程序或命令command,在Windows系统中，返回值为cmd的调用返回信息 eg: os.system('javac')<br>\n",
    "os.mkdir()  # 创建一个新目录。只能建立一层，要想递归建立可用：os.makedirs()<br>\n",
    "os.chdir()  # 将当前工作目录更改为path。这个函数可以支持指定文件描述符。描述符必须引用打开的目录，而不是打开的文件。<br>\n",
    "os.listdir()  # 以列表的形式返回指定目录下的所有目录和文件,其中没有区分目录和文件。 eg\" os.listdir(os.getcwd())<br>\n",
    "os.getlogin()  # 获得当前系统登录用户名称<br>\n",
    "os.cpu_count()  # 获得当前系统的CPU数量<br>\n",
    "os.urandom(n)  # 获得n个字节长度的随机字符串，通常用于加解密运算<br>\n",
    "os.linesep  # 获取当前平台使用的行终止符。例如，Windows 使用\\r\\n，Linux 使用\\n而 Mac 使用\\r。<br>\n",
    "os.sep  # 获得当前操作系统使用的目录分隔符，比如 Windows 就会得到\\而 Linux/Unix 就会得到/<br>\n",
    "os.getenv()  # 用来获得环境变量<br>\n",
    "os.environ  # 可以获取并修改环境变量<br>\n",
    "os.walk()  # 实现遍历指定目录及所有子目录下的所有文件。walk()函数返回目录树生成器(迭代器)。通过自顶向下遍历目录来生成目录树中的文件名。对于根目录顶部（包括顶部本身）树中的每个目录，它产生一个3元组（dirpath，dirnames，filenames）,指遍历到的文件夹及其子文件夹列表与子文件列表。dirpath是一个字符串，即目录的路径。dirnames是dirpath中子目录的名称列表。filenames是dirpath中非目录文件名称的列表。但dirnames与filenames列表中的名称均不包含路径，要得到一个完整路径（从顶部开始）到dirpath中的文件或目录（name），请执行os.path.join（dirpath，name）。\n"
   ]
  },
  {
   "cell_type": "markdown",
   "metadata": {},
   "source": [
    "### 2、python os.path模块\n",
    "\n",
    "os.path.abspath(path) ： 返回绝对路径；获取绝对路径，如果在 Python 工作目录下有一个文件file.txt，那么我就可以直接open('file.txt')，也可以用该方法获得其绝对路径print(os.path.abspath('file.txt'))。也可以用来规范路径字符串print(os.path.abspath('D:/game\\gtav\\bin/gtav.exe'))<br>\n",
    "os.path.basename(path): 返回文件名<br>\n",
    "os.path.commonprefix(list): 返回list(多个路径）中，所有path共有的最长的路径<br>\n",
    "os.path.dirname(path) : 返回文件路径<br>\n",
    "os.path.exists(path):路径存在返回True,路径损坏返回False<br>\n",
    "os.path.lexists: 路径存在返回True,路径损坏返回False<br>\n",
    "os.path.expanduser(path) 把path中包含的“~”和“~user\"转换成用户目录<br>\n",
    "os.path.expandvars(path):根据环境变量的值替换path中包含的”$name\"和“${name}\"<br>\n",
    "os.path.getatime(path): 返回最后一次进入此path的时间<br>\n",
    "os.path.getmtime(path): 返回在此path下最后一次修改的时间<br>\n",
    "os.path.getctime(path):返回path的大小<br>\n",
    "os.path.getsize(path):返回文件大小，以字节为单位，如果文件不存在就返回错误<br>\n",
    "os.paht.isabs(path)<br>\n",
    "os.path.isfile(path)<br>\n",
    "os.path.isdir(path)<br>\n",
    "os.path.islink(path)<br>\n",
    "os.path.ismount(path)<br>\n",
    "os.path.join(path1[,path2[,...]]): 连接目录和文件名，可以不用自己添加分隔符，能减少 bug 率提升跨平台性<br>\n",
    "os.path.normcase(path) : 转换path的大小写和斜杠<br>\n",
    "os.path.normpath(path): 规范path字符串形式<br>\n",
    "os.path.realpath(path)<br>\n",
    "os.path.relpath(path[,start]): 从start开始计算相对路径<br>\n",
    "os.path.samefile(path1,path2)<br>\n",
    "os.path.samestat(stat1,stat2): 判读stat tuple stat1 和stat2是否指向同一个文件<br>\n",
    "os.path.sameopenfile(fp1,fp2):<br>\n",
    "os.path.split(path): 把路径分割成dirname和basename，返回一个元组<br>\n",
    "os.path.splitdriver(path):一般在windows下，返回驱动器名和路径组成的元祖<br>\n",
    "os.path.splitunc(path): 把路径分割为加载点与文件<br>\n",
    "os.path.splitext(): 获取文件名和扩展名<br>\n",
    "os.path.walk(path,visit,arg) :遍历path,进入每个目录都调用visit函数，visit必须有三个参数（arg,dirname,names)，dirname表示当前目录的目录名，names代表当前目录下所有的文件名，args则为walk的第三个参数<br>\n",
    "os.path.supports_unicode_filenames:设置是否支持unicode路径名<br>"
   ]
  }
 ],
 "metadata": {
  "kernelspec": {
   "display_name": "Python 3",
   "language": "python",
   "name": "python3"
  },
  "language_info": {
   "codemirror_mode": {
    "name": "ipython",
    "version": 3
   },
   "file_extension": ".py",
   "mimetype": "text/x-python",
   "name": "python",
   "nbconvert_exporter": "python",
   "pygments_lexer": "ipython3",
   "version": "3.6.8"
  }
 },
 "nbformat": 4,
 "nbformat_minor": 2
}
