{
 "cells": [
  {
   "cell_type": "markdown",
   "metadata": {},
   "source": [
    "# pymongo详解\n",
    "　　参考：[]()<br>\n",
    "　　　　　[pymongo 一篇文章搞定](https://www.cnblogs.com/angle6-liu/p/10480314.html)<br>\n",
    "　　　　　[PyMongo使用入门](https://blog.csdn.net/WuLex/article/details/52430795)<br>\n",
    "　　　　　[pymongo 介绍和使用示例](https://blog.csdn.net/xsdxs/article/details/52565489)<br>\n",
    "　　　　　[mongodb中查询返回指定字段](https://www.cnblogs.com/pejsidney/p/9239413.html)<br>\n",
    "　　　　　[MongoDB Limit与Skip方法](https://blog.csdn.net/qq_27870421/article/details/98335731)<br>\n",
    "　　　　　[PyMongo基本用法](https://www.cnblogs.com/yj0405/p/14943478.html)<br>\n",
    "　　　　　[pymongo基本使用](https://www.jianshu.com/p/b8e7b1aa027c)<br>\n",
    "　　　　　[MongoDB - 全方位知识图谱](https://mp.weixin.qq.com/s/7lCto1yn_ZIZbJFeooiHnw)<br>"
   ]
  }
 ],
 "metadata": {
  "kernelspec": {
   "display_name": "Python 3",
   "language": "python",
   "name": "python3"
  },
  "language_info": {
   "codemirror_mode": {
    "name": "ipython",
    "version": 3
   },
   "file_extension": ".py",
   "mimetype": "text/x-python",
   "name": "python",
   "nbconvert_exporter": "python",
   "pygments_lexer": "ipython3",
   "version": "3.7.4"
  }
 },
 "nbformat": 4,
 "nbformat_minor": 4
}
