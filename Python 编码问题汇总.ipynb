{
 "cells": [
  {
   "cell_type": "markdown",
   "metadata": {},
   "source": [
    "## Python 编码问题汇总\n",
    "1、Python处理“&#”开头加数字的html字符，字符如：&#39118;&#27700;&#22823;&#26415;&#22763;，转变为正常中文<br>\n",
    "Python 2.7:\n",
    ">import HTMLParser\n",
    "data = '&#39118;&#27700;&#22823;&#26415;&#22763;'\n",
    "new_data = HTMLParser.HTMLParser().unescape(data)\n",
    "Python 3.6:\n",
    ">from html import unescape\n",
    "data = '&#39118;&#27700;&#22823;&#26415;&#22763;'\n",
    "new_data = unescape(data)"
   ]
  }
 ],
 "metadata": {
  "kernelspec": {
   "display_name": "Python 3",
   "language": "python",
   "name": "python3"
  },
  "language_info": {
   "codemirror_mode": {
    "name": "ipython",
    "version": 3
   },
   "file_extension": ".py",
   "mimetype": "text/x-python",
   "name": "python",
   "nbconvert_exporter": "python",
   "pygments_lexer": "ipython3",
   "version": "3.7.1"
  }
 },
 "nbformat": 4,
 "nbformat_minor": 2
}
