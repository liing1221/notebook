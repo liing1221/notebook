{
 "cells": [
  {
   "cell_type": "markdown",
   "metadata": {},
   "source": [
    "# MailSender邮件监控\n",
    "　　参考：[Scrapy邮件发送功能及爬虫停止信息](https://www.jianshu.com/p/a50803a2cbbc)<br>\n",
    "　　　　　[Scrapy监控爬虫状况，邮件发送功能及爬虫停止信息](https://www.jianshu.com/p/36ae2c2a016f)<br>\n"
   ]
  }
 ],
 "metadata": {
  "kernelspec": {
   "display_name": "Python 3",
   "language": "python",
   "name": "python3"
  },
  "language_info": {
   "codemirror_mode": {
    "name": "ipython",
    "version": 3
   },
   "file_extension": ".py",
   "mimetype": "text/x-python",
   "name": "python",
   "nbconvert_exporter": "python",
   "pygments_lexer": "ipython3",
   "version": "3.7.4"
  }
 },
 "nbformat": 4,
 "nbformat_minor": 4
}
