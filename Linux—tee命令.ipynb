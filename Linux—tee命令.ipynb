{
 "cells": [
  {
   "cell_type": "markdown",
   "id": "93a7d568",
   "metadata": {},
   "source": [
    "# tee命令\n",
    "\n",
    "\n",
    "## 一、说明\n",
    "　　Linux tee命令用于读取标准输入的数据，并将其内容输出成文件。  \n",
    "　　tee指令会从标准输入设备读取数据，将其内容输出到标准输出设备，同时保存成文件。    \n",
    "　　语法：　　 \n",
    ">tee [-ai][--help][--version][文件...]\n",
    "\n",
    "　　参数：　　　\n",
    "+ -a或--append 　附加到既有文件的后面，而非覆盖它．\n",
    "+ -i或--ignore-interrupts 　忽略中断信号。\n",
    "+ --help 　在线帮助。\n",
    "+ --version 　显示版本信息。\n",
    "\n",
    "## 二、使用实例\n",
    "　　1、使用指令\"tee\"将用户输入的数据同时保存到文件\"file1\"和\"file2\"中，输入如下命令：\n",
    "```shell\n",
    "$ tee file1 file2                   #在两个文件中复制内容 \n",
    "```\n",
    "　　以上命令执行后，将提示用户输入需要保存到文件的数据，如下所示：  \n",
    "```shell\n",
    "My Linux                        #提示用户输入数据  \n",
    "My Linux                        #输出数据，进行输出反馈  \n",
    "```\n",
    "　　此时，可以分别打开文件\"file1\"和\"file2\"，查看其内容是否均是\"My Linux\"即可判断指令\"tee\"是否执行成功。  \n",
    "\n",
    "　　2、如果想同时打印到屏幕和文件里，可以这么写：  \n",
    "```shell\n",
    "$ ls -l | tee -a lsls.log\n",
    "```\n",
    "　　3、如果想把错误输出也同时打印到屏幕和文件，可以这么写：  \n",
    "```shell\n",
    "$ ls -l not_find_runoob 2>&1 | tee -a lsls.log\n",
    "```\n",
    "　　其中，2>&1 意思就是把标准报错也作为标准输出。写 crontab job 的时候常用。  \n",
    "\n",
    "\n"
   ]
  }
 ],
 "metadata": {
  "kernelspec": {
   "display_name": "Python 3 (ipykernel)",
   "language": "python",
   "name": "python3"
  },
  "language_info": {
   "codemirror_mode": {
    "name": "ipython",
    "version": 3
   },
   "file_extension": ".py",
   "mimetype": "text/x-python",
   "name": "python",
   "nbconvert_exporter": "python",
   "pygments_lexer": "ipython3",
   "version": "3.9.7"
  }
 },
 "nbformat": 4,
 "nbformat_minor": 5
}
