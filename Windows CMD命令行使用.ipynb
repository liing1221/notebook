{
 "cells": [
  {
   "cell_type": "markdown",
   "metadata": {},
   "source": [
    "## Windows CMD命令行使用\n",
    "### 一、命令行编码：\n",
    "　　Windows控制台cmd默认使用GBK编码。<br>\n",
    "　　1、修改控制台编码：CHCP 命令<br>\n",
    "　　　　CHCP是MD DOS中的命令，用来显示或设置活动代码页编号的\n",
    ">help chcp　　　或　　chcp /?　　　　　#　查看chcp命令帮助<br>\n",
    "chcp [nnn]　　　　　# 省略参数时查看当前编码， 带参数修改为指定编码<br>\n",
    "\n",
    "注：nnn 指定代码页的编号（注意：三个n并非说明代码页只能有3位）<br>\n",
    "CHCP 命令用来显示或设置控制台的活动代码页编号。不带参数键入CHCP以显示当前cmd活动代码页编号。<br>\n",
    "　　活动代码页编号的定义:代码页是字符集编码的别名，也有人称”内码表”。早期，代码页是IBM称呼电脑BIOS本身支持的字符集编码的名称。当时通用的操作系统都是命令行界面系统，这些操作系统直接使用BIOS供应的VGA功能来显示字符，操作系统的编码支持也就依靠BIOS的编码。现在这BIOS代码页被称为OEM代码页。图形操作系统解决了此问题，图形操作系统使用自己字符呈现引擎可以支持很多不同的字符集编码。<br>\n",
    "　　早期IBM和微软内部使用特别数字来标记这些编码，其实大多的这些编码已经有自己的名称了。虽然图形操作系统可以支持很多编码，很多微软程序还使用这些数字来点名某编码。<br>\n",
    "下表列出了一些代码页及其国家（地区）或者语言：<br>\n",
    "\n",
    "|代码页|国家（地区）或语言|\n",
    "|---:|:---:|\n",
    "|936|中国 - 简体中文(GB2312)|\n",
    "|950|繁体中文(Big5)|\n",
    "|1200|Unicode|\n",
    "|1201|Unicode (Big-Endian)|\n",
    "|50000|用户定义的|\n",
    "|50001|自动选择|\n",
    "|50220|日文(JIS)|\n",
    "|50225|韩文(ISO)|\n",
    "|50932|日文(自动选择)|\n",
    "|50949|韩文(自动选择)|\n",
    "|52936|简体中文(HZ)|\n",
    "|65000|Unicode (UTF-7)|\n",
    "|65001|Unicode (UTF-8)|\n",
    "\n",
    "控制台cmd的默认编码为：936(中国 - 简体中文(GB2312))<br>\n",
    "**临时**将CMD编码临时设为utf-8编码:<br>\n",
    ">chcp 65001　　　　　　#　控制台就会清屏，然后切换到新的代码页<br>\n",
    "CMD标题栏点击右键, 打开属性面板, 会看到”选项”标签页下方显示”当前代码页”的编码. 然后选择”字体”标签页, 把字体设置为Lucia Console, 然后确定关闭.\n",
    "\n",
    "注：但是如果仅这样设置的话，下次打开控制台还会恢复成原来的编码，即 936【中国 - 简体中文(GB2312)】。<br>\n",
    "\n",
    "**永久**修改CMD编码为utf-8编码：<br>\n",
    "方法一：<br>\n",
    ">命令行中输入chcp 936（或其他指定代码页编号）回车, 控制台会切换到新的代码页。<br>\n",
    "这时该代码页的编码已经换为默认, 但CMD关闭后再重新打开还是原来的编码设置。此时，可以在标题栏点击右键, 打开属性面板, 选择”选项”标签页, 选中”丢弃旧的副本”多选项, 然后确定关闭再重新打开即为设定的编码页了。<br>\n",
    "\n",
    "方法二：<br>\n",
    ">修改注册表，运行regedit。<br>\n",
    "进入 HKEY_CURRENT_USER\\Console\\%SystemRoot%_system32_cmd.exe 将 CodePage 改为 fde9 （原值为 3a8）均是编码的十六进制表现形式。<br>\n",
    "注：powershell 的默认编码也可以通过这种方式改变。<br>\n"
   ]
  }
 ],
 "metadata": {
  "kernelspec": {
   "display_name": "Python 3",
   "language": "python",
   "name": "python3"
  },
  "language_info": {
   "codemirror_mode": {
    "name": "ipython",
    "version": 3
   },
   "file_extension": ".py",
   "mimetype": "text/x-python",
   "name": "python",
   "nbconvert_exporter": "python",
   "pygments_lexer": "ipython3",
   "version": "3.7.1"
  }
 },
 "nbformat": 4,
 "nbformat_minor": 2
}
