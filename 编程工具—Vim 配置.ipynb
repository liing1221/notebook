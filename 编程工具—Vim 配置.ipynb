{
 "cells": [
  {
   "cell_type": "markdown",
   "metadata": {},
   "source": [
    "## Vim 配置\n",
    "　　参考：[vim的安装、配置及python3开发环境配置](https://www.jianshu.com/p/d8ea4bbff59c?utm_campaign=maleskine&utm_content=note&utm_medium=seo_notes&utm_source=recommendation)<br>\n",
    "　　　　　[Vim配置（python版）](https://www.cnblogs.com/cjy15639731813/p/5886158.html)<br>\n",
    "　　　　　[Vim插件之python-mode 设置](https://www.jianshu.com/p/bb19438ea770)<br>\n",
    "　　　　　[为YCM配置ycm_extra_conf.py脚本](https://www.jianshu.com/p/5aaae8f036c1)<br>\n",
    "　　　　　[k-vim教程](https://github.com/ovwane/k-vim)<br>\n",
    "　　　　　[Vim简单入门指南，建议搭配别人的Vimrc文件使用](https://juejin.cn/post/6993974499087482916)<br>\n",
    "　　　　　[刻意练习Vim30天，可以键指如飞嘛？](https://juejin.cn/post/6995723787568152613)<br>\n",
    "　　　　　[Vim安装使用以及一些避坑指南](https://juejin.cn/post/6844903737564069896)<br>"
   ]
  }
 ],
 "metadata": {
  "kernelspec": {
   "display_name": "Python 3",
   "language": "python",
   "name": "python3"
  },
  "language_info": {
   "codemirror_mode": {
    "name": "ipython",
    "version": 3
   },
   "file_extension": ".py",
   "mimetype": "text/x-python",
   "name": "python",
   "nbconvert_exporter": "python",
   "pygments_lexer": "ipython3",
   "version": "3.9.7"
  }
 },
 "nbformat": 4,
 "nbformat_minor": 2
}
