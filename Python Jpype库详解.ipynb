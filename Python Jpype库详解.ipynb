{
 "cells": [
  {
   "cell_type": "markdown",
   "metadata": {},
   "source": [
    "## Jpype库详解\n",
    "　　参考：[python安装Jpype](https://blog.csdn.net/weixin_39598206/article/details/88665502)<br>\n",
    "\n",
    "### 1、简介\n",
    "　　JPype是一个能够让 python 代码方便地调用 Java 代码的工具，从而克服了 python 在某些领域（如服务器端编程）中的不足。<br>\n",
    "　　JPype的实际运行环境仍然是python runtime，只是在运行期间启动了一个嵌入的jvm。<br>\n",
    "  \n",
    "### 1、报错处理\n",
    "#### 1、关于JPype报FileNotFoundError: [Errno 2] No such file or directory: '/usr/lib/jvm'错误的解决\n",
    "　　找不到jvm，大概原因是环境变量没有生效。<br>\n",
    "　　平时在命令行中能直接运行java，是因为java所在的bin目录被添加到PATH，且由export PATH后作为环境变量生效。但是JAVA_HOME只是作为普通变量，使用os.getenv()的时候获取环境变量时找不到JAVA_HOME，所以推测应该只要将JAVA_HOME前面添加export，重启项目即可。<br>\n",
    "　　**解决办法：**<br>\n",
    "　　　　在全局配置文件/etc/profile或个人配置文件~/.bashrc或~/.bash_profile中添加export JAVA_HOME即可，如下是我的/etc/profile的设置：<br>\n",
    "># set java path <br>\n",
    "export JAVA_HOME=/usr/local/java/latest<br>\n",
    "export PATH=\\\\$\\{JAVA_HOME\\}/bin:\\\\${PATH}<br>\n",
    "export CLASSPATH=.:\\\\$JAVA_HOME/lib/dt.jar:\\\\$JAVA_HOME/lib/tools.jar<br>\n",
    "其他注意事项：如果使用PyCharm远程调试，若遇到同样报错，需要在导入pyhanlp前先设置环境变量，如下<br>\n",
    "<br>\n",
    "\\# 设置环境变量<br>\n",
    "import os<br>\n",
    "os.environ\\['JAVA_HOME'\\] = '/usr/local/java/latest'<br>\n",
    "<br>\n",
    "\\# 再导入JPype 即可避免无法找到java的问题<br>\n",
    "import jpype<br>"
   ]
  },
  {
   "cell_type": "code",
   "execution_count": 1,
   "metadata": {},
   "outputs": [
    {
     "ename": "ModuleNotFoundError",
     "evalue": "No module named 'jpype'",
     "output_type": "error",
     "traceback": [
      "\u001b[1;31m---------------------------------------------------------------------------\u001b[0m",
      "\u001b[1;31mModuleNotFoundError\u001b[0m                       Traceback (most recent call last)",
      "\u001b[1;32m<ipython-input-1-851ab3e3ca61>\u001b[0m in \u001b[0;36m<module>\u001b[1;34m\u001b[0m\n\u001b[1;32m----> 1\u001b[1;33m \u001b[1;32mimport\u001b[0m \u001b[0mjpype\u001b[0m\u001b[1;33m\u001b[0m\u001b[1;33m\u001b[0m\u001b[0m\n\u001b[0m\u001b[0;32m      2\u001b[0m \u001b[1;33m\u001b[0m\u001b[0m\n\u001b[0;32m      3\u001b[0m \u001b[1;33m\u001b[0m\u001b[0m\n\u001b[0;32m      4\u001b[0m \u001b[1;31m# 指定jar包位置, 或者.class文件\u001b[0m\u001b[1;33m\u001b[0m\u001b[1;33m\u001b[0m\u001b[1;33m\u001b[0m\u001b[0m\n\u001b[0;32m      5\u001b[0m \u001b[0mclass_path\u001b[0m \u001b[1;33m=\u001b[0m \u001b[1;34m'E:/SinaifMock/utils/Test.class'\u001b[0m\u001b[1;33m\u001b[0m\u001b[1;33m\u001b[0m\u001b[0m\n",
      "\u001b[1;31mModuleNotFoundError\u001b[0m: No module named 'jpype'"
     ]
    }
   ],
   "source": [
    "import jpype\n",
    "\n",
    "\n",
    "# 指定jar包位置, 或者.class文件\n",
    "# class_path = 'E:/SinaifMock/utils/Test.class'\n",
    "jar_path = \"E:\\create_TestAccount/test.jar\"\n",
    "\n",
    "# JVM的路径位置\n",
    "JVM_path = \"E:/java/jdk1.8.0_121/jre/bin/server/jvm.dll\"\n",
    "\n",
    "# 开启JVM，且指定jar包, 或者.class文件位置\n",
    "jpype.startJVM(JVM_path, jar_path)\n",
    "\n",
    "# 打印hello, word\n",
    "jpype.java.lang.System.out.println(\"hello World\")\n",
    "\n",
    "# 引入java程序中的类.路径应该是项目中的package包路径.类名\n",
    "javaClass = jpype.JClass('Test')\n",
    "\n",
    "# 创建一个对象\n",
    "javaInstance = javaClass()\n",
    "# 执行类中的函数了\n",
    "num = javaInstance.getSum(10, 20)\n",
    "string = javaInstance.getString(\"getString\")\n",
    "print(num, string)\n",
    "\n",
    "# 关闭JVM\n",
    "jpype.shutdownJVM()"
   ]
  }
 ],
 "metadata": {
  "kernelspec": {
   "display_name": "Python 3",
   "language": "python",
   "name": "python3"
  },
  "language_info": {
   "codemirror_mode": {
    "name": "ipython",
    "version": 3
   },
   "file_extension": ".py",
   "mimetype": "text/x-python",
   "name": "python",
   "nbconvert_exporter": "python",
   "pygments_lexer": "ipython3",
   "version": "3.7.4"
  }
 },
 "nbformat": 4,
 "nbformat_minor": 2
}
