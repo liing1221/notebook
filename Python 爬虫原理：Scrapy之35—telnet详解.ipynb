{
 "cells": [
  {
   "cell_type": "markdown",
   "metadata": {},
   "source": [
    "# telnet详解\n",
    "　　参考：[scrapy telnet登录用户名和密码](https://blog.csdn.net/xiao_yi_xiao/article/details/101829218)<br>\n",
    "　　　　　[爬虫蜘蛛TELNET控制台用法](https://www.itbook5.com/2019/01/8956/)<br>\n",
    "　　　　　[使用scrapy 1.6自带的Telnet控制台](https://www.jianshu.com/p/6f64dfb75f63)<br>\n",
    "　　　　　[scrapy暂停和重启，及url去重原理,telenet简单使用](https://www.cnblogs.com/lyq-biu/p/9773006.html)<br>\n",
    "　　　　　[Scrapy 内置 Telnet 终端（Telnet Console）](https://blog.csdn.net/u011146423/article/details/83142168)<br>\n",
    "　　　　　[Scrapy使用telnet查看组件的利用率](https://bluespace.blog.csdn.net/article/details/51242541)<br>\n",
    "　　　　　[Scrapy Telnet控制台](https://codingdict.com/article/4943)<br>"
   ]
  }
 ],
 "metadata": {
  "kernelspec": {
   "display_name": "Python 3",
   "language": "python",
   "name": "python3"
  },
  "language_info": {
   "codemirror_mode": {
    "name": "ipython",
    "version": 3
   },
   "file_extension": ".py",
   "mimetype": "text/x-python",
   "name": "python",
   "nbconvert_exporter": "python",
   "pygments_lexer": "ipython3",
   "version": "3.7.4"
  }
 },
 "nbformat": 4,
 "nbformat_minor": 4
}
