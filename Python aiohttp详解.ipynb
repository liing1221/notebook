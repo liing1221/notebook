{
 "cells": [
  {
   "cell_type": "markdown",
   "metadata": {},
   "source": [
    "# aiohttp详解\n",
    "　　参考：[python---aiohttp的使用 ](https://www.cnblogs.com/ssyfj/p/9222342.html)<br>\n",
    "　　　　　[aiohttp 官方文档](https://docs.aiohttp.org/en/stable/)   \n",
    "　　　　　[aiohttp 中文文档](https://www.cntofu.com/book/127/readme.html)<br>\n",
    "　　　　　[aiohttp库简单教程](https://www.jianshu.com/p/20ca9daba85f)<br>\n",
    "　　　　　[aiohttp使用详解](https://www.cnblogs.com/wukai66/p/12632680.html)<br>\n",
    "　　　　　[aiohttp中ClientSession使用注意事项](https://www.cnblogs.com/lymmurrain/p/13805690.html)<br>\n",
    "　　　　　[aiohttp基本使用及并发控制](https://juejin.cn/post/6857140761926828039)<br>\n",
    "　　　　　[]()<br>\n",
    "　　　　　[]()<br>\n",
    "　　　　　[]()<br>\n",
    "　　　　　[]()<br>"
   ]
  }
 ],
 "metadata": {
  "kernelspec": {
   "display_name": "Python 3 (ipykernel)",
   "language": "python",
   "name": "python3"
  },
  "language_info": {
   "codemirror_mode": {
    "name": "ipython",
    "version": 3
   },
   "file_extension": ".py",
   "mimetype": "text/x-python",
   "name": "python",
   "nbconvert_exporter": "python",
   "pygments_lexer": "ipython3",
   "version": "3.9.7"
  }
 },
 "nbformat": 4,
 "nbformat_minor": 4
}
