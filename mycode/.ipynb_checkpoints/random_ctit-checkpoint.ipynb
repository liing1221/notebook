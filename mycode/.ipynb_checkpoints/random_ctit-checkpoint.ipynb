{
 "cells": [
  {
   "cell_type": "code",
   "execution_count": 4,
   "id": "542119ba",
   "metadata": {},
   "outputs": [
    {
     "name": "stdout",
     "output_type": "stream",
     "text": [
      "3.9.7 (default, Sep 16 2021, 16:59:28) [MSC v.1916 64 bit (AMD64)]\n",
      "D:\\liing\\Mynote\\notebook\\mycode\n"
     ]
    }
   ],
   "source": [
    "import sys\n",
    "\n",
    "print(sys.version)\n",
    "import os\n",
    "print(os.path.abspath('.'))\n",
    "\n"
   ]
  },
  {
   "cell_type": "code",
   "execution_count": 2,
   "id": "40482861",
   "metadata": {},
   "outputs": [
    {
     "name": "stdout",
     "output_type": "stream",
     "text": [
      "       Adset ID   Ad    TimeSecDiff\n",
      "count       0.0  0.0    4492.000000\n",
      "mean        NaN  NaN   24195.160508\n",
      "std         NaN  NaN   47515.410171\n",
      "min         NaN  NaN       3.000000\n",
      "25%         NaN  NaN     190.000000\n",
      "50%         NaN  NaN    2809.500000\n",
      "75%         NaN  NaN   22275.500000\n",
      "max         NaN  NaN  322735.000000\n",
      "4492\n",
      "3158\n"
     ]
    },
    {
     "data": {
      "image/png": "[encoded data removed]",
      "text/plain": [
       "<Figure size 432x288 with 1 Axes>"
      ]
     },
     "metadata": {
      "needs_background": "light"
     },
     "output_type": "display_data"
    }
   ],
   "source": [
    "import sys\n",
    "import pandas as pd\n",
    "from sklearn.utils import shuffle\n",
    "import numpy as np\n",
    "import datetime\n",
    "from sklearn.preprocessing import LabelEncoder\n",
    "# visualization\n",
    "import seaborn as sns\n",
    "import matplotlib.pyplot as plt\n",
    "%matplotlib inline\n",
    "\n",
    "df_all = pd.read_csv('D:/Workspaces/novammp/datas/cn.com.vau_in-app-events_2022-08-08_2022-08-15_Australia_Sydney.csv', low_memory=False)\n",
    "col_select_list = ['Advertising ID','Attributed Touch Time', 'Install Time', 'Event Time', 'Event Name', 'Adset ID', 'Ad',\n",
    "                       'Media Source', 'Site ID', 'State', 'City', 'Postal Code', 'IP', 'Operator',\n",
    "                       'Carrier', 'Language', 'Device Category', 'Platform', 'OS Version', 'App Version', 'SDK Version',\n",
    "                       'Attribution Lookback', 'Match Type', 'Original URL', 'Device Model']\n",
    "df_all = df_all[col_select_list].copy()\n",
    "df1 = df_all.drop_duplicates(subset=['Advertising ID'], keep='last').copy()\n",
    "df1['TouchTime'] = pd.to_datetime(df1['Attributed Touch Time'])\n",
    "df1['InstallTime'] = pd.to_datetime(df1['Install Time'])\n",
    "df1['TimeSecDiff'] = (df1['InstallTime'] - df1['TouchTime']).astype('timedelta64[s]')\n",
    "# df1['TimeSecDiff_60'] = (df1['TimeSecDiff']/60).astype('int')\n",
    "# df_res = df1[['TimeSecDiff_60','Advertising ID']].groupby(['TimeSecDiff_60'], as_index=False).count().sort_values(by='TimeSecDiff_60')\n",
    "\n",
    "df1['TimeSecDiff'] = df1['TimeSecDiff'].astype('int')\n",
    "print(df1.describe())\n",
    "print(len(df1))\n",
    "df_res = df1[['TimeSecDiff','Advertising ID']].copy().groupby(['TimeSecDiff'], as_index=False).count().sort_values(by='TimeSecDiff')\n",
    "df_res['prob'] = df_res['Advertising ID']*1.0/len(df1)\n",
    "print(len(df_res))\n",
    "# print(df_res[['TimeSecDiff', 'prob']].head(40))\n",
    "# print(df_res[['TimeSecDiff', 'prob']].head(3000).sum())\n",
    "\n",
    "pdf_value = df_res['prob']\n",
    "cdf_value = np.cumsum(pdf_value)\n",
    "# print(cdf_value)\n",
    "\n",
    "import random\n",
    "def cast_rand(cdf_value):\n",
    "    r = random.random()\n",
    "    res = 0\n",
    "    for num in range(0,cdf_value.size):\n",
    "        if num == 0:\n",
    "            if r <= cdf_value[num]:\n",
    "                res = 0\n",
    "        else:\n",
    "            if r > cdf_value[num - 1] and r <= cdf_value[num]:\n",
    "                res = num\n",
    "                break;\n",
    "    return res\n",
    "\n",
    "# for num in range(0,100):\n",
    "#     print(cast_rand(cdf_value))\n",
    "\n",
    "for i in range(len(df_res)):\n",
    "    df_res.loc[i, 'test'] = cast_rand(cdf_value)\n",
    "# print(df_res['test'] )\n",
    "df_res['test'].hist(bins=100)\n",
    "plt.show()"
   ]
  },
  {
   "cell_type": "code",
   "execution_count": 4,
   "id": "5c37498e",
   "metadata": {},
   "outputs": [
    {
     "name": "stdout",
     "output_type": "stream",
     "text": [
      "[0.45146928 0.55387355 0.60952805 0.65271594 0.68967053 0.71838825\n",
      " 0.74577026 0.76268923 0.77582369 0.78806768 0.80186999 0.809439\n",
      " 0.81945681 0.82613535 0.83748887 0.84706144 0.85485307 0.8601959\n",
      " 0.86553874 0.86932324 0.87711487 0.88023152 0.88512912 0.88891362\n",
      " 0.89381122 0.900935   0.90672306 0.91362422 0.91918967 0.92520036\n",
      " 0.92876224 0.93365984 0.93766696 0.94122885 0.94367765 0.94612645\n",
      " 0.94857524 0.95035619 0.95102404 0.95235975 0.95325022 0.95391808\n",
      " 0.95480855 0.95614426 0.95703473 0.95903829 0.95992876 0.96193232\n",
      " 0.96326803 0.9641585  0.96482636 0.9666073  0.96816563 0.96972395\n",
      " 0.97195013 0.97417631 0.97551202 0.97707035 0.97818344 0.98063224\n",
      " 0.98152271 0.98308103 0.98374889 0.98463936 0.98508459 0.98508459\n",
      " 0.9864203  0.98731077 0.98842386 0.98953695 0.98975957 0.98975957\n",
      " 0.99042743 0.99065004 0.99154052 0.99220837 0.99332146 0.99332146\n",
      " 0.9937667  0.99443455 0.99465717 0.99532502 0.99577026 0.99666073\n",
      " 0.99732858 0.9975512  0.99777382 0.99777382 0.99799644 0.99799644\n",
      " 0.99799644 0.99799644 0.99799644 0.99799644 0.99910953 0.99933215\n",
      " 0.99955476 0.99955476 0.99977738 1.        ]\n"
     ]
    },
    {
     "data": {
      "text/plain": [
       "[<matplotlib.lines.Line2D at 0x20069580d60>]"
      ]
     },
     "execution_count": 4,
     "metadata": {},
     "output_type": "execute_result"
    },
    {
     "data": {
      "image/png": "[encoded data removed]",
      "text/plain": [
       "<Figure size 432x288 with 1 Axes>"
      ]
     },
     "metadata": {
      "needs_background": "light"
     },
     "output_type": "display_data"
    }
   ],
   "source": [
    "import numpy as np\n",
    "import matplotlib.pyplot as plt\n",
    "from scipy import stats\n",
    "%matplotlib inline\n",
    "\n",
    "\n",
    "# 构造数据\n",
    "# data = df1['TimeSecDiff_60']\n",
    "data = df1['TimeSecDiff']\n",
    "res_freq = stats.relfreq(data, numbins=100)\n",
    "# 计算结果\n",
    "pdf_value = res_freq.frequency\n",
    "cdf_value = np.cumsum(res_freq.frequency)\n",
    "print(cdf_value)\n",
    "# 绘图\n",
    "x = res_freq.lowerlimit + np.linspace(0, res_freq.binsize * res_freq.frequency.size, res_freq.frequency.size)\n",
    "plt.bar(x, pdf_value, width=res_freq.binsize)\n",
    "plt.plot(x, cdf_value)"
   ]
  },
  {
   "cell_type": "code",
   "execution_count": 53,
   "id": "98a15f8c",
   "metadata": {},
   "outputs": [
    {
     "name": "stdout",
     "output_type": "stream",
     "text": [
      "(array(22.), array(48.), array(0.62546279), array(0.58333333))\n"
     ]
    },
    {
     "data": {
      "text/plain": [
       "[<matplotlib.lines.Line2D at 0x2006b09cd60>]"
      ]
     },
     "execution_count": 53,
     "metadata": {},
     "output_type": "execute_result"
    },
    {
     "data": {
      "image/png": "[encoded data removed]",
      "text/plain": [
       "<Figure size 432x288 with 1 Axes>"
      ]
     },
     "metadata": {
      "needs_background": "light"
     },
     "output_type": "display_data"
    }
   ],
   "source": [
    "# 非中心卡方分布\n",
    "fig, ax = plt.subplots(1, 1)\n",
    "x2df, x2nc= 20, 2\n",
    "mean, var, shew, kurt = stats.ncx2.stats(x2df, x2nc, moments='mvsk')\n",
    "print(stats.ncx2.stats(x2df, x2nc, moments='mvsk'))\n",
    "\n",
    "x = np.linspace(stats.ncx2.ppf(0.01, x2df, x2nc), stats.ncx2.ppf(0.99, x2df, x2nc), 100)\n",
    "ax.plot(x, stats.ncx2.pdf(x, x2df, x2nc), 'r-', lw=5, alpha=0.6, label='ncx2 pdf')"
   ]
  },
  {
   "cell_type": "code",
   "execution_count": 59,
   "id": "de08f08a",
   "metadata": {},
   "outputs": [
    {
     "data": {
      "image/png": "[encoded data removed]",
      "text/plain": [
       "<Figure size 432x288 with 1 Axes>"
      ]
     },
     "metadata": {
      "needs_background": "light"
     },
     "output_type": "display_data"
    }
   ],
   "source": [
    "# 非中心F分布\n",
    "nc_vals1 = np.random.noncentral_f(2.5, 10, 80, 1000)\n",
    "nc_vals2 = np.random.noncentral_f(3, 10, 80, 1000)\n",
    "nc_vals3 = np.random.noncentral_f(3.5, 10, 80, 1000)\n",
    "nc_vals4 = np.random.noncentral_f(9, 10, 80, 1000)\n",
    "# nc_vals5 = np.random.noncentral_f(18, 10, 80, 1000)\n",
    "\n",
    "NF1 = np.histogram(nc_vals1, bins=50, density=True)\n",
    "NF2 = np.histogram(nc_vals2, bins=50, density=True)\n",
    "NF3 = np.histogram(nc_vals3, bins=50, density=True)\n",
    "# NF4 = np.histogram(nc_vals4, bins=50, density=True)\n",
    "# NF5 = np.histogram(nc_vals5, bins=50, density=True)\n",
    "# c_vals = np.random.f(dfnum, dfden, 1000000)\n",
    "# F = np.histogram(c_vals, bins=50, density=True)\n",
    "# plt.plot(F[1][1:], F[0])\n",
    "\n",
    "plt.plot(NF1[1][1:], NF1[0])\n",
    "# plt.plot(NF2[1][1:], NF2[0])\n",
    "# plt.plot(NF3[1][1:], NF3[0])\n",
    "# plt.plot(NF4[1][1:], NF4[0])\n",
    "# plt.plot(NF5[1][1:], NF5[0])\n",
    "plt.show()"
   ]
  },
  {
   "cell_type": "code",
   "execution_count": 69,
   "id": "75dc4083",
   "metadata": {},
   "outputs": [
    {
     "name": "stdout",
     "output_type": "stream",
     "text": [
      "(array(2.5), array(13.33333333), array(1.04728187e+23), array(4.91082166e+24))\n"
     ]
    },
    {
     "data": {
      "image/png": "[encoded data removed]",
      "text/plain": [
       "<Figure size 432x288 with 1 Axes>"
      ]
     },
     "metadata": {
      "needs_background": "light"
     },
     "output_type": "display_data"
    }
   ],
   "source": [
    "from scipy.stats import ncf\n",
    "\n",
    "fig, ax = plt.subplots(1, 1)\n",
    "\n",
    "dfn, dfd, nc = 40, 5, 20\n",
    "mean, var, skew, kurt = ncf.stats(dfn, dfd, nc, moments='mvsk')\n",
    "print( ncf.stats(dfn, dfd, nc, moments='mvsk'))\n",
    "\n",
    "x = np.linspace(ncf.ppf(0.01, dfn, dfd, nc), ncf.ppf(0.99, dfn, dfd, nc), 100)\n",
    "ax.plot(x, ncf.pdf(x, dfn, dfd, nc), 'r', lw=1, alpha=0.6, label='ncf pdf')\n",
    "ax.legend(loc='best', frameon=False)\n",
    "plt.show()"
   ]
  },
  {
   "cell_type": "code",
   "execution_count": 70,
   "id": "8d513128",
   "metadata": {},
   "outputs": [],
   "source": [
    " %matplotlib inline \n",
    "import io \n",
    "import numpy as np \n",
    "import pandas as pd \n",
    "import scipy.stats as stats \n",
    "import matplotlib \n",
    "import matplotlib.pyplot as plt \n",
    "\n",
    "matplotlib.rcParams['figure.figsize'] = (16.0, 14.0) \n",
    "matplotlib.style.use('ggplot') "
   ]
  },
  {
   "cell_type": "code",
   "execution_count": 71,
   "id": "7350615a",
   "metadata": {},
   "outputs": [],
   "source": [
    "# Distributions to check, shape constants were taken from the examples on the scipy.stats distribution documentation pages. DISTRIBUTIONS = [ stats.alpha(a=3.57, loc=0.0, scale=1.0), stats.anglit(loc=0.0, scale=1.0), stats.arcsine(loc=0.0, scale=1.0), stats.beta(a=2.31, b=0.627, loc=0.0, scale=1.0), stats.betaprime(a=5, b=6, loc=0.0, scale=1.0), stats.bradford(c=0.299, loc=0.0, scale=1.0), stats.burr(c=10.5, d=4.3, loc=0.0, scale=1.0), stats.cauchy(loc=0.0, scale=1.0), stats.chi(df=78, loc=0.0, scale=1.0), stats.chi2(df=55, loc=0.0, scale=1.0), stats.cosine(loc=0.0, scale=1.0), stats.dgamma(a=1.1, loc=0.0, scale=1.0), stats.dweibull(c=2.07, loc=0.0, scale=1.0), stats.erlang(a=2, loc=0.0, scale=1.0), stats.expon(loc=0.0, scale=1.0), stats.exponnorm(K=1.5, loc=0.0, scale=1.0), stats.exponweib(a=2.89, c=1.95, loc=0.0, scale=1.0), stats.exponpow(b=2.7, loc=0.0, scale=1.0), stats.f(dfn=29, dfd=18, loc=0.0, scale=1.0), stats.fatiguelife(c=29, loc=0.0, scale=1.0), stats.fisk(c=3.09, loc=0.0, scale=1.0), stats.foldcauchy(c=4.72, loc=0.0, scale=1.0), stats.foldnorm(c=1.95, loc=0.0, scale=1.0), stats.frechet_r(c=1.89, loc=0.0, scale=1.0), stats.frechet_l(c=3.63, loc=0.0, scale=1.0), stats.genlogistic(c=0.412, loc=0.0, scale=1.0), stats.genpareto(c=0.1, loc=0.0, scale=1.0), stats.gennorm(beta=1.3, loc=0.0, scale=1.0), stats.genexpon(a=9.13, b=16.2, c=3.28, loc=0.0, scale=1.0), stats.genextreme(c=-0.1, loc=0.0, scale=1.0), stats.gausshyper(a=13.8, b=3.12, c=2.51, z=5.18, loc=0.0, scale=1.0), stats.gamma(a=1.99, loc=0.0, scale=1.0), stats.gengamma(a=4.42, c=-3.12, loc=0.0, scale=1.0), stats.genhalflogistic(c=0.773, loc=0.0, scale=1.0), stats.gilbrat(loc=0.0, scale=1.0), stats.gompertz(c=0.947, loc=0.0, scale=1.0), stats.gumbel_r(loc=0.0, scale=1.0), stats.gumbel_l(loc=0.0, scale=1.0), stats.halfcauchy(loc=0.0, scale=1.0), stats.halflogistic(loc=0.0, scale=1.0), stats.halfnorm(loc=0.0, scale=1.0), stats.halfgennorm(beta=0.675, loc=0.0, scale=1.0), stats.hypsecant(loc=0.0, scale=1.0), stats.invgamma(a=4.07, loc=0.0, scale=1.0), stats.invgauss(mu=0.145, loc=0.0, scale=1.0), stats.invweibull(c=10.6, loc=0.0, scale=1.0), stats.johnsonsb(a=4.32, b=3.18, loc=0.0, scale=1.0), stats.johnsonsu(a=2.55, b=2.25, loc=0.0, scale=1.0), stats.ksone(n=1e+03, loc=0.0, scale=1.0), stats.kstwobign(loc=0.0, scale=1.0), stats.laplace(loc=0.0, scale=1.0), stats.levy(loc=0.0, scale=1.0), stats.levy_l(loc=0.0, scale=1.0), stats.levy_stable(alpha=0.357, beta=-0.675, loc=0.0, scale=1.0), stats.logistic(loc=0.0, scale=1.0), stats.loggamma(c=0.414, loc=0.0, scale=1.0), stats.loglaplace(c=3.25, loc=0.0, scale=1.0), stats.lognorm(s=0.954, loc=0.0, scale=1.0), stats.lomax(c=1.88, loc=0.0, scale=1.0), stats.maxwell(loc=0.0, scale=1.0), stats.mielke(k=10.4, s=3.6, loc=0.0, scale=1.0), stats.nakagami(nu=4.97, loc=0.0, scale=1.0), stats.ncx2(df=21, nc=1.06, loc=0.0, scale=1.0), stats.ncf(dfn=27, dfd=27, nc=0.416, loc=0.0, scale=1.0), stats.nct(df=14, nc=0.24, loc=0.0, scale=1.0), stats.norm(loc=0.0, scale=1.0), stats.pareto(b=2.62, loc=0.0, scale=1.0), stats.pearson3(skew=0.1, loc=0.0, scale=1.0), stats.powerlaw(a=1.66, loc=0.0, scale=1.0), stats.powerlognorm(c=2.14, s=0.446, loc=0.0, scale=1.0), stats.powernorm(c=4.45, loc=0.0, scale=1.0), stats.rdist(c=0.9, loc=0.0, scale=1.0), stats.reciprocal(a=0.00623, b=1.01, loc=0.0, scale=1.0), stats.rayleigh(loc=0.0, scale=1.0), stats.rice(b=0.775, loc=0.0, scale=1.0), stats.recipinvgauss(mu=0.63, loc=0.0, scale=1.0), stats.semicircular(loc=0.0, scale=1.0), stats.t(df=2.74, loc=0.0, scale=1.0), stats.triang(c=0.158, loc=0.0, scale=1.0), stats.truncexpon(b=4.69, loc=0.0, scale=1.0), stats.truncnorm(a=0.1, b=2, loc=0.0, scale=1.0), stats.tukeylambda(lam=3.13, loc=0.0, scale=1.0), stats.uniform(loc=0.0, scale=1.0), stats.vonmises(kappa=3.99, loc=0.0, scale=1.0), stats.vonmises_line(kappa=3.99, loc=0.0, scale=1.0), stats.wald(loc=0.0, scale=1.0), stats.weibull_min(c=1.79, loc=0.0, scale=1.0), stats.weibull_max(c=2.87, loc=0.0, scale=1.0), stats.wrapcauchy(c=0.0311, loc=0.0, scale=1.0) ] "
   ]
  },
  {
   "cell_type": "code",
   "execution_count": 72,
   "id": "863d6aac",
   "metadata": {},
   "outputs": [
    {
     "ename": "SyntaxError",
     "evalue": "invalid syntax (2947952830.py, line 1)",
     "output_type": "error",
     "traceback": [
      "\u001b[1;36m  Input \u001b[1;32mIn [72]\u001b[1;36m\u001b[0m\n\u001b[1;33m    bins = 32 size = 16384 plotData = [] for distribution in DISTRIBUTIONS: try: # Create random data rv = pd.Series(distribution.rvs(size=size)) # Get sane start and end points of distribution start = distribution.ppf(0.01) end = distribution.ppf(0.99) # Build PDF and turn into pandas Series x = np.linspace(start, end, size) y = distribution.pdf(x) pdf = pd.Series(y, x) # Get histogram of random data b = np.linspace(start, end, bins+1) y, x = np.histogram(rv, bins=b, normed=True) x = [(a+x[i+1])/2.0 for i,a in enumerate(x[0:-1])] hist = pd.Series(y, x) # Create distribution name and parameter string title = '{}({})'.format(distribution.dist.name, ', '.join(['{}={:0.2f}'.format(k,v) for k,v in distribution.kwds.items()])) # Store data for later plotData.append({ 'pdf': pdf, 'hist': hist, 'title': title }) except Exception: print 'could not create data', distribution.dist.name\u001b[0m\n\u001b[1;37m              ^\u001b[0m\n\u001b[1;31mSyntaxError\u001b[0m\u001b[1;31m:\u001b[0m invalid syntax\n"
     ]
    }
   ],
   "source": [
    "bins = 32 size = 16384 plotData = [] for distribution in DISTRIBUTIONS: try: # Create random data rv = pd.Series(distribution.rvs(size=size)) # Get sane start and end points of distribution start = distribution.ppf(0.01) end = distribution.ppf(0.99) # Build PDF and turn into pandas Series x = np.linspace(start, end, size) y = distribution.pdf(x) pdf = pd.Series(y, x) # Get histogram of random data b = np.linspace(start, end, bins+1) y, x = np.histogram(rv, bins=b, normed=True) x = [(a+x[i+1])/2.0 for i,a in enumerate(x[0:-1])] hist = pd.Series(y, x) # Create distribution name and parameter string title = '{}({})'.format(distribution.dist.name, ', '.join(['{}={:0.2f}'.format(k,v) for k,v in distribution.kwds.items()])) # Store data for later plotData.append({ 'pdf': pdf, 'hist': hist, 'title': title }) except Exception: print 'could not create data', distribution.dist.name "
   ]
  },
  {
   "cell_type": "code",
   "execution_count": null,
   "id": "269062db",
   "metadata": {},
   "outputs": [],
   "source": [
    " plotMax = len(plotData) for i, data in enumerate(plotData): w = abs(abs(data['hist'].index[0]) - abs(data['hist'].index[1])) # Display plt.figure(figsize=(10, 6)) ax = data['pdf'].plot(kind='line', label='Model PDF', legend=True, lw=2) ax.bar(data['hist'].index, data['hist'].values, label='Random Sample', width=w, align='center', alpha=0.5) ax.set_title(data['title']) # Grab figure fig = matplotlib.pyplot.gcf() # Output 'file' fig.savefig('~/Desktop/dist/'+data['title']+'.png', format='png', bbox_inches='tight') matplotlib.pyplot.close() "
   ]
  }
 ],
 "metadata": {
  "kernelspec": {
   "display_name": "Python 3 (ipykernel)",
   "language": "python",
   "name": "python3"
  },
  "language_info": {
   "codemirror_mode": {
    "name": "ipython",
    "version": 3
   },
   "file_extension": ".py",
   "mimetype": "text/x-python",
   "name": "python",
   "nbconvert_exporter": "python",
   "pygments_lexer": "ipython3",
   "version": "3.9.7"
  }
 },
 "nbformat": 4,
 "nbformat_minor": 5
}
