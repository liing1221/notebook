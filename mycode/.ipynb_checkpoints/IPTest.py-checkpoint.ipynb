{
 "cells": [
  {
   "cell_type": "code",
   "execution_count": 2,
   "id": "fa0f2754",
   "metadata": {},
   "outputs": [],
   "source": [
    "import requests\n"
   ]
  },
  {
   "cell_type": "code",
   "execution_count": 8,
   "id": "0e73ad37",
   "metadata": {},
   "outputs": [
    {
     "name": "stdout",
     "output_type": "stream",
     "text": [
      "{'ip': '115.77.147.211', 'country': 'VN', 'asn': {'asnum': 7552, 'org_name': 'Viettel Group'}, 'geo': {'city': 'Ho Chi Minh City', 'region': 'SG', 'region_name': 'Ho Chi Minh', 'postal_code': '', 'latitude': 10.8326, 'longitude': 106.6581, 'tz': 'Asia/Ho_Chi_Minh', 'lum_city': 'hochiminhcity', 'lum_region': 'sg'}}\n"
     ]
    }
   ],
   "source": [
    "url = \"http://lumtest.com/myip.json\"\n",
    "proxies = {\"http\": \"http://18.141.236.131:12482\", \"https\": \"http://18.141.236.131:12482\"}\n",
    "_resp = requests.get(url, proxies=proxies)\n",
    "resp = _resp.json()\n",
    "print(resp)\n"
   ]
  },
  {
   "cell_type": "code",
   "execution_count": null,
   "id": "0e135823",
   "metadata": {},
   "outputs": [],
   "source": [
    "url = \"http://lumtest.com/myip.json\"\n",
    "proxies = {\"http\": \"http://18.141.236.131:12482\", \"https\": \"http://18.141.236.131:12482\"}\n",
    "_resp = requests.get(url, proxies=proxies)\n",
    "resp = _resp.json()\n",
    "print(resp)"
   ]
  }
 ],
 "metadata": {
  "kernelspec": {
   "display_name": "Python 3 (ipykernel)",
   "language": "python",
   "name": "python3"
  },
  "language_info": {
   "codemirror_mode": {
    "name": "ipython",
    "version": 3
   },
   "file_extension": ".py",
   "mimetype": "text/x-python",
   "name": "python",
   "nbconvert_exporter": "python",
   "pygments_lexer": "ipython3",
   "version": "3.9.7"
  }
 },
 "nbformat": 4,
 "nbformat_minor": 5
}
