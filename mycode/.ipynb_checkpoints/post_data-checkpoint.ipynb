{
 "cells": [
  {
   "cell_type": "code",
   "execution_count": 35,
   "id": "8495719e",
   "metadata": {},
   "outputs": [
    {
     "name": "stdout",
     "output_type": "stream",
     "text": [
      "3.9.7 (default, Sep 16 2021, 16:59:28) [MSC v.1916 64 bit (AMD64)]\n",
      "D:\\liing\\Mynote\\notebook\\mycode\n"
     ]
    }
   ],
   "source": [
    "import os\n",
    "import sys\n",
    "\n",
    "print(sys.version)\n",
    "print(os.path.abspath('.'))\n",
    "import json\n",
    "import time\n",
    "from copy import deepcopy\n",
    "\n",
    "import pandas as pd"
   ]
  },
  {
   "cell_type": "code",
   "execution_count": 29,
   "id": "cb9e58f5",
   "metadata": {},
   "outputs": [
    {
     "name": "stdout",
     "output_type": "stream",
     "text": [
      "Empty DataFrame\n",
      "Columns: []\n",
      "Index: []\n"
     ]
    }
   ],
   "source": [
    "trues_path = \"D:/Workspaces/novammp/fridas\"\n",
    "df = pd.DataFrame()\n",
    "for root, _dir, files in os.walk(trues_path):\n",
    "    for file in files:\n",
    "        if not file.endswith(\".txt\"):\n",
    "            continue\n",
    "        with open(root + '/' + file, encoding=\"utf-8\") as f:\n",
    "            data = f.read()\n",
    "            if not data:\n",
    "                print(root + '/' + file)\n",
    "                continue\n",
    "            try:\n",
    "                data = json.loads(data)\n",
    "                df2 = pd.DataFrame.from_dict(data, orient='index', columns=list(data.keys()))\n",
    "                df = df.append(df2, ignore_index=True)\n",
    "            except:\n",
    "                continue\n",
    "                    \n",
    "print(df.head())"
   ]
  },
  {
   "cell_type": "code",
   "execution_count": 53,
   "id": "f41be7c6",
   "metadata": {},
   "outputs": [
    {
     "name": "stdout",
     "output_type": "stream",
     "text": [
      "                c_time        i_time               e_time  ad_id  \\\n",
      "0  2022-08-25 21:45:26 1661505587.00  2022-08-26 17:19:47    107   \n",
      "1  2022-08-25 22:16:28 1661504970.00  2022-08-26 17:09:30    107   \n",
      "2  2022-08-25 22:39:29 1661503808.00  2022-08-26 16:50:08    107   \n",
      "3  2022-08-26 00:22:26 1661500447.00  2022-08-26 15:54:07    107   \n",
      "4  2022-08-25 21:43:20 1661499252.00  2022-08-26 15:34:12    107   \n",
      "\n",
      "                                   gaid      d_time        f_reason  \\\n",
      "0  a8f92ab5-a9b9-4d9a-9a16-8d502c1f3971  2022-08-27            bots   \n",
      "1  8ae66486-2553-482c-a928-89292c952df1  2022-08-27  site_blacklist   \n",
      "2  ca4ff629-3e7f-4dc6-ac34-3d67c14b1ba7  2022-08-27  site_blacklist   \n",
      "3  c35974dd-4ec6-4a81-8cec-38d9de3c86b9  2022-08-27            bots   \n",
      "4  b090636a-60e7-401b-9516-4106bbdcfc82  2022-08-27  site_blacklist   \n",
      "\n",
      "             fs_reason  \n",
      "0  timestamp_anomalies  \n",
      "1     device_emulators  \n",
      "2     device_emulators  \n",
      "3  timestamp_anomalies  \n",
      "4     device_emulators  \n",
      "                 c_time        i_time               e_time  ad_id  \\\n",
      "39  2022-08-26 00:24:32 1661445039.00  2022-08-26 00:30:39    376   \n",
      "40  2022-08-26 00:29:25 1661445035.00  2022-08-26 00:30:35    376   \n",
      "41  2022-08-26 00:27:25 1661445027.00  2022-08-26 00:30:27    376   \n",
      "42  2022-08-26 00:28:52 1661445012.00  2022-08-26 00:30:12    376   \n",
      "43  2022-08-26 00:27:46 1661445001.00  2022-08-26 00:30:01    376   \n",
      "\n",
      "                                    gaid      d_time        f_reason  \\\n",
      "39  f47058f6-b05f-4a1b-ba61-083439cf2960  2022-08-26  site_blacklist   \n",
      "40  e8c64d5e-b5d9-4ede-a5e2-8a69ff407e30  2022-08-26  site_blacklist   \n",
      "41  cae028c5-60fe-4cbc-a2ec-f31d73926fe3  2022-08-26            bots   \n",
      "42  f73b9039-bdbf-4d78-a549-72f08e8e7ca2  2022-08-26  site_blacklist   \n",
      "43  111d4558-e819-4541-9efc-0df7bbf54335  2022-08-26  site_blacklist   \n",
      "\n",
      "              fs_reason  \n",
      "39     device_emulators  \n",
      "40     device_emulators  \n",
      "41  timestamp_anomalies  \n",
      "42     device_emulators  \n",
      "43     device_emulators  \n",
      "             i_time   ad_id\n",
      "count       6344.00 6344.00\n",
      "mean  1661419335.50  376.00\n",
      "std        15375.59    0.00\n",
      "min   1661382328.00  376.00\n",
      "25%   1661407950.75  376.00\n",
      "50%   1661420186.50  376.00\n",
      "75%   1661432458.25  376.00\n",
      "max   1661445039.00  376.00\n",
      "Index(['c_time', 'i_time', 'e_time', 'ad_id', 'gaid', 'd_time', 'f_reason',\n",
      "       'fs_reason'],\n",
      "      dtype='object')\n"
     ]
    }
   ],
   "source": [
    "\n",
    "pd.set_option('display.float_format',lambda x:'%.2f'%x) #为了直观的显示数字，不采用科学计数法\n",
    "file = \"C:/Users/liing/Downloads/com.mbmobile_detection_2022-08-22_2022-08-29_Asia_Ho_Chi_Minh.csv\"\n",
    "path = \"D:/Workspaces/novammp/fridas\"\n",
    "\n",
    "df1 = pd.read_csv(file).rename(columns={\n",
    "    'Attributed Touch Time': \"c_time\" ,\n",
    "    'Install Time': \"i_time\",\n",
    "    'Event Time': \"e_time\",\n",
    "    'Ad ID': \"ad_id\",\n",
    "    'Advertising ID': \"gaid\",\n",
    "    'Detection Date': \"d_time\",\n",
    "    'Fraud Reason': \"f_reason\",\n",
    "    'Fraud Sub Reason': \"fs_reason\"\n",
    "})\n",
    "df1 = df1[[\"c_time\", \"i_time\", \"e_time\", \"ad_id\", \"gaid\", \"d_time\", \"f_reason\", \"fs_reason\"]].copy()\n",
    "df1['i_time'] = df1.i_time.apply(lambda x: time.mktime(time.strptime(x, '%Y-%m-%d %H:%M:%S')))\n",
    "df1 = df1.query(\"`i_time`>1661356800\").copy() \n",
    "df1 = df1.query(\"ad_id>107\").copy() \n",
    "print(df1.columns)\n"
   ]
  }
 ],
 "metadata": {
  "kernelspec": {
   "display_name": "Python 3 (ipykernel)",
   "language": "python",
   "name": "python3"
  },
  "language_info": {
   "codemirror_mode": {
    "name": "ipython",
    "version": 3
   },
   "file_extension": ".py",
   "mimetype": "text/x-python",
   "name": "python",
   "nbconvert_exporter": "python",
   "pygments_lexer": "ipython3",
   "version": "3.9.7"
  }
 },
 "nbformat": 4,
 "nbformat_minor": 5
}
