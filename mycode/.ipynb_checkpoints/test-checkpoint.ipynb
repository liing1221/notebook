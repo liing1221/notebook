{
 "cells": [
  {
   "cell_type": "code",
   "execution_count": null,
   "id": "f4fe62d8",
   "metadata": {},
   "outputs": [],
   "source": [
    "import sys\n",
    "\n",
    "print(sys.version)\n",
    "import os\n",
    "print(os.path.abspath('.'))\n",
    "%matplotlib inline \n",
    "import io \n",
    "import numpy as np \n",
    "import pandas as pd \n",
    "import scipy.stats as stats \n",
    "from fitter import Fitter\n",
    "import matplotlib \n",
    "import matplotlib.pyplot as plt \n",
    "\n",
    "matplotlib.rcParams['figure.figsize'] = (16.0, 14.0) \n",
    "\n",
    "matplotlib.style.use('ggplot')\n",
    "\n",
    "# 让notebook宽屏显示\n",
    "from IPython.display import display, HTML\n",
    "display(HTML('<style>.container{width:100% !important;}</style>'))\n"
   ]
  }
 ],
 "metadata": {
  "kernelspec": {
   "display_name": "Python 3 (ipykernel)",
   "language": "python",
   "name": "python3"
  },
  "language_info": {
   "codemirror_mode": {
    "name": "ipython",
    "version": 3
   },
   "file_extension": ".py",
   "mimetype": "text/x-python",
   "name": "python",
   "nbconvert_exporter": "python",
   "pygments_lexer": "ipython3",
   "version": "3.9.7"
  }
 },
 "nbformat": 4,
 "nbformat_minor": 5
}
