{
 "cells": [
  {
   "cell_type": "code",
   "execution_count": null,
   "id": "a41fe579",
   "metadata": {},
   "outputs": [],
   "source": [
    "import sys\n",
    "print(sys.version)\n",
    "import re\n",
    "import traceback\n",
    "import pandas as pd\n",
    "import matplotlib as plt\n",
    "# import matplotlib.backends.backend_agg\n",
    "plt.use(\"Agg\")\n",
    "# %matplotlib inline"
   ]
  },
  {
   "cell_type": "code",
   "execution_count": null,
   "id": "b2860a20",
   "metadata": {},
   "outputs": [],
   "source": [
    "base_path = \"D:/Workspaces/novammp/datas/1660780981602/\"\n",
    "datas = list()\n",
    "with open(base_path + '1660780981602', encoding='utf-8') as f:\n",
    "    while True:\n",
    "        line = f.readline()\n",
    "        if not line:\n",
    "            break\n",
    "        try:\n",
    "            sdk, model = re.search('Android ([\\.0-9]+); (.*?)/', line, re.S).groups()\n",
    "            model = model.rsplit(' ', 1)[0]\n",
    "            datas.append({\"android_sdk\": sdk, \"model\": model})\n",
    "        except:\n",
    "            traceback.print_exc()\n",
    "print(len(datas))\n",
    "df = pd.DataFrame(datas)\n",
    "df.to_csv(base_path + '1660780981602.csv') "
   ]
  },
  {
   "cell_type": "code",
   "execution_count": null,
   "id": "e2ea7115",
   "metadata": {},
   "outputs": [],
   "source": [
    "df['android_sdk'].plot(kind='bar')\n",
    "plt.show()"
   ]
  }
 ],
 "metadata": {
  "kernelspec": {
   "display_name": "Python 3 (ipykernel)",
   "language": "python",
   "name": "python3"
  },
  "language_info": {
   "codemirror_mode": {
    "name": "ipython",
    "version": 3
   },
   "file_extension": ".py",
   "mimetype": "text/x-python",
   "name": "python",
   "nbconvert_exporter": "python",
   "pygments_lexer": "ipython3",
   "version": "3.9.7"
  }
 },
 "nbformat": 4,
 "nbformat_minor": 5
}
