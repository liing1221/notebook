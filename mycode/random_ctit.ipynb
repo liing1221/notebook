{
 "cells": [
  {
   "cell_type": "code",
   "execution_count": 5,
   "id": "542119ba",
   "metadata": {},
   "outputs": [
    {
     "name": "stdout",
     "output_type": "stream",
     "text": [
      "D:\\liing\\Mynote\\notebook\\mycode\n"
     ]
    }
   ],
   "source": [
    "import sys\n",
    "\n",
    "sys.version\n",
    "import os\n",
    "print(os.path.abspath('.'))\n",
    "\n"
   ]
  },
  {
   "cell_type": "code",
   "execution_count": 51,
   "id": "40482861",
   "metadata": {},
   "outputs": [
    {
     "name": "stdout",
     "output_type": "stream",
     "text": [
      "       Adset ID   Ad    TimeSecDiff\n",
      "count       0.0  0.0    4492.000000\n",
      "mean        NaN  NaN   24195.160508\n",
      "std         NaN  NaN   47515.410171\n",
      "min         NaN  NaN       3.000000\n",
      "25%         NaN  NaN     190.000000\n",
      "50%         NaN  NaN    2809.500000\n",
      "75%         NaN  NaN   22275.500000\n",
      "max         NaN  NaN  322735.000000\n",
      "4492\n",
      "3158\n"
     ]
    },
    {
     "data": {
      "image/png": "[encoded data removed]",
      "text/plain": [
       "<Figure size 432x288 with 1 Axes>"
      ]
     },
     "metadata": {
      "needs_background": "light"
     },
     "output_type": "display_data"
    }
   ],
   "source": [
    "import sys\n",
    "import pandas as pd\n",
    "from sklearn.utils import shuffle\n",
    "import numpy as np\n",
    "import datetime\n",
    "from sklearn.preprocessing import LabelEncoder\n",
    "# visualization\n",
    "import seaborn as sns\n",
    "import matplotlib.pyplot as plt\n",
    "%matplotlib inline\n",
    "\n",
    "df_all = pd.read_csv('D:/Workspaces/novammp/datas/cn.com.vau_in-app-events_2022-08-08_2022-08-15_Australia_Sydney.csv', low_memory=False)\n",
    "col_select_list = ['Advertising ID','Attributed Touch Time', 'Install Time', 'Event Time', 'Event Name', 'Adset ID', 'Ad',\n",
    "                       'Media Source', 'Site ID', 'State', 'City', 'Postal Code', 'IP', 'Operator',\n",
    "                       'Carrier', 'Language', 'Device Category', 'Platform', 'OS Version', 'App Version', 'SDK Version',\n",
    "                       'Attribution Lookback', 'Match Type', 'Original URL', 'Device Model']\n",
    "df_all = df_all[col_select_list].copy()\n",
    "df1 = df_all.drop_duplicates(subset=['Advertising ID'], keep='last').copy()\n",
    "df1['TouchTime'] = pd.to_datetime(df1['Attributed Touch Time'])\n",
    "df1['InstallTime'] = pd.to_datetime(df1['Install Time'])\n",
    "df1['TimeSecDiff'] = (df1['InstallTime'] - df1['TouchTime']).astype('timedelta64[s]')\n",
    "# df1['TimeSecDiff_60'] = (df1['TimeSecDiff']/60).astype('int')\n",
    "# df_res = df1[['TimeSecDiff_60','Advertising ID']].groupby(['TimeSecDiff_60'], as_index=False).count().sort_values(by='TimeSecDiff_60')\n",
    "\n",
    "df1['TimeSecDiff'] = df1['TimeSecDiff'].astype('int')\n",
    "print(df1.describe())\n",
    "print(len(df1))\n",
    "df_res = df1[['TimeSecDiff','Advertising ID']].copy().groupby(['TimeSecDiff'], as_index=False).count().sort_values(by='TimeSecDiff')\n",
    "df_res['prob'] = df_res['Advertising ID']*1.0/len(df1)\n",
    "print(len(df_res))\n",
    "# print(df_res[['TimeSecDiff', 'prob']].head(40))\n",
    "# print(df_res[['TimeSecDiff', 'prob']].head(3000).sum())\n",
    "\n",
    "pdf_value = df_res['prob']\n",
    "cdf_value = np.cumsum(pdf_value)\n",
    "# print(cdf_value)\n",
    "\n",
    "import random\n",
    "def cast_rand(cdf_value):\n",
    "    r = random.random()\n",
    "    res = 0\n",
    "    for num in range(0,cdf_value.size):\n",
    "        if num == 0:\n",
    "            if r <= cdf_value[num]:\n",
    "                res = 0\n",
    "        else:\n",
    "            if r > cdf_value[num - 1] and r <= cdf_value[num]:\n",
    "                res = num\n",
    "                break;\n",
    "    return res\n",
    "\n",
    "# for num in range(0,100):\n",
    "#     print(cast_rand(cdf_value))\n",
    "\n",
    "for i in range(len(df_res)):\n",
    "    df_res.loc[i, 'test'] = cast_rand(cdf_value)\n",
    "# print(df_res['test'] )\n",
    "df_res['test'].hist(bins=100)\n",
    "plt.show()"
   ]
  },
  {
   "cell_type": "code",
   "execution_count": 15,
   "id": "5c37498e",
   "metadata": {},
   "outputs": [
    {
     "name": "stdout",
     "output_type": "stream",
     "text": [
      "[0.45146928 0.55387355 0.60952805 0.65271594 0.68967053 0.71838825\n",
      " 0.74577026 0.76268923 0.77582369 0.78806768 0.80186999 0.809439\n",
      " 0.81945681 0.82613535 0.83748887 0.84706144 0.85485307 0.8601959\n",
      " 0.86553874 0.86932324 0.87711487 0.88023152 0.88512912 0.88891362\n",
      " 0.89381122 0.900935   0.90672306 0.91362422 0.91918967 0.92520036\n",
      " 0.92876224 0.93365984 0.93766696 0.94122885 0.94367765 0.94612645\n",
      " 0.94857524 0.95035619 0.95102404 0.95235975 0.95325022 0.95391808\n",
      " 0.95480855 0.95614426 0.95703473 0.95903829 0.95992876 0.96193232\n",
      " 0.96326803 0.9641585  0.96482636 0.9666073  0.96816563 0.96972395\n",
      " 0.97195013 0.97417631 0.97551202 0.97707035 0.97818344 0.98063224\n",
      " 0.98152271 0.98308103 0.98374889 0.98463936 0.98508459 0.98508459\n",
      " 0.9864203  0.98731077 0.98842386 0.98953695 0.98975957 0.98975957\n",
      " 0.99042743 0.99065004 0.99154052 0.99220837 0.99332146 0.99332146\n",
      " 0.9937667  0.99443455 0.99465717 0.99532502 0.99577026 0.99666073\n",
      " 0.99732858 0.9975512  0.99777382 0.99777382 0.99799644 0.99799644\n",
      " 0.99799644 0.99799644 0.99799644 0.99799644 0.99910953 0.99933215\n",
      " 0.99955476 0.99955476 0.99977738 1.        ]\n"
     ]
    },
    {
     "data": {
      "text/plain": [
       "[<matplotlib.lines.Line2D at 0x22b53971e20>]"
      ]
     },
     "execution_count": 15,
     "metadata": {},
     "output_type": "execute_result"
    },
    {
     "data": {
      "image/png": "[encoded data removed]",
      "text/plain": [
       "<Figure size 432x288 with 1 Axes>"
      ]
     },
     "metadata": {
      "needs_background": "light"
     },
     "output_type": "display_data"
    }
   ],
   "source": [
    "import numpy as np\n",
    "import matplotlib.pyplot as plt\n",
    "from scipy import stats\n",
    "%matplotlib inline\n",
    "\n",
    "\n",
    "# 构造数据\n",
    "# data = df1['TimeSecDiff_60']\n",
    "data = df1['TimeSecDiff']\n",
    "res_freq = stats.relfreq(data, numbins=100)\n",
    "# 计算结果\n",
    "pdf_value = res_freq.frequency\n",
    "cdf_value = np.cumsum(res_freq.frequency)\n",
    "print(cdf_value)\n",
    "# 绘图\n",
    "x = res_freq.lowerlimit + np.linspace(0, res_freq.binsize * res_freq.frequency.size, res_freq.frequency.size)\n",
    "plt.bar(x, pdf_value, width=res_freq.binsize)\n",
    "plt.plot(x, cdf_value)"
   ]
  }
 ],
 "metadata": {
  "kernelspec": {
   "display_name": "Python 3 (ipykernel)",
   "language": "python",
   "name": "python3"
  },
  "language_info": {
   "codemirror_mode": {
    "name": "ipython",
    "version": 3
   },
   "file_extension": ".py",
   "mimetype": "text/x-python",
   "name": "python",
   "nbconvert_exporter": "python",
   "pygments_lexer": "ipython3",
   "version": "3.9.7"
  }
 },
 "nbformat": 4,
 "nbformat_minor": 5
}
