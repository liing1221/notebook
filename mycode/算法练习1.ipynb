{
 "cells": [
  {
   "cell_type": "code",
   "execution_count": 2,
   "metadata": {},
   "outputs": [
    {
     "name": "stdout",
     "output_type": "stream",
     "text": [
      "9592\n",
      "754026\n",
      "0.315149\n"
     ]
    }
   ],
   "source": [
    "# 算法练习1\n",
    "import datetime\n",
    "import math\n",
    "\n",
    "n = 100000\n",
    "pn = []\n",
    "flag = False\n",
    "count = 0\n",
    "start = datetime.datetime.now()\n",
    "for x in range(2, n):\n",
    "    for i in pn:\n",
    "        count += 1\n",
    "        if x % i == 0:    # not prime\n",
    "            flag = True\n",
    "            break\n",
    "        if i >= math.ceil(x ** 0.5): # prime\n",
    "            flag = False\n",
    "            break\n",
    "    if not flag:\n",
    "        pn.append(x)\n",
    "delta = (datetime.datetime.now() - start).total_seconds()\n",
    "print(len(pn))\n",
    "print(count)\n",
    "print(delta)\n",
    "        "
   ]
  },
  {
   "cell_type": "code",
   "execution_count": 3,
   "metadata": {},
   "outputs": [
    {
     "name": "stdout",
     "output_type": "stream",
     "text": [
      "9592\n",
      "46314476\n",
      "4.879206\n"
     ]
    }
   ],
   "source": [
    "# 算法练习1 对比\n",
    "n = 100000\n",
    "pn = []\n",
    "count = 0\n",
    "start = datetime.datetime.now()\n",
    "for x in range(2, n):\n",
    "    for i in pn:\n",
    "        count += 1\n",
    "        if x % i == 0:   # not prime\n",
    "            break\n",
    "    else:\n",
    "        pn.append(x)\n",
    "delta = (datetime.datetime.now() -start).total_seconds()\n",
    "print(len(pn))\n",
    "print(count)\n",
    "print(delta)"
   ]
  },
  {
   "cell_type": "code",
   "execution_count": 5,
   "metadata": {},
   "outputs": [
    {
     "name": "stdout",
     "output_type": "stream",
     "text": [
      "[[1], [1, 1], [1, 2, 1], [1, 3, 3, 1], [1, 4, 6, 4, 1], [1, 5, 10, 10, 5, 1]]\n"
     ]
    }
   ],
   "source": [
    "# 算法练习2（杨辉三角）\n",
    "# 1、列表空间（每行n个数据  ）一次开辟够（列表推导、循环迭代）； 2、少算一般数字计算\n",
    "triangle = []\n",
    "n = 6\n",
    "for i in range(n):\n",
    "    row = [1] # 开始的1\n",
    "    for k in range(i):    # 中间填0，尾部填1\n",
    "        row.append(1) if k == i - 1 else row.append(0)\n",
    "    triangle.append(row)\n",
    "    if i == 0:\n",
    "        continue\n",
    "    for j in range(1, i // 2 + 1): # n=3才能进来\n",
    "        val = triangle[i -1][j-1] + triangle[i - 1][j]\n",
    "        row[j] = val\n",
    "        if j != i -j: # 奇数个点的中点跳过\n",
    "            row[ -j - 1] = val\n",
    "print(triangle)\n"
   ]
  },
  {
   "cell_type": "code",
   "execution_count": 8,
   "metadata": {},
   "outputs": [
    {
     "name": "stdout",
     "output_type": "stream",
     "text": [
      "[[1], [1, 1], [1, 2, 1], [1, 3, 3, 1], [1, 4, 6, 4, 1], [1, 5, 10, 10, 5, 1]]\n"
     ]
    }
   ],
   "source": [
    "triangle = []\n",
    "n = 6\n",
    "for i in range(n):\n",
    "    row = [1] * (i + 1)\n",
    "    triangle.append(row)\n",
    "    if i == 0:\n",
    "        continue\n",
    "    for j in range(1, i // 2 + 1):\n",
    "        val = triangle[i - 1][j - 1] + triangle[i - 1][j]\n",
    "        row[j] = val\n",
    "        if j != i -j:\n",
    "            row[-j - 1] = val\n",
    "print(triangle)\n"
   ]
  },
  {
   "cell_type": "code",
   "execution_count": 10,
   "metadata": {},
   "outputs": [
    {
     "name": "stdout",
     "output_type": "stream",
     "text": [
      "[1, 2, 3, 4, 5, 6, 7, 8, 9] 37 25\n"
     ]
    }
   ],
   "source": [
    "from collections import namedtuple    # 命名元组\n",
    "#  冒泡排序\n",
    "lst = [1, 9, 8, 5, 6, 7, 4, 3, 2]\n",
    "\n",
    "num = lst[0]\n",
    "length = len(lst)\n",
    "count_swap = 0\n",
    "count = 1\n",
    "for i in range(length):\n",
    "    flag = False\n",
    "    for j in range(length - i - 1):\n",
    "        count += 1\n",
    "        if lst[j] > lst[j + 1]:\n",
    "            lst[j], lst[j + 1] = lst[j + 1], lst[j]\n",
    "            count_swap += 1\n",
    "            flag = True\n",
    "    if not flag:      # 标记本轮有没有交换，没交换则已排好\n",
    "        break\n",
    "print(lst, count, count_swap)\n",
    "         \n",
    "\n"
   ]
  }
 ],
 "metadata": {
  "kernelspec": {
   "display_name": "Python 3",
   "language": "python",
   "name": "python3"
  },
  "language_info": {
   "codemirror_mode": {
    "name": "ipython",
    "version": 3
   },
   "file_extension": ".py",
   "mimetype": "text/x-python",
   "name": "python",
   "nbconvert_exporter": "python",
   "pygments_lexer": "ipython3",
   "version": "3.7.1"
  }
 },
 "nbformat": 4,
 "nbformat_minor": 2
}
