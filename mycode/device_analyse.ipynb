{
 "cells": [
  {
   "cell_type": "code",
   "execution_count": null,
   "id": "a41fe579",
   "metadata": {},
   "outputs": [],
   "source": [
    "import sys\n",
    "print(sys.version)\n",
    "import re\n",
    "import traceback\n",
    "import pandas as pd\n",
    "import matplotlib as plt\n",
    "# import matplotlib.backends.backend_agg\n",
    "plt.use(\"Agg\")\n",
    "# %matplotlib inline"
   ]
  },
  {
   "cell_type": "code",
   "execution_count": null,
   "id": "b2860a20",
   "metadata": {},
   "outputs": [],
   "source": [
    "base_path = \"D:/Workspaces/novammp/datas/1660780981602/\"\n",
    "datas = list()\n",
    "with open(base_path + '1660780981602', encoding='utf-8') as f:\n",
    "    while True:\n",
    "        line = f.readline()\n",
    "        if not line:\n",
    "            break\n",
    "        try:\n",
    "            sdk, model = re.search('Android ([\\.0-9]+); (.*?)/', line, re.S).groups()\n",
    "            model = model.rsplit(' ', 1)[0]\n",
    "            datas.append({\"android_sdk\": sdk, \"model\": model})\n",
    "        except:\n",
    "            traceback.print_exc()\n",
    "print(len(datas))\n",
    "df = pd.DataFrame(datas)\n",
    "df.to_csv(base_path + '1660780981602.csv') "
   ]
  },
  {
   "cell_type": "code",
   "execution_count": 1,
   "id": "e2ea7115",
   "metadata": {},
   "outputs": [
    {
     "ename": "NameError",
     "evalue": "name 'df' is not defined",
     "output_type": "error",
     "traceback": [
      "\u001b[1;31m---------------------------------------------------------------------------\u001b[0m",
      "\u001b[1;31mNameError\u001b[0m                                 Traceback (most recent call last)",
      "Input \u001b[1;32mIn [1]\u001b[0m, in \u001b[0;36m<cell line: 1>\u001b[1;34m()\u001b[0m\n\u001b[1;32m----> 1\u001b[0m \u001b[43mdf\u001b[49m[\u001b[38;5;124m'\u001b[39m\u001b[38;5;124mandroid_sdk\u001b[39m\u001b[38;5;124m'\u001b[39m]\u001b[38;5;241m.\u001b[39mplot(kind\u001b[38;5;241m=\u001b[39m\u001b[38;5;124m'\u001b[39m\u001b[38;5;124mbar\u001b[39m\u001b[38;5;124m'\u001b[39m)\n\u001b[0;32m      2\u001b[0m plt\u001b[38;5;241m.\u001b[39mshow()\n",
      "\u001b[1;31mNameError\u001b[0m: name 'df' is not defined"
     ]
    }
   ],
   "source": [
    "df['android_sdk'].plot(kind='bar')\n",
    "plt.show()"
   ]
  }
 ],
 "metadata": {
  "kernelspec": {
   "display_name": "Python 3 (ipykernel)",
   "language": "python",
   "name": "python3"
  },
  "language_info": {
   "codemirror_mode": {
    "name": "ipython",
    "version": 3
   },
   "file_extension": ".py",
   "mimetype": "text/x-python",
   "name": "python",
   "nbconvert_exporter": "python",
   "pygments_lexer": "ipython3",
   "version": "3.9.7"
  }
 },
 "nbformat": 4,
 "nbformat_minor": 5
}
