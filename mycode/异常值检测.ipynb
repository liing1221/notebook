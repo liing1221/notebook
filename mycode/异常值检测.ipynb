{
 "cells": [
  {
   "cell_type": "markdown",
   "metadata": {},
   "source": [
    "## 异常值检测"
   ]
  },
  {
   "cell_type": "code",
   "execution_count": 3,
   "metadata": {},
   "outputs": [],
   "source": [
    "# -*- coding:utf-8 -*-\n",
    "import pandas as pd"
   ]
  },
  {
   "cell_type": "code",
   "execution_count": 16,
   "metadata": {},
   "outputs": [],
   "source": [
    "catering_sale = 'C:/Users/qyn/Desktop/新建学习/Python数据分析与挖掘实战/chapter3/demo/data/catering_sale.xls'\n",
    "data = pd.read_excel(catering_sale, index_col=u'日期')     # 读取数据，并指定日期为索引列\n"
   ]
  },
  {
   "cell_type": "code",
   "execution_count": 10,
   "metadata": {},
   "outputs": [],
   "source": [
    "import matplotlib.pyplot as plt\n",
    "# pylot使用rc配置文件来自定义图形的各种默认属性，称之为rc配置或rc参数。通过rc参数可以修改默认的属性，\n",
    "# 包括窗体大小、每英寸的点数、线条宽度、颜色、样式、坐标轴、坐标和网络属性、文本、字体等。\n",
    "# rc参数存储在字典变量中，通过字典的方式进行访问\n",
    "plt.rcParams['font.sans-serif'] = ['SimHei']  # 用来正常显示中文标签\n",
    "plt.rcParams['axes.unicode_minus'] = False   #　用来正常显示负号   "
   ]
  },
  {
   "cell_type": "code",
   "execution_count": 22,
   "metadata": {},
   "outputs": [
    {
     "name": "stdout",
     "output_type": "stream",
     "text": [
      "[1. 1. 1. 1. 1. 1. 1. 1.]\n",
      "[  22.     51.     60.    865.   4060.3  4065.2  6607.4  9106.44]\n",
      "0 22.0 (1.0, 22.0) (1.08, 22.0)\n",
      "1 51.0 (1.0, 51.0) (1.0224137931034483, 51.0)\n",
      "2 60.0 (1.0, 60.0) (0.9611111111111111, 60.0)\n",
      "3 865.0 (1.0, 865.0) (1.0490062111801242, 865.0)\n",
      "4 4060.3 (1.0, 4060.3) (1.0497496322724, 4060.3)\n",
      "5 4065.2 (1.0, 4065.2) (0.8867346938775389, 4065.2)\n",
      "6 6607.4 (1.0, 6607.4) (1.0496853119345448, 6607.4)\n",
      "7 9106.44 (1.0, 9106.44) (1.049679877072796, 9106.44)\n"
     ]
    },
    {
     "data": {
      "image/png": "[encoded data removed]",
      "text/plain": [
       "<Figure size 432x288 with 1 Axes>"
      ]
     },
     "metadata": {
      "needs_background": "light"
     },
     "output_type": "display_data"
    }
   ],
   "source": [
    "plt.figure()\n",
    "p = data.boxplot(return_type='dict')    # 画箱线图，直接使用DataFrame的方法:    需指定返回p的类型，否则报错误：TypeError: 'AxesSubplot' ...\n",
    "x = p['fliers'][0].get_xdata()         # 'files'为异常值标签\n",
    "y = p['fliers'][0].get_ydata()\n",
    "print(x)\n",
    "y.sort()                             # 从小到大排序，该方法直接改变原对象\n",
    "print(y)\n",
    "for i in range(len(x)):             # 标注异常点\n",
    "    if i > 0:\n",
    "        print(i, y[i], (x[i], y[i]), (x[i] + 0.05 - 0.8/ (y[i]- y[i - 1]),y[i]))\n",
    "        plt.annotate(y[i], xy = (x[i], y[i]), xytext = (x[i] + 0.05 - 0.8/ (y[i]- y[i - 1]),y[i]))\n",
    "    else:\n",
    "        print(i, y[i], (x[i], y[i]), (x[i] + 0.08, y[i]))\n",
    "        plt.annotate(y[i], xy = (x[i], y[i]), xytext = (x[i] + 0.08, y[i]))\n",
    "\n",
    "plt.show()"
   ]
  },
  {
   "cell_type": "markdown",
   "metadata": {},
   "source": [
    "## 统计量分析"
   ]
  },
  {
   "cell_type": "code",
   "execution_count": 23,
   "metadata": {},
   "outputs": [
    {
     "name": "stdout",
     "output_type": "stream",
     "text": [
      "                销量\n",
      "count   195.000000\n",
      "mean   2744.595385\n",
      "std     424.739407\n",
      "min     865.000000\n",
      "25%    2460.600000\n",
      "50%    2655.900000\n",
      "75%    3023.200000\n",
      "max    4065.200000\n"
     ]
    }
   ],
   "source": [
    "data = data[(data['销量'] > 400)&(data['销量'] < 5000)]   # 过滤异常数据\n",
    "statistics = data.describe()\n",
    "print(statistics)"
   ]
  },
  {
   "cell_type": "code",
   "execution_count": 27,
   "metadata": {},
   "outputs": [
    {
     "name": "stdout",
     "output_type": "stream",
     "text": [
      "                销量\n",
      "count   195.000000\n",
      "mean   2744.595385\n",
      "std     424.739407\n",
      "min     865.000000\n",
      "25%    2460.600000\n",
      "50%    2655.900000\n",
      "75%    3023.200000\n",
      "max    4065.200000\n",
      "range  3200.200000\n",
      "var       0.154755\n",
      "dis     562.600000\n"
     ]
    }
   ],
   "source": [
    "statistics.loc['range'] = statistics.loc['max'] - statistics.loc['min']   # 极差\n",
    "statistics.loc['var'] = statistics.loc['std']/statistics.loc['mean']     # 变异系数\n",
    "statistics.loc['dis'] = statistics.loc['75%'] - statistics.loc['25%']   # 四分位间距\n",
    "print(statistics)"
   ]
  },
  {
   "cell_type": "markdown",
   "metadata": {},
   "source": [
    "## 贡献度（帕累托）分析"
   ]
  },
  {
   "cell_type": "code",
   "execution_count": 48,
   "metadata": {},
   "outputs": [
    {
     "name": "stdout",
     "output_type": "stream",
     "text": [
      "<class 'pandas.core.series.Series'> \n",
      " 菜品名\n",
      "A1     9173\n",
      "A2     5729\n",
      "A3     4811\n",
      "A4     3594\n",
      "A5     3195\n",
      "A6     3026\n",
      "A7     2378\n",
      "A8     1970\n",
      "A9     1877\n",
      "A10    1782\n",
      "Name: 盈利, dtype: int64\n"
     ]
    }
   ],
   "source": [
    "dish_profit = 'C:/Users/qyn/Desktop/新建学习/Python数据分析与挖掘实战/chapter3/demo/data/catering_dish_profit.xls'\n",
    "dish = pd.read_excel(dish_profit, index_col=u'菜品名')   \n",
    "dis = dish[u'盈利'].copy()\n",
    "dis.sort_values(ascending=False)\n",
    "print(type(dis),'\\n',dis)"
   ]
  },
  {
   "cell_type": "code",
   "execution_count": 50,
   "metadata": {},
   "outputs": [
    {
     "data": {
      "image/png": "[encoded data removed]",
      "text/plain": [
       "<Figure size 432x288 with 2 Axes>"
      ]
     },
     "metadata": {
      "needs_background": "light"
     },
     "output_type": "display_data"
    }
   ],
   "source": [
    "plt.figure()\n",
    "dis.plot(kind='bar')\n",
    "plt.ylabel(u'盈利（元）')\n",
    "p = 1.0*dis.cumsum()/dis.sum()\n",
    "p.plot(color = 'r', secondary_y = True, style = '-o',linewidth = 2)\n",
    "#添加注释，即85%处的标记。这里包括了指定箭头样式。\n",
    "plt.annotate(format(p[6], '.4%'), xy = (6, p[6]), xytext=(6*0.9, p[6]*0.9), arrowprops=dict(arrowstyle=\"->\", connectionstyle=\"arc3,rad=.2\")) \n",
    "plt.ylabel(u'盈利（比例）')\n",
    "plt.show()"
   ]
  },
  {
   "cell_type": "markdown",
   "metadata": {},
   "source": [
    "## 相关性分析"
   ]
  },
  {
   "cell_type": "code",
   "execution_count": 55,
   "metadata": {},
   "outputs": [
    {
     "name": "stdout",
     "output_type": "stream",
     "text": [
      "<class 'pandas.core.frame.DataFrame'> \n",
      "            百合酱蒸凤爪    翡翠蒸香茜饺   金银蒜汁蒸排骨     乐膳真味鸡     蜜汁焗餐包      生炒菜心    铁板酸菜豆腐  \\\n",
      "百合酱蒸凤爪   1.000000  0.009206  0.016799  0.455638  0.098085  0.308496  0.204898   \n",
      "翡翠蒸香茜饺   0.009206  1.000000  0.304434 -0.012279  0.058745 -0.180446 -0.026908   \n",
      "金银蒜汁蒸排骨  0.016799  0.304434  1.000000  0.035135  0.096218 -0.184290  0.187272   \n",
      "乐膳真味鸡    0.455638 -0.012279  0.035135  1.000000  0.016006  0.325462  0.297692   \n",
      "蜜汁焗餐包    0.098085  0.058745  0.096218  0.016006  1.000000  0.308454  0.502025   \n",
      "生炒菜心     0.308496 -0.180446 -0.184290  0.325462  0.308454  1.000000  0.369787   \n",
      "铁板酸菜豆腐   0.204898 -0.026908  0.187272  0.297692  0.502025  0.369787  1.000000   \n",
      "香煎韭菜饺    0.127448  0.062344  0.121543 -0.068866  0.155428  0.038233  0.095543   \n",
      "香煎罗卜糕   -0.090276  0.270276  0.077808 -0.030222  0.171005  0.049898  0.157958   \n",
      "原汁原味菜心   0.428316  0.020462  0.029074  0.421878  0.527844  0.122988  0.567332   \n",
      "\n",
      "            香煎韭菜饺     香煎罗卜糕    原汁原味菜心  \n",
      "百合酱蒸凤爪   0.127448 -0.090276  0.428316  \n",
      "翡翠蒸香茜饺   0.062344  0.270276  0.020462  \n",
      "金银蒜汁蒸排骨  0.121543  0.077808  0.029074  \n",
      "乐膳真味鸡   -0.068866 -0.030222  0.421878  \n",
      "蜜汁焗餐包    0.155428  0.171005  0.527844  \n",
      "生炒菜心     0.038233  0.049898  0.122988  \n",
      "铁板酸菜豆腐   0.095543  0.157958  0.567332  \n",
      "香煎韭菜饺    1.000000  0.178336  0.049689  \n",
      "香煎罗卜糕    0.178336  1.000000  0.088980  \n",
      "原汁原味菜心   0.049689  0.088980  1.000000  \n"
     ]
    },
    {
     "data": {
      "text/plain": [
       "0.009205803051836475"
      ]
     },
     "execution_count": 55,
     "metadata": {},
     "output_type": "execute_result"
    }
   ],
   "source": [
    "catering_sale = 'C:/Users/qyn/Desktop/新建学习/Python数据分析与挖掘实战/chapter3/demo/data/catering_sale_all.xls' #餐饮数据，含有其他属性\n",
    "data_catering = pd.read_excel(catering_sale, index_col = u'日期') #读取数据，指定“日期”列为索引列\n",
    "\n",
    "p = data_catering.corr()                                            #相关系数矩阵，即给出了任意两款菜式之间的相关系数\n",
    "print(type(p), '\\n', p)\n",
    "data_catering.corr()[u'百合酱蒸凤爪']                          #只显示“百合酱蒸凤爪”与其他菜式的相关系数\n",
    "data_catering[u'百合酱蒸凤爪'].corr(data_catering[u'翡翠蒸香茜饺']) #计算“百合酱蒸凤爪”与“翡翠蒸香茜饺”的相关系数\n",
    "# print(dir(data_catering))"
   ]
  },
  {
   "cell_type": "code",
   "execution_count": null,
   "metadata": {},
   "outputs": [],
   "source": []
  }
 ],
 "metadata": {
  "kernelspec": {
   "display_name": "Python 3",
   "language": "python",
   "name": "python3"
  },
  "language_info": {
   "codemirror_mode": {
    "name": "ipython",
    "version": 3
   },
   "file_extension": ".py",
   "mimetype": "text/x-python",
   "name": "python",
   "nbconvert_exporter": "python",
   "pygments_lexer": "ipython3",
   "version": "3.7.0"
  }
 },
 "nbformat": 4,
 "nbformat_minor": 2
}
