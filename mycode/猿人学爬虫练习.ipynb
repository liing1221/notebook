{
 "cells": [
  {
   "cell_type": "markdown",
   "metadata": {},
   "source": [
    "# 17 天杀的Http2.0\n",
    "思路：本题限制使用http2.0协议采集。此时可采用的库是 requests + hyper  或 httpx"
   ]
  },
  {
   "cell_type": "code",
   "execution_count": 11,
   "metadata": {},
   "outputs": [
    {
     "name": "stdout",
     "output_type": "stream",
     "text": [
      "https://match.yuanrenxue.com/api/match/17?page=1\n",
      "https://match.yuanrenxue.com/api/match/17?page=2\n",
      "https://match.yuanrenxue.com/api/match/17?page=3\n",
      "https://match.yuanrenxue.com/api/match/17?page=4\n",
      "https://match.yuanrenxue.com/api/match/17?page=5\n",
      "-207467\n"
     ]
    }
   ],
   "source": [
    "# requests + hyper 方法： hyper库19年后作者未在更新\n",
    "import requests\n",
    "from urllib3 import disable_warnings\n",
    "from urllib3.exceptions import InsecureRequestWarning\n",
    "from hyper.contrib import HTTP20Adapter\n",
    "# module ‘h2.settings’ has no attribute ‘ENABLE_PUSH’\n",
    "# 参考：https://meiwencun.com/module_h2_settings_has_no_attribute_enable_push_411/\n",
    "'''\n",
    "解决方法：\n",
    "\n",
    "修改：Lib\\site-packages\\hyper\\http20\\connection.py\n",
    "\n",
    "把导入模块\n",
    "# import h2.settings\n",
    "修改为\n",
    "from h2.settings import SettingCodes\n",
    "把文件中两处\n",
    "conn.update_settings(\n",
    "   {h2.settings.ENABLE_PUSH: int(self._enable_push)}                \n",
    ")\n",
    "\n",
    "修改为：\n",
    "\n",
    "conn.update_settings(\n",
    "    {SettingCodes.ENABLE_PUSH: int(self._enable_push)}\n",
    ")\n",
    "\n",
    "'''\n",
    "\n",
    "\n",
    "disable_warnings(InsecureRequestWarning)\n",
    "\n",
    "s = requests.Session()\n",
    "headers = {\n",
    "    \"Accept\": \"application/json, text/javascript, */*; q=0.01\",\n",
    "    \"cookie\": \"sessionid=8sjerq3rw29sju76qjst61y9h1gncfnt\",    # 注意Session有效性\n",
    "    \"referer\": \"https://match.yuanrenxue.com/match/17\",\n",
    "    \"user-agent\": \"Mozilla/5.0 (Windows NT 10.0; Win64; x64) AppleWebKit/537.36 (KHTML, like Gecko) Chrome/96.0.4664.45 Safari/537.36\",\n",
    "    \"x-requested-with\": \"XMLHttpRequest\"\n",
    "}\n",
    "s.headers = headers\n",
    "s.mount('https://match.yuanrenxue.com', adapter=HTTP20Adapter())\n",
    "num = 0\n",
    "for i in range(5):\n",
    "    try:\n",
    "        url = f\"https://match.yuanrenxue.com/api/match/17?page={i + 1}\"\n",
    "        if i >= 3:\n",
    "            headers['User-Agent'] = \"yuanrenxue.project\"\n",
    "            s.headers = headers\n",
    "        resp = s.get(url, headers=headers)\n",
    "        resp.encoding = \"utf-8\"\n",
    "        print(resp.url, flush=True)\n",
    "        # print(resp.request.headers, flush=True)\n",
    "        # print(resp.text, flush=True)\n",
    "        datas = resp.json()['data']\n",
    "        for data in datas:\n",
    "            num += data['value']\n",
    "    except:\n",
    "        import traceback\n",
    "        traceback.print_exc()\n",
    "        break\n",
    "print(num)\n",
    "            \n"
   ]
  },
  {
   "cell_type": "code",
   "execution_count": 24,
   "metadata": {},
   "outputs": [
    {
     "name": "stdout",
     "output_type": "stream",
     "text": [
      "0\n",
      "0\n"
     ]
    },
    {
     "name": "stderr",
     "output_type": "stream",
     "text": [
      "Traceback (most recent call last):\n",
      "  File \"<ipython-input-24-9f760f530527>\", line 23, in <module>\n",
      "    resp = cli.get(url, headers=headers)\n",
      "  File \"D:\\Anaconda3\\envs\\python36\\lib\\site-packages\\httpx\\_client.py\", line 1034, in get\n",
      "    extensions=extensions,\n",
      "  File \"D:\\Anaconda3\\envs\\python36\\lib\\site-packages\\httpx\\_client.py\", line 802, in request\n",
      "    return self.send(request, auth=auth, follow_redirects=follow_redirects)\n",
      "  File \"D:\\Anaconda3\\envs\\python36\\lib\\site-packages\\httpx\\_client.py\", line 893, in send\n",
      "    history=[],\n",
      "  File \"D:\\Anaconda3\\envs\\python36\\lib\\site-packages\\httpx\\_client.py\", line 920, in _send_handling_auth\n",
      "    history=history,\n",
      "  File \"D:\\Anaconda3\\envs\\python36\\lib\\site-packages\\httpx\\_client.py\", line 954, in _send_handling_redirects\n",
      "    response = self._send_single_request(request)\n",
      "  File \"D:\\Anaconda3\\envs\\python36\\lib\\site-packages\\httpx\\_client.py\", line 990, in _send_single_request\n",
      "    response = transport.handle_request(request)\n",
      "  File \"D:\\Anaconda3\\envs\\python36\\lib\\site-packages\\httpx\\_transports\\default.py\", line 204, in handle_request\n",
      "    resp = self._pool.handle_request(req)\n",
      "  File \"D:\\Anaconda3\\envs\\python36\\lib\\site-packages\\httpcore\\_sync\\connection_pool.py\", line 244, in handle_request\n",
      "    raise exc\n",
      "  File \"D:\\Anaconda3\\envs\\python36\\lib\\site-packages\\httpcore\\_sync\\connection_pool.py\", line 228, in handle_request\n",
      "    response = connection.handle_request(request)\n",
      "  File \"D:\\Anaconda3\\envs\\python36\\lib\\site-packages\\httpcore\\_sync\\connection.py\", line 90, in handle_request\n",
      "    return self._connection.handle_request(request)\n",
      "  File \"D:\\Anaconda3\\envs\\python36\\lib\\site-packages\\httpcore\\_sync\\http2.py\", line 88, in handle_request\n",
      "    self._send_connection_init(**kwargs)\n",
      "  File \"D:\\Anaconda3\\envs\\python36\\lib\\site-packages\\httpcore\\_sync\\http2.py\", line 169, in _send_connection_init\n",
      "    h2.settings.SettingCodes.ENABLE_CONNECT_PROTOCOL\n",
      "  File \"D:\\Anaconda3\\envs\\python36\\lib\\enum.py\", line 326, in __getattr__\n",
      "    raise AttributeError(name) from None\n",
      "AttributeError: ENABLE_CONNECT_PROTOCOL\n"
     ]
    }
   ],
   "source": [
    "# httpx 库方法：全新http请求库，完全参照requests,但是支持http2.0(需额外安装库httpx[http2])\n",
    "# pip install httpx\n",
    "# pip install httpx[http2]\n",
    "import httpx\n",
    "\n",
    "headers = {\n",
    "    \"Accept\": \"application/json, text/javascript, */*; q=0.01\",\n",
    "    \"cookie\": \"sessionid=j6359e4naq93600nh3x8ze5um6bem5hft\",    # 注意Session有效性\n",
    "    \"referer\": \"https://match.yuanrenxue.com/match/17\",\n",
    "    \"user-agent\": \"Mozilla/5.0 (Windows NT 10.0; Win64; x64) AppleWebKit/537.36 (KHTML, like Gecko) Chrome/96.0.4664.45 Safari/537.36\",\n",
    "    \"x-requested-with\": \"XMLHttpRequest\"\n",
    "}\n",
    "num = 0\n",
    "cli = httpx.Client(http2=True)\n",
    "cli.headers = headers\n",
    "for i in range(5):\n",
    "    try:\n",
    "        url = f\"https://match.yuanrenxue.com/api/match/17?page={i + 1}\"\n",
    "        if i >= 3:\n",
    "            headers['User-Agent'] = \"yuanrenxue.project\"\n",
    "            s.headers = headers\n",
    "        print(i, flush=True)\n",
    "        resp = cli.get(url, headers=headers)\n",
    "        resp.encoding = \"utf-8\"\n",
    "        print(resp.url, flush=True)\n",
    "        # print(resp.request.headers, flush=True)\n",
    "        # print(resp.text, flush=True)\n",
    "        datas = resp.json()['data']\n",
    "        for data in datas:\n",
    "            num += data['value']\n",
    "    except:\n",
    "        import traceback\n",
    "        traceback.print_exc()\n",
    "        break\n",
    "print(num)"
   ]
  },
  {
   "cell_type": "markdown",
   "metadata": {},
   "source": [
    "# 19 乌拉乌拉乌拉\n",
    "思路：ja3反爬加密算法(系统底层指纹算法，需使用Wireshark抓包观察分析)\n",
    "参考：[SSL错误，JA3指纹解决思路方法](https://zhuanlan.zhihu.com/p/447317976)<br>\n",
    "　　　[SSL浏览器指纹杂说-VMLogin 中文版浏览器](https://blog.csdn.net/finnxi_ASOer/article/details/107914427)<br>\n",
    "　　　[用于 SSL 指纹测试的网站](https://browserleaks.com/ssl)<br>\n",
    "　　　[]()<br>\n",
    "　　　[]()<br>"
   ]
  },
  {
   "cell_type": "code",
   "execution_count": 26,
   "metadata": {},
   "outputs": [
    {
     "name": "stdout",
     "output_type": "stream",
     "text": [
      "https://match.yuanrenxue.com/api/match/19?page=1\n",
      "{'Accept': 'application/json, text/javascript, */*; q=0.01', 'Cookie': 'sessionid=j6359e4naq93600nh3x8ze5um6bem5hf', 'User-Agent': 'Mozilla/5.0 (Windows NT 10.0; Win64; x64) AppleWebKit/537.36 (KHTML, like Gecko) Chrome/96.0.4664.45 Safari/537.36', 'X-Requested-With': 'XMLHttpRequest'}\n",
      "{'status': '0', 'error': 'page no found'}\n",
      "0\n"
     ]
    },
    {
     "name": "stderr",
     "output_type": "stream",
     "text": [
      "Traceback (most recent call last):\n",
      "  File \"<ipython-input-26-3c1c3bceb36b>\", line 29, in yuan_19\n",
      "    datas = resp.json()['data']\n",
      "KeyError: 'data'\n"
     ]
    }
   ],
   "source": [
    "# 猿19\n",
    "import requests\n",
    "import urllib3\n",
    "urllib3.util.ssl_.DEFAULT_CIPHERS += \":!DH\"\n",
    "\n",
    "def yuan_19():\n",
    "    \"\"\" 猿人学19 解题 \"\"\"\n",
    "    s = requests.Session()\n",
    "    headers = {\n",
    "        \"Accept\": \"application/json, text/javascript, */*; q=0.01\",\n",
    "        \"Cookie\": \"sessionid=j6359e4naq93600nh3x8ze5um6bem5hf\",\n",
    "        \"User-Agent\": \"Mozilla/5.0 (Windows NT 10.0; Win64; x64) AppleWebKit/537.36 (KHTML, like Gecko) Chrome/96.0.\"\n",
    "                      \"4664.45 Safari/537.36\",\n",
    "        \"X-Requested-With\": \"XMLHttpRequest\",\n",
    "    }\n",
    "    s.headers = headers\n",
    "    num = 0\n",
    "    for i in range(5):\n",
    "        try:\n",
    "            url = f\"https://match.yuanrenxue.com/api/match/19?page={i + 1}\"\n",
    "            if i >= 3:\n",
    "                headers['User-Agent'] = \"yuanrenxue.project\"\n",
    "\n",
    "            resp = s.get(url, headers=headers)\n",
    "            resp.encoding = \"utf-8\"\n",
    "            print(resp.url, flush=True)\n",
    "            print(resp.request.headers, flush=True)\n",
    "            print(resp.json(), flush=True)\n",
    "            datas = resp.json()['data']\n",
    "            for data in datas:\n",
    "                num += data['value']\n",
    "        except:\n",
    "            import traceback\n",
    "            traceback.print_exc()\n",
    "            break\n",
    "    print(num)\n",
    "yuan_19()"
   ]
  },
  {
   "cell_type": "code",
   "execution_count": null,
   "metadata": {},
   "outputs": [],
   "source": [
    "# 猿1\n",
    "题目1：抓取所有（5页）机票的价格，并计算所有机票价格的平均值，填入答案。\n",
    "破解：请求参数m的构造（js代码混淆、eval、js调试,无限debugger）"
   ]
  },
  {
   "cell_type": "code",
   "execution_count": 35,
   "metadata": {},
   "outputs": [
    {
     "name": "stdout",
     "output_type": "stream",
     "text": [
      "d8ead1671a35996ba39e1fde5298a252丨1641910409\n",
      "https://match.yuanrenxue.com/api/match/1?page=1&m=d8ead1671a35996ba39e1fde5298a252%E4%B8%A81641910409\n",
      "0\n"
     ]
    },
    {
     "name": "stderr",
     "output_type": "stream",
     "text": [
      "Traceback (most recent call last):\n",
      "  File \"<ipython-input-35-9eeb209fc053>\", line 42, in <module>\n",
      "    datas = resp.json()['data']\n",
      "KeyError: 'data'\n"
     ]
    }
   ],
   "source": [
    "import os\n",
    "import time\n",
    "import requests\n",
    "from urllib.parse import quote\n",
    "from urllib3 import disable_warnings\n",
    "from urllib3.exceptions import InsecureRequestWarning\n",
    "import execjs\n",
    "\n",
    "disable_warnings(InsecureRequestWarning)\n",
    "js = None\n",
    "with open('D:\\\\Liing\\\\Mynote\\\\mycode\\\\jsScripts\\\\yuanrenxue1.js', encoding='utf-8') as fp:\n",
    "    js = fp.read()\n",
    "js_engine = execjs.compile(js)\n",
    "    \n",
    "s = requests.Session()\n",
    "headers = {\n",
    "    \"Accept\": \"application/json, text/javascript, */*; q=0.01\",\n",
    "    \"cookie\": \"sessionid=j6359e4naq93600nh3x8ze5um6bem5hf\",    # 注意Session有效性\n",
    "    \"referer\": \"https://match.yuanrenxue.com/match/1\",\n",
    "    \"user-agent\": \"Mozilla/5.0 (Windows NT 10.0; Win64; x64) AppleWebKit/537.36 (KHTML, like Gecko) Chrome/96.0.4664.45 Safari/537.36\",\n",
    "    \"x-requested-with\": \"XMLHttpRequest\"\n",
    "}\n",
    "s.headers = headers\n",
    "num = 0\n",
    "for i in range(5):\n",
    "    try:\n",
    "        # if i == 0:\n",
    "        #     url = f\"https://match.yuanrenxue.com/api/match/1?page={i + 1}\"\n",
    "        # elif i > 0:\n",
    "        _t = int(time.time() * 1000) + 100000000\n",
    "        m = js_engine.call('hex_md5', str(_t)) + f'丨{_t // 1000}'\n",
    "        print(m, flush=True)\n",
    "        url = f\"https://match.yuanrenxue.com/api/match/1?page={i + 1}&m={m}\"\n",
    "        if i >= 3:\n",
    "            headers['User-Agent'] = \"yuanrenxue.project\"\n",
    "            s.headers = headers\n",
    "        resp = s.get(url, headers=headers)\n",
    "        resp.encoding = \"utf-8\"\n",
    "        print(resp.url, flush=True)\n",
    "        # print(resp.request.headers, flush=True)\n",
    "        # print(resp.text, flush=True)\n",
    "        datas = resp.json()['data']\n",
    "        for data in datas:\n",
    "            num += data['value']\n",
    "    except:\n",
    "        import traceback\n",
    "        traceback.print_exc()\n",
    "        break\n",
    "print(num)\n",
    "            "
   ]
  },
  {
   "cell_type": "code",
   "execution_count": null,
   "metadata": {},
   "outputs": [],
   "source": []
  }
 ],
 "metadata": {
  "kernelspec": {
   "display_name": "Python [conda env:python36]",
   "language": "python",
   "name": "conda-env-python36-py"
  },
  "language_info": {
   "codemirror_mode": {
    "name": "ipython",
    "version": 3
   },
   "file_extension": ".py",
   "mimetype": "text/x-python",
   "name": "python",
   "nbconvert_exporter": "python",
   "pygments_lexer": "ipython3",
   "version": "3.6.8"
  }
 },
 "nbformat": 4,
 "nbformat_minor": 4
}
