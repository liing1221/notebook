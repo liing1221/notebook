{
 "cells": [
  {
   "cell_type": "code",
   "execution_count": 12,
   "id": "a58639e6",
   "metadata": {},
   "outputs": [],
   "source": [
    "import requests\n",
    "import time\n"
   ]
  },
  {
   "cell_type": "code",
   "execution_count": 8,
   "id": "6f496460",
   "metadata": {},
   "outputs": [
    {
     "name": "stdout",
     "output_type": "stream",
     "text": [
      "{'ip': '115.77.147.211', 'country': 'VN', 'asn': {'asnum': 7552, 'org_name': 'Viettel Group'}, 'geo': {'city': 'Ho Chi Minh City', 'region': 'SG', 'region_name': 'Ho Chi Minh', 'postal_code': '', 'latitude': 10.8326, 'longitude': 106.6581, 'tz': 'Asia/Ho_Chi_Minh', 'lum_city': 'hochiminhcity', 'lum_region': 'sg'}}\n"
     ]
    }
   ],
   "source": [
    "url = \"http://lumtest.com/myip.json\"\n",
    "proxies = {\"http\": \"http://18.141.236.131:12482\", \"https\": \"http://18.141.236.131:12482\"}\n",
    "_resp = requests.get(url, proxies=proxies)\n",
    "resp = _resp.json()\n",
    "print(resp)\n"
   ]
  },
  {
   "cell_type": "code",
   "execution_count": 13,
   "id": "3b232ac3",
   "metadata": {},
   "outputs": [
    {
     "name": "stdout",
     "output_type": "stream",
     "text": [
      "Mon Sep 19 18:44:45 2022\n",
      "{'ip': '14.255.147.9', 'country': 'VN', 'asn': {'asnum': 45899, 'org_name': 'VNPT Corp'}, 'geo': {'city': 'Hanoi', 'region': 'HN', 'region_name': 'Hanoi', 'postal_code': '', 'latitude': 21.0313, 'longitude': 105.8516, 'tz': 'Asia/Bangkok', 'lum_city': 'hanoi', 'lum_region': 'hn'}}\n"
     ]
    }
   ],
   "source": [
    "url = \"http://lumtest.com/myip.json\"\n",
    "proxies = {\"http\": \"http://18.141.236.131:12482\", \"https\": \"http://18.141.236.131:12482\"}\n",
    "_resp = requests.get(url, proxies=proxies)\n",
    "resp = _resp.json()\n",
    "print(time.ctime())\n",
    "print(resp)"
   ]
  },
  {
   "cell_type": "code",
   "execution_count": 17,
   "id": "0bd49b42",
   "metadata": {},
   "outputs": [
    {
     "name": "stdout",
     "output_type": "stream",
     "text": [
      "Tue Sep 20 09:37:05 2022\n",
      "{'ip': '180.93.223.10', 'country': 'VN', 'asn': {'asnum': 7602, 'org_name': 'Saigon Postel Corporation'}, 'geo': {'city': 'Ho Chi Minh City', 'region': 'SG', 'region_name': 'Ho Chi Minh', 'postal_code': '', 'latitude': 10.8326, 'longitude': 106.6581, 'tz': 'Asia/Ho_Chi_Minh', 'lum_city': 'hochiminhcity', 'lum_region': 'sg'}}\n"
     ]
    }
   ],
   "source": [
    "url = \"http://lumtest.com/myip.json\"\n",
    "proxies = {\"http\": \"http://18.141.236.131:12482\", \"https\": \"http://18.141.236.131:12482\"}\n",
    "_resp = requests.get(url, proxies=proxies)\n",
    "resp = _resp.json()\n",
    "print(time.ctime())\n",
    "print(resp)"
   ]
  },
  {
   "cell_type": "code",
   "execution_count": 18,
   "id": "59d71819",
   "metadata": {},
   "outputs": [
    {
     "name": "stdout",
     "output_type": "stream",
     "text": [
      "Tue Sep 20 10:25:27 2022\n",
      "{'ip': '171.238.98.91', 'country': 'VN', 'asn': {'asnum': 7552, 'org_name': 'Viettel Group'}, 'geo': {'city': 'Nam Định', 'region': '67', 'region_name': 'Tinh Nam GJinh', 'postal_code': '', 'latitude': 20.4164, 'longitude': 106.1706, 'tz': 'Asia/Bangkok', 'lum_city': 'namdinh', 'lum_region': '67'}}\n"
     ]
    }
   ],
   "source": [
    "url = \"http://lumtest.com/myip.json\"\n",
    "proxies = {\"http\": \"http://18.141.236.131:12482\", \"https\": \"http://18.141.236.131:12482\"}\n",
    "_resp = requests.get(url, proxies=proxies)\n",
    "resp = _resp.json()\n",
    "print(time.ctime())\n",
    "print(resp)"
   ]
  },
  {
   "cell_type": "code",
   "execution_count": null,
   "id": "df0a5bc3",
   "metadata": {},
   "outputs": [],
   "source": []
  }
 ],
 "metadata": {
  "kernelspec": {
   "display_name": "Python 3 (ipykernel)",
   "language": "python",
   "name": "python3"
  },
  "language_info": {
   "codemirror_mode": {
    "name": "ipython",
    "version": 3
   },
   "file_extension": ".py",
   "mimetype": "text/x-python",
   "name": "python",
   "nbconvert_exporter": "python",
   "pygments_lexer": "ipython3",
   "version": "3.9.7"
  }
 },
 "nbformat": 4,
 "nbformat_minor": 5
}
