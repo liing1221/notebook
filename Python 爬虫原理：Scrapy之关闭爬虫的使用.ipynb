{
 "cells": [
  {
   "cell_type": "markdown",
   "metadata": {},
   "source": [
    "## Scrapy之关闭spider\n",
    "### 一、主动关闭爬虫\n",
    "　　在spider中 主动关闭爬虫:\n",
    ">self.crawler.engine.close_spider(self, “cookie失效关闭爬虫”)\n",
    "\n",
    "　　在pipeline 和downloadermiddlewares 主动关闭爬虫：\n",
    ">spider.crawler.engine.close_spider(spider, “全文结束关闭爬虫”)"
   ]
  }
 ],
 "metadata": {
  "kernelspec": {
   "display_name": "Python 3",
   "language": "python",
   "name": "python3"
  },
  "language_info": {
   "codemirror_mode": {
    "name": "ipython",
    "version": 3
   },
   "file_extension": ".py",
   "mimetype": "text/x-python",
   "name": "python",
   "nbconvert_exporter": "python",
   "pygments_lexer": "ipython3",
   "version": "3.7.4"
  }
 },
 "nbformat": 4,
 "nbformat_minor": 2
}
