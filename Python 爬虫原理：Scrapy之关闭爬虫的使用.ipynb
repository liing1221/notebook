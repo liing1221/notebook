{
 "cells": [
  {
   "cell_type": "markdown",
   "metadata": {},
   "source": [
    "## Scrapy之关闭spider\n",
    "### 一、主动关闭爬虫\n",
    "　　在spider中 主动关闭爬虫:\n",
    ">self.crawler.engine.close_spider(self, “cookie失效关闭爬虫”)<br>\n",
    "\n",
    "　　在pipeline 和downloadermiddlewares 主动关闭爬虫：\n",
    ">spider.crawler.engine.close_spider(spider, “全文结束关闭爬虫”)<br>\n",
    "\n",
    "### 二、定时关闭爬虫\n",
    "　　在settings.py中配置：\n",
    ">CLOSESPIDER_TIMEOUT<br>\n",
    "　　默认值: 0<br>\n",
    "eg:CLOSESPIDER_TIMEOUT = 82800 # 23小时后结束爬虫<br>\n",
    "\n",
    "　　一个整数值，单位为秒。如果一个spider在指定的秒数后仍在运行， 它将以 closespider_timeout 的原因被自动关闭。 如果值设置为0（或者没有设置），spiders不会因为超时而关闭。<br>"
   ]
  }
 ],
 "metadata": {
  "kernelspec": {
   "display_name": "Python 3",
   "language": "python",
   "name": "python3"
  },
  "language_info": {
   "codemirror_mode": {
    "name": "ipython",
    "version": 3
   },
   "file_extension": ".py",
   "mimetype": "text/x-python",
   "name": "python",
   "nbconvert_exporter": "python",
   "pygments_lexer": "ipython3",
   "version": "3.7.4"
  }
 },
 "nbformat": 4,
 "nbformat_minor": 2
}
