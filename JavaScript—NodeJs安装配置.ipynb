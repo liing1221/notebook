{
 "cells": [
  {
   "cell_type": "markdown",
   "metadata": {},
   "source": [
    "## NodeJS安装配置\n",
    "　　参考：[安装文件地址](https://nodejs.org/dist/)<br>\n",
    "　　　　　[Node.js基于Linux安装步骤](https://baijiahao.baidu.com/s?id=1647085037576532318&wfr=spider&for=pc)<br>\n",
    "　　　　　[Node.js 安装配置|菜鸟教程](https://www.runoob.com/nodejs/nodejs-install-setup.html)<br>"
   ]
  },
  {
   "cell_type": "markdown",
   "metadata": {},
   "source": [
    "### Linux 安装Node\n",
    "1、如果没有wget, 使用yum安装<br>\n",
    ">yum install wget\n",
    "\n",
    "2、下载Node(cd 到指定的安装路径下下载)： wget https://nodejs.org/dist/版本文件夹/具体版本的Node文件<br>\n",
    ">wget https://nodejs.org/dist/v10.15.0/node-v10.15.0-linux-x64.tar.xz\n",
    "\n",
    "3、下载文件解压缩<br>\n",
    ">xz -d node-v10.16.3-linux-x64.tar.xz　　　# 解压缩报错，可能下载文件有问题，重新下载<br> \n",
    "tar -xvf node-v10.16.3-linux-x64.tar<br>\n",
    "或：tar xf  node-v10.16.3-linux-x64.tar.xz <br>\n",
    "\n",
    "4、更改解压后的安装包的名称为nodejs(可不改），并将node、npm软连接到/usr/bin目录下<br>\n",
    "> ln -s 绝对路径/nodejs/bin/node /usr/bin/node<br>\n",
    "ln -s 绝对路径/nodejs/bin/npm /usr/bin/npm\n",
    "\n",
    "5、测试安装：\n",
    ">node -v<br>\n",
    "npm -v"
   ]
  }
 ],
 "metadata": {
  "kernelspec": {
   "display_name": "Python 3",
   "language": "python",
   "name": "python3"
  },
  "language_info": {
   "codemirror_mode": {
    "name": "ipython",
    "version": 3
   },
   "file_extension": ".py",
   "mimetype": "text/x-python",
   "name": "python",
   "nbconvert_exporter": "python",
   "pygments_lexer": "ipython3",
   "version": "3.7.1"
  }
 },
 "nbformat": 4,
 "nbformat_minor": 2
}
