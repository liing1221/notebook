{
 "cells": [
  {
   "cell_type": "markdown",
   "metadata": {},
   "source": [
    "## NodeJS安装配置\n",
    "　　参考：[官方地址](https://nodejs.org/zh-cn/)<br>\n",
    "　　　　　[安装文件地址](https://nodejs.org/dist/)<br>\n",
    "　　　　　[Node.js基于Linux安装步骤](https://baijiahao.baidu.com/s?id=1647085037576532318&wfr=spider&for=pc)<br>\n",
    "　　　　　[Node.js 安装配置|菜鸟教程](https://www.runoob.com/nodejs/nodejs-install-setup.html)<br>\n",
    "　　　　　[CentOS7 安装 nodejs](https://www.cnblogs.com/klvchen/p/12923984.html)<br>\n",
    "　　　　　[Node.js文档与API](https://nodejs.org/zh-cn/docs/guides/debugging-getting-started/)<br>\n",
    "　　　　　[Node.js调试](https://www.cnblogs.com/tzyy/p/5028348.html)<br>\n",
    "　　　　　[NPM官方](https://www.npmjs.com/)<br>"
   ]
  },
  {
   "cell_type": "markdown",
   "metadata": {},
   "source": [
    "### Linux 安装Node\n",
    "1、如果没有wget, 使用yum安装wget<br>\n",
    ">yum install wget\n",
    "\n",
    "2、下载Node(cd 到指定的安装路径下下载)： wget https://nodejs.org/dist/版本文件夹/具体版本的Node文件<br>\n",
    ">wget https://nodejs.org/dist/v10.15.0/node-v10.15.0-linux-x64.tar.xz\n",
    "\n",
    "3、下载文件解压缩<br>\n",
    ">xz -d node-v10.16.3-linux-x64.tar.xz　　　# 解压tar.xz文件<br> \n",
    "tar -xvf node-v10.16.3-linux-x64.tar　　或　　tar xf  node-v10.16.3-linux-x64.tar.xz <br>\n",
    "tar zxvf node-v10.16.3-linux-x64.tar.gz 　　# 解压tar.gz文件<br>\n",
    "mv node-v10.16.3-linux-x64 /usr/local/node-v10.16.3<br>\n",
    "\n",
    "4、配置path\n",
    ">vi /etc/profile<br>\n",
    "<br>\n",
    "export NODEJS=/usr/local/node-v10.16.3<br>\n",
    "export PATH=$PATH:$NODEJS/bin<br>\n",
    "<br>\n",
    "source /etc/profile<br>\n",
    "\n",
    "5、node、npm软连接到/usr/bin目录下<br>\n",
    "> ln -s /usr/local/node-v10.16.3/nodejs/bin/node /usr/bin/node<br>\n",
    "ln -s /usr/local/node-v10.16.3/nodejs/bin/npm /usr/bin/npm<br>\n",
    "\n",
    "6、npm 设置淘宝源\n",
    ">npm config set registry http://registry.npm.taobao.org/<br>\n",
    "npm config get registry　　# 检查是否更换成功<br>\n",
    "\n",
    "7、安装 cnpm\n",
    ">npm install -g cnpm --registry=https://registry.npm.taobao.org<br>\n",
    "node -v<br>\n",
    "cnpm -v<br>\n",
    "\n",
    "8、升级 npm 版本\n",
    ">npm install npm@6.14.2 -g      # 指定版本<br>\n",
    "npm install npm@latest -g      # 最新版本<br>\n",
    "\n",
    "9、安装 pm2\n",
    ">cnpm install -g pm2<br>\n",
    "\n"
   ]
  }
 ],
 "metadata": {
  "kernelspec": {
   "display_name": "Python 3",
   "language": "python",
   "name": "python3"
  },
  "language_info": {
   "codemirror_mode": {
    "name": "ipython",
    "version": 3
   },
   "file_extension": ".py",
   "mimetype": "text/x-python",
   "name": "python",
   "nbconvert_exporter": "python",
   "pygments_lexer": "ipython3",
   "version": "3.8.8"
  }
 },
 "nbformat": 4,
 "nbformat_minor": 2
}
