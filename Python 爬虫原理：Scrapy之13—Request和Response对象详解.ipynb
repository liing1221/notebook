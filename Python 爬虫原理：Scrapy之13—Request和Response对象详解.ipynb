{
 "cells": [
  {
   "cell_type": "markdown",
   "metadata": {},
   "source": [
    "# Request和Response对象详解\n",
    "　　参考：[Scrapy爬虫入门教程十一 Request和Response（请求和响应）](https://www.jianshu.com/p/461d74641e80)<br>\n",
    "　　　　　[scrapy中Request参数](https://www.cnblogs.com/heymonkey/p/11818495.html)<br>"
   ]
  }
 ],
 "metadata": {
  "kernelspec": {
   "display_name": "Python 3",
   "language": "python",
   "name": "python3"
  },
  "language_info": {
   "codemirror_mode": {
    "name": "ipython",
    "version": 3
   },
   "file_extension": ".py",
   "mimetype": "text/x-python",
   "name": "python",
   "nbconvert_exporter": "python",
   "pygments_lexer": "ipython3",
   "version": "3.7.4"
  }
 },
 "nbformat": 4,
 "nbformat_minor": 4
}
