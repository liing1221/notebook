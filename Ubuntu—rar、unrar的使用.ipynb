{
 "cells": [
  {
   "cell_type": "markdown",
   "metadata": {},
   "source": [
    "## Ubuntu—rar、unrar的使用"
   ]
  },
  {
   "cell_type": "markdown",
   "metadata": {},
   "source": [
    "#### rar使用：<br>\n",
    "1、安装rar文件：<br>\n",
    ">sudo apt install rar<br>\n",
    "\n",
    "2、rar常用命令主要有:<br>\n",
    "　　e 将文件解压到当前目录<br>\n",
    ">rar e test.rar    注:用e解压的话，不仅原来的file1.txt和file2.txt被解压到当前目录，就连dir1里面的所有文件\n",
    "    也被解压到当前目录下，不能保持压缩前的目录结构，如果想保持压缩前的目录结构，用x解压\n",
    "    \n",
    "　　x 带路径解压文档中内容到当前目录\n",
    ">rar x test.rar    这样解压的话，dir1就会保持原来的目录结构\n",
    "\n",
    "　　a 添加文件到操作文档\n",
    ">rar a test.rar file1.txt 若test.rar文件不存在，则打包file1.txt文件成test.rar\n",
    ">rar a test.rar file2.txt 若test.rar文件已经存在，则添加file2.txt文件到test.rar中 (这样test.rar中就有两个文件了）\n",
    ">rar a test.rar dir1    注，如果操作文档中已有某文件的一份拷贝，则a命令更新该文件，对目录也可以进行操作\n",
    "\n",
    "　　c 对操作文档添加说明注释\n",
    ">rar c test.rar    （会出现Reading comment from stdin字样，然后输入一行或多行注释，以ctrl+d结束）　　\n",
    "  \n",
    "　　　　cf 添加文件注释，类似上面的c，不过这个是对压缩文档中每个文件进行注释<br>\n",
    "\n",
    "　　　　cw 将文档注释写入文件\n",
    ">rar cw test.rar comment.txt\n",
    "\n",
    "　　d 从文档中删除文件\n",
    ">rar d test.rar file1.txt\n",
    "\n",
    "　　k 锁定文档\n",
    ">rar k test.rar　　　锁定文档后，该文档就无法进行任何更新操作了\n",
    "\n",
    "　　r 修复文档\n",
    ">rar r test.rar    当rar文件有问题时，可以尝试用该命令进行修复（鬼知道有多少用）\n",
    "\n",
    "　　s 转换文档成自解压文档\n",
    ">rar s test.rar    会生成一个test.sfx的可执行文档，运行它的效果就相当于rar x test.rar，适合于向没有rar的用户传输文件\n",
    "\n",
    "　　t 检测文档\n",
    ">rar t test.rar    检测test.rar的完整性，一般压缩完大型文件准备传输前最好用这个命令来确保文件的正确性\n",
    "\n"
   ]
  },
  {
   "cell_type": "markdown",
   "metadata": {},
   "source": [
    "#### unrar的使用：\n",
    "\n",
    "$unrar --help\n",
    "\n",
    "用法:\n",
    ">unrar <command> -<switch 1> -<switch N> <archive> <files...>\n",
    "               <@listfiles...> <path_to_extract\\>\n",
    "\n",
    "<命令><br>\n",
    "　　e             解压文件到当前目录<br>\n",
    "　　l[t,b]        列出压缩文档信息[technical, bare]<br>\n",
    "　　p             打印文件到标准输出<br>\n",
    "　　t             测试压缩我俄当<br>\n",
    "　　v[t,b]        列出压缩文档的详细信息[technical,bare]<br>\n",
    "　　x             解压文件到完整路径<br>\n",
    "> unrar  e  anaconda-ks.cfg.rar  /home/\n"
   ]
  }
 ],
 "metadata": {
  "kernelspec": {
   "display_name": "Python 3",
   "language": "python",
   "name": "python3"
  },
  "language_info": {
   "codemirror_mode": {
    "name": "ipython",
    "version": 3
   },
   "file_extension": ".py",
   "mimetype": "text/x-python",
   "name": "python",
   "nbconvert_exporter": "python",
   "pygments_lexer": "ipython3",
   "version": "3.7.0"
  }
 },
 "nbformat": 4,
 "nbformat_minor": 2
}
