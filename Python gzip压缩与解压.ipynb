{
 "cells": [
  {
   "cell_type": "markdown",
   "metadata": {},
   "source": [
    "## gzip库使用详解\n",
    "　　参考：[Python之gzip模块的使用](https://www.cnblogs.com/ygbh/p/12128233.html)<br>\n",
    "　　　　　[gzip库函数使用方法及示例](py3study.com/Article/details/id/10927.html)<br>\n",
    "　　　　　[python处理gzip数据](https://blog.csdn.net/airgreen/article/details/79658229?depth_1-utm_source=distribute.pc_relevant.none-task&utm_source=distribute.pc_relevant.none-task)<br>\n",
    "　　　　　[gzip官方文档](https://docs.python.org/3/library/gzip.html)<br>"
   ]
  }
 ],
 "metadata": {
  "kernelspec": {
   "display_name": "Python 3",
   "language": "python",
   "name": "python3"
  },
  "language_info": {
   "codemirror_mode": {
    "name": "ipython",
    "version": 3
   },
   "file_extension": ".py",
   "mimetype": "text/x-python",
   "name": "python",
   "nbconvert_exporter": "python",
   "pygments_lexer": "ipython3",
   "version": "3.7.1"
  }
 },
 "nbformat": 4,
 "nbformat_minor": 2
}
