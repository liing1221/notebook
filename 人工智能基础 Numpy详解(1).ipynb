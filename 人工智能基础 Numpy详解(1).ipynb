{
 "cells": [
  {
   "cell_type": "markdown",
   "metadata": {},
   "source": [
    "## 人工智能基础 Numpy详解(1)\n",
    "### 简介：\n",
    "　　Numpy是python中的科学计算工具包，提供了一个多维数组对象，用于多维数组或者矩阵的快速运算，包括线性代数基本运算，快速傅里叶变换，基本统计运算随机模拟等。在机器学习中涉及到大量的矩阵知识，熟练使用numpy包有利于快速理解并实现机器学习中的相关算法。<br>\n",
    "　　Numpy有以下特性：<br>\n",
    "　　1、numpy创建的多维数组(narray)拥有固定的大小，不像python中的列表(list),是可以动态增加的。改变numpy创建的多维数组的大小，会删除原来的多维数组，并创建一个新的数组。<br>\n",
    "　　2、numpy创建的数组所有元素的类型必须是保持一致，并且在内存中拥有同样的大小。当numpy中的元素是对象时，可以拥有不同的大小和。<br>\n",
    "　　**Numpy的安装：**<br>\n",
    "> pip install numpy<br> \n",
    "### 基本使用:<br> \n",
    "Numpy 数组：ndarray<br> \n",
    "　　NumPy 中定义的最重要的对象是称为 ndarray 的 N 维数组类型，它是描述相同类型的元素集合。ndarray 中的每个元素都是数据类型对象(dtype)的对象。ndarray 中的每个元素在内存中使用相同大小的块。<br> \n",
    "#### **Ndarray数组创建1:**<br> \n",
    ">numpy.array(object, dtype=None, copy=True, order='K', subok=False, ndmin=0)<br> \n",
    "\n",
    "**参数描述:**\n",
    ">object　　　任何暴露数组接口方法的对象<br> \n",
    "dtype　　　　数据类型。NumPy 支持比 Python 更多种类的数值类型<br> \n",
    "copy　　　　如果为 True，则 object 对象被复制，否则，只有当array返回副本，object 是嵌套序列，或者需要副本来满足任何其他<br> \n",
    "　　　　　　要求（dtype，order等）时，才会生成副本。<br> \n",
    "order　　　　指定阵列的内存布局。 如果 object 不是数组，则新创建的数组将按行排列（C），如果指定了（F），则按列排列。 如<br> \n",
    "　　　　　　果 object 是一个数组，则以下成立。C（按行）、F（按列）、A（原顺序）、K（元素在内存中的出现顺序）<br> \n",
    "subok　　　　默认情况下，返回的数组被强制为基类数组。 如果为 True，则返回子类。<br> \n",
    "ndmin　　　　返回数组的最小维数<br> \n",
    "\n",
    "注意：list 打印显示是 [1, 2, 3]，而 ndarray 打印显示是 [1 2 3]，当中没有逗号。<br> "
   ]
  },
  {
   "cell_type": "code",
   "execution_count": 2,
   "metadata": {},
   "outputs": [
    {
     "name": "stdout",
     "output_type": "stream",
     "text": [
      "[1 2 3] <class 'numpy.ndarray'>\n"
     ]
    }
   ],
   "source": [
    "import numpy as np\n",
    "a = [1, 2, 3]\n",
    "b = np.array(a)\n",
    "print(b, type(b))"
   ]
  },
  {
   "cell_type": "markdown",
   "metadata": {},
   "source": [
    "dtype 参数用法示例<br>\n",
    "NumPy 支持比 Python 更多种类的数值类型<br>"
   ]
  },
  {
   "cell_type": "code",
   "execution_count": 4,
   "metadata": {},
   "outputs": [
    {
     "name": "stdout",
     "output_type": "stream",
     "text": [
      "[1. 2. 3.] float64 <class 'numpy.float64'>\n"
     ]
    }
   ],
   "source": [
    "import numpy as np\n",
    "\n",
    "a = [1, 2, 3]\n",
    "b = np.array(a, dtype=np.float_) # 或者\n",
    "b = np.array(a, dtype=float)\n",
    "\n",
    "print(b, b.dtype, type(b[0]))"
   ]
  },
  {
   "cell_type": "markdown",
   "metadata": {},
   "source": [
    "copy 参数的用法<br>\n",
    "可以看到:copy为True时，a和b的值不同，说明b是a的副本，两个是不同的对象。而，copy为False时，a改变同时引起了b的改变，说明a和b指向的是同一个对象。<br>"
   ]
  },
  {
   "cell_type": "code",
   "execution_count": 9,
   "metadata": {},
   "outputs": [
    {
     "name": "stdout",
     "output_type": "stream",
     "text": [
      "[0 2 3] [1 2 3]\n",
      "***************\n",
      "[0 2 3] [0 2 3]\n"
     ]
    }
   ],
   "source": [
    "import numpy as np\n",
    "\n",
    "a = np.array([1, 2, 3])\n",
    "b = np.array(a, copy=True)\n",
    "a[0] = 0\n",
    "\n",
    "print(a, b)\n",
    "print('***************')\n",
    "\n",
    "c = np.array(b, copy=False)\n",
    "b[0] = 0\n",
    "\n",
    "print(b, c)"
   ]
  },
  {
   "cell_type": "markdown",
   "metadata": {},
   "source": [
    "ndmin 参数用法示例<br>"
   ]
  },
  {
   "cell_type": "code",
   "execution_count": 10,
   "metadata": {},
   "outputs": [
    {
     "name": "stdout",
     "output_type": "stream",
     "text": [
      "[[1 2 3]]\n"
     ]
    }
   ],
   "source": [
    "import numpy as np\n",
    "\n",
    "a = [1, 2, 3]\n",
    "b = np.array(a, ndmin=2)\n",
    "\n",
    "print(b)      # 可以看到结果已经变成了二维数组。"
   ]
  },
  {
   "cell_type": "markdown",
   "metadata": {},
   "source": [
    "subok 参数用法示例<br>\n",
    "看解释不是很清楚，看下面这个例子就会明白许多。其中 matrix 是矩阵，将在之后的内容中介绍。<br>"
   ]
  },
  {
   "cell_type": "code",
   "execution_count": 11,
   "metadata": {},
   "outputs": [
    {
     "name": "stdout",
     "output_type": "stream",
     "text": [
      "[[1 2 7]\n",
      " [3 4 8]\n",
      " [5 6 9]] <class 'numpy.matrixlib.defmatrix.matrix'>\n",
      "[[1 2 7]\n",
      " [3 4 8]\n",
      " [5 6 9]] <class 'numpy.matrixlib.defmatrix.matrix'>\n",
      "[[1 2 7]\n",
      " [3 4 8]\n",
      " [5 6 9]] <class 'numpy.ndarray'>\n"
     ]
    }
   ],
   "source": [
    "import numpy as np\n",
    "\n",
    "a = np.matrix('1 2 7; 3 4 8; 5 6 9')\n",
    "print(a, type(a))\n",
    "at = np.array(a, subok=True)\n",
    "af = np.array(a, subok=False)\n",
    "print(at, type(at))\n",
    "print(af, type(af))"
   ]
  },
  {
   "cell_type": "markdown",
   "metadata": {},
   "source": [
    "NumPy 数组属性<br>\n",
    "NumPy 数组的维度（又称维数）称为秩（rank），一维数组的秩为 1，二维数组的秩为 2，以此类推。<br>\n",
    "NumPy 中，每一个线性的数组称为是一个轴（axis），也就是维度（dimensions）。<br>\n",
    "\n",
    "|属性|说明|\n",
    "|:---|---:|\n",
    "|ndarray.ndim|秩，即轴的数量或维度的数量|\n",
    "|ndarray.shape|数组的维度，对于矩阵，n 行 m 列|\n",
    "|ndarray.size|数组元素的总个数，相当于 .shape 中 n\\*m 的值|\n",
    "|ndarray.dtype|ndarray 对象的元素类型|\n",
    "|ndarray.itemsize|ndarray 对象中每个元素的大小，以字节为单位|\n",
    "|ndarray.flags|ndarray 对象的内存信息|\n",
    "|ndarray.real|ndarray 元素的实部（复数的实部）|\n",
    "|ndarray.imag|ndarray 元素的虚部（复数的虚部）|\n",
    "|ndarray.data|包含实际数组元素的缓冲区，由于一般通过数组的索引获取元素，所以通常不需要使用这个属性。|"
   ]
  },
  {
   "cell_type": "markdown",
   "metadata": {},
   "source": [
    "1、ndarray.shape<br>\n",
    "返回一个包含数组维度的元组，对于矩阵，n 行 m 列，它也可以用于调整数组维度。<br>"
   ]
  },
  {
   "cell_type": "code",
   "execution_count": 13,
   "metadata": {},
   "outputs": [
    {
     "name": "stdout",
     "output_type": "stream",
     "text": [
      "(2, 3)\n",
      "[[1 2]\n",
      " [3 4]\n",
      " [5 6]]\n"
     ]
    }
   ],
   "source": [
    "import numpy as np\n",
    "\n",
    "a = np.array([[1, 2, 3], [4, 5, 6]])\n",
    "print(a.shape)\n",
    "a.shape = (3, 2)\n",
    "print(a)"
   ]
  },
  {
   "cell_type": "markdown",
   "metadata": {},
   "source": [
    "NumPy 也提供了reshape() 函数来调整数组维度。只是 reshape()返回调整维度后的副本，而不改变原 ndarray。<br>"
   ]
  },
  {
   "cell_type": "code",
   "execution_count": 16,
   "metadata": {},
   "outputs": [
    {
     "name": "stdout",
     "output_type": "stream",
     "text": [
      "[[1 2 3]\n",
      " [4 5 6]]\n",
      "[[1 2]\n",
      " [3 4]\n",
      " [5 6]]\n"
     ]
    }
   ],
   "source": [
    "import numpy as np\n",
    "\n",
    "a = np.array([[1, 2, 3], [4, 5, 6]])\n",
    "b = a.reshape(3, 2)\n",
    "print(a, b, sep='\\n')  # a 没变"
   ]
  },
  {
   "cell_type": "markdown",
   "metadata": {},
   "source": [
    "2、ndarray.ndim<br>\n",
    "返回数组的维度（秩）。<br>"
   ]
  },
  {
   "cell_type": "code",
   "execution_count": 17,
   "metadata": {},
   "outputs": [
    {
     "name": "stdout",
     "output_type": "stream",
     "text": [
      "1\n",
      "3\n"
     ]
    }
   ],
   "source": [
    "import numpy as np\n",
    "\n",
    "a = np.arange(24)\n",
    "print(a.ndim)\n",
    "\n",
    "# 现在调整其大小\n",
    "b = a.reshape(2, 4, 3)\n",
    "print(b.ndim)"
   ]
  },
  {
   "cell_type": "markdown",
   "metadata": {},
   "source": [
    "3、ndarray.flags<br>\n",
    "ndarray.flags 返回 ndarray 对象的内存信息，包含以下属性：<br>\n",
    "\n",
    "|属性|描述|\n",
    "|:---:|---:|\n",
    "|C_CONTIGUOUS|数据是在一个单一的C风格的连续段中|\n",
    "|F_CONTIGUOUS|数据是在一个单一的Fortran风格的连续段中|\n",
    "|OWNDATA|数组拥有它所使用的内存或从另一个对象中借用它|\n",
    "|WRITEABLE|数据区域可以被写入，将该值设置为 False，则数据为只读|\n",
    "|ALIGNED|数据和所有元素都适当地对齐到硬件上|\n",
    "|WRITEBACKIFCOPY||PDATEIFCOPY 已弃用，由 WRITEBACKIFCOPY 取代;|\n",
    "|UPDATEIFCOPY|这个数组是其它数组的一个副本，当这个数组被释放时，原数组的内容将被更新|"
   ]
  },
  {
   "cell_type": "code",
   "execution_count": 18,
   "metadata": {},
   "outputs": [
    {
     "name": "stdout",
     "output_type": "stream",
     "text": [
      "  C_CONTIGUOUS : True\n",
      "  F_CONTIGUOUS : False\n",
      "  OWNDATA : True\n",
      "  WRITEABLE : True\n",
      "  ALIGNED : True\n",
      "  WRITEBACKIFCOPY : False\n",
      "  UPDATEIFCOPY : False\n"
     ]
    }
   ],
   "source": [
    "import numpy as np\n",
    "\n",
    "a = np.array([[1, 2, 3], [4, 5, 6]])\n",
    "print(a.flags)"
   ]
  },
  {
   "cell_type": "markdown",
   "metadata": {},
   "source": [
    "4、ndarray.real<br>\n",
    "ndarray 元素的实部（复数的实部）<br>"
   ]
  },
  {
   "cell_type": "code",
   "execution_count": 19,
   "metadata": {},
   "outputs": [
    {
     "name": "stdout",
     "output_type": "stream",
     "text": [
      "[1.        +0.j         0.70710678+0.70710678j]\n",
      "[1.         0.70710678]\n",
      "float64\n"
     ]
    }
   ],
   "source": [
    "import numpy as np\n",
    "\n",
    "x = np.sqrt([1+0j, 0+1j])\n",
    "print(x)\n",
    "print(x.real)\n",
    "print(x.real.dtype)"
   ]
  },
  {
   "cell_type": "markdown",
   "metadata": {},
   "source": [
    "NumPy 中的常数<br>\n",
    "正无穷：Inf = inf = infty = Infinity = PINF<br>\n",
    "负无穷：NINF<br>\n",
    "正零：PZERO<br>\n",
    "负零：NZERO<br>\n",
    "非数值：nan = NaN = NAN<br>\n",
    "自然数e：e<br>\n",
    "π：pi<br>\n",
    "伽马：euler_gamma<br>\n",
    "None 的别名：newaxis<br>"
   ]
  },
  {
   "cell_type": "code",
   "execution_count": 20,
   "metadata": {},
   "outputs": [
    {
     "name": "stdout",
     "output_type": "stream",
     "text": [
      "inf\n",
      "-inf\n",
      "0.0\n",
      "-0.0\n",
      "nan\n",
      "2.718281828459045\n",
      "3.141592653589793\n",
      "0.5772156649015329\n",
      "None\n"
     ]
    }
   ],
   "source": [
    "print(np.inf)\n",
    "print(np.NINF)\n",
    "print(np.PZERO)\n",
    "print(np.NZERO)\n",
    "print(np.nan)\n",
    "print(np.e)\n",
    "print(np.pi)\n",
    "print(np.euler_gamma)\n",
    "print(np.newaxis)"
   ]
  },
  {
   "cell_type": "markdown",
   "metadata": {},
   "source": [
    "#### **Ndarray数组创建2:**<br> \n",
    ">numpy.empty(shape, dtype=float, order='C')<br>\n",
    "\n",
    "此方法用来创建一个指定维度（shape）、数据类型（dtype）的未初始化的数组。<br>\n",
    "注意：empty() 方法和zeros()方法不同，不会将数组值设置为零，因此可能会略微加快。另一方面，它要求用户手动设置数组中的所有值，并应谨慎使用。<br>\n",
    "**参数描述:**<br>\n",
    ">shape　　　　# 一个表示数组维度的元组<br>\n",
    "dtype　　　　 # 数据类型<br>\n",
    "order　　　 　# 有 \"C\" 和 \"F\" 两个选项<br>"
   ]
  },
  {
   "cell_type": "code",
   "execution_count": 21,
   "metadata": {},
   "outputs": [
    {
     "name": "stdout",
     "output_type": "stream",
     "text": [
      "[[1 2]\n",
      " [3 4]\n",
      " [5 6]]\n"
     ]
    }
   ],
   "source": [
    "import numpy as np\n",
    "\n",
    "x = np.empty([3, 2], dtype=int)\n",
    "print(x)"
   ]
  },
  {
   "cell_type": "markdown",
   "metadata": {},
   "source": [
    "#### **Ndarray数组创建3:**<br> \n",
    "创建指定维度，以 0 填充的新数组。<br>\n",
    ">numpy.zeros(shape, dtype=float, order='C')<br>\n",
    "\n",
    "注意：默认是 float 类型的<br>"
   ]
  },
  {
   "cell_type": "code",
   "execution_count": 22,
   "metadata": {},
   "outputs": [
    {
     "name": "stdout",
     "output_type": "stream",
     "text": [
      "[0. 0. 0. 0. 0.]\n"
     ]
    }
   ],
   "source": [
    "import numpy as np\n",
    "\n",
    "x = np.zeros(5)\n",
    "print(x)"
   ]
  },
  {
   "cell_type": "markdown",
   "metadata": {},
   "source": [
    "#### **Ndarray数组创建4:**<br> \n",
    "创建指定维度，以 1 填充的新数组。<br>\n",
    ">numpy.ones(shape, dtype=float, order='C')<br>"
   ]
  },
  {
   "cell_type": "code",
   "execution_count": 23,
   "metadata": {},
   "outputs": [
    {
     "name": "stdout",
     "output_type": "stream",
     "text": [
      "[1. 1. 1. 1. 1.]\n"
     ]
    }
   ],
   "source": [
    "import numpy as np\n",
    "\n",
    "x = np.ones(5)\n",
    "print(x)"
   ]
  },
  {
   "cell_type": "markdown",
   "metadata": {},
   "source": [
    "#### **Ndarray数组创建5:**<br> \n",
    "返回给定维度和类型的新数组，填充 fill_value。<br>\n",
    ">numpy.full(shape, fill_value, dtype=None, order='C')<br>\n",
    "\n",
    "**参数描述:**<br>\n",
    ">shape　　　　# 返回数组的维度<br>\n",
    "fill_value　　　　# 填充值<br>\n",
    "dtype　　　　　# 返回数组的数据类型，默认值 None 指：np.array(fill_value).dtype<br>\n",
    "order　　　　　# 在计算机内存中的存储元素的顺序，只支持 'C'（按行）、'F'（按列），默认 'C'<br>"
   ]
  },
  {
   "cell_type": "code",
   "execution_count": 24,
   "metadata": {},
   "outputs": [
    {
     "name": "stdout",
     "output_type": "stream",
     "text": [
      "[[9 9 9]\n",
      " [9 9 9]]\n"
     ]
    }
   ],
   "source": [
    "import numpy as np\n",
    "\n",
    "a = np.full((2, 3), 9)\n",
    "print(a)"
   ]
  },
  {
   "cell_type": "markdown",
   "metadata": {},
   "source": [
    "NumPy 从数值范围创建数组<br>\n",
    "#### **Ndarray数组创建6:**<br> \n",
    "该函数等效于 Python 内置 range 函数，但返回的是 ndarray 而不是列表。<br>\n",
    ">numpy.arange([start,] stop[, step,], dtype=None)<br>\n",
    "\n",
    "[ ] 括起来的表示可选参数。<br>\n",
    "**参数描述:**<br>\n",
    ">start　　　　# 起始值，默认为 0<br>\n",
    "stop　　　　　# 终止值（不包含）<br>\n",
    "step　　　　　# 步长，默认为1<br>\n",
    "dtype　　　　　# 创建的 ndarray 的数据类型，如果没有提供，则会使用输入数据的类型。<br>"
   ]
  },
  {
   "cell_type": "code",
   "execution_count": 25,
   "metadata": {},
   "outputs": [
    {
     "name": "stdout",
     "output_type": "stream",
     "text": [
      "[0 1 2 3 4] [10 12 14 16 18]\n"
     ]
    }
   ],
   "source": [
    "import numpy as np\n",
    "\n",
    "a = np.arange(5)\n",
    "b = np.arange(10, 20, 2)\n",
    "print(a, b)"
   ]
  },
  {
   "cell_type": "markdown",
   "metadata": {},
   "source": [
    "#### **Ndarray数组创建7:**<br> \n",
    "创建一个一维等差数列的数组，与 arange 函数不同，arange 是固定步长，而linspace 则是固定元素数量。<br>\n",
    ">numpy.linspace(start, stop, num=50, endpoint=True, retstep=False, dtype=None)<br>\n",
    "\n",
    "**参数描述:**<br>\n",
    ">start　　　　　# 序列的起始值<br>\n",
    "stop　　　　　# 序列的终止值，如果 endpoint 为 True，则该值包含于数列中<br>\n",
    "num　　　　　# 要生成的等步长的样本数量，默认为 50<br>\n",
    "endpoint 　　　　　# 该值为 Ture 时，数列中中包含 stop 值，反之不包含，默认是 True。<br>\n",
    "retstep　　　　　# 如果为 True 时，生成的数组中会显示间距，反之不显示。<br>\n",
    "dtype　　　　　# ndarray 的数据类型<br>\n",
    "\n",
    "例一：endpoint 参数的用法<br>\n",
    "我特意挑了下面这个除不尽的例子来显示 endpoint 的效果。可以看到，endpoint=False 取值是 endpoint=True，并且num = num + 1 的结果去掉终止值。这话有点拗口啊，对比一下下例中的num 参数值及输出结果就明白了。<br>"
   ]
  },
  {
   "cell_type": "code",
   "execution_count": 26,
   "metadata": {},
   "outputs": [
    {
     "name": "stdout",
     "output_type": "stream",
     "text": [
      "[0.         1.66666667 3.33333333] [0.         1.66666667 3.33333333 5.        ]\n"
     ]
    }
   ],
   "source": [
    "import numpy as np\n",
    "\n",
    "a = np.linspace(0, 5, 3, endpoint=False)\n",
    "b = np.linspace(0, 5, 4, endpoint=True)\n",
    "\n",
    "print(a, b)"
   ]
  },
  {
   "cell_type": "markdown",
   "metadata": {},
   "source": [
    "retstep 参数的用法<br>\n",
    "返回一个元组，第一个元素是 numpy.ndarray，第二个元素是步长。<br>"
   ]
  },
  {
   "cell_type": "code",
   "execution_count": 27,
   "metadata": {},
   "outputs": [
    {
     "name": "stdout",
     "output_type": "stream",
     "text": [
      "(array([ 0. ,  2.5,  5. ,  7.5, 10. ]), 2.5)\n"
     ]
    }
   ],
   "source": [
    "import numpy as np\n",
    "\n",
    "a = np.linspace(0, 10, 5, retstep=True)\n",
    "print(a)"
   ]
  },
  {
   "cell_type": "markdown",
   "metadata": {},
   "source": [
    "dtype 参数<br>\n",
    "dtype 参数指定后会将结果强制转换成 dtype 指定的类型，如果是 float 转 int，最终值就可能不是等差的了。<br>"
   ]
  },
  {
   "cell_type": "code",
   "execution_count": 28,
   "metadata": {},
   "outputs": [
    {
     "name": "stdout",
     "output_type": "stream",
     "text": [
      "[ 0  2  5  7 10]\n"
     ]
    }
   ],
   "source": [
    "import numpy as np\n",
    "\n",
    "a = np.linspace(0, 10, 5, dtype=int)\n",
    "print(a)"
   ]
  },
  {
   "cell_type": "markdown",
   "metadata": {},
   "source": [
    "#### **Ndarray数组创建8:**<br> \n",
    "numpy.logspace函数用于创建一个等比数列。<br>\n",
    ">numpy.logspace(start, stop, num=50, endpoint=True, base=10.0, dtype=None)<br>\n",
    "\n",
    "**参数描述:**<br>\n",
    ">start　　　　# 序列的起始值为：base ** start （幂运算）<br>\n",
    "stop　　　　# 序列的终止值为：base ** stop。如果 endpoint 为 True，该值包含于数列中<br>\n",
    "num　　　　# 要生成的等步长的样本数量，默认为50<br>\n",
    "endpoint　　　　# 该值为 Ture 时，数列中中包含 stop 值，反之不包含，默认是 True。<br>\n",
    "base　　　　# 对数 log 的底数。<br>\n",
    "dtype　　　　# ndarray 的数据类型<br>\n",
    "\n",
    "注意：其实没啥好说的，主要是注意 start 参数的值并非是真正的起始值。<br>"
   ]
  },
  {
   "cell_type": "code",
   "execution_count": 29,
   "metadata": {},
   "outputs": [
    {
     "name": "stdout",
     "output_type": "stream",
     "text": [
      "[   10.   100.  1000. 10000.]\n"
     ]
    }
   ],
   "source": [
    "import numpy as np\n",
    "\n",
    "a = np.logspace(1, 4, num=4)\n",
    "print(a)"
   ]
  },
  {
   "cell_type": "markdown",
   "metadata": {},
   "source": [
    "#### **Ndarray数组创建9:**<br> \n",
    "创建一个一维等比数列。<br>\n",
    ">numpy.geomspace(start, stop, num=50, endpoint=True, dtype=None, axis=0)<br>\n",
    "\n",
    "**参数描述:**<br>\n",
    ">start　　　　# 序列的起始值<br>\n",
    "stop　　　　# 序列的终止值，如果 endpoint 为 True，该值包含于数列中<br>\n",
    "num　　　　# 要生成的样本数量，默认为 50<br>\n",
    "endpoint　　　　# 该值为 Ture 时，数列中中包含 stop 值，反之不包含，默认是 True。<br>\n",
    "dtype　　　　# ndarray 的数据类型<br>\n",
    "axis　　　　# 1.16.0 版本中的新功能 ，没看懂怎么用，官网上连个例子都没有，值为 0 和 -1 的时候结果相同，其他时候都报错。<br>\n"
   ]
  },
  {
   "cell_type": "code",
   "execution_count": 30,
   "metadata": {},
   "outputs": [
    {
     "name": "stdout",
     "output_type": "stream",
     "text": [
      "[1. 2. 4. 8.]\n"
     ]
    }
   ],
   "source": [
    "import numpy as np\n",
    "\n",
    "a = np.geomspace(1, 8, num=4)\n",
    "print(a)"
   ]
  },
  {
   "cell_type": "markdown",
   "metadata": {},
   "source": [
    "NumPy 从已有的数组创建数组<br>\n",
    "#### **Ndarray数组创建10:**<br> \n",
    ">numpy.asarray(a, dtype=None, order=None)<br>\n",
    "\n",
    "numpy.asarray 类似 numpy.array，但 numpy.asarray 的参数只有三个。<br>\n",
    "**参数描述:**<br>\n",
    ">a　　　　# 输入数据，可以转换为数组的任何形式。 这包括列表，元组列表，元组，元组元组，列表元组和 ndarray。<br>\n",
    "dtype　　　　# 数据类型<br>\n",
    "order　　　　# 在计算机内存中的存储元素的顺序，只支持 'C'（按行）、'F'（按列），默认 'C'<br>"
   ]
  },
  {
   "cell_type": "code",
   "execution_count": 31,
   "metadata": {},
   "outputs": [
    {
     "name": "stdout",
     "output_type": "stream",
     "text": [
      "[1 2 3]\n"
     ]
    }
   ],
   "source": [
    "import numpy as np\n",
    "\n",
    "a = np.asarray([1, 2, 3])\n",
    "print(a)"
   ]
  },
  {
   "cell_type": "markdown",
   "metadata": {},
   "source": [
    "#### **Ndarray数组创建11:**<br> \n",
    "numpy.frombuffer 用于实现动态数组。numpy.frombuffer 接受 buffer 输入参数，以流的形式读入转化成 ndarray 对象。<br>\n",
    ">numpy.frombuffer(buffer, dtype=float, count=-1, offset=0)<br>\n",
    "\n",
    "**参数描述:**<br>\n",
    ">buffer　　　# 实现了 \\_\\_buffer__方法的对象，（绝对不是菜鸟教程上说的任意对象都可以）<br>\n",
    "dtype　　　# 返回数组的数据类型<br>\n",
    "count　　　# 读取的数据数量，默认为 -1，读取所有数据。<br>\n",
    "offset　　　# 读取的起始位置，默认为 0。<br>\n",
    "\n",
    "注意：buffer 是字符串的时候，Python3 默认 str 是 Unicode 类型，所以要转成 bytestring 在原 str 前加上 b。<br>"
   ]
  },
  {
   "cell_type": "code",
   "execution_count": 32,
   "metadata": {},
   "outputs": [
    {
     "name": "stdout",
     "output_type": "stream",
     "text": [
      "[b'H' b'e' b'l' b'l' b'o' b' ' b'W' b'o' b'r' b'l' b'd']\n"
     ]
    }
   ],
   "source": [
    "import numpy as np\n",
    "\n",
    "a = np.frombuffer(b'Hello World', dtype='S1')\n",
    "print(a)"
   ]
  },
  {
   "cell_type": "markdown",
   "metadata": {},
   "source": [
    "看了上面的例子，似乎对“实现动态数组”没啥感觉，那么我们来看这个例子。<br>\n",
    "array.array 创建的数组对象内存是连续的（这里不能用 list，会报：AttributeError: 'list' object has no attribute 'buffer'），numpy.frombuffer 从 array.array 的内存中创建数组，从上例中可以看出，改变 array.array 的值，numpy.frombuffer 的值也会跟着改变，由此可见。<br>"
   ]
  },
  {
   "cell_type": "code",
   "execution_count": 35,
   "metadata": {},
   "outputs": [
    {
     "name": "stdout",
     "output_type": "stream",
     "text": [
      "array('i', [1, 2, 3, 4])\n",
      "[1 2 3 4]\n",
      "array('i', [10, 2, 3, 4])\n",
      "[10  2  3  4]\n"
     ]
    }
   ],
   "source": [
    "import numpy as np\n",
    "import array\n",
    "\n",
    "a = array.array('i', [1, 2, 3, 4])\n",
    "print(a)\n",
    "\n",
    "na = np.frombuffer(a, dtype=np.int_)\n",
    "print(na)\n",
    "\n",
    "a[0] = 10\n",
    "print(a)\n",
    "print(na)"
   ]
  },
  {
   "cell_type": "markdown",
   "metadata": {},
   "source": [
    "array.array 数组中的值改变是可以的，但是如果是添加值，那就不行了。<br>"
   ]
  },
  {
   "cell_type": "code",
   "execution_count": 38,
   "metadata": {},
   "outputs": [
    {
     "name": "stdout",
     "output_type": "stream",
     "text": [
      "[1 2 3 4]\n",
      "[-455142368        491 -440097760        491]\n"
     ]
    }
   ],
   "source": [
    "import numpy as np\n",
    "import array\n",
    "\n",
    "a = array.array(\"i\", [1, 2, 3, 4])\n",
    "na = np.frombuffer(a, dtype=int)\n",
    "print(na)\n",
    "\n",
    "a.append(5)\n",
    "print(na)"
   ]
  },
  {
   "cell_type": "markdown",
   "metadata": {},
   "source": [
    "#### **Ndarray数组创建12:**<br> \n",
    "numpy.fromiter 方法从可迭代对象中建立 ndarray 对象，返回一维数组。<br>\n",
    ">numpy.fromiter(iterable, dtype, count=-1)<br>\n",
    "\n",
    "**参数描述:**<br>\n",
    ">iterable　　　# 可迭代对象<br>\n",
    "dtype　　　# 返回数组的数据类型<br>\n",
    "count　　　# 读取的数据数量，默认为 -1，读取所有数据<br>"
   ]
  },
  {
   "cell_type": "code",
   "execution_count": 39,
   "metadata": {},
   "outputs": [
    {
     "name": "stdout",
     "output_type": "stream",
     "text": [
      "[ 0  1  4  9 16]\n"
     ]
    }
   ],
   "source": [
    "import numpy as np\n",
    "\n",
    "iterable = (x * x for x in range(5))\n",
    "a = np.fromiter(iterable, int)\n",
    "print(a)"
   ]
  },
  {
   "cell_type": "markdown",
   "metadata": {},
   "source": [
    "看起来有点像 numpy.array，array 方法需要传入的是一个 list，而 fromiter 可以传入可迭代对象。<br>\n",
    "将上例换成 array 试试看。<br>"
   ]
  },
  {
   "cell_type": "code",
   "execution_count": 40,
   "metadata": {},
   "outputs": [
    {
     "name": "stdout",
     "output_type": "stream",
     "text": [
      "<generator object <genexpr> at 0x000001EBE5C28B88>\n"
     ]
    }
   ],
   "source": [
    "import numpy as np\n",
    "\n",
    "iterable = (x * x for x in range(5))\n",
    "a = np.array(iterable)\n",
    "print(a)"
   ]
  },
  {
   "cell_type": "markdown",
   "metadata": {},
   "source": [
    "#### **Ndarray数组创建13:**<br> \n",
    "返回一个与给定数组具有相同维度和类型的未初始化的新数组。<br>\n",
    ">numpy.empty_like(prototype, dtype=None, order='K', subok=True)<br>\n",
    "\n",
    "**参数描述:**<br>\n",
    ">prototype　　　# 给定的数组<br>\n",
    "dtype　　　# 覆盖结果的数据类型，版本1.6.0中的新功能。<br>\n",
    "order　　　# 指定阵列的内存布局。C（按行）、F（按列）、A（原顺序）、K（元素在内存中的出现顺序）<br>\n",
    "subok　　　# 默认情况下，返回的数组被强制为基类数组。 如果为 True，则返回子类。<br>"
   ]
  },
  {
   "cell_type": "code",
   "execution_count": 41,
   "metadata": {},
   "outputs": [
    {
     "name": "stdout",
     "output_type": "stream",
     "text": [
      "[[-1431655765  1073392298 -1431655765]\n",
      " [ 1074440874           0  1075052544]]\n"
     ]
    }
   ],
   "source": [
    "import numpy as np\n",
    "a = np.empty_like([[1, 2, 3], [4, 5, 6]])\n",
    "print(a)"
   ]
  },
  {
   "cell_type": "markdown",
   "metadata": {},
   "source": [
    "#### **Ndarray数组创建14:**<br> \n",
    ">numpy.zeros_like(a, dtype=None, order='K', subok=True)<br>\n",
    "\n",
    "参数同上。<br>"
   ]
  },
  {
   "cell_type": "code",
   "execution_count": null,
   "metadata": {},
   "outputs": [],
   "source": [
    "import numpy as np\n",
    "a = np.zeros_like([[1.0, 2.0, 3.0], [4.0, 5.0, 6.0]])\n",
    "print(a)"
   ]
  },
  {
   "cell_type": "markdown",
   "metadata": {},
   "source": [
    "#### **Ndarray数组创建15:**<br> \n",
    ">numpy.ones_like(a, dtype=None, order='K', subok=True)<br>\n",
    "\n",
    "参数同上。<br>"
   ]
  },
  {
   "cell_type": "code",
   "execution_count": 43,
   "metadata": {},
   "outputs": [
    {
     "name": "stdout",
     "output_type": "stream",
     "text": [
      "[[1 1 1]\n",
      " [1 1 1]]\n"
     ]
    }
   ],
   "source": [
    "import numpy as np\n",
    "a = np.ones_like([[1, 2, 3], [4, 5, 6]])\n",
    "print(a)"
   ]
  },
  {
   "cell_type": "markdown",
   "metadata": {},
   "source": [
    "#### **Ndarray数组创建16:**<br> \n",
    "返回与给定数组具有相同维度和类型的并以 fill_value 填充的数组。<br>\n",
    ">numpy.full_like(a, fill_value, dtype=None, order='K', subok=True)<br>\n",
    "\n",
    "**参数描述:**<br>\n",
    ">a　　　　# 给定的数组<br>\n",
    "fill_value　　　　# 填充值<br>\n",
    "dtype　　　　# 返回数组的数据类型，默认值 None，则使用给定数组的类型<br>\n",
    "order　　　　# 指定阵列的内存布局。C（按行）、F（按列）、A（原顺序）、K（元素在内存中的出现顺序）<br>\n",
    "subok　　　　# 默认情况下，返回的数组被强制为基类数组。 如果为 True，则返回子类。<br>\n",
    "\n",
    "zeros_like、ones_like 其实都是此方法的特例。<br>"
   ]
  },
  {
   "cell_type": "code",
   "execution_count": 44,
   "metadata": {},
   "outputs": [
    {
     "name": "stdout",
     "output_type": "stream",
     "text": [
      "[0 1 2 3 4 5]\n",
      "-------------------\n",
      "[1 1 1 1 1 1] [0 0 0 0 0 0] [0.1 0.1 0.1 0.1 0.1 0.1]\n"
     ]
    }
   ],
   "source": [
    "import numpy as np\n",
    "\n",
    "x = np.arange(6, dtype=int)\n",
    "print(x)\n",
    "print('-------------------')\n",
    "a = np.full_like(x, 1)\n",
    "b = np.full_like(x, 0.1)\n",
    "c = np.full_like(x, 0.1, dtype=np.double)\n",
    "\n",
    "print(a, b, c)\n"
   ]
  },
  {
   "cell_type": "markdown",
   "metadata": {},
   "source": [
    "#### **Ndarray数组创建17:**<br> \n",
    "单位矩阵的创建如下所示,其中，参数k代表除了第k条对角线的元素为1之外，其他全为0.<br> \n",
    ">numpy.eye()"
   ]
  },
  {
   "cell_type": "code",
   "execution_count": 46,
   "metadata": {},
   "outputs": [
    {
     "name": "stdout",
     "output_type": "stream",
     "text": [
      "[[1. 0. 0.]\n",
      " [0. 1. 0.]\n",
      " [0. 0. 1.]]\n",
      "[[0. 1. 0.]\n",
      " [0. 0. 1.]\n",
      " [0. 0. 0.]]\n"
     ]
    }
   ],
   "source": [
    "import numpy as np\n",
    "\n",
    "a = np.eye(3)\n",
    "b = np.eye(3, k=1)\n",
    "print(a, b, sep='\\n')"
   ]
  },
  {
   "cell_type": "markdown",
   "metadata": {},
   "source": [
    "### Ndarry 数组方法:<br> \n",
    "#### **Ndarray数组方法1:**<br> \n",
    "将多维数组转换为一维数组，numpy提供了ravel()方法将多维数组可以转换为一维数组。<br> "
   ]
  },
  {
   "cell_type": "code",
   "execution_count": 53,
   "metadata": {},
   "outputs": [
    {
     "name": "stdout",
     "output_type": "stream",
     "text": [
      "[ 0  1  2  3  4  5  6  7  8  9 10 11 12 13 14 15 16 17 18 19 20 21 22 23]\n"
     ]
    }
   ],
   "source": [
    "import numpy as np\n",
    "\n",
    "a = np.arange(24).reshape((3, 2, 4))\n",
    "b = a.ravel()\n",
    "print(b)"
   ]
  },
  {
   "cell_type": "markdown",
   "metadata": {},
   "source": [
    "#### **Ndarray数组方法2:**<br> \n",
    "在矩阵的运算中涉及到大量的转置运算，numpy提供了两种方法可以实现矩阵的转置操作，一种是narray.transpose()；而另一种是narray.T，两种方法都具有同样的效果<br> "
   ]
  },
  {
   "cell_type": "code",
   "execution_count": 60,
   "metadata": {},
   "outputs": [
    {
     "name": "stdout",
     "output_type": "stream",
     "text": [
      "[[[ 0 12]\n",
      "  [ 4 16]\n",
      "  [ 8 20]]\n",
      "\n",
      " [[ 1 13]\n",
      "  [ 5 17]\n",
      "  [ 9 21]]\n",
      "\n",
      " [[ 2 14]\n",
      "  [ 6 18]\n",
      "  [10 22]]\n",
      "\n",
      " [[ 3 15]\n",
      "  [ 7 19]\n",
      "  [11 23]]]\n"
     ]
    }
   ],
   "source": [
    "a = np.arange(24).reshape((2, 3, 4))\n",
    "# print(a)\n",
    "b= a.transpose()\n",
    "print(b)"
   ]
  },
  {
   "cell_type": "markdown",
   "metadata": {},
   "source": [
    "#### **Ndarray数组方法3:**<br> \n",
    "numpy也提供了一些方法用以实现多维数组的合并，按照其合并形式可以分为按行合并与按列合并，使用以下方法可以实现按行合并 np.hstack() 或 np.column_stack()；案例合并 np.vstack() 或 np.row_stack()<br> "
   ]
  },
  {
   "cell_type": "code",
   "execution_count": 66,
   "metadata": {},
   "outputs": [
    {
     "name": "stdout",
     "output_type": "stream",
     "text": [
      "[[1 2]\n",
      " [3 4]]\n",
      "[[5 6]\n",
      " [7 8]]\n",
      "[[1 2 5 6]\n",
      " [3 4 7 8]]\n",
      "[[1 2]\n",
      " [3 4]\n",
      " [5 6]\n",
      " [7 8]]\n"
     ]
    }
   ],
   "source": [
    "a = np.array([[1, 2], [3, 4]])\n",
    "b = np.array([[5, 6], [7, 8]])\n",
    "print(a, b, sep='\\n')\n",
    "c = np.hstack((a, b))\n",
    "d = np.vstack((a, b))\n",
    "print(c, d, sep='\\n')"
   ]
  },
  {
   "cell_type": "code",
   "execution_count": 65,
   "metadata": {},
   "outputs": [
    {
     "name": "stdout",
     "output_type": "stream",
     "text": [
      "[[1 2 5 6]\n",
      " [3 4 7 8]]\n",
      "[[1 2]\n",
      " [3 4]\n",
      " [5 6]\n",
      " [7 8]]\n"
     ]
    }
   ],
   "source": [
    "c = np.column_stack((a, b))\n",
    "d = np.row_stack((a, b))\n",
    "print(c, d, sep='\\n')"
   ]
  },
  {
   "cell_type": "markdown",
   "metadata": {},
   "source": [
    "#### **Ndarray数组方法4:**<br> \n",
    "numpy除了提供了矩阵的合并方法外，还提供了用于将大矩阵分割为小矩阵的方法，与矩阵合并类似，矩阵分割也分为按行分割和按列分割。按列分割和按行分割:np.hsplit() 与 np.vsplit()<br> "
   ]
  },
  {
   "cell_type": "code",
   "execution_count": 69,
   "metadata": {},
   "outputs": [
    {
     "name": "stdout",
     "output_type": "stream",
     "text": [
      "[[ 0  1  2  3]\n",
      " [ 4  5  6  7]\n",
      " [ 8  9 10 11]]\n",
      "[array([[0, 1],\n",
      "       [4, 5],\n",
      "       [8, 9]]), array([[ 2,  3],\n",
      "       [ 6,  7],\n",
      "       [10, 11]])]\n",
      "[array([[0, 1, 2, 3]]), array([[4, 5, 6, 7]]), array([[ 8,  9, 10, 11]])]\n"
     ]
    }
   ],
   "source": [
    "import numpy as np\n",
    "\n",
    "a = np.arange(12).reshape((3,4))\n",
    "print(a)\n",
    "b = np.hsplit(a, 2)\n",
    "print(b)\n",
    "c = np.vsplit(a, 3)\n",
    "print(c)"
   ]
  },
  {
   "cell_type": "markdown",
   "metadata": {},
   "source": [
    "#### **Ndarray数组方法5:**<br> \n",
    "numpy提供了一下方法用以求多维数组最大（或最小值的）的下标，如下所示，参数axis=0，表示求每一列最大值的下标，axis=1表示每一行最大值的下标，有axis参数时，返回值构成一个新的数组，而没有axis参数的默认情况下，argmax()将多维数组看成是一维数组，返回值是最大值在在一维数组中的下标。\n"
   ]
  },
  {
   "cell_type": "code",
   "execution_count": null,
   "metadata": {},
   "outputs": [],
   "source": [
    "import numpy as np\n",
    "\n",
    "a = np.arange(12).reshape((3,4))"
   ]
  },
  {
   "cell_type": "markdown",
   "metadata": {},
   "source": [
    "多维数组的排序相关操作\n",
    "numpy也为多维数组的排序操作提供了相关方法，除了基本的排序操作，也提供求矩阵最大最小元素的相关方法，如下所示：\n",
    "\n",
    "\n",
    "求多维数组的最大值（最小值）\n",
    "numpy提供了一下方法用以求多维数组最大（或最小值的）的下标，如下所示，参数axis=0，表示求每一列最大值的下标，axis=1表示每一行最大值的下标，有axis参数时，返回值构成一个新的数组，而没有axis参数的默认情况下，argmax()将多维数组看成是一维数组，返回值是最大值在在一维数组中的下标。\n",
    "\n",
    "\n",
    "如果，不想将多维数组看成是一维数组处理，可以用以下方法获得多维数组的下标，如下所示：\n",
    "\n",
    "\n",
    "\n",
    "\n",
    "多维数组最小值的处理方法与最大值基本相同，在此，不再多做介绍。获得多维数组的最大或者最小值，可以直接使用max()或者min()方法。\n",
    "\n",
    "numpy的排序操作\n",
    "numpy提供了一些用来给多维数组排序的操作，与求取最大最小值的方法类似，有返回数组元素和数组下标的两种方法，分别是sort()和argsort()方法，与max()和argmax()使用方法基本相同，在此也不多做介绍，值得注意的是，argsort()方法仍然是将多维数组按照一维数组处理的，要返回多维数组的下标，可以使用unravel_index()方法。\n",
    "\n",
    "\n",
    "numpy的基本统计运算\n",
    "numpy提供了大量的方法用于基本的统计运算，而这些方法对于机器学习相关算法的理解和运行至关重要，numpy在统计学中的运用主要有以下几种：\n",
    "\n",
    "\n",
    "协方差\n",
    "协方差表示两个变量一起变化的水平，如果我们检查N维样本，X = [x_1，x_2，... x_N] ^ T，则协方差矩阵元素C_ {ij}是x_i和x_j的协方差。 元素C_ {ii}是x_i的方差，numpy中使用cov()计算矩阵的协方差，其基本使用方法如下所示，通过计算结果，可以清楚看到，x第一行与第二行变化的快慢\n",
    "\n",
    "\n",
    "\n",
    "\n",
    "\n",
    "\n",
    "\n",
    "\n",
    "\n",
    "\n",
    "均值计算\n",
    "numpy提供了一个mean()方法用来计算矩阵的均值，此外，参数axis=0代表按列求取均值，axis=1表示按行求取均值，基本使用方法如下所示：\n",
    "\n",
    "\n",
    "\n",
    "\n",
    "\n",
    "\n",
    "\n",
    "\n",
    "\n",
    "\n",
    "\n",
    "计算矩阵的标准差\n",
    "numpy提供了std()方法用来计算矩阵标准差，与求矩阵均值类似，axis=0代表按列求取，而axis=1代表按行求取，具体使用方法，如下所示：\n",
    "\n",
    "\n",
    "\n",
    "\n",
    "\n",
    "\n",
    "\n",
    "\n",
    "\n",
    "\n",
    "计算矩阵方差\n",
    "numpy提供var()方法用来计算矩阵方差，使用方法与标准差基本一样，在此不再多做介绍。\n",
    "\n",
    "\n",
    "numpy中的基本线性代数运算\n",
    "矩阵在线性代数中的运用非常重要，numpy作为python中的多维数组库，提供了大量方法处理线性代数相关运算。\n",
    "\n",
    "\n",
    "\n",
    "计算两个向量（数组）的叉积\n",
    "两个向量的的叉积常用cross()方法用来计算，其基本使用方法如下所示:\n",
    "\n",
    "\n",
    "\n",
    "\n",
    "\n",
    "\n",
    "\n",
    "\n",
    "\n",
    "\n",
    "\n",
    "计算两个矩阵的点积，矩阵的点积计算相当于矩阵乘法，需要注意的是，矩阵点积计算必须遵循矩阵乘法运算原则。除此之外，复数的乘法可以使用点积进行计算，如下所示：\n",
    "\n",
    "\n",
    "\n",
    "\n",
    "\n",
    "\n",
    "\n",
    "\n",
    "\n",
    "\n",
    "如下所示，可以通过outer()方法计算两个向量的外积"
   ]
  }
 ],
 "metadata": {
  "kernelspec": {
   "display_name": "Python 3",
   "language": "python",
   "name": "python3"
  },
  "language_info": {
   "codemirror_mode": {
    "name": "ipython",
    "version": 3
   },
   "file_extension": ".py",
   "mimetype": "text/x-python",
   "name": "python",
   "nbconvert_exporter": "python",
   "pygments_lexer": "ipython3",
   "version": "3.7.4"
  }
 },
 "nbformat": 4,
 "nbformat_minor": 2
}
