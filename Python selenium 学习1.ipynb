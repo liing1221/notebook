{
 "cells": [
  {
   "cell_type": "markdown",
   "metadata": {},
   "source": [
    "## Python selenium 学习1"
   ]
  },
  {
   "cell_type": "markdown",
   "metadata": {},
   "source": [
    "　参考：[Selenium-Python中文文档](https://selenium-python-zh.readthedocs.io/en/latest/navigating.html)<br>　<br>\n",
    "　　selenium最初是一个自动化测试工具,而爬虫中使用它主要是为了解决requests无法直接执行JavaScript代码的问题。selenium的缺点是效率会变得很慢、非常慢。<br>\n",
    "　　Selenium是ThoughtWorks公司的一个强大的开源Web功能测试工具系列，采用Javascript来管理整个测试过程，包括读入测试套件、执行测试和记录测试结果。它采用Javascript单元测试工具JSUnit为核心，模拟真实用户操作，包括浏览页面、点击链接、输入文字、提交表单、触发鼠标事件等等，并且能够对页面结果进行种种验证。也就是说，只要在测试用例中把预期的用户行为与结果都描述出来，我们就得到了一个可以自动化运行的功能测试套件。（Selenium的核心是Javascript写的，他和浏览器进行通信，把测试用例的信息发送给浏览器执行，从而达到自动化测试的目的。\n",
    "　　selenium本质是通过驱动浏览器，完全模拟浏览器的操作，比如跳转、输入、点击、下拉等，来拿到网页渲染之后的结果，可支持多种浏览器。<br>\n",
    "  >from selenium import webdriver<br>\n",
    "browser1　=　webdriver.Chrome()<br>\n",
    "browser2　=　webdriver.Firefox()<br>\n",
    "browser3　=　webdriver.PhantomJS()<br>\n",
    "browser4　=　webdriver.Safari()<br>\n",
    "browser5　=　webdriver.Edge()<br>\n",
    "\\#　关闭页面，退出浏览器<br>\n",
    "browser.close()<br>\n",
    "browser.quit()<br>\n",
    "### 1、selenium安装准备\n",
    "Selenium 3 开始，对于所有的浏览器都需要安装驱动，同时需注意浏览器版本与驱动版本对应问题。<br>\n",
    "ChromeDriver下载地址：http://chromedriver.storage.googleapis.com/index.html<br>\n",
    "GeckoDriver下载地址：https://github.com/mozilla/geckodriver/releases<br>\n",
    "IEDriverServer下载地址：http://selenium-release.storage.googleapis.com/index.html<br>\n",
    "\n",
    "#### 1)、Chrome安装\n",
    "安装依赖<br>\n",
    ">sudo apt-get install libxss1 libappindicator1 libindicator7<br>\n",
    "\n",
    "下载Chrome安装包<br>\n",
    ">wget https://dl.google.com/linux/direct/google-chrome-stable_current_amd64.deb<br>\n",
    "\n",
    "安装<br>\n",
    ">sudo dpkg -i google-chrome*.deb<br>\n",
    "sudo apt-get install -f<br>\n",
    "#### 2)、ChromeDriver安装<br>\n",
    "下载与安装的Chrome版本相对应的ChromeDriver：http://chromedriver.storage.googleapis.com/index.html<br>\n",
    "注：win64可以下载32位使用；同时由于最新版本的Selenium已经不再支持PhantomJS，所以需要支持PhantomJS版本Selenium的话，请安装Selenium 3.8.0版本。<br>\n",
    "\n",
    "安装xvfb以便我们可以无头奔跑地运行Chrome<br>\n",
    ">sudo apt-get install xvfb<br>\n",
    "\n",
    "安装依赖<br>\n",
    ">sudo apt-get install unzip<br>\n",
    "\n",
    "下载安装包<br>\n",
    ">wget -N http://chromedriver.storage.googleapis.com/2.26/chromedriver_linux64.zip （对应的Chromedriver包地址）<br>\n",
    " \n",
    "解压缩+添加执行权限<br>\n",
    ">unzip chromedriver_linux64.zip<br>\n",
    "chmod +x chromedrive<br>\n",
    "\n",
    "移动<br>\n",
    ">sudo mv -f chromedriver /usr/local/share/chromedriver<br>\n",
    "\n",
    "建立软连接<br>\n",
    ">sudo ln -s /usr/local/share/chromedriver /usr/local/bin/chromedriver<br>\n",
    "sudo ln -s /usr/local/share/chromedriver /usr/bin/chromedriver<br>\n",
    "#### 3)、selenium 安装\n",
    "> pip3 install selenium   /   pip install selenium==3.4.3<br>\n",
    "pip install -U selenium 　　　# -U 也可以用 --upgrade<br>"
   ]
  },
  {
   "cell_type": "markdown",
   "metadata": {},
   "source": [
    "### 2、selenium 响应获取与headers处理\n",
    ">browser.page_source　　　　#　获取响应页面html<br>\n",
    "browser.get_cookies()　　　　#　获取cookies<br>\n",
    "browser.add_cookie({'name': 'name', 'domain': 'www.zhihu.com', 'value': 'germey'})　#　添加cookie<br>\n",
    "browser.delete_all_cookies()　　　#　删除所有cookies<br>"
   ]
  },
  {
   "cell_type": "markdown",
   "metadata": {},
   "source": [
    "### 2、selenium 自动化配置浏览器"
   ]
  },
  {
   "cell_type": "markdown",
   "metadata": {},
   "source": [
    "WebDriver 类：主要靠直接实例化该类为对象，然后用其对象直接调用该类的方法和属性。Chrome 是 WebDriver 的子类，是 WebDriver 类的一种。\n",
    "WebElement 类：主要通过 WebDriver 类实例化的对象，通过对页面元素的查找，得到 WebElement 类的对象，然后调用该类的方法和属性。"
   ]
  },
  {
   "cell_type": "code",
   "execution_count": 1,
   "metadata": {},
   "outputs": [
    {
     "data": {
      "text/plain": [
       "True"
      ]
     },
     "execution_count": 1,
     "metadata": {},
     "output_type": "execute_result"
    }
   ],
   "source": [
    "# -*- coding:utf-8 -*-\n",
    "# selenium常用模块：\n",
    "from selenium import webdriver\n",
    "from selenium.webdriver.common.by import By        # 按照什么方式查找，By.ID,By.CSS_SELECTOR\n",
    "from selenium.webdriver.common.keys import Keys    # 键盘按键操作\n",
    "from selenium.webdriver.support import expected_conditions as EC\n",
    "from selenium.webdriver.support.wait import WebDriverWait    # 等待页面加载某些元素\n",
    "\n",
    "from fake_useragent import UserAgent\n",
    "\n",
    "ua = UserAgent()\n",
    "option = webdriver.ChromeOptions()\n",
    "\n",
    "# 1、使用无头chrome报以下错误：selenium.common.exceptions.WebDriverException: Message: unknown error: DevToolsActivePort file doesn't exist\n",
    "       ## 确保驱动版本对应浏览器的版本,浏览器添加了 --no-sandbox ,取消沙盒模式\n",
    "option.add_argument('--no-sandbox')   # “–no-sandbox”参数是让Chrome在root权限下跑，必须时第一个设置的options参数\n",
    "\n",
    "\n",
    "option.add_argument('--disable-dev-shm-usage')\n",
    "# 2、配置为无头浏览器\n",
    "option.add_argument('--headless') #浏览器不提供可视化页面. linux下如果系统不支持可视化不加这条会启动失败\n",
    "# 3、配置浏览器窗口大小，浏览器分辨率\n",
    "option.add_argument(\"window-size=1366,768\") \n",
    "# 4、 C:\\Users\\qyn\\Desktop 为设置的缓存文件路径（可以是相对路径）\n",
    "option.add_argument(r'--disk-cache-dir=C:\\Users\\qyn\\Desktop')   \n",
    "      ## window 读取文件可以用\\，但是在字符串中\\是被当作转义字符来使用，所以’d:\\a.txt’会被转义成’d:\\a.txt’这是正确路径，所以不会报错。\n",
    "      ## Python 路径描述的三种方式：方式一:转义的方式：'d:\\\\a.txt'；方式二:显式声明字符串不用转义(原始字符串)：r'd:\\a.txt'；\n",
    "      ## 方式三:使用Linux的路径/：'d:/a.txt'（建议方式三：linux与Windows都有良好的支持）\n",
    "# 5、禁止Python在使用chromedriver的headless模式下打印日志console信息\n",
    "option.add_argument('log-level=3')   # chromedriver 在 headless 模式下运行会产生大量的日志信息,添加参数log-level\n",
    "      ## 日志参数：INFO = 0, WARNING = 1, LOG_ERROR = 2, LOG_FATAL = 3，default is 0\n",
    "# 6、配置浏览器的代理请求头——User-Agent\n",
    "option.add_argument('user-agent=\"%s\"' % ua.random) \n",
    "# 7、配置浏览器禁止弹窗以及默认下载路径\n",
    "dirpath = r'C:\\Users\\qyn\\Desktop'\n",
    "prefs = {'profile.default_content_settings.popups': 0,     # 0 屏蔽弹窗，1开启弹窗\n",
    "         \"download.prompt_for_download\": False,\n",
    "         \"download.directory_upgrade\": True,\n",
    "         \"safebrowsing.enabled\": True,\n",
    "         'download.default_directory': dirpath}            # 设置下载路径\n",
    "option.add_experimental_option('prefs', prefs)\n",
    "# 8、谷歌文档提到需要加上这个属性来规避bug：仅适用于windows\n",
    "option.add_argument('--disable-gpu')\n",
    "# 9、不加载图片, 提升速度\n",
    "option.add_argument('blink-settings=imagesEnabled=false')\n",
    "# 10、隐藏滚动条, 应对一些特殊页面\n",
    "option.add_argument('--hide-scrollbars') \n",
    "# chrome_options.binary_location = r\"C:\\Program Files (x86)\\Google\\Chrome\\Application\\chrome.exe\"     #手动指定使用的浏览器位置\n",
    "# 11、窗口最大化\n",
    "option.add_argument('--start-maximized') \n",
    "# 12、设置字符编码\n",
    "option.add_argument(\"lang=zh_CN.UTF-8\")\n",
    "# 13、隐身模式\n",
    "option.add_argument(\"incognito\")\n",
    "# 14、阻止弹出框\n",
    "option.add_argument('disable-infobars')\n",
    "# 15、添加代理\n",
    "proxy='http://127.0.0.1:8080'\n",
    "option.add_argument('--proxy-server=' + proxy)\n",
    "\n",
    "#  、启动浏览器控制\n",
    "# print(help(webdriver.Chrome), flush=True)\n",
    "browser = webdriver.Chrome(executable_path=r'D:\\liing\\chromedriver.exe',options=option)   # executable_path  驱动路径\n",
    "#  、发出浏览器请求\n",
    "browser.get('https://www.baidu.com') \n",
    "#  、无头浏览器请求截屏\n",
    "browser.save_screenshot(r'D:\\liing\\baidu.png')\n",
    "#  、关闭请求\n",
    "# browser.close()\n",
    "#  、退出浏览器控制\n",
    "# browser.quit()\n"
   ]
  },
  {
   "cell_type": "markdown",
   "metadata": {},
   "source": [
    "#### 2、selenium 无头浏览器自动下载文件<br>\n",
    "chrome如何修改默认下载地址和下载不弹窗。<br>\n",
    ">from selenium.webdriver.chrome.options import Options<br>\n",
    "#实例化一个Options<br>\n",
    "chrome_options = Options()<br>\n",
    "#用于定义下载不弹窗和默认下载地址（默认下载地址还要再后面的commands里启动，默认是不开启的）<br>\n",
    "prefs = {\"download.default_directory\": \"E:\\download\",\"download.prompt_for_download\": False,}<br>\n",
    "chrome_options.add_experimental_option(\"prefs\", prefs)<br>\n",
    "#无头模式（就是不打开浏览器,并取消沙盒模式）<br>\n",
    "chrome_options.add_argument(\"--headless\")<br>\n",
    "\n",
    "chrome_options.add_argument('--no-sandbox')<br>\n",
    "browser = webdriver.Chrome(chrome_options=chrome_options)<br>\n",
    "#老外的样例，我先照着写，有没有大神可以解释一下的。下面的downloadpath要改成和上面一样<br>\n",
    "browser.command_executor._commands[\"send_command\"] = (\"POST\", '/session/$sessionId/chromium/send_command')<br>\n",
    "params = {'cmd': 'Page.setDownloadBehavior', 'params': {'behavior': 'allow', 'downloadPath': \"E:\\download\"}}<br>\n",
    "command_result = browser.execute(\"send_command\", params)<br>\n"
   ]
  },
  {
   "cell_type": "markdown",
   "metadata": {},
   "source": [
    "#### 2、selenium 自动化延时处理"
   ]
  },
  {
   "cell_type": "markdown",
   "metadata": {},
   "source": [
    "**selenium 延时处理，针对的是网页加载缓慢的情况，主要有以下四种解决方法：**<br>"
   ]
  },
  {
   "cell_type": "markdown",
   "metadata": {},
   "source": [
    "1）、显性等待WebDriverWait，配合该类的until()和until_not()方法，就能够根据判断条件而进行灵活地等待：<br>\n",
    "　　WebDriverWait(driver, 超时时长, 调用频率, 忽略异常).until(可执行方法, 超时时返回的信息)<br>\n",
    "　　WebDriverWait(driver, 超时时长, 调用频率, 忽略异常).until_not(可执行方法, 超时时返回的信息)<br>\n",
    "  　WebDriverWait()会不断的根据你设定的条件去判断，直到超过你设置的等待时间，如果设置的条件满足，然后进行下一步操作，如果没有满足会报一个'selenium.common.exceptions.TimeoutException: Message: '错误。<br>\n",
    "　　可以用selenium提供的 expected_conditions 模块中的各种条件，也可以用WebElement的 is_displayed() 、is_enabled()、is_selected() 方法，或者用自己封装的方法都可以"
   ]
  },
  {
   "cell_type": "code",
   "execution_count": null,
   "metadata": {},
   "outputs": [],
   "source": [
    "from selenium.webdriver.support.wait import WebDriverWait\n",
    "\n",
    "browser.get('https://www.baidu.com') \n",
    "# 等待时长30秒，默认每0.5秒询问一次\n",
    "WebDriverWait(browser, 30).until(lambda x: x.find_element_by_id(\"kw\")).send_keys(\"sky\")\n",
    "# sel_count_info = WebDriverWait(driver, 30).until(lambda x: x.find_element_by_id(\"selCount\")).text"
   ]
  },
  {
   "cell_type": "markdown",
   "metadata": {},
   "source": [
    "2)、强制等待time.sleep()，不建议总用这种等待方式，太死板，严重影响程序执行速度"
   ]
  },
  {
   "cell_type": "markdown",
   "metadata": {},
   "source": [
    "3)、隐性等待implicitly_wait(xx)，隐性等待对整个driver的周期都起作用，所以只要设置一次即可（全局）"
   ]
  },
  {
   "cell_type": "code",
   "execution_count": 22,
   "metadata": {},
   "outputs": [],
   "source": [
    "# 隐性等待，最长等30秒 \n",
    "# browser.implicitly_wait(30)  "
   ]
  },
  {
   "cell_type": "markdown",
   "metadata": {},
   "source": [
    "4)、隐性显性并用"
   ]
  },
  {
   "cell_type": "code",
   "execution_count": null,
   "metadata": {},
   "outputs": [],
   "source": [
    "from selenium.webdriver.support import expected_conditions as EC  \n",
    "from selenium.webdriver.common.by import By  \n",
    "\n",
    "browser.implicitly_wait(10)     # 隐性等待和显性等待可以同时用，但要注意：等待的最长时间取两者之中的大者  \n",
    "browser.get('https://www.baidu.com')  \n",
    "locator = (By.LINK_TEXT, '百度一下')  \n",
    "try:  \n",
    "    WebDriverWait(browser, 20, 0.5).until(EC.presence_of_element_located(locator))  \n",
    "    print(browser.find_element_by_link_text('百度一下').get_attribute('href'))  \n",
    "finally:  \n",
    "    browser.close()  \n",
    "\n",
    "# 隐性显性同时使用"
   ]
  },
  {
   "cell_type": "markdown",
   "metadata": {},
   "source": [
    "#### 3、selenium 添加扩展"
   ]
  },
  {
   "cell_type": "markdown",
   "metadata": {},
   "source": [
    "添加chrome扩展：<br>\n",
    "option.add_extension('d:crxAdBlock_v2.17.crx') #自己下载的crx的路径<br>\n",
    "browser = webdriver.Chrome(executable_path=r'D:\\liing\\chromedriver.exe',options=option)   # executable_path  驱动路径"
   ]
  },
  {
   "cell_type": "markdown",
   "metadata": {},
   "source": [
    "#### 4、selenium 常见异常"
   ]
  },
  {
   "cell_type": "markdown",
   "metadata": {},
   "source": [
    "1、**常见异常：TimeoutException,　NoSuchElementException**<br>\n",
    "\n",
    "异常：  selenium.common.exceptions.ElementNotSelectableException(msg=None, screen=None, stacktrace=None)<br>\n",
    "依据：  selenium.common.exceptions.InvalidElementStateException<br>\n",
    "当尝试选择一个未能选中的元素时，异常会抛出<br>\n",
    "\n",
    "异常：  selenium.common.exceptions.ElementNotVisibleException(msg=None, screen=None, stacktrace=None)<br>\n",
    "依据：  selenium.common.exceptions.InvalidElementStateException<br>\n",
    "虽然当一个元素呈现在DOM，但它是不可见的，因此不能够以进行交互，异常将抛出<br>\n",
    "\n",
    "异常：  selenium.common.exceptions.ErrorInResponseException(response, msg)<br>\n",
    "依据：  selenium.common.exceptions.WebDriverException<br>\n",
    "服务器端有错误时，异常将抛出（这个原因可能是因为Firefox插件或者远程server）<br>\n",
    "\n",
    "异常：  selenium.common.exceptions.ImeActivationFailedException(msg=None, screen=None, stacktrace=None)<br>\n",
    "依据：  selenium.common.exceptions.WebDriverException<br>\n",
    "激活输入法失败时异常会抛出。<br>\n",
    "\n",
    "异常：  selenium.common.exceptions.ImeNotAvailableException(msg=None, screen=None, stacktrace=None)<br>\n",
    "依据：  selenium.common.exceptions.WebDriverException<br>\n",
    "当输入法不支持的时候异常将抛出。<br>\n",
    "\n",
    "异常：  selenium.common.exceptions.InvalidCookieDomainException(msg=None, screen=None, stacktrace=None)<br>\n",
    "依据：  selenium.common.exceptions.WebDriverException<br>\n",
    "试图在不同的domain而不是目前的URL中添加一个cookie时抛出异常<br>\n",
    "\n",
    "异常：  selenium.common.exceptions.InvalidElementStateException(msg=None, screen=None, stacktrace=None)<br>\n",
    "依据：  selenium.common.exceptions.WebDriverException<br>\n",
    "无效的元素状态<br>\n",
    "\n",
    "异常：  selenium.common.exceptions.InvalidSelectorException(msg=None, screen=None, stacktrace=None)<br>\n",
    "依据：  selenium.common.exceptions.NoSuchElementException<br>\n",
    "当选择器没有返回一个web元素时，异常抛出。<br>\n",
    "\n",
    "异常：  selenium.common.exceptions.InvalidSwitchToTargetException(msg=None, screen=None, stacktrace=None)<br>\n",
    "依据：  selenium.common.exceptions.WebDriverException<br>\n",
    "当切换的窗口或者框架不存在的时候，异常将抛出。<br>\n",
    "\n",
    "异常：  selenium.common.exceptions.MoveTargetOutOfBoundsException(msg=None, screen=None, stacktrace=None)<br>\n",
    "依据：  selenium.common.exceptions.WebDriverException<br>\n",
    "提供给ActionChainsmovable()方法的目标无效时，异常将抛出，例如：超出文件外<br>\n",
    "\n",
    "异常：  selenium.common.exceptions.NoAlertPresentException(msg=None, screen=None, stacktrace=None)<br>\n",
    "依据：  selenium.common.exceptions.WebDriverException<br>\n",
    "切换到没有呈现的警示时抛出异常<br>\n",
    "\n",
    "异常：  selenium.common.exceptions.NoSuchAttributeException(msg=None, screen=None, stacktrace=None)<br>\n",
    "依据：  selenium.common.exceptions.WebDriverException<br>\n",
    "当元素的属性不能被发现时异常抛出<br>\n",
    "\n",
    "异常：  selenium.common.exceptions.NoSuchElementException(msg=None, screen=None, stacktrace=None)<br>\n",
    "依据：  selenium.common.exceptions.WebDriverException<br>\n",
    "元素不能被找到时异常抛出<br>\n",
    "\n",
    "异常：  selenium.common.exceptions.NoSuchFrameException(msg=None, screen=None, stacktrace=None)<br>\n",
    "依据：  selenium.common.exceptions.InvalidSwitchToTargetException<br>\n",
    "需要切换的目标框架不存在时，异常抛出<br>\n",
    "\n",
    "异常：  selenium.common.exceptions.NoSuchWindowException(msg=None, screen=None, stacktrace=None)<br>\n",
    "依据：  selenium.common.exceptions.InvalidSwitchToTargetException<br>\n",
    "需要切换的目标窗口不存在时，异常抛出<br>\n",
    "\n",
    "异常：  selenium.common.exceptions.RemoteDriverServerException(msg=None, screen=None, stacktrace=None)<br>\n",
    "依据：  selenium.common.exceptions.WebDriverException<br>\n",
    " \n",
    "异常：  selenium.common.exceptions.StaleElementReferenceException(msg=None, screen=None, stacktrace=None)<br>\n",
    "依据：  selenium.common.exceptions.WebDriverException<br>\n",
    "一个参考的元素现在是“过时”时抛出异常。“过时”是指这个元素不再出现在页面的Dom中。<br>\n",
    "\n",
    "异常：  selenium.common.exceptions.TimeoutException(msg=None, screen=None, stacktrace=None)<br>\n",
    "依据：  selenium.common.exceptions.WebDriverException<br>\n",
    "一条命令在足够的时间内没有完成则会抛出异常<br>\n",
    "\n",
    "异常：  selenium.common.exceptions.UnableToSetCookieException(msg=None, screen=None, stacktrace=None)<br>\n",
    "依据：  selenium.common.exceptions.WebDriverException<br>\n",
    "当一个驱动程序无法设置cookie时抛出异常。<br>\n",
    "\n",
    "异常：  selenium.common.exceptions.UnexpectedAlertPresentException(msg=None, screen=None, stacktrace=None)<br>\n",
    "依据：  selenium.common.exceptions.WebDriverException<br>\n",
    "当一个意外的警告出现时将抛出异常。<br>\n",
    "\n",
    "异常：  selenium.common.exceptions.UnexpectedTagNameException(msg=None, screen=None, stacktrace=None)<br>\n",
    "依据：  selenium.common.exceptions.WebDriverException<br>\n",
    "辅助类没有获取到期待的web元素时，会抛出异常<br>\n",
    "\n",
    "异常：  selenium.common.exceptions.WebDriverException(msg=None, screen=None, stacktrace=None)<br>\n",
    "依据：  exceptions.Exception<br>\n",
    "    WebDriver基础的异常类<br>\n",
    "    \n",
    "#### 5、selenium注意事项<br>\n",
    "1、class属性有空格  （已验证）<br>\n",
    "　　当classname 中存在空格的时候，直接使用find_element_by_class_name时，会显示定位失败，此时，需要将classname中的空格替换成英文的点“.”。<br>\n",
    "　　如：如果使用 find_element_by_class_name(\"link detail\")，则提示无法定位该元素<br>\n",
    "　　如果使用英文点替换，则可以正常定位 find_element_by_class_name(\"link.detail\")<br>\n",
    "　　如果class有多个值，中间用空格分开，可以只用其中一个值（如果唯一）进行定位。 比如find_element_by_class_name(\"link\")<br>\n",
    "２、上传文件\n",
    "　　用AutoIt上传比较麻烦，找到上传的input标签，就可以通过send_keys()实现上传：将本地文件的路径作为一个值放在input标签中，通过form表单将这个值提交给服务器。<br>\n",
    "　　如：find_element((By.ID,'upfile')).send_keys(file_path)<br>\n",
    "3、文件下载<br>\n",
    "　　通过设置浏览器参数,下载到指定路径。<br>\n",
    ">option = webdriver.ChromeOptions()<br>\n",
    "prefs = {'profile.default_content_settings.popups': 0, 'download.default_directory': export_path}  # 设置下载路径，关闭确认弹出框。<br>\n",
    "option.add_experimental_option('prefs', prefs)<br>\n",
    "driver = webdriver.Chrome(chrome_options=option)<br>\n",
    "\n",
    "以上是chrome的设置方法，firefox类似。<br>\n",
    "4、页面滚动条滑动<br>\n",
    ">self.driver.execute_script(\"window.scrollTo(0,document.body.scrollHeight);\")　　　　# 将页面滚动条滑到底部<br>\n",
    "self.driver.execute_script(\"arguments[0].scrollIntoView();\", el)　　　　　# 向下滑动滚动条，跳转到目标元素处<br>\n",
    "self.driver.execute_script(\"arguments[0].scrollIntoView(false);\", el)　　# 向上滑动滚动条，跳转到目标元素处<br>\n",
    "\n",
    "　　arguments[0].scrollIntoView()，不能随意使用,会先把元素element对象的表格“顶端”移动到与当前窗口的“顶部”对齐，如果元素当前可见，可能移动后就不可见了，导致定位报错。<br>\n",
    "　　因为会把元素顶端对齐窗口顶部，有时候也会出现跳转后，元素仍然不可见的情况。如果是需要点击这个元素，可以使用下面这种方式：<br>\n",
    ">self.driver.execute_script(\"arguments[0].click();\", el)　　　　　　# 直接点击不可见的目标元素，不再先跳转。<br>\n",
    "\n",
    "５、selenium实现定位截图----获取验证码图片<br>\n",
    "　　浏览器最大化，截取整个网页图片保存 ——>定位验证码（通过id或class元素实现定位）——>获取验证码的x,y坐标轴，以及长宽，形成我们需要获取的位置坐标——>打开之前保存的网页截图，从中截取验证码——>保存验证码，等待识别。<br>\n",
    "1)、页面元素截图<br>\n",
    ">from selenium import webdriver<br>\n",
    "from PIL import Image<br>\n",
    "\n",
    ">broswer = webdriver.Chrome()<br>\n",
    "broswer.get(\"http://www.baidu.com\")<br>\n",
    "broswer.save_screenshot(r'E:\\photo.png')<br>\n",
    "baidu = broswer.find_element_by_id('su')<br>\n",
    "left = baidu.location['x']<br>\n",
    "top = baidu.location['y']<br>\n",
    "elementWidth = baidu.location['x'] + baidu.size['width']<br>\n",
    "elementHeight = baidu.location['y'] + baidu.size['height']<br>\n",
    "picture = Image.open(r'E:\\photo.png')<br>\n",
    "**picture = picture.crop((left, top, elementWidth, elementHeight))**<br>\n",
    "picture.save(r'E:\\photo2.png')<br>\n",
    "\n",
    "2)、 screenshot元素截图<br>\n",
    ">from selenium import webdriver<br>\n",
    "from time import sleep<br>\n",
    "\n",
    ">options = webdriver.ChromeOptions()<br>\n",
    "options.add_argument('--kiosk')<br>\n",
    "driver = webdriver.Chrome(chrome_options=options)<br>\n",
    "driver.get('http://www.baidu.com')<br>\n",
    "a = driver.find_element_by_id(\"su\")<br>\n",
    "**a.screenshot(\"/root/code.png\")**<br>\n",
    "sleep(5)<br>\n",
    "driver.quit()<br>\n",
    "\n",
    "6、selenium 获取元素文本值<br>\n",
    "　　self.drive.find_element(*loc).text   文本值加载需要时间，获取文本值前 常常需要sleep一下 否则就可能获取为空值 或者 获取的不是最新的文本值 。<br>\n",
    "7、使用find_element() ,如果页面上有符合条件的多个元素时，find_element 只会找到符合条件的第一个元素！ 不会报错。<br>"
   ]
  }
 ],
 "metadata": {
  "kernelspec": {
   "display_name": "Python 3",
   "language": "python",
   "name": "python3"
  },
  "language_info": {
   "codemirror_mode": {
    "name": "ipython",
    "version": 3
   },
   "file_extension": ".py",
   "mimetype": "text/x-python",
   "name": "python",
   "nbconvert_exporter": "python",
   "pygments_lexer": "ipython3",
<<<<<<< HEAD
   "version": "3.7.1"
=======
   "version": "3.6.8"
>>>>>>> 3ab797861d0f156377422a01d288562b05eb9c14
  }
 },
 "nbformat": 4,
 "nbformat_minor": 2
}
