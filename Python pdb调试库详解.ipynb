{
 "cells": [
  {
   "cell_type": "markdown",
   "metadata": {},
   "source": [
    "## Python pdb调试库详解"
   ]
  },
  {
   "cell_type": "markdown",
   "metadata": {},
   "source": [
    "pdb的常用命令说明： <br>\n",
    ">l　　　　　 #查看运行到哪行代码 <br>\n",
    "n　　　　 　#单步运行，跳过函数 <br>\n",
    "s　　　　　 #单步运行，可进入函数 <br>\n",
    "p 变量　　 #查看变量值 <br>\n",
    "b 行号 　　#断点设置到第几行 <br>\n",
    "b 　　　　　#显示所有断点列表 <br>\n",
    "cl 断点号 　#删除某个断点 <br>\n",
    "cl　　　　　 #删除所有断点 <br>\n",
    "c 　　　　　#跳到下一个断点 <br>\n",
    "r　　　　　 #return当前函数 <br>\n",
    "exit 　　　　#退出<br>\n",
    "\n",
    "pdb设置断点，并调试的方法:<br>\n",
    ">import pdb<br>\n",
    ">#在需要设置断点的地方加入<br>\n",
    "pdb.set_trace()<br>\n",
    "  "
   ]
  }
 ],
 "metadata": {
  "kernelspec": {
   "display_name": "Python 3",
   "language": "python",
   "name": "python3"
  },
  "language_info": {
   "codemirror_mode": {
    "name": "ipython",
    "version": 3
   },
   "file_extension": ".py",
   "mimetype": "text/x-python",
   "name": "python",
   "nbconvert_exporter": "python",
   "pygments_lexer": "ipython3",
   "version": "3.7.0"
  }
 },
 "nbformat": 4,
 "nbformat_minor": 2
}
