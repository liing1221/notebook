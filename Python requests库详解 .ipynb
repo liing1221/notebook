{
 "cells": [
  {
   "cell_type": "markdown",
   "metadata": {},
   "source": [
    "## Python requests库详解 "
   ]
  },
  {
   "cell_type": "markdown",
   "metadata": {},
   "source": [
    "#### requests库介绍<br>"
   ]
  },
  {
   "cell_type": "markdown",
   "metadata": {},
   "source": [
    "#### 6、cookie处理<br>\n",
    "1)、客户端识别：HTTP协议实际上是无状态的，非持久连接，当你第二次访问同一个网站时，服务器无法知道两次访问是不是来自同一个客户端。这时就需要标识判断各个对话对应的客户端，这个判断识别对话客户端的过程，就是客户端识别了。客户端识别就使用到COOKIE技术。服务器只有识别了各个事务、会话对应的客户后，才能够根据客户的分类保存客户相关的信息、并提供个性化的、有针对性的内容。<br>\n",
    "**HTTP提供一些用以进行客户端识别的机制:**<br>\n",
    "a、承载客户身份信息的HTTP首部<br>\n",
    "b、客户端IP地址跟踪，通过用户的IP地址对其进行识别<br>\n",
    "c、用户登录，用认证方式来识别用户<br>\n",
    "d、胖URL， 在URL中嵌入识别信息<br>\n",
    "e、cookie， 功能强大且高效的持久身份信息识别技术<br>\n",
    "2)、什么是cookie?<br>\n",
    "cookie是web站点创建的，为了辨别用户身份，保持web服务器与客户端之间的状态，而储存在用户本地终端上的数据，cookie大部分都是加密的，cookie存在于缓存或硬盘中，在硬盘中的cookie是一些文本文件。cookie是一种功能强大且高效的持久身份信息识别技术，当你访问网站时，浏览器就会读取对应的该网站的cookie信息，一般来说，一旦将cookie保存在计算机上，则只有创建该cookie的网站才能读取它<br>\n",
    "**Cookie有两种类型：**<br>\n",
    "会话cookie： 临时cookie，记录用户访问站点时的设置和偏好，用户退出浏览器时，会话cookie被删除。设置Discard参数<br>\n",
    "持久cookie： 存储在硬盘上，计算机重启时仍然存在。 维护某个用户会周期性访问的站点的配置文件或登录名。设置了Expires或Max-Age参数。<br>\n",
    "**Cookie工作机制：**<br>\n",
    "cookie是一些名字-值的信息列表，列表中会包含一些客户相关的信息（如识别码）。<br> \n",
    "在HTTP会话开始时，Web服务器对客户单一无所知，就为客户端生成cookie（如识别码）， 然后在HTTP响应中通过Set-Cookie或Set-Cookie2响应首部将Cookie贴到用户上去。 <br>\n",
    "浏览器记住服务器返回的cookie内容，并存储到cookie数据库中。当将来用户重新访问之前的站点时，就可以找回保存的cookie内容，添加到请求首部中传会服务器。<br>\n",
    "不同的浏览器存储cookie的位置不同。<br> \n",
    "在访问站点时，浏览器不会把全部cookie发送给所有的站点，实际上浏览器一般只向每个站点发送2~3个cookie。毕竟存在网络开销与信息安全等问题。 <br>\n",
    "一般而言，浏览器只会想服务器发送该服务器产生的cookie。<br>\n",
    "**Cookie 存储:**<br>\n",
    "cookie的基本思想就是让浏览器积累一组服务器特有的信息，每次访问服务器时都会将这些信息提供给它。因为浏览器要负责存储cookie信息，所以此系统被称为客户端侧状态。这个 cookie规范的正式名称为\"HTTP 状态管理机制\"。<br>\n",
    "不同的浏览器会以不同的方式来存储cookie。网景的Navigator 会将cookie存储在一个名为 cookie.txt的文本文件中。<br>\n",
    "文本文件的每一行都代表一个cookie，有7个用tab键分隔的字段<br>\n",
    "**domain （域）：**表示这个Cookie所属的域，产生cookie的服务器可以向Set-Cookie响应首部添加一个Domain属性来控制哪些站点可以看到该Cookie,Cookie是不能跨域访问的。<br>\n",
    "**allh：**是指域名所有的主机都获取cookie，还是只有指定了名字的主机获取。<br>\n",
    "**path（路径）：**Cookie允许用户将cookie与部分Web站点（一个域下的某个路径）绑定，表示只有该路径下的下的站点才能访问该Cookie<br>\n",
    "**secure（安全）：**可选的。如果包含了这一属性，就只有在HTTP使用SSL安全连接时才会发送cookie；<br>\n",
    "**expiration（过期）：**从格林标准时间1970年1月1日00:00:00开始的cookie过期秒数<br>\n",
    "**name （名字）：**cookie变量的名字<br>\n",
    "**value（值）：**cookie变量的值<br>\n",
    "**Expires：**可选的，过期时间<br>\n",
    "**Cookie与会话跟踪：**<br> \n",
    "利用cookie，可以在用户与某个Web站点进行多项事务处理时对用户进行跟踪。<br>\n",
    "**Cookie与缓存：** <br>\n",
    "对于缓存来说，许多携带cookie数据的事务中缓存应该是不被允许的，以免将某些用户使用过的cookie（或者携带的私有文档）提供给其他用户。<br>\n",
    "**Cookie、安全性和隐私：**<br>\n",
    "由于cookie传输了一些用户信息相关的 敏感数据，在使用cookie时，不可避免会有一些安全性问题。<br>\n",
    "\n",
    "3)、获取cookie：<br>\n",
    "a、requests库的Response对象(需请求响应返回cookie)拥有cookies属性：Response.cookies，获取cookie：response.cookies[\"cookies'name\"]<br>\n",
    "b、获取响应Response中的cookie: response.cookies.get_dict()<br>\n",
    "注意：Response.cookies为requests.cookies.RequestCookieJar对象实列，为cookies列表，每个列表元素包含cookie的name,value,domain，path,expires等信息。RequestCookieJar对象包含了很多方法：get(),set(),iterkeys(),keys(),itervalues(),values(),iteritems(),items()(与dict类似，可仿照使用）<br>\n",
    "4)、设置cookie:<br>\n",
    "a、若需要在请求中添加cookie，可以实例化一个RequestCookieJar的实例，然后把值set进去，最后在get,post方法里面指定cookies参数就行了。<br>\n",
    "jar = RequestCookieJar()<br>\n",
    "jar.set('name', 'value', domain='')<br>\n",
    "b、请求得headers中设置cookie：模拟登陆时，获取登陆后的Cookie,并将该Cookie设置到headers中：headers={\"Cookie\":\"获取的cookie\")\n",
    "c、构造cookies字典（{'name':'value'})，并在请求时传入cookies参数中。"
   ]
  },
  {
   "cell_type": "code",
   "execution_count": null,
   "metadata": {},
   "outputs": [],
   "source": []
  }
 ],
 "metadata": {
  "kernelspec": {
   "display_name": "Python 3",
   "language": "python",
   "name": "python3"
  },
  "language_info": {
   "codemirror_mode": {
    "name": "ipython",
    "version": 3
   },
   "file_extension": ".py",
   "mimetype": "text/x-python",
   "name": "python",
   "nbconvert_exporter": "python",
   "pygments_lexer": "ipython3",
   "version": "3.7.1"
  }
 },
 "nbformat": 4,
 "nbformat_minor": 2
}
