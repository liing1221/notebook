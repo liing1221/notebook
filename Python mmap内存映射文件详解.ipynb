{
 "cells": [
  {
   "cell_type": "markdown",
   "metadata": {},
   "source": [
    "# mmap详解\n",
    "　　参考：[mmap官方文档](https://docs.python.org/zh-cn/3/library/mmap.html)  \n",
    "　　　　　[Python之mmap内存映射模块（大文本处理）说明\n",
    "](https://www.cnblogs.com/zhoujinyi/p/6062907.html)  \n",
    "　　　　　[]()  \n",
    "　　　　　[]()  \n",
    "　　　　　[]()  \n",
    "　　　　　[]()  \n",
    "　　　　　[]()  \n",
    "　　　　　[]()  \n",
    "　　　　　[]()  \n",
    "　　　　　[]()  "
   ]
  }
 ],
 "metadata": {
  "kernelspec": {
   "display_name": "Python 3",
   "language": "python",
   "name": "python3"
  },
  "language_info": {
   "codemirror_mode": {
    "name": "ipython",
    "version": 3
   },
   "file_extension": ".py",
   "mimetype": "text/x-python",
   "name": "python",
   "nbconvert_exporter": "python",
   "pygments_lexer": "ipython3",
   "version": "3.7.4"
  }
 },
 "nbformat": 4,
 "nbformat_minor": 4
}
