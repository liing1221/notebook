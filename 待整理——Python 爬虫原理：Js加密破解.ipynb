{
 "cells": [
  {
   "cell_type": "markdown",
   "metadata": {},
   "source": [
    "## Js加密破解\n",
    "　　参考：[面对js加密时破解全流程 python版](https://blog.csdn.net/qq_21189053/article/details/82624128)<br>\n",
    "　　　　　[新版知乎加密破解](https://www.freesion.com/article/72071046890/)<br>"
   ]
  }
 ],
 "metadata": {
  "kernelspec": {
   "display_name": "Python 3",
   "language": "python",
   "name": "python3"
  },
  "language_info": {
   "codemirror_mode": {
    "name": "ipython",
    "version": 3
   },
   "file_extension": ".py",
   "mimetype": "text/x-python",
   "name": "python",
   "nbconvert_exporter": "python",
   "pygments_lexer": "ipython3",
   "version": "3.7.4"
  }
 },
 "nbformat": 4,
 "nbformat_minor": 2
}
