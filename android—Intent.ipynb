{
 "cells": [
  {
   "cell_type": "markdown",
   "id": "7628612f",
   "metadata": {},
   "source": [
    "# Intent\n",
    "　　参考：[1](https://blog.51cto.com/liangruijun/634411)   \n",
    "　　　　　[]()   \n",
    "　　　　　[]()   \n",
    "　　　　　[]()   \n",
    "　　　　　[]()   \n",
    "　　　　　[]()   \n",
    "　　　　　[]()   \n",
    "\n",
    "## 一、\n",
    "\n",
    "## 二、\n",
    "\n",
    "## 三、\n",
    "\n",
    "## 四、\n"
   ]
  }
 ],
 "metadata": {
  "kernelspec": {
   "display_name": "Python 3",
   "language": "python",
   "name": "python3"
  },
  "language_info": {
   "codemirror_mode": {
    "name": "ipython",
    "version": 3
   },
   "file_extension": ".py",
   "mimetype": "text/x-python",
   "name": "python",
   "nbconvert_exporter": "python",
   "pygments_lexer": "ipython3",
   "version": "3.9.7"
  }
 },
 "nbformat": 4,
 "nbformat_minor": 5
}
