{
 "cells": [
  {
   "cell_type": "markdown",
   "metadata": {},
   "source": [
    "# itertools详解\n",
    "　　　参考：[相见恨晚的 Python 内置库：itertools](https://mp.weixin.qq.com/s/6ggB56tu5FLMl1Tg3m5Ong)<br>\n",
    "　　　　　　[]()<br>\n",
    "　　　　　　[]()<br>\n",
    "　　　　　　[]()<br>\n",
    "　　　　　　[]()<br>\n",
    "　　　　　　[]()<br>\n",
    "　　　　　　[]()<br>\n",
    "　　　　　　[]()<br>\n",
    "　　　　　　[]()<br>\n",
    "　　　　　　[]()<br>\n",
    "　　　　　　[]()<br>"
   ]
  }
 ],
 "metadata": {
  "kernelspec": {
   "display_name": "Python 3",
   "language": "python",
   "name": "python3"
  },
  "language_info": {
   "codemirror_mode": {
    "name": "ipython",
    "version": 3
   },
   "file_extension": ".py",
   "mimetype": "text/x-python",
   "name": "python",
   "nbconvert_exporter": "python",
   "pygments_lexer": "ipython3",
   "version": "3.7.4"
  }
 },
 "nbformat": 4,
 "nbformat_minor": 4
}
