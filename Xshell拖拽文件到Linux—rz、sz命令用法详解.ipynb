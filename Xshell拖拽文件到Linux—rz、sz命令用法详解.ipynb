{
 "cells": [
  {
   "cell_type": "markdown",
   "metadata": {},
   "source": [
    "## Xshell拖拽文件到Linux—rz、sz命令用法详解"
   ]
  },
  {
   "cell_type": "markdown",
   "metadata": {},
   "source": [
    "在linux中rz 和 sz 命令允许开发板与主机通过串口进行传递文件。<br>\n",
    "rz，sz是Linux/Unix同Windows进行ZModem文件传输的命令行工具。<br>\n",
    "优点就是不用再开一个sftp工具登录上去上传下载文件。<br>\n",
    "sz：将选定的文件发送（send）到本地机器<br>\n",
    "rz：运行该命令会弹出一个文件选择窗口，从本地选择文件上传到Linux服务器<br>\n",
    "安装命令：<br>\n",
    "yum install lrzsz<br>\n",
    "从服务端发送文件到客户端：<br>\n",
    "sz filename<br>\n",
    "从客户端上传文件到服务端：<br>\n",
    "rz　　　　　　在弹出的框中选择文件，上传文件的用户和组是当前登录的用户<br>\n",
    "SecureCRT设置默认路径：<br>\n",
    "Options -> Session Options -> Terminal -> Xmodem/Zmodem ->Directories<br>\n",
    "Xshell设置默认路径：<br>\n",
    "右键会话 -> 属性 -> ZMODEM -> 接收文件夹<br>"
   ]
  },
  {
   "cell_type": "code",
   "execution_count": null,
   "metadata": {},
   "outputs": [],
   "source": []
  }
 ],
 "metadata": {
  "kernelspec": {
   "display_name": "Python 3",
   "language": "python",
   "name": "python3"
  },
  "language_info": {
   "codemirror_mode": {
    "name": "ipython",
    "version": 3
   },
   "file_extension": ".py",
   "mimetype": "text/x-python",
   "name": "python",
   "nbconvert_exporter": "python",
   "pygments_lexer": "ipython3",
   "version": "3.7.0"
  }
 },
 "nbformat": 4,
 "nbformat_minor": 2
}
