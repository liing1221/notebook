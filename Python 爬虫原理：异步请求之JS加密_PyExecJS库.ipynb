{
 "cells": [
  {
   "cell_type": "markdown",
   "metadata": {},
   "source": [
    "## Python 爬虫原理(5):JS加密"
   ]
  },
  {
   "cell_type": "markdown",
   "metadata": {},
   "source": [
    "　　在爬虫过程中，经常给服务器造成压力（比如耗尽CPU，内存，带宽等），为了减少不必要的访问（比如爬虫），网页开发者就发明了反爬虫技术。<br>\n",
    "　　常见的反爬虫技术有封ip，user_agent，字体库，js加密，验证码（字符验证码，滑动验证码，点触式验证码等）。所谓魔高一尺道高一丈。有反爬虫，就有反反爬虫技术。本文重要讲js加密的破解方法。<br>\n",
    "　　js加密一般是在请求头或者请求参数加入加密有的字段。爬虫开发者不知道加密的方法，就能够抵挡一些低级爬虫工程师。但是js加密函数或者过程一定是在浏览器完成，也就是一定会把js代码暴露给使用者。通过阅读加密算法，就可以模拟出加密过程，从而达到破解。<br>\n",
    "### 1、爬虫js破解的方式有：<br>\n",
    "　　一：把js代码翻译成Python或者java等代码。这个对于大部分的爬虫工程师是有难度的。因为爬虫偏向于后端的处理，很少有爬虫工程师去精通前端的知识，还有一点就是经过加密，混淆，压缩的js代码阅读性很差的。即使是开发三五年的前端工程师，也很少能看懂的。更何况是没有搞过js的爬虫工程师呢？当然也有一些高手除外。<br>\n",
    "　　例如有道翻译参数加密：<br>\n",
    "　　r = \"\" + ((new Date).getTime() + parseInt(10 * Math.random(), 10))    # 所谓的加密的salt（盐）<br>\n",
    "　　sign：n.md5(\"fanyideskweb\" + t + r + \"p09@Bn{h02_BIEe]$P^nG\");      # 加密参数sign:Md5加密，第一、四参数为常量，二为翻译的单词，三为加密的盐。<br>\n",
    "　　二: 执行js代码。可以使用Python的一些第三方库比如 pyv8，或者execjs去执行js代码。这个代码效率很高的。<br>\n",
    "　　三：使用selenium或者appiun等框架。强烈不建议使用。因为代码的稳定性和效率都很低。<br>"
   ]
  },
  {
   "cell_type": "markdown",
   "metadata": {},
   "source": [
    "### 2、执行JS代码反反爬虫<br>\n",
    "1）、**安装相应库：**pip install PyExecJS  　　　　　　# 需要注意， 包的名称：PyExecJS <br>\n",
    "2）、**PyExecJS的简单使用：**<br>\n",
    ">import execjs<br>\n",
    "    **execjs.eval(\"new Date\")**<br>\n",
    "    返回值为： 2018-04-04T12:53:17.759Z<br>\n",
    "    execjs.eval(\"Date.now()\")<br>\n",
    "    返回值为：1522847001080  # 需要注意的是返回值是13位， 区别于python的time.time()（9位）<br>\n",
    "    \n",
    "    注意： 个别的JS语句， 用execjs返回的结果跟浏览器环境返回的结果是有区别的<br>\n",
    "3）、**execjs调用函数：**<br>\n",
    "  实际生产中处理的js有几百几千行， 不方便贴上来。来看一下源码中给的例子：<br>\n",
    "  >**ctx = execjs.compile**(\"\"\"<br>\n",
    "        function add(x, y) {<br>\n",
    "                return x + y;<br>\n",
    "           }<br>\n",
    "\"\"\")<br>\n",
    "  >**ctx.call(\"add\", 1, 2)**  # 第一个参数 “add” 为JS函数名的字符串， 后边依次为实参<br>\n",
    "  返回值：3<br>\n",
    "  \n",
    "4）、**执行JS的环境管理：**<br>\n",
    "    a、在windows上不需要其他的依赖便可运行execjs， 也可以调用其他的JS环境<br>\n",
    "    windows 默认的执行JS的环境<br>\n",
    ">execjs.get().name<br>\n",
    "       返回值： JScript<br>\n",
    "       \n",
    "    b、在ubuntu下需要安装执行JS环境依赖, 作者的环境为PhantomJS<br>\n",
    ">execjs.get().name<br>\n",
    "       返回值： PhantomJS<br>\n",
    "       \n",
    "    c、源码中给出， 可执行execjs的环境：<br>\n",
    "        PyV8           = \"PyV8\"<br>\n",
    "        Node           = \"Node\"<br>\n",
    "        JavaScriptCore = \"JavaScriptCore\"<br>\n",
    "        SpiderMonkey   = \"SpiderMonkey\"<br>\n",
    "        JScript        = \"JScript\"<br>\n",
    "        PhantomJS      = \"PhantomJS\"<br>\n",
    "        SlimerJS       = \"SlimerJS\"<br>\n",
    "        Nashorn        = \"Nashorn\"<br>\n",
    "    d、Js环境切换：<br>\n",
    "      # 1. 通过os.environ<br>\n",
    "      \n",
    ">os.environ[\"EXECJS_RUNTIME\"] = \"Node\"   # 环境路径<br>\n",
    ">execjs.get().name<br>\n",
    "\n",
    "      # 2. 通过execjs.get 切换<br>\n",
    ">jscript = execjs.get(execjs.runtime_names.JScript)  　　　　# runtime_names 便是execjs源码中给出的执行环境的。\n",
    ">node = execjs.get(execjs.runtime_names.Node)<br>\n",
    ">execjs.runtime_names.xxx  xxx必须在上一节 c 中取<br>\n",
    "\n",
    "5）、**常见错误处理：**<br>\n",
    ">raise exceptions.ProgramError(e) execjs._exceptions.ProgramError: ReferenceError: XXX is not defined <br>\n",
    ">Uncaught TypeError: Cannot read property 'length' of undefined\n",
    ">Uncaught SyntaxError: Unexpected token ILLEGAL\n",
    "\n",
    "execjs只是纯粹的js运行环境，没有dom结构，不能像浏览器一样传递调用dom中的一些变量或函数。<br>\n",
    "这时解决办法是：在js代码字符串中定义上相应的变量对象或函数对象。<br>\n",
    ">Uncaught SyntaxError: Unexpected token <br>\n",
    "\n",
    "一种解释是：由于AJAX请求的地址需要登录才能访问，不登录的话会跳转到登录页面，所以返回的是登录页面的HTML代码，导致执行“eval”函数出错（未指出解决办法）；<br>\n",
    "一种前端解释是：js报错，某个js文件未引入<br>\n",
    "\n",
    "5）、PyExecJS的缺点之一就是性能。PyExecJS通过文本传递JavaScript运行时，并且速度很慢。另一个缺点是它不完全支持运行时特定的功能。对于某些用例，PyV8可能是更好的选择。<br>\n",
    "总注：使用execjs的难点并不是在execjs这个库，而是解析JS的过程，因为没有浏览器的环境，没有加密源码的依赖。从成千上万行的JS中择出想要的内容，可能是一段孤零零的JS函数，也可能是从几个JS文件去找出各自找出一段JS代码，并可以通过execjs顺利执行，这并非易事。需要慢慢积累经验。 一旦掌握，便可以提高爬虫的效率，以及代码的健壮性，节省资源！<br>"
   ]
  },
  {
   "cell_type": "code",
   "execution_count": null,
   "metadata": {},
   "outputs": [],
   "source": []
  }
 ],
 "metadata": {
  "kernelspec": {
   "display_name": "Python 3",
   "language": "python",
   "name": "python3"
  },
  "language_info": {
   "codemirror_mode": {
    "name": "ipython",
    "version": 3
   },
   "file_extension": ".py",
   "mimetype": "text/x-python",
   "name": "python",
   "nbconvert_exporter": "python",
   "pygments_lexer": "ipython3",
   "version": "3.7.0"
  }
 },
 "nbformat": 4,
 "nbformat_minor": 2
}
