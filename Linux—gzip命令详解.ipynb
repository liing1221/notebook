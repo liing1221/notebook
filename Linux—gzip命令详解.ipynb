{
 "cells": [
  {
   "cell_type": "markdown",
   "id": "94e34efd",
   "metadata": {},
   "source": [
    "# gzip命令详解\n",
    "[gzip 命令](https://math.ecnu.edu.cn/~jypan/Teaching/Linux/command/gzip.htm)   \n",
    "\n",
    "## 1、压缩\n",
    "### 1.1、压缩文件\n",
    "语法：gzip 源文件  \n",
    "注意：压缩为 .gz 文件 源文件会消失；如果想保留源文件 使用命令：gzip -c 源文件 > 压缩文件  \n",
    "### 1.2、压缩目录\n",
    "语法：gzip -r 目录  \n",
    "注意：gzip 压缩目录，只会压缩目录下的所有文件，不会压缩目录  \n",
    "\n",
    "## 2、解压\n",
    "语法：gzip -d 压缩文件  \n",
    "　　　gunzip 压缩文件  \n",
    "如解压 a11.txt.gz 和 a1.txt.gz 分别使用命令 gzip -d a11.txt.gz 或 gunzip a1l.txt.gz     "
   ]
  }
 ],
 "metadata": {
  "kernelspec": {
   "display_name": "Python 3 (ipykernel)",
   "language": "python",
   "name": "python3"
  },
  "language_info": {
   "codemirror_mode": {
    "name": "ipython",
    "version": 3
   },
   "file_extension": ".py",
   "mimetype": "text/x-python",
   "name": "python",
   "nbconvert_exporter": "python",
   "pygments_lexer": "ipython3",
   "version": "3.9.7"
  }
 },
 "nbformat": 4,
 "nbformat_minor": 5
}
