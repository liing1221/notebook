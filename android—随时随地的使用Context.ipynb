{
 "cells": [
  {
   "cell_type": "markdown",
   "id": "08fe6c7e",
   "metadata": {},
   "source": [
    "# 随时随地的使用Context\n",
    "　　参考：[Android 全局获取Context](https://blog.csdn.net/u012005313/article/details/48848045)  \n",
    "　　　　　[Android Context完全解析与各种获取Context方法](https://blog.csdn.net/ayang1986/article/details/111944505)   \n",
    "　　　　　[获取context的几种方式](https://blog.csdn.net/bruse1990/article/details/45217485)   \n",
    "　　　　　[全局获取Context的技巧](https://blog.csdn.net/shaochen2015821426/article/details/80558964)   \n",
    "　　　　　[]()   \n",
    "　　　　　[]()   "
   ]
  }
 ],
 "metadata": {
  "kernelspec": {
   "display_name": "Python 3",
   "language": "python",
   "name": "python3"
  },
  "language_info": {
   "codemirror_mode": {
    "name": "ipython",
    "version": 3
   },
   "file_extension": ".py",
   "mimetype": "text/x-python",
   "name": "python",
   "nbconvert_exporter": "python",
   "pygments_lexer": "ipython3",
   "version": "3.9.7"
  }
 },
 "nbformat": 4,
 "nbformat_minor": 5
}
