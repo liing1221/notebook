{
 "cells": [
  {
   "cell_type": "markdown",
   "metadata": {},
   "source": [
    "# Appium安装使用\n",
    "　　参考：[]()  \n",
    "　　　　　[Appium Desktop 介绍及安装使用](https://blog.csdn.net/linlu_home/article/details/79172208)  \n",
    "　　　　　[]()  \n",
    "　　　　　[]()  \n",
    "　　　　　[]()  \n",
    "　　　　　[]()  \n",
    "　　　　　[]()  \n",
    "　　　　　[]()  \n",
    "　　　　　[]()  "
   ]
  }
 ],
 "metadata": {
  "kernelspec": {
   "display_name": "Python 3",
   "language": "python",
   "name": "python3"
  },
  "language_info": {
   "codemirror_mode": {
    "name": "ipython",
    "version": 3
   },
   "file_extension": ".py",
   "mimetype": "text/x-python",
   "name": "python",
   "nbconvert_exporter": "python",
   "pygments_lexer": "ipython3",
   "version": "3.7.4"
  }
 },
 "nbformat": 4,
 "nbformat_minor": 4
}
