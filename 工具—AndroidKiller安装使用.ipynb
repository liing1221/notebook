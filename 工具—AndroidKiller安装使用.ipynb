{
 "cells": [
  {
   "cell_type": "markdown",
   "metadata": {},
   "source": [
    "# AndroidKiller安装使用\n",
    "　　参考：[AndroidKiller安装、设置及使用教程4月15日网盘文件有更新](https://www.52pojie.cn/thread-726176-1-1.html)<br>\n",
    "　　　　　[JD-GUI 1.4.0](https://www.52pojie.cn/thread-398642-1-1.html)<br>\n",
    "　　　　　[dex2jar-2.1-SNAPSHOT](https://www.52pojie.cn/thread-398647-1-1.html)<br>\n",
    "　　　　　[Apktool|ShakaApktool 简体中文汉化版|APK反编译工具](https://www.52pojie.cn/thread-347591-1-1.html)<br>\n",
    "　　　　　[Android逆向笔记之AndroidKiller与Android Studio的使用](https://blog.csdn.net/a_1054280044/article/details/60465267)<br>\n",
    "　　　　　[AndroidKiller v1.3.1-下载之家](http://www.downza.cn/soft/275382.html)<br>\n",
    "　　　　　[安卓破解初步：Android Killer的安装与配置](https://www.52pojie.cn/thread-1417837-1-1.html)<br>"
   ]
  }
 ],
 "metadata": {
  "kernelspec": {
   "display_name": "Python 3",
   "language": "python",
   "name": "python3"
  },
  "language_info": {
   "codemirror_mode": {
    "name": "ipython",
    "version": 3
   },
   "file_extension": ".py",
   "mimetype": "text/x-python",
   "name": "python",
   "nbconvert_exporter": "python",
   "pygments_lexer": "ipython3",
   "version": "3.7.4"
  }
 },
 "nbformat": 4,
 "nbformat_minor": 4
}
