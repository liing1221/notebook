{
 "cells": [
  {
   "cell_type": "markdown",
   "metadata": {},
   "source": [
    "## Python 爬虫原理(4):Token认证"
   ]
  },
  {
   "cell_type": "markdown",
   "metadata": {},
   "source": [
    "较早之前Web就是文档的浏览，不需要记录谁浏览了什么文档，随着交互式Web应用的兴起，像电子商城等网站，就需要知道那些人登录了系统。由于http是无状态的会话，所以我们需要一个东西来记录。<br> \n",
    "**我们目前使用的是三种**： <br> \n",
    "### 1）session：<br> \n",
    "在服务器端记录，每一个会话会产生一个session id。session的中文翻译是“会话”，当用户打开某个web应用时，便与web服务器产生一次session。服务器使用session把用户的信息临时保存在了服务器上，用户离开网站后session会被销毁。<br> \n",
    "缺点：<br> \n",
    "如果使用单个服务器的话，用户过多的话，开销太大。如果我们系统采用分布式的话，我们登录时，响应我们的那台机器会记录我们登录信息，万一下一个请求，响应我们的不是原来那台机器的话，它并没有存储我们之前会话信息，就会认为我们并没有登录。session粘连或者session复制都不是特别好的方案。<br> \n",
    "### 2）cookie:<br> \n",
    "cookie是保存在本地终端的数据。cookie由服务器生成，发送给浏览器，浏览器把cookie以kv形式保存到某个目录下的文本文件内，下一次请求同一网站时会把该cookie发送给服务器。由于cookie是存在客户端上的，所以浏览器加入了一些限制确保cookie不会被恶意使用，同时不会占据太多磁盘空间，所以每个域的cookie数量是有限的。在客户端记录。<br> \n",
    "缺点：<br> \n",
    "只能用于pc的浏览器中，而不能应用于移动端。<br> \n",
    "### 3）token:<br> \n",
    "token的意思是“令牌”，是用户身份的验证方式，最简单的token组成:uid(用户唯一的身份标识)、time(当前时间的时间戳)、sign(签名，由token的前几位+盐以哈希算法压缩成一定长的十六进制字符串，可以防止恶意第三方拼接token请求服务器)。还可以把不变的参数也放进token，避免多次查库。token在服务器端并不保存，当服务器端收到token时，使用服务器端的特定的算法和只有服务器端知道的密钥，计算签名，如果相同则通过验证。token解决了上述的session和cookie的不足，减少了服务器端的开销，不用在服务器端存储会话标志，可以很好的支持分布式和支持多端登录。<br> \n",
    "流程:<br> \n",
    "服务端收到请求，去验证用户名与密码<br> \n",
    "验证成功后，服务端会签发一个 Token，再把这个 Token 发送给客户端<br> \n",
    "客户端收到 Token 以后可以把它存储起来，比如放在 Cookie 里或者 Local Storage 里<br> \n",
    "客户端每次向服务端请求资源的时候需要带着服务端签发的 Token<br> \n",
    "服务端收到请求，然后去验证客户端请求里面带着的 Token，如果验证成功，就向客户端返回请求的数据<br> \n",
    "优点：<br> \n",
    "Token 完全由应用管理，所以它可以避开同源策略。<br> \n",
    "Token 可以避免 CSRF 攻击(http://dwz.cn/7joLzx)。<br> \n",
    "Token 可以是无状态的，可以在多个服务间共享。<br> \n",
    "Token 是在服务端产生的，如果前端使用用户名/密码向服务端请求认证，服务端认证成功，那么在服务端会返回 Token 给前端。<br> \n",
    "### 4）token认证策略:(https://blog.csdn.net/niugang0920/article/details/80615137)<br> "
   ]
  }
 ],
 "metadata": {
  "kernelspec": {
   "display_name": "Python 3",
   "language": "python",
   "name": "python3"
  },
  "language_info": {
   "codemirror_mode": {
    "name": "ipython",
    "version": 3
   },
   "file_extension": ".py",
   "mimetype": "text/x-python",
   "name": "python",
   "nbconvert_exporter": "python",
   "pygments_lexer": "ipython3",
   "version": "3.7.0"
  }
 },
 "nbformat": 4,
 "nbformat_minor": 2
}
