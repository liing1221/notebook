{
 "cells": [
  {
   "cell_type": "markdown",
   "metadata": {},
   "source": [
    "## 手机EdXposed框架安装教程\n",
    "　　参考：[小米8安卓9系统怎么安装EdXposed框架的详细教程](https://www.netded.com/guide/201906/1442794.html)   \n",
    "　　　　　[新手不要再被误导！这是一篇最新的Xposed模块编写教程](https://blog.csdn.net/THMAIL/article/details/112061448)    \n",
    "　　　　　[Xposed 开发教程（翻译自官方）](https://blog.csdn.net/THMAIL/article/details/112061434)    \n",
    "　　　　　[Xposed Hook 如何Hook用安卓app自定义类作为参数的函数](https://blog.csdn.net/THMAIL/article/details/112061643)    \n",
    "　　　　　[[原创]安卓Hook函数的复杂参数如何给定？](https://bbs.pediy.com/thread-215039.htm)    \n",
    "　　　　　[Xposed如何Hook有可变参数的方法](https://blog.csdn.net/THMAIL/article/details/112061617)    \n",
    "　　　　　[Xposed 如何Hook静态变量 |构造方法 |复杂参数的方法|替换函数执行内容|内部类中的函数|匿名类的函数](https://blog.csdn.net/skillart/article/details/100104649)    \n",
    "　　　　　[Android Hook框架Xposed进阶](https://blog.csdn.net/zhangmiaoping23/article/details/52315815)    \n",
    "　　　　　[Xposed Hook混淆且加固后的APP](https://blog.csdn.net/THMAIL/article/details/112061570)    \n",
    "　　　　　[JVM、DVM、ART虚拟机简单了解](https://blog.csdn.net/THMAIL/article/details/104366594)    \n",
    "　　　　　[JVM、DVM(Dalvik VM)和ART虚拟机对比](https://blog.csdn.net/evan_man/article/details/52414390)    \n",
    "　　　　　[Android 虚拟多开系列二——技术原理](https://blog.csdn.net/THMAIL/article/details/104360592)    \n",
    "　　　　　[Android应用分身功能介绍](https://blog.csdn.net/maetelibom/article/details/52084085)   \n",
    "　　　　　[VirtualApp原理解析(1)--初始化及注入流程](https://blog.csdn.net/leif_/article/details/72420934)   \n",
    "　　　　　[android多开原理和检测](https://blog.csdn.net/c_kongfei/article/details/119914810)   \n",
    "　　　　　[android下注入技术详解](https://blog.csdn.net/c_kongfei/article/details/123674137)   \n",
    "　　　　　[APK多开原理](https://blog.csdn.net/weixin_34026276/article/details/89402794)   \n",
    "　　　　　[安卓逆向学习——多开原理和实验](https://blog.csdn.net/alexsmoker/article/details/104499031)    \n",
    "　　　　　[Android多开/分身检测](https://blog.csdn.net/mawei7510/article/details/80250416)    \n",
    "　　　　　[Android 系统分身及应用多开实战 frida hook](https://blog.csdn.net/u012960155/article/details/90113862)    \n",
    "　　　　　[]()    \n",
    "　　　　　[]()    \n",
    "　　　　　[]()    \n",
    "　　　　　[]()    \n",
    "　　　　　[]()    "
   ]
  }
 ],
 "metadata": {
  "kernelspec": {
   "display_name": "Python 3 (ipykernel)",
   "language": "python",
   "name": "python3"
  },
  "language_info": {
   "codemirror_mode": {
    "name": "ipython",
    "version": 3
   },
   "file_extension": ".py",
   "mimetype": "text/x-python",
   "name": "python",
   "nbconvert_exporter": "python",
   "pygments_lexer": "ipython3",
   "version": "3.9.7"
  }
 },
 "nbformat": 4,
 "nbformat_minor": 2
}
