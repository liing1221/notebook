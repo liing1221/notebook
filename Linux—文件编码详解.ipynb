{
 "cells": [
  {
   "cell_type": "markdown",
   "metadata": {},
   "source": [
    "## Linux 文件编码详解\n",
    "### 1、查看文件编码\n",
    "方法一：<br>\n",
    ">file filename<br>\n",
    "\n",
    "方法二：在Vim中可以直接查看文件编码<br>\n",
    ">:set fileencoding　　　　# 即可显示文件编码格式。<br>\n",
    "\n",
    "　　如果你只是想查看其它编码格式的文件或者想解决用Vim查看文件乱码的问题，那么你可以在 ~/.vimrc 文件中添加以下内容：<br>\n",
    ">set encoding=utf-8 fileencodings=ucs-bom,utf-8,cp936<br>\n",
    "　　\n",
    "　　这样，就可以让vim自动识别文件编码（可以自动识别UTF-8或者GBK编码的文件），其实就是依照fileencodings提供的编码列表尝试，如果没有找到合适的编码，就用latin-1（ASCII）编码打开。<br>\n",
    "### 2、编码转换\n",
    "iconv命令：<br>\n",
    "iconv --help<br>\n",
    "用法： iconv [选项...] [文件...]<br>\n",
    "转换给定文件的编码。<br>\n",
    "\n",
    " >输入/输出格式规范：<br>\n",
    "  -f, --from-code=名称     原始文本编码<br>\n",
    "  -t, --to-code=名称       输出编码<br>\n",
    " 信息：<br>\n",
    "  -l, --list                 列举所有已知的字符集<br>\n",
    " 输出控制：<br>\n",
    "  -c                         从输出中忽略无效的字符<br>\n",
    "  -o, --output=FILE          输出文件<br>\n",
    "  -s, --silent               关闭警告<br>\n",
    "      --verbose              打印进度信息<br>\n",
    "  -?, --help                 给出该系统求助列表<br>\n",
    "      --usage                给出简要的用法信息<br>\n",
    "  -V, --version              打印程序版本号<br>\n",
    "\n",
    "比如将一个UTF-8 编码的文件转换成GBK编码<br>\n",
    ">iconv -f GBK -t UTF-8 file1 -o file2<br>"
   ]
  }
 ],
 "metadata": {
  "kernelspec": {
   "display_name": "Python 3",
   "language": "python",
   "name": "python3"
  },
  "language_info": {
   "codemirror_mode": {
    "name": "ipython",
    "version": 3
   },
   "file_extension": ".py",
   "mimetype": "text/x-python",
   "name": "python",
   "nbconvert_exporter": "python",
   "pygments_lexer": "ipython3",
   "version": "3.7.4"
  }
 },
 "nbformat": 4,
 "nbformat_minor": 2
}
