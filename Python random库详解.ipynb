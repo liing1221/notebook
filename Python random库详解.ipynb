{
 "cells": [
  {
   "cell_type": "markdown",
   "metadata": {},
   "source": [
    "## random库详解\n",
    "　　参考：[官方文档](https://docs.python.org/zh-cn/3.7/library/random.html)——[官方标准库](https://docs.python.org/zh-cn/3.7/library/)<br>\n",
    "　　　　　[python3之模块random随机数](https://www.cnblogs.com/zhangxinqi/p/9069741.html)<br>"
   ]
  }
 ],
 "metadata": {
  "kernelspec": {
   "display_name": "Python 3",
   "language": "python",
   "name": "python3"
  },
  "language_info": {
   "codemirror_mode": {
    "name": "ipython",
    "version": 3
   },
   "file_extension": ".py",
   "mimetype": "text/x-python",
   "name": "python",
   "nbconvert_exporter": "python",
   "pygments_lexer": "ipython3",
   "version": "3.7.4"
  }
 },
 "nbformat": 4,
 "nbformat_minor": 2
}
