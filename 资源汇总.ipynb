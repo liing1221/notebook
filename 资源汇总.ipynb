{
 "cells": [
  {
   "cell_type": "markdown",
   "metadata": {},
   "source": [
    "## 数学\n",
    "\n",
    "[陶泽轩](https://terrytao.wordpress.com/)<br><br>\n",
    "\n",
    "## 工具\n",
    "[Teadocs文档生成系统](http://docs.teadocs.cn/en/index.html)<br>\n",
    "\n",
    "### 酷站：\n",
    "[酷壳](https://coolshell.cn/)<br>\n",
    "[编程网-Python教程](http://c.biancheng.net/python/)<br>\n",
    "[Python俱乐部-Python教程](http://www.pythonclub.org/)<br>\n",
    "[Python Web开发](https://www.cnblogs.com/yoyoketang/tag/django/)<br>\n",
    "[Vim中文教程](http://vimcdoc.sourceforge.net/doc/help.html)<br>\n",
    "[Xmind入门教程](https://www.cnblogs.com/ysocean/p/7482248.html)<br>\n",
    "[Linux系列教程](https://www.cnblogs.com/ysocean/tag/Linux%E7%B3%BB%E5%88%97%E6%95%99%E7%A8%8B/)<br>\n",
    "[深入理解计算机系统](https://www.cnblogs.com/ysocean/tag/%E6%B7%B1%E5%85%A5%E7%90%86%E8%A7%A3%E8%AE%A1%E7%AE%97%E6%9C%BA%E7%B3%BB%E7%BB%9F/)<br>\n",
    "[Python 资源大全中文版](https://www.cnblogs.com/palace/p/9889326.html)<br>\n",
    "[思维导图中文教程](https://www.w3cschool.cn/xmind/)<br>\n",
    "[Xmind](https://www.xmind.cn/)<br>\n",
    "[python知识思维导图](https://www.cnblogs.com/palace/category/1295171.html)<br>\n",
    "[Scrapy思维导图](https://www.cnblogs.com/zhang-can/articles/7873673.html)<br>\n",
    "[Scrapy 源码分析](https://blog.csdn.net/weixin_37947156/article/category/6959928)<br>\n",
    "[CSDN—360](https://blog.csdn.net/u013378306/article/category/6290770)<br>\n",
    "[CSDN—2283](https://blog.csdn.net/deniro_li/article/category/9269764)<br>\n",
    "[建站教程](https://finthon.com/website-tutorial/)<br>\n",
    "[Bash shell入门教程](https://blog.csdn.net/topgun_chenlingyun/article/details/50387033)<br>\n",
    "[阮一峰-开发者手册](http://www.ruanyifeng.com/blog/developer/)<br><br>\n",
    "\n",
    "### 人工智能：\n",
    "[sklearn文档与TensorFlow翻译](https://www.jianshu.com/u/22f9710c20ed)<br>\n",
    "[机器学习：数据预处理，特征选择，降维](https://www.cnblogs.com/dshn/p/8856173.html)<br>\n",
    "[TensorFlow基础知识](https://mbd.baidu.com/newspage/data/landingshare?context=%7B%22nid%22%3A%22news_9724918307365099076%22%2C%22sourceFrom%22%3A%22bjh%22%2C%22url_data%22%3A%22bjhauthor%22%7D)<br>\n",
    "[Sklearn中文官方文档](https://sklearn.apachecn.org/docs/0.21.3/)<br>\n",
    "[NumPy 中文文档](https://www.numpy.org.cn/)<br>\n",
    "[Pandas 中文文档](https://www.pypandas.cn/docs/)<br>\n",
    "[Seaborn画图](https://www.jianshu.com/u/b722f573ab1c)<br>\n",
    "[床长人工智能教程](https://www.captainbed.net/)<br><br>\n",
    "\n",
    "\n",
    "### Node.js\n",
    "[Node.js 中文社区](https://nodejs.org/zh-cn/)<br>\n",
    "\n",
    "### 杂项\n",
    "[requests获取响应时间(elapsed)与超时（timeout）](https://www.cnblogs.com/yoyoketang/p/8035428.html)<br>\n",
    "[Windows Net网络资源查看命令](https://www.cnblogs.com/chenjq0717/archive/2010/05/09/1730934.html)<br>\n",
    "[Api接口管理工具推荐](https://www.jianshu.com/p/b61aef7f14ec)<br>\n",
    "[api 接口管理工具](https://blog.csdn.net/qq_33858250/article/details/86681703)<br>"
   ]
  }
 ],
 "metadata": {
  "kernelspec": {
   "display_name": "Python 3",
   "language": "python",
   "name": "python3"
  },
  "language_info": {
   "codemirror_mode": {
    "name": "ipython",
    "version": 3
   },
   "file_extension": ".py",
   "mimetype": "text/x-python",
   "name": "python",
   "nbconvert_exporter": "python",
   "pygments_lexer": "ipython3",
   "version": "3.7.4"
  }
 },
 "nbformat": 4,
 "nbformat_minor": 2
}
