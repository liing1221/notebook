{
 "cells": [
  {
   "cell_type": "markdown",
   "metadata": {},
   "source": [
    "## pkuseg分词详解\n",
    "　　参考：[GitHub地址](https://github.com/lancopku/pkuseg-python)<br>\n",
    "　　　　　[pkuseg-python：一个高准确度的中文分词工具包](https://www.jianshu.com/p/528e46284cbc)<br>\n",
    "　　　　　[北京大学开源分词工具pkuseg 初试与使用感受](blog.csdn.net/meiqi0538/article/details/86181846)<br>"
   ]
  }
 ],
 "metadata": {
  "kernelspec": {
   "display_name": "Python 3",
   "language": "python",
   "name": "python3"
  },
  "language_info": {
   "codemirror_mode": {
    "name": "ipython",
    "version": 3
   },
   "file_extension": ".py",
   "mimetype": "text/x-python",
   "name": "python",
   "nbconvert_exporter": "python",
   "pygments_lexer": "ipython3",
   "version": "3.7.4"
  }
 },
 "nbformat": 4,
 "nbformat_minor": 2
}
