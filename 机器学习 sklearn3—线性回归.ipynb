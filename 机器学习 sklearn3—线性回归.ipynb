{
 "cells": [
  {
   "cell_type": "markdown",
   "metadata": {},
   "source": [
    "## 机器学习 sklearn3——线性回归"
   ]
  },
  {
   "cell_type": "markdown",
   "metadata": {},
   "source": [
    "线性回归：linear_model.LinearRegression（）<br>\n",
    "参数：<br>\n",
    "　　fit_intercept: 布尔型，默认为true<br>\n",
    "　　说明：是否对训练数据进行中心化。如果该变量为false，则表明输入的数据已经进行了中心化，在下面的过程里不进行中心化处理；否则，对输入的训练数据进行中心化处理<br>\n",
    "　　normalize：布尔型，默认为false<br>\n",
    "　　说明：是否对数据进行标准化处理<br>\n",
    "　　copy_X：布尔型，默认为true<br>\n",
    "　　说明：是否对X复制，如果选择false，则直接对原数据进行覆盖。（即经过中心化，标准化后，是否把新数据覆盖到原数据上）<br>\n",
    "　　n_jobs：整型， 默认为1<br>\n",
    "　　说明：计算时设置的任务个数(number of jobs)。如果选择-1则代表使用所有的CPU。这一参数的对于目标个数>1（n_targets>1）且足够大规模的问题有加速作用。<br>\n",
    "返回值：<br>\n",
    "　　coef_：数组型变量， 形状为(n_features,)或(n_targets, n_features)<br>\n",
    "　　说明：对于线性回归问题计算得到的feature的系数。如果输入的是多目标问题，则返回一个二维数组(n_targets, n_features)；如果是单目标问题，返回一个一维数组(n_features,)。<br>\n",
    "　　intercept_：数组型变量<br>\n",
    "　　说明：线性模型中的独立项。<br>\n",
    "注：该算法仅仅是scipy.linalg.lstsq经过封装后的估计器。<br>\n",
    "\n",
    "方法：<br>\n",
    "　　decision_function(X)  　对训练数据X进行预测<br>\n",
    "　　fit(X, y[, n_jobs])  　对训练集X, y进行训练。是对scipy.linalg.lstsq的封装<br>\n",
    "　　get_params([deep]) 　　得到该估计器(estimator)的参数。<br>\n",
    "　　predict(X) 　　　　　　使用训练得到的估计器对输入为X的集合进行预测（X可以是测试集，也可以是需要预测的数据）。<br>\n",
    "　　score(X, y[,]sample_weight)   返回对于以X为samples，以y为target的预测效果评分。<br>\n",
    "　　set_params(\\*\\*params)  　设置估计器的参数<br>\n",
    "\n",
    "decision_function(X) 和predict(X)都是利用预估器对训练数据X进行预测，其中decision_function(X)包含了对输入数据的类型检查，以及当前对象是否存在coef_属性的检查，是一种“安全的”方法，而predict是对decision_function的调用。<br>\n",
    "score(X, y[,]sample_weight)  定义为(1-u/v)，其中u = （（y_true - y_pred）\\*\\*2）.sum()，而v=((y_true-y_true.mean())\\*\\*2).mean()<br>\n",
    "　　最好的得分为1.0，一般的得分都比1.0低，得分越低代表结果越差。<br>\n",
    "　　其中sample_weight为(samples_n,)形状的向量，可以指定对于某些sample的权值，如果觉得某些数据比较重要，可以将其的权值设置的大一些。<br>"
   ]
  }
 ],
 "metadata": {
  "kernelspec": {
   "display_name": "Python 3",
   "language": "python",
   "name": "python3"
  },
  "language_info": {
   "codemirror_mode": {
    "name": "ipython",
    "version": 3
   },
   "file_extension": ".py",
   "mimetype": "text/x-python",
   "name": "python",
   "nbconvert_exporter": "python",
   "pygments_lexer": "ipython3",
   "version": "3.7.4"
  }
 },
 "nbformat": 4,
 "nbformat_minor": 2
}
