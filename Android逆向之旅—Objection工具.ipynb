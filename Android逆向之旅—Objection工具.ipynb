{
 "cells": [
  {
   "cell_type": "markdown",
   "id": "92c1cd3e",
   "metadata": {},
   "source": [
    "# Objection 工具\n",
    "\n",
    "\n",
    "## 一、简介\n",
    "　　\n",
    "  \n",
    "## 二、安装(需要配合frida和frida-tools使用)\n",
    ">pip install objection\n",
    "\n",
    "## 二、使用\n",
    "\n",
    "```shell\n",
    "objection --help      # 查看帮助\n",
    "\n",
    "help frida                # 不知道当前命令的作用 进入objection后就在命令前加 help 会有提示\n",
    "\n",
    "objection -g 包名 explore     # 注入进程 objection没有找到进程 会以spwan方式启动进程\n",
    "\n",
    "android hooking list classes   # 列出内存中所有的类\n",
    "\n",
    "android hooking search classes 包名   # 在内存中所有已加载的类中搜索包含特定关键词的类\n",
    "\n",
    "android hooking list class_methods 包名.类名   # 列出类的所有方法\n",
    "\n",
    "android hooking watch class 包名.类名     # hook类的所有方法\n",
    "\n",
    "jobs list         # 查看hook了多少个类\n",
    "\n",
    "jobs kill jobid      # 把正在hook的任务关闭\n",
    "\n",
    "# hook方法的参数、返回值和调用栈(–dump-args: 显示参数; --dump-return: 显示返回值; --dump-backtrace: 显示堆栈)\n",
    "android hooking watch class_method 包名.类名.方法 --dump-args --dump-return --dump-backtrace\n",
    "\n",
    "android hooking watch class_method 包名.类名.方法        # 默认会Hook方法的所有重载\n",
    "\n",
    "# 如果只需hook其中一个重载函数 指定参数类型 多个参数用逗号分隔  \n",
    "android hooking watch class_method 包名.类名.方法 \"包名.类名.方法\"       \n",
    "\n",
    "android heap search instances 包名.类名 --fresh         # 搜索堆中的实例\n",
    "\n",
    "android heap execute 地址(hashcode的地址) 方法名         # 调用实例的方法\n",
    "\n",
    "memory list modules         # 枚举内存中所有模块\n",
    "\n",
    "memory list exports 文件名.so           # 枚举模块中所有导出函数\n",
    "\n",
    "objection -N -h 192.168.1.3 -p 9999 -g 包名 explore           # 指定ip和端口的连接\n",
    "\n",
    "objection -N -h 192.168.1.3 -p 9999 -g 包名 explore --startup-command \"android hooking watch class '包名.类名'\"        # spawn启动前就Hook\n",
    "\n",
    "# spawn启动前就Hook 打印参数、返回值、函数调用栈\n",
    "objection -N -h 192.168.1.3 -p 9999 -g 包名 explore --startup-command \"android hooking watch class_method '包名.类名.方\n",
    "```\n",
    "\n",
    "\n"
   ]
  }
 ],
 "metadata": {
  "kernelspec": {
   "display_name": "Python 3",
   "language": "python",
   "name": "python3"
  },
  "language_info": {
   "codemirror_mode": {
    "name": "ipython",
    "version": 3
   },
   "file_extension": ".py",
   "mimetype": "text/x-python",
   "name": "python",
   "nbconvert_exporter": "python",
   "pygments_lexer": "ipython3",
   "version": "3.9.7"
  }
 },
 "nbformat": 4,
 "nbformat_minor": 5
}
