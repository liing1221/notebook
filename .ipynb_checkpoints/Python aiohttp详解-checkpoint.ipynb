{
 "cells": [
  {
   "cell_type": "markdown",
   "metadata": {},
   "source": [
    "# aiohttp详解\n",
    "　　参考：[python---aiohttp的使用 ](https://www.cnblogs.com/ssyfj/p/9222342.html)<br>\n",
    "　　　　　[aiohttp 官方文档](https://docs.aiohttp.org/en/stable/)   \n",
    "　　　　　[aiohttp 中文文档](https://www.cntofu.com/book/127/readme.html)<br>\n",
    "　　　　　[aiohttp库简单教程](https://www.jianshu.com/p/20ca9daba85f)<br>\n",
    "　　　　　[aiohttp使用详解](https://www.cnblogs.com/wukai66/p/12632680.html)<br>\n",
    "　　　　　[aiohttp中ClientSession使用注意事项](https://www.cnblogs.com/lymmurrain/p/13805690.html)<br>\n",
    "　　　　　[aiohttp基本使用及并发控制](https://juejin.cn/post/6857140761926828039)<br>\n",
    "　　　　　[python中aiohttp使用](https://blog.csdn.net/gufenchen/article/details/101165020)<br>\n",
    "　　　　　[Python爬虫系列之aiohttp详解](https://zhuanlan.zhihu.com/p/226564131)<br>\n",
    "　　　　　[崔庆才 Python3 爬虫教程 - aiohttp 的基本使用](https://baijiahao.baidu.com/s?id=1735016313901602281&wfr=spider&for=pc)<br>\n",
    "　　　　　[]()<br>\n",
    "\n",
    "\n",
    "## aiohttp\n",
    "### aiohttp.ClientSession\n",
    "　　Session 封装了一个连接池（连接器实例），并且默认情况下支持keepalive。除非在应用程序的生存期内连接到大量未知的不同服务器，否则建议您在应用程序的生存期内使用单个会话以受益于连接池。不要为每个请求创建Session 。每个应用程序很可能需要一个会话，以完全执行所有请求。更复杂的情况可能需要在每个站点上进行一次会话，例如，一个会话用于Github，另一个会话用于Facebook API。无论如何，为每个请求建立会话是一个非常糟糕的主意。会话内部包含一个连接池。连接重用和保持活动状态（默认情况下均处于启用状态）可能会提高整体性能。\n",
    "  注意：以上总结，如无必要，只用一个ClientSession实例即可。\n",
    "  \n",
    "　　关于手动创建ClientSession:\n",
    "1. 手动创建ClientSession要手动关闭自己创建的ClientSession，并且client.close()是个协程，得用事件循环关闭。\n",
    "2. 在关闭loop之前要给aiohttp一点时间关闭ClientSession\n",
    "  \n",
    "　　如果无上述步骤会报Unclosed client session的错误，也即ClientSession没有关闭\n",
    "\n",
    "\n",
    "\n",
    "\n",
    "## 异常处理\n",
    "### 1、aiohttp.client_exceptions.ServerDisconnectedError: Server disconnected\n",
    "#### 1.1、异常原因\n",
    "1. 服务器限制可以从单个IP地址建立的并行TCP连接的数量。 默认情况下，aiohttp已经将并行连接的数量限制为100。 可以试着降低限制，看看是否能解决问题。 为此，您可以创建一个带有不同限值的自定义TCPConnector，并将其传递给ClientSession:\n",
    "```python\n",
    "connector = aiohttp.TCPConnector(limit=50)\n",
    "async with aiohttp.ClientSession(connector=connector) as session:\n",
    "```\n",
    "2. 服务器限制TCP连接的持续时间。默认情况下，aiohttp使用HTTP keep-alive，因此同一个TCP连接可以用于多个请求。这可以提高性能，因为不必为每个请求都建立一个新的TCP连接。但是，一些服务器限制TCP连接的持续时间，如果对许多请求使用相同的TCP连接，服务器可以在您完成连接之前关闭它。您可以禁用HTTP keep-alive 作为一种变通方法。为此，您可以创建一个自定义TCPConnector，将参数force_close设置为True，并将其传递给ClientSession:\n",
    "```python\n",
    "connector = aiohttp.TCPConnector(force_close=True)  # 禁用 HTTP keep-alive\n",
    "async with aiohttp.ClientSession(connector=connector) as session:\n",
    "```\n",
    "３. 本地程序创建了过多的服务器链接。通过上面aiohttp.ClientSession的了解可知，每创建一个session，都会封装一个连接池，当创建过多session时就会报错。\n",
    "#### 1.2、解决办法\n",
    "最终可能的（视具体清空而定）解决方法(方法1 + 超时设置)：\n",
    "```python\n",
    "timeout = aiohttp.ClientTimeout(total=600)  # 将超时时间设置为600秒\n",
    "connector = aiohttp.TCPConnector(limit=50)  # 将并发数量降低\n",
    "\n",
    "async with aiohttp.ClientSession(connector=connector, timeout=timeout) as session:\n",
    "    async with session.get(url[0], headers=headers) as response:\n",
    "```"
   ]
  }
 ],
 "metadata": {
  "kernelspec": {
   "display_name": "Python 3 (ipykernel)",
   "language": "python",
   "name": "python3"
  },
  "language_info": {
   "codemirror_mode": {
    "name": "ipython",
    "version": 3
   },
   "file_extension": ".py",
   "mimetype": "text/x-python",
   "name": "python",
   "nbconvert_exporter": "python",
   "pygments_lexer": "ipython3",
   "version": "3.9.7"
  }
 },
 "nbformat": 4,
 "nbformat_minor": 4
}
