{
 "cells": [
  {
   "cell_type": "markdown",
   "metadata": {},
   "source": [
    "## MySQL—数据库中的Date,DateTime和TimeStamp类型"
   ]
  },
  {
   "cell_type": "markdown",
   "metadata": {},
   "source": [
    "DATETIME, DATE和TIMESTAMP类型是相关的。本文描述他们的特征，他们是如何类似的而又不同的。<br>\n",
    "1、DATETIME类型用在你需要同时包含日期和时间信息的值时。MySQL检索并且以'YYYY-MM-DD HH:MM:SS'格式显示DATETIME值，支持的范围是'1000-01-01 00:00:00'到'9999-12-31 23:59:59'。（“支持”意味着尽管更早的值可能工作，但不能保证他们可以。）<br>\n",
    "2、DATE类型用在你仅需要日期值时，没有时间部分。MySQL检索并且以'YYYY-MM-DD'格式显示DATE值，支持的范围是'1000-01-01'到'9999-12-31'。<br>\n",
    "3、TIMESTAMP类型，你可以使用它自动地用当前的日期和时间标记INSERT或UPDATE的操作。如果你有多个TIMESTAMP列，只有第一个自动更新。<br>\n",
    "自动更新第一个TIMESTAMP列在下列任何条件下发生：<br>\n",
    "　　a、列没有明确地在一个INSERT或LOAD DATA INFILE语句中指定。<br>\n",
    "　　b、列没有明确地在一个UPDATE语句中指定且一些另外的列改变值。（注意一个UPDATE设置一个列为它已经有的值，这将不引起TIMESTAMP列被更新，因为如果你设置一个列为它当前的值，MySQL为了效率而忽略更改。）<br>\n",
    "　　c、你明确地设定TIMESTAMP列为NULL.<br>\n",
    "　　d、除第一个以外的TIMESTAMP列也可以设置到当前的日期和时间，只要将列设为NULL，或NOW()。<br>\n",
    "通过明确地设置希望的值，你可以设置任何TIMESTAMP列为不同于当前日期和时间的值，即使对第一个TIMESTAMP列也是这样。例如，如果，当你创建一个行时，你想要一个TIMESTAMP被设置到当前的日期和时间，但在以后无论何时行被更新时都不改变，你可以使用这个属性：<br>\n",
    "　　让MySQL在行被创建时设置列，这将初始化它为当前的日期和时间。<br>\n",
    "　　当你执行随后的对该行中其他列的更改时，明确设定TIMESTAMP列为它的当前值。<br>\n",
    "另一方面，你可能发现，当行被创建并且远离随后的更改时，很容易用一个你用NOW()初始化的DATETIME列。<br>\n",
    "TIMESTAMP值可以从1970的某时的开始一直到2037年，精度为一秒，其值作为数字显示。<br>\n",
    "在MySQL检索并且显示TIMESTAMP值取决于显示尺寸的格式如下表。“完整”TIMESTAMP格式是14位，但是TIMESTAMP列可以用更短的显示尺寸创造：<br>\n",
    "列类型         显示格式 <br>\n",
    "TIMESTAMP(14) YYYYMMDDHHMMSS <br>\n",
    "TIMESTAMP(12) YYMMDDHHMMSS <br>\n",
    "TIMESTAMP(10) YYMMDDHHMM <br>\n",
    "TIMESTAMP(8) YYYYMMDD <br>\n",
    "TIMESTAMP(6) YYMMDD <br>\n",
    "TIMESTAMP(4) YYMM <br>\n",
    "TIMESTAMP(2) YY<br>\n",
    "所有的TIMESTAMP列都有同样的存储大小，不考虑显示尺寸。最常见的显示尺寸是6、8、12、和14。你可以在表创建时间指定一个任意的显示尺寸，但是值0或比14大被强制到14。在从1～13范围的奇数值尺寸被强制为下一个更大的偶数。<br>\n",
    "使用一个常用的格式集的任何一个，你可以指定DATETIME、DATE和TIMESTAMP值：<br>\n",
    "'YYYY-MM-DD HH:MM:SS'或'YY-MM-DD HH:MM:SS'格式的一个字符串。允许一种“宽松”的语法--任何标点可用作在日期部分和时间部分之间的分隔符。例如，'98-12-31 11:30:45'、'98.12.31 11+30+45'、'98/12/31 11*30*45'和'98@12@31 11^30^45'是等价的。<br>"
   ]
  }
 ],
 "metadata": {
  "kernelspec": {
   "display_name": "Python 3 (ipykernel)",
   "language": "python",
   "name": "python3"
  },
  "language_info": {
   "codemirror_mode": {
    "name": "ipython",
    "version": 3
   },
   "file_extension": ".py",
   "mimetype": "text/x-python",
   "name": "python",
   "nbconvert_exporter": "python",
   "pygments_lexer": "ipython3",
   "version": "3.9.7"
  }
 },
 "nbformat": 4,
 "nbformat_minor": 2
}
