{
 "cells": [
  {
   "cell_type": "markdown",
   "id": "f19c270d",
   "metadata": {},
   "source": [
    "# Uvicorn详解\n",
    "[轻量快速的 Python ASGI 框架 uvicorn](https://www.jianshu.com/p/c7d277b05004)  \n",
    "\n",
    "\n",
    "1、Uvicorn 是基于 uvloop 和 httptools 构建的非常快速的 ASGI 服务器。  \n",
    "2、uvloop 用于替换标准库 asyncio 中的事件循环，使用 Cython 实现，它非常快，可以使 asyncio 的速度提高 2-4 倍。httptools 是 nodejs HTTP 解析器的 Python 实现。    \n",
    "3、ASGI 服务器：异步网关协议接口，一个介于网络协议服务和 Python 应用之间的标准接口，能够处理多种通用的协议类型，包括 HTTP，HTTP2 和 WebSocket。   \n"
   ]
  }
 ],
 "metadata": {
  "kernelspec": {
   "display_name": "Python 3 (ipykernel)",
   "language": "python",
   "name": "python3"
  },
  "language_info": {
   "codemirror_mode": {
    "name": "ipython",
    "version": 3
   },
   "file_extension": ".py",
   "mimetype": "text/x-python",
   "name": "python",
   "nbconvert_exporter": "python",
   "pygments_lexer": "ipython3",
   "version": "3.9.7"
  }
 },
 "nbformat": 4,
 "nbformat_minor": 5
}
