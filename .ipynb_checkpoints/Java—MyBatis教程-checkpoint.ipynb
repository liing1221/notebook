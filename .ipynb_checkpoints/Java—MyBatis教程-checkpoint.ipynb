{
 "cells": [
  {
   "cell_type": "markdown",
   "id": "1a8190ca",
   "metadata": {},
   "source": [
    "# MyBatis Generator使用教程\n",
    "\n",
    "[MyBatis Generator使用方法](https://blog.csdn.net/weixin_42250302/article/details/106986707)  \n",
    "[MyBatis Generator使用教程](https://kingwei.blog.csdn.net/article/details/88424357)   \n",
    "[MyBatis Generator 详解](https://liuzh.blog.csdn.net/article/details/42102297)   \n"
   ]
  }
 ],
 "metadata": {
  "kernelspec": {
   "display_name": "Python 3 (ipykernel)",
   "language": "python",
   "name": "python3"
  },
  "language_info": {
   "codemirror_mode": {
    "name": "ipython",
    "version": 3
   },
   "file_extension": ".py",
   "mimetype": "text/x-python",
   "name": "python",
   "nbconvert_exporter": "python",
   "pygments_lexer": "ipython3",
   "version": "3.9.12"
  }
 },
 "nbformat": 4,
 "nbformat_minor": 5
}
