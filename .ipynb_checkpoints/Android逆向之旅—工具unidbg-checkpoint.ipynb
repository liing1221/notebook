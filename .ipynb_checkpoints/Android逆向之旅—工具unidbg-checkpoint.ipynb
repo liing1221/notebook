{
 "cells": [
  {
   "cell_type": "markdown",
   "id": "b966a417",
   "metadata": {},
   "source": [
    "# Unidbg使用\n",
    "\n",
    "\n",
    "[安卓逆向工具之unidbg](https://blog.csdn.net/chl191623691/article/details/118415796)\n"
   ]
  }
 ],
 "metadata": {
  "kernelspec": {
   "display_name": "Python 3 (ipykernel)",
   "language": "python",
   "name": "python3"
  },
  "language_info": {
   "codemirror_mode": {
    "name": "ipython",
    "version": 3
   },
   "file_extension": ".py",
   "mimetype": "text/x-python",
   "name": "python",
   "nbconvert_exporter": "python",
   "pygments_lexer": "ipython3",
   "version": "3.9.12"
  }
 },
 "nbformat": 4,
 "nbformat_minor": 5
}
