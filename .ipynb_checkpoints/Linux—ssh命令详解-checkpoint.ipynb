{
 "cells": [
  {
   "cell_type": "markdown",
   "id": "4e864108",
   "metadata": {},
   "source": [
    "# ssh命令详解\n",
    "　　参考：[]()    \n",
    "　　　　　[Linux开启ssh服务](https://blog.csdn.net/m0_60941423/article/details/121744741)    \n",
    "　　　　　[]()    \n",
    "　　　　　[]()    \n",
    "　　　　　[]()    \n",
    "　　　　　[]()    \n",
    "\n",
    "\n",
    "## 1、SSH链接服务器报错\n",
    "　　ssh: connect to host 192.168.1.107 port 22: Connection refused  \n",
    "\n",
    "报错原因：远程SSH服务进程sshd未启动；netstat查看22端口是否在监听；ufw查看防火墙有没有允许ssh链接\n",
    "解决：\n",
    "```shell\n",
    "/etc/init.d/ssh status    # 查看ssh服务状态\n",
    "\n",
    "sudo apt-get install ssh    # 安装 ssh\n",
    "sudo service ssh start    # 启动ssh服务\n",
    "sudo service ssh restart    # 重启 ssh服务\n",
    "vi /etc/ssh/sshd_config    # 查看ssh设置：port 22；PermitRootLogin yes等\n",
    "\n",
    "```\n"
   ]
  }
 ],
 "metadata": {
  "kernelspec": {
   "display_name": "Python 3 (ipykernel)",
   "language": "python",
   "name": "python3"
  },
  "language_info": {
   "codemirror_mode": {
    "name": "ipython",
    "version": 3
   },
   "file_extension": ".py",
   "mimetype": "text/x-python",
   "name": "python",
   "nbconvert_exporter": "python",
   "pygments_lexer": "ipython3",
   "version": "3.9.7"
  }
 },
 "nbformat": 4,
 "nbformat_minor": 5
}
