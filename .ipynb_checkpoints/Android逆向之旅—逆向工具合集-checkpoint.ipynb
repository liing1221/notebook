{
 "cells": [
  {
   "cell_type": "markdown",
   "id": "4d1a631d",
   "metadata": {},
   "source": [
    "# 逆向工具合集\n",
    "\n",
    "1. JADX : https://github.com/skylot/jadx/releases  \n",
    "2. GDA : http://www.gda.wiki:9090/\n",
    "3. 工具汇总Blog : [Android和iOS逆向分析/安全检测/渗透测试框架](https://cn-sec.com/archives/1096729.html)"
   ]
  }
 ],
 "metadata": {
  "kernelspec": {
   "display_name": "Python 3 (ipykernel)",
   "language": "python",
   "name": "python3"
  },
  "language_info": {
   "codemirror_mode": {
    "name": "ipython",
    "version": 3
   },
   "file_extension": ".py",
   "mimetype": "text/x-python",
   "name": "python",
   "nbconvert_exporter": "python",
   "pygments_lexer": "ipython3",
   "version": "3.9.7"
  }
 },
 "nbformat": 4,
 "nbformat_minor": 5
}
