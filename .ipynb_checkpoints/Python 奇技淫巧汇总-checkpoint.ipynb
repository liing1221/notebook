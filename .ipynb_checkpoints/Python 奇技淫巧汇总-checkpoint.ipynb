{
 "cells": [
  {
   "cell_type": "markdown",
   "id": "3f302e92",
   "metadata": {},
   "source": [
    "# Python 奇技淫巧\n",
    "\n",
    "\n",
    "## 1、for ... else ...\n",
    "　　在python中，我们常见的与else连接到一起来使用的方法有if ... else ... 用法，在这里，给大家介绍另一种与else连接到一起进行组合使用的方法：for ... else ...    \n",
    "```python\n",
    "a=[1,2,3,4,5,6]\n",
    "for i in a:\n",
    "    # 测试1\n",
    "    print(i)\n",
    "    # 测试2\n",
    "    # if i > 3:\n",
    "    #     print(i)\n",
    "    # 测试3\n",
    "    # if i > 3：\n",
    "    #     break\n",
    "else:\n",
    "    print(i+1,'输出一个else')\n",
    "```\n",
    "　　结论：  \n",
    "  + for 循环正常执行结束后，else 语句中的内容也执行。   \n",
    "  + for 循环中的内容执行完条件判断再进行循环，结束后，else 语句中的内容也会被执行。  \n",
    "  + 当 for 循环被 break 中断，else 语句不再执行。  \n",
    "  \n",
    "## 2、Python导包的一些技巧\n",
    "关于python导入自定义模块的技巧：\n",
    "1. 如果导入的模块和主程序在**同一目录**下，直接import就行了。  \n",
    "2. 如果导入的模块是在主程序所在目录的**子目录**下，可以在子目录中增加一个空白的__init__.py文件，该文件使得python解释器将子目录整个也当成一个模块，然后直接通过“import 子目录.模块”导入即可。\n",
    "3. 如果导入的模块是在主程序所在目录的**父目录**下，则要通过修改path来解决，因为python解释器就是通过sys.path去一个地方一个地方的寻找模块的。有两种方法：  \n",
    "+ 通过”import sys，sys.path.append('父目录的路径')“来改变，这种方法属于一次性的，只对当前的python解释器进程有效，关掉python重启后就失效了。  \n",
    "+ 直接修改环境变量：在windows中是 “ set 变量=‘路径’  ” 例如：set PYTHONPATH=‘C:\\test\\...’ 查看是否设置成功用echo %PYTHONPATH%,而且进到python解释器中查看sys.path,会发现已经有了新增加的路径了。这种方式是持久的，一次设置以后一直都有效。在linux中是 \"export 变量=‘路径’ “，查看是\" echo $变量 \"\n",
    "\n"
   ]
  }
 ],
 "metadata": {
  "kernelspec": {
   "display_name": "Python 3 (ipykernel)",
   "language": "python",
   "name": "python3"
  },
  "language_info": {
   "codemirror_mode": {
    "name": "ipython",
    "version": 3
   },
   "file_extension": ".py",
   "mimetype": "text/x-python",
   "name": "python",
   "nbconvert_exporter": "python",
   "pygments_lexer": "ipython3",
   "version": "3.9.7"
  }
 },
 "nbformat": 4,
 "nbformat_minor": 5
}
