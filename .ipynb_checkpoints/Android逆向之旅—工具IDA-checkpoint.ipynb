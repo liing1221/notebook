{
 "cells": [
  {
   "cell_type": "markdown",
   "id": "3f5226da",
   "metadata": {},
   "source": [
    "# IDA详解\n",
    "\n",
    "[IDA简介](https://blog.csdn.net/Zxy_space/article/details/115003584)   \n",
    "[IDA分析实战及常见功能](https://blog.csdn.net/Zxy_space/article/details/115003692)   \n",
    "[IDA文件目录介绍及其扩展功能](https://blog.csdn.net/Zxy_space/article/details/115003730)   \n",
    "[IDA详细使用教程，适合逆向新手的实验报告](https://blog.csdn.net/mackilo/article/details/127747292)   \n",
    "[IDA-文本搜索、二进制搜索（16进制字节序列）、替换16进制](https://blog.csdn.net/hgy413/article/details/6956847)  \n",
    "[逆向安全基础之IDA使用简介](https://blog.csdn.net/ilnature2008/article/details/54912854)   \n",
    "[IDA基本使用](https://blog.csdn.net/m0_73644864/article/details/128376581)   \n",
    "[IDA从入门到理解](https://mp.weixin.qq.com/s/l936I_vGAn0EpUiKrWA-8Q)   \n",
    "[]()   "
   ]
  }
 ],
 "metadata": {
  "kernelspec": {
   "display_name": "Python 3 (ipykernel)",
   "language": "python",
   "name": "python3"
  },
  "language_info": {
   "codemirror_mode": {
    "name": "ipython",
    "version": 3
   },
   "file_extension": ".py",
   "mimetype": "text/x-python",
   "name": "python",
   "nbconvert_exporter": "python",
   "pygments_lexer": "ipython3",
   "version": "3.9.7"
  }
 },
 "nbformat": 4,
 "nbformat_minor": 5
}
