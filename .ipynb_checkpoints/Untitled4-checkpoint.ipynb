{
 "cells": [
  {
   "cell_type": "markdown",
   "id": "9eb7e753",
   "metadata": {},
   "source": [
    "# Pyenv 工具详解\n",
    "\n",
    "\n",
    "[Python多环境管理——pyenv](https://blog.csdn.net/qq_27525611/article/details/113656812)"
   ]
  }
 ],
 "metadata": {
  "kernelspec": {
   "display_name": "Python 3 (ipykernel)",
   "language": "python",
   "name": "python3"
  },
  "language_info": {
   "codemirror_mode": {
    "name": "ipython",
    "version": 3
   },
   "file_extension": ".py",
   "mimetype": "text/x-python",
   "name": "python",
   "nbconvert_exporter": "python",
   "pygments_lexer": "ipython3",
   "version": "3.9.7"
  }
 },
 "nbformat": 4,
 "nbformat_minor": 5
}
