{
 "cells": [
  {
   "cell_type": "markdown",
   "id": "248f221f",
   "metadata": {},
   "source": [
    "# 常用问题汇总\n",
    "\n",
    "\n",
    "## 1、输入法快捷键能相关\n",
    "[输入法的半角和全角切换](https://blog.csdn.net/Klhz555/article/details/124532712)    \n",
    "\n",
    "## 2、端口查看与释放\n",
    "1. 以管理员身份打开cmd\n",
    "2. 命令行输入：netstat -ano 并回车可以获得所有网络连接活动的列表，在表中，本地ip地址冒号之后的即是端口号\n",
    "3. 如果想要查找特定的端口可以输入：netstat -aon | findstr \"端口号\" （注意引号格式）\n",
    "4. 如果想要找到是哪个程序占用，可以记下最后一列的PID数字(或使用命令：tasklist|findstr \"pid\")，使用 taskkill -pid xxx 释放端口。   \n",
    "   或者在任务管理器中查看pid，看看是哪个程序占用了，手动清除，如果没有显示pid，以win7系统为例，选到进程页，查看-选择列-勾选pid。  \n",
    "   ![windows-任务管理器显示pid](./images/windows-任务管理器显示pid.png)\n"
   ]
  }
 ],
 "metadata": {
  "kernelspec": {
   "display_name": "Python 3 (ipykernel)",
   "language": "python",
   "name": "python3"
  },
  "language_info": {
   "codemirror_mode": {
    "name": "ipython",
    "version": 3
   },
   "file_extension": ".py",
   "mimetype": "text/x-python",
   "name": "python",
   "nbconvert_exporter": "python",
   "pygments_lexer": "ipython3",
   "version": "3.9.7"
  }
 },
 "nbformat": 4,
 "nbformat_minor": 5
}
