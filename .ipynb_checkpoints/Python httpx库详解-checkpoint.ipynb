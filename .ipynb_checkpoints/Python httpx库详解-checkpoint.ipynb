{
 "cells": [
  {
   "cell_type": "markdown",
   "metadata": {},
   "source": [
    "# httpx库详解\n",
    "　　参考：[httpx官方](https://www.python-httpx.org/)<br>\n",
    "　　　　　[python 使用 httpx 发送http2.0 请求](https://blog.csdn.net/wei_bo_cai/article/details/107846010)<br>\n",
    "　　　　　[新一代的网络请求库 Httpx](https://zhuanlan.zhihu.com/p/259674921)<br>\n",
    "　　　　　[Python新一代爬虫请求库！！](https://mp.weixin.qq.com/s/nF-9rbm-Xwd9oH5A_otvxg)<br>\n",
    "　　　　　[]()<br>\n",
    "　　　　　[]()<br>\n",
    "　　　　　[]()<br>\n",
    "　　　　　[]()<br>\n",
    "　　　　　[]()<br>"
   ]
  }
 ],
 "metadata": {
  "kernelspec": {
   "display_name": "Python 3 (ipykernel)",
   "language": "python",
   "name": "python3"
  },
  "language_info": {
   "codemirror_mode": {
    "name": "ipython",
    "version": 3
   },
   "file_extension": ".py",
   "mimetype": "text/x-python",
   "name": "python",
   "nbconvert_exporter": "python",
   "pygments_lexer": "ipython3",
   "version": "3.9.7"
  }
 },
 "nbformat": 4,
 "nbformat_minor": 4
}
