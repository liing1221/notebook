{
 "cells": [
  {
   "cell_type": "markdown",
   "id": "522eb311",
   "metadata": {},
   "source": [
    "# 逆向blog合集\n",
    "\n",
    "1. [Android恶意样本分析——frida破解三层锁机样本](https://blog.csdn.net/mozibai666/article/details/120015440)  "
   ]
  }
 ],
 "metadata": {
  "kernelspec": {
   "display_name": "Python 3 (ipykernel)",
   "language": "python",
   "name": "python3"
  },
  "language_info": {
   "codemirror_mode": {
    "name": "ipython",
    "version": 3
   },
   "file_extension": ".py",
   "mimetype": "text/x-python",
   "name": "python",
   "nbconvert_exporter": "python",
   "pygments_lexer": "ipython3",
   "version": "3.9.7"
  }
 },
 "nbformat": 4,
 "nbformat_minor": 5
}
