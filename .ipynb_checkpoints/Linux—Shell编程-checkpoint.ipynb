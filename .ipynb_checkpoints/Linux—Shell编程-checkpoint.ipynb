{
 "cells": [
  {
   "cell_type": "markdown",
   "id": "900c6aff",
   "metadata": {},
   "source": [
    "# shell编程\n",
    "[Linux shell教程](https://www.runoob.com/linux/linux-shell.html)   \n",
    "[shell if -n 参数](https://blog.csdn.net/MRQ1734/article/details/124581751)   \n",
    "[]()   \n",
    "[]()   \n",
    "[]()   \n",
    "[]()   "
   ]
  }
 ],
 "metadata": {
  "kernelspec": {
   "display_name": "Python 3 (ipykernel)",
   "language": "python",
   "name": "python3"
  },
  "language_info": {
   "codemirror_mode": {
    "name": "ipython",
    "version": 3
   },
   "file_extension": ".py",
   "mimetype": "text/x-python",
   "name": "python",
   "nbconvert_exporter": "python",
   "pygments_lexer": "ipython3",
   "version": "3.9.7"
  }
 },
 "nbformat": 4,
 "nbformat_minor": 5
}
