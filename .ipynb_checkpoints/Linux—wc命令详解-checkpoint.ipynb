{
 "cells": [
  {
   "cell_type": "markdown",
   "id": "a3c73ef4",
   "metadata": {},
   "source": [
    "# wc命令详解\n",
    "\n",
    "[linux常见命令之wc命令用法](https://blog.csdn.net/ysds20211402/article/details/122826253)     \n"
   ]
  }
 ],
 "metadata": {
  "kernelspec": {
   "display_name": "Python 3 (ipykernel)",
   "language": "python",
   "name": "python3"
  },
  "language_info": {
   "codemirror_mode": {
    "name": "ipython",
    "version": 3
   },
   "file_extension": ".py",
   "mimetype": "text/x-python",
   "name": "python",
   "nbconvert_exporter": "python",
   "pygments_lexer": "ipython3",
   "version": "3.9.7"
  }
 },
 "nbformat": 4,
 "nbformat_minor": 5
}
