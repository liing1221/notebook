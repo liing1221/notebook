{
 "cells": [
  {
   "cell_type": "markdown",
   "id": "96a00baa",
   "metadata": {},
   "source": [
    "# struct库详解\n",
    "\n",
    "[python之struct详解](https://blog.csdn.net/qq_30638831/article/details/80421019)   \n",
    "[浅析Python中的struct模块](https://www.cnblogs.com/yezl/p/5861787.html)"
   ]
  }
 ],
 "metadata": {
  "kernelspec": {
   "display_name": "Python 3 (ipykernel)",
   "language": "python",
   "name": "python3"
  },
  "language_info": {
   "codemirror_mode": {
    "name": "ipython",
    "version": 3
   },
   "file_extension": ".py",
   "mimetype": "text/x-python",
   "name": "python",
   "nbconvert_exporter": "python",
   "pygments_lexer": "ipython3",
   "version": "3.9.12"
  }
 },
 "nbformat": 4,
 "nbformat_minor": 5
}
