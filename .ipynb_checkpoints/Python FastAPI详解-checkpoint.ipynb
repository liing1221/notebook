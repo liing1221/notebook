{
 "cells": [
  {
   "cell_type": "markdown",
   "metadata": {},
   "source": [
    "# Fastapi详解\n",
    "　　参考：[FastAPI 官方文档](https://fastapi.tiangolo.com/zh/)  \n",
    "　　　　　[FastAPI教程—w3cschool](https://www.w3cschool.cn/fastapi/first-steps.html)  \n",
    "　　　　　[FastAPI的介绍，特性，及几个常用案例](https://blog.csdn.net/cui_yonghua/article/details/111945030)  \n",
    "　　　　　[浅谈fastAPI框架及其实例讲解](https://blog.csdn.net/Lin_Hv/article/details/106116172)  \n",
    "　　　　　[fastapi快速入门](https://blog.csdn.net/qq_21127151/article/details/107140786)  \n",
    "　　　　　[]()  \n",
    "　　　　　[]()  \n",
    "　　　　　[]()  \n",
    "　　　　　[]()  \n",
    "　　　　　[]()  \n",
    "　　　　　[]()  \n",
    "　　　　　[]()  \n",
    "　　　　　[]()  \n",
    "　　　　　[]()  "
   ]
  }
 ],
 "metadata": {
  "kernelspec": {
   "display_name": "Python 3 (ipykernel)",
   "language": "python",
   "name": "python3"
  },
  "language_info": {
   "codemirror_mode": {
    "name": "ipython",
    "version": 3
   },
   "file_extension": ".py",
   "mimetype": "text/x-python",
   "name": "python",
   "nbconvert_exporter": "python",
   "pygments_lexer": "ipython3",
   "version": "3.9.7"
  }
 },
 "nbformat": 4,
 "nbformat_minor": 4
}
