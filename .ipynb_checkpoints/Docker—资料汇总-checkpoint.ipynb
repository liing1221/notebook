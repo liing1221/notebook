{
 "cells": [
  {
   "cell_type": "markdown",
   "id": "b07e7b73",
   "metadata": {},
   "source": [
    "# Docker—资料汇总\n",
    "[Docker优秀博客](https://www.cnblogs.com/dukuan/category/1075462.html)  \n",
    "[Kubernetes](https://www.cnblogs.com/dukuan/category/1320955.html?page=2)  \n",
    "[Docker的安装](https://blog.csdn.net/qq_44858888/article/details/124084408)  \n",
    "\n",
    "\n"
   ]
  }
 ],
 "metadata": {
  "kernelspec": {
   "display_name": "Python 3 (ipykernel)",
   "language": "python",
   "name": "python3"
  },
  "language_info": {
   "codemirror_mode": {
    "name": "ipython",
    "version": 3
   },
   "file_extension": ".py",
   "mimetype": "text/x-python",
   "name": "python",
   "nbconvert_exporter": "python",
   "pygments_lexer": "ipython3",
   "version": "3.9.7"
  }
 },
 "nbformat": 4,
 "nbformat_minor": 5
}
