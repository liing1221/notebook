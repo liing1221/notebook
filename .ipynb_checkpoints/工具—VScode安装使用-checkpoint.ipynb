{
 "cells": [
  {
   "cell_type": "markdown",
   "id": "379eaff3",
   "metadata": {},
   "source": [
    "# VScode编辑器安装配置使用\n",
    "　　参考：[使用VScode搭建C/C++开发环境](https://zhuanlan.zhihu.com/p/79411619)<br>\n",
    "　　　　　[VScode下载](https://code.visualstudio.com/)<br>\n",
    "　　　　　[MinGW下载](https://sourceforge.net/projects/mingw-w64/)<br>\n",
    "　　　　　[.vscode下载](https://pan.baidu.com/s/1FMvmUl6eQX1Kxt0aiP3fUQ)<br>\n",
    "\n",
    "\n",
    "## 一、下载安装VScode\n",
    "\n",
    "\n",
    "\n",
    "## 二、下载安装MinGW\n",
    "　　VScode只是一个代码编辑器，没有自带有C/C++的编译器，因此首先需要安装一个C/C++编译器并且设置环境变量，既需要下载安装mingw-w64。<br>\n",
    "\n",
    "### 2.1、安装MinGW\n",
    "\n",
    "\n",
    "### 2.2、 把MinGW添加环境变量\n",
    "\n",
    "\n",
    "### 2.3、测试MinGW安装是否成功\n",
    "　　在cmd中输入gcc\n",
    "\n",
    "\n",
    "## 三、在VScode中安装C/C++插件\n",
    "\n",
    "\n",
    "\n",
    "## 四、创建一个项目并配置系统文件\n",
    ".vscode：里面存放有系统配置文件\n",
    "build：用来存放输出文件\n",
    "\n",
    ".vscode文件可以从这里下载\n",
    "​pan.baidu.com/s/1FMvmUl6eQX1Kxt0aiP3fUQ\n",
    "然后用VScode打开test文件\n",
    "修改c_cpp_properties.json和launch.json\n",
    "c_cpp_properties.json\n",
    "launch.json\n",
    "\n",
    "## 五、怎样把生成的可执行文件存到指定的文件（build文件中）\n",
    "\n",
    "需要配置launch.json和task.json两个文件（指定的位置加一个/build）\n",
    "\n",
    "\n",
    "## 六、 测试，创建一个one.cpp文件\n",
    "\n",
    "\n",
    "\n",
    "\n",
    "\n",
    "\n",
    "\n",
    "\n"
   ]
  }
 ],
 "metadata": {
  "kernelspec": {
   "display_name": "Python 3 (ipykernel)",
   "language": "python",
   "name": "python3"
  },
  "language_info": {
   "codemirror_mode": {
    "name": "ipython",
    "version": 3
   },
   "file_extension": ".py",
   "mimetype": "text/x-python",
   "name": "python",
   "nbconvert_exporter": "python",
   "pygments_lexer": "ipython3",
   "version": "3.9.7"
  }
 },
 "nbformat": 4,
 "nbformat_minor": 5
}
