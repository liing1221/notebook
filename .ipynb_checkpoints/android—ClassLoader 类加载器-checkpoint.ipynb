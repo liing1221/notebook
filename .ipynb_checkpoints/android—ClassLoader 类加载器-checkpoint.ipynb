{
 "cells": [
  {
   "cell_type": "markdown",
   "id": "ce2b1558",
   "metadata": {},
   "source": [
    "# ClassLoader 类加载器\n",
    "[]()   \n",
    "[关于DexClassLoader](https://blog.csdn.net/ifmylove2011/article/details/94596532)   \n",
    "[Android动态加载Dex文件及DexClassLoader详解](https://blog.csdn.net/qq_42889476/article/details/109382647)   \n",
    "[谈谈 Android 中的 PathClassLoader 和 DexClassLoader](https://zhuanlan.zhihu.com/p/80629979)   \n",
    "[类加载器 ClassLoader](https://blog.51cto.com/u_14202100/5079093)   \n",
    "[]()   "
   ]
  }
 ],
 "metadata": {
  "kernelspec": {
   "display_name": "Python 3 (ipykernel)",
   "language": "python",
   "name": "python3"
  },
  "language_info": {
   "codemirror_mode": {
    "name": "ipython",
    "version": 3
   },
   "file_extension": ".py",
   "mimetype": "text/x-python",
   "name": "python",
   "nbconvert_exporter": "python",
   "pygments_lexer": "ipython3",
   "version": "3.9.7"
  }
 },
 "nbformat": 4,
 "nbformat_minor": 5
}
