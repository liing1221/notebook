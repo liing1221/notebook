{
 "cells": [
  {
   "cell_type": "markdown",
   "metadata": {},
   "source": [
    "# MkDocs文档框架\n",
    "　　参考：[MkDocs 中文文档](https://markdown-docs-zh.readthedocs.io/zh_CN/latest/)  \n",
    "　　　　　[GitHub](https://github.com/mkdocs/mkdocs/)  \n",
    "　　　　　[MkDocs项目文档生成器(一)](https://blog.csdn.net/KevinDGK/article/details/52388542)  \n",
    "　　　　　[Mkdocs配置教程](https://blog.csdn.net/weixin_44633882/article/details/115933147)  \n",
    "　　　　　[几款文档框架：Mkdocs、Sphinx、Teadocs、docsify](https://blog.csdn.net/m0_46521785/article/details/119812280)  \n",
    "　　　　　[MkDocs 快速入门](https://bixiaofan.blog.csdn.net/article/details/78173401)  \n",
    "　　　　　[]()  \n",
    "　　　　　[]()  \n",
    "　　　　　[]()  \n",
    "　　　　　[]()  \n",
    "　　　　　[]()  "
   ]
  }
 ],
 "metadata": {
  "kernelspec": {
   "display_name": "Python 3 (ipykernel)",
   "language": "python",
   "name": "python3"
  },
  "language_info": {
   "codemirror_mode": {
    "name": "ipython",
    "version": 3
   },
   "file_extension": ".py",
   "mimetype": "text/x-python",
   "name": "python",
   "nbconvert_exporter": "python",
   "pygments_lexer": "ipython3",
   "version": "3.9.7"
  }
 },
 "nbformat": 4,
 "nbformat_minor": 4
}
