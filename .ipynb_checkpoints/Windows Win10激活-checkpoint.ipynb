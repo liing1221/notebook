{
 "cells": [
  {
   "cell_type": "markdown",
   "metadata": {},
   "source": [
    "## Windows Win10激活\n",
    "DIY装机：[Windows官方下载地址](https://msdn.itellyou.cn/)<br>\n",
    "　　　　[Win10激活工具下载(提取码：64jv)](https://pan.baidu.com/s/1DSwvhkhKTEpQyMUlYcWDZQ)(该工具无法激活windows10 LTSC 2019) <br>\n",
    "　　　　[Win7激活工具下载(提取码：2c4d )](https://pan.baidu.com/s/1smSYES4VTxkiZBsxYgp0Vw )<br>\n",
    "激活步骤：<br>\n",
    "1、解压激活工具包，右键以管理员身份运行 Activation.cmd。按 1 键激活当前版本。<br>\n",
    "2、激活的时候，请确保Windows Update相关服务都是正常启动的，并且电脑能联网。<br>\n",
    "3、确认激活，CMD命令提示符下执行：slmgr.vbs -xpr ( 弹窗可见是否永久激活)<br>\n"
   ]
  }
 ],
 "metadata": {
  "kernelspec": {
   "display_name": "Python 3 (ipykernel)",
   "language": "python",
   "name": "python3"
  },
  "language_info": {
   "codemirror_mode": {
    "name": "ipython",
    "version": 3
   },
   "file_extension": ".py",
   "mimetype": "text/x-python",
   "name": "python",
   "nbconvert_exporter": "python",
   "pygments_lexer": "ipython3",
   "version": "3.7.1"
  }
 },
 "nbformat": 4,
 "nbformat_minor": 2
}
