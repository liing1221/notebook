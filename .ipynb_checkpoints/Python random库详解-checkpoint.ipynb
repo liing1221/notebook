{
 "cells": [
  {
   "cell_type": "markdown",
   "metadata": {},
   "source": [
    "## random库详解\n",
    "　　参考：[官方文档](https://docs.python.org/zh-cn/3.7/library/random.html)——[官方标准库](https://docs.python.org/zh-cn/3.7/library/)<br>\n",
    "　　　　　[python3之模块random随机数](https://www.cnblogs.com/zhangxinqi/p/9069741.html)<br>\n",
    "　　　　　[python3随机数生成器_random --- 生成伪随机数](https://blog.csdn.net/weixin_39625337/article/details/112990024)   \n",
    "　　　　　[python随机数产生最全直接汇总](https://blog.csdn.net/qq_44176343/article/details/115611962)   \n",
    "　　　　　[]()   \n",
    "　　　　　[]()   \n",
    "　　　　　[]()   \n",
    "　　　　　[]()   \n",
    "     \n",
    "　　**真随机数发生器（TRNG）:** 是要求根据绝对随机事件产生的数，也就是说要求要有一个无因果关系的随机事件。（那么，这其实只存在与哲学领域……）目前的随机数产生都是统计上的随机，因为随机源都是自然事件，顶天了算是混沌变量，绝对的无因果大概是不存在的。\n",
    "　　**伪随机数生成器（PRNG）:** PRNG并不是真正的随机数生成器，因为算法会生成一系列随机数。从初始值（称为种子值）生成结果随机值。  \n",
    "　　在Python中，使用random模块生成的随机值，其生成器本身是伪随机数生成器（PRNG）。该模块使用Mersenne Twister算法作为其核心生成器，该算法可靠且通过了许多统计随机性测试。同样，NumPy提供了使用随机数的功能，该随机数还可以生成数字序列，例如不同的维数组。python中的secret模块生成加密强度高的随机数。Python的**uuid（通用唯一标识符）**模块用于创建了一个128位有序随机值。  \n",
    "\n",
    "一段关于生成真随机数的说明：\n",
    "　　rand函数在产生随机数前，需要系统提供的生成伪随机数序列的种子，rand根据这个种子的值产生一系列随机数。如果系统提供的种子没有变化，每次调用rand函数生成的伪随机数序列都是一样的。srand(unsigned seed)通过参数seed改变系统提供的种子值，从而可以使得每次调用rand函数生成的伪随机数序列不同，从而实现真正意义上的“随机”。通常可以利用系统时间来改变系统的种子值，即srand(time(NULL))，可以为rand函数提供不同的种子值，进而产生不同的随机数序列\n",
    "  \n",
    "### random \n",
    "　　random是用于生成随机数的，可以利用它随机生成数字或者选择字符串。\n",
    "\n",
    "+ random.seed(x)   \n",
    "改变随机数生成器的种子seed。一般不必特别去设定seed，Python会自动选择seed。\n",
    "+ random.random()   \n",
    "用于生成一个随机浮点数n,0 <= n < 1\n",
    "+ random.uniform(a,b)   \n",
    "用于生成一个指定范围内的随机浮点数，生成的随机整数a<=n<=b;\n",
    "+ random.randint(a,b)  \n",
    "用于生成一个指定范围内的整数，a为下限，b为上限，生成的随机整数a<=n<=b;若a=b，则n=a；若a>b，报错\n",
    "+ random.randrange([start], stop [,step])   \n",
    "从指定范围[start,stop)内，按指定基数递增的集合中获取一个随机数，基数缺省值为1\n",
    "+ random.choice(sequence)  \n",
    "从序列中获取一个随机元素，参数sequence表示一个有序类型，并不是一种特定类型，泛指list，tuple，字符串等。\n",
    "+ random.shuffle(x[,random])   \n",
    "用于将一个列表中的元素打乱（洗牌），会改变原始列表。\n",
    "+ random.sample(sequence,k)   \n",
    "从指定序列中随机获取k个元素作为一个片段返回，不会改变原有序列。\n",
    "\n",
    "\n",
    "\n"
   ]
  }
 ],
 "metadata": {
  "kernelspec": {
   "display_name": "Python 3 (ipykernel)",
   "language": "python",
   "name": "python3"
  },
  "language_info": {
   "codemirror_mode": {
    "name": "ipython",
    "version": 3
   },
   "file_extension": ".py",
   "mimetype": "text/x-python",
   "name": "python",
   "nbconvert_exporter": "python",
   "pygments_lexer": "ipython3",
   "version": "3.9.7"
  }
 },
 "nbformat": 4,
 "nbformat_minor": 2
}
