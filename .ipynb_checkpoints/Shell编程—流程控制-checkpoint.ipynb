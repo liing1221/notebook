{
 "cells": [
  {
   "cell_type": "markdown",
   "id": "faa0bcb4",
   "metadata": {},
   "source": [
    "# Shell流程控制\n",
    "\n",
    "\n",
    "\n",
    "## 循环\n",
    "语法：  \n",
    "```shell\n",
    "for var in 列表变量\n",
    "do      # 循环开始命令  # 循环体\n",
    "done    # 循环结束\n",
    "```\n"
   ]
  }
 ],
 "metadata": {
  "kernelspec": {
   "display_name": "Python 3 (ipykernel)",
   "language": "python",
   "name": "python3"
  },
  "language_info": {
   "codemirror_mode": {
    "name": "ipython",
    "version": 3
   },
   "file_extension": ".py",
   "mimetype": "text/x-python",
   "name": "python",
   "nbconvert_exporter": "python",
   "pygments_lexer": "ipython3",
   "version": "3.9.7"
  }
 },
 "nbformat": 4,
 "nbformat_minor": 5
}
