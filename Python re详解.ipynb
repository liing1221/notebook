{
 "cells": [
  {
   "cell_type": "markdown",
   "metadata": {},
   "source": [
    "## Python re详解\n",
    "　　参考：<br>\n",
    "　　　　　[]()<br>",
    "　　参考：[Python3.7模块之re](https://blog.csdn.net/qq_41617034/article/details/89742017)<br>"
   ]
  },
  {
   "cell_type": "markdown",
   "metadata": {},
   "source": [
    "### re模块方法详解：\n",
    ">re.sub(pattern, repl, string, count=0, flags=0)<br>\n",
    "\n",
    "　　re.sub 用于替换字符串的匹配项。如果没有匹配到规则，则原字符串不变。<br>\n",
    "> 第一个参数：规则 <br>\n",
    "第二个参数：替换后的字符串 <br>\n",
    "第三个参数：字符串 <br>\n",
    "第四个参数：替换个数。默认为0，表示每个匹配项都替换<br>"
   ]
  },
  {
   "cell_type": "markdown",
   "metadata": {},
   "source": [
    "### 5、flags参数：\n",
    ">re.I<br>\n",
    "　　　IGNORECASE　　　　忽略字母大小写<br>\n",
    "re.L<br>\n",
    "　　　LOCALE　　　　　　　影响 “w, “W, “b, 和 “B，这取决于当前的本地化设置。<br>\n",
    "re.M<br>\n",
    "　　　MULTILINE　　　　 　使用本标志后，‘^’和‘$’匹配行首和行尾时，会增加换行符之前和之后的位置。<br>\n",
    "re.S<br>\n",
    "　　　DOTALL　　　　　　 使 “.” 特殊字符完全匹配任何字符，包括换行；没有这个标志， “.” 匹配除了换行符外的任何字符。<br>\n",
    "re.X<br>\n",
    "　　　VERBOSE　　　　　　当该标志被指定时，在 RE 字符串中的空白符被忽略，除非该空白符在字符类中或在反斜杠之后。<br>\n",
    "    　　　　　　　　　　　　　　它也可以允许你将注释写入 RE，这些注释会被引擎忽略；<br>\n",
    "    　　　　　　　　　　　　　　注释用 “#”号 来标识，不过该符号不能在字符串或反斜杠之后。<br>\n"
   ]
  }
 ],
 "metadata": {
  "kernelspec": {
   "display_name": "Python 3",
   "language": "python",
   "name": "python3"
  },
  "language_info": {
   "codemirror_mode": {
    "name": "ipython",
    "version": 3
   },
   "file_extension": ".py",
   "mimetype": "text/x-python",
   "name": "python",
   "nbconvert_exporter": "python",
   "pygments_lexer": "ipython3",
   "version": "3.7.4"
  }
 },
 "nbformat": 4,
 "nbformat_minor": 2
}
