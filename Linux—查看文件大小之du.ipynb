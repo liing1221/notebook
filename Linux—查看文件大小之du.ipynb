{
 "cells": [
  {
   "cell_type": "markdown",
   "metadata": {},
   "source": [
    "## Linux—查看文件大小之du"
   ]
  },
  {
   "cell_type": "markdown",
   "metadata": {},
   "source": [
    "Linux中查看各文件夹大小命令：<br>\n",
    ">du -h --max-depth=1\n",
    "\n",
    "命令详解：<br>\n",
    ">du [-abcDhHklmsSx] [-L <符号连接>][-X <文件>][--block-size][--exclude=<目录或文件>] [--max-depth=<目录层数>][--help][--version][目录或文件]\n",
    "\n",
    "常用参数：<br>\n",
    ">-a或-all 为每个指定文件显示磁盘使用情况，或者为目录中每个文件显示各自磁盘使用情况。<br>\n",
    "-b或-bytes 显示目录或文件大小时，以byte为单位。<br>\n",
    "-c或–total 除了显示目录或文件的大小外，同时也显示所有目录或文件的总和。<br>\n",
    "-D或–dereference-args 显示指定符号连接的源文件大小。<br>\n",
    "-h或–human-readable 以K，M，G为单位，提高信息的可读性。<br>\n",
    "-H或–si 与-h参数相同，但是K，M，G是以1000为换算单位,而不是以1024为换算单位。<br>\n",
    "-k或–kilobytes 以1024 bytes为单位。<br>\n",
    "-l或–count-links 重复计算硬件连接的文件。<br>\n",
    "-L<符号连接>或–dereference<符号连接> 显示选项中所指定符号连接的源文件大小。<br>\n",
    "-m或–megabytes 以1MB为单位。<br>\n",
    "-s或–summarize 仅显示总计，即当前目录的大小。<br>\n",
    "-S或–separate-dirs 显示每个目录的大小时，并不含其子目录的大小。<br>\n",
    "-x或–one-file-xystem 以一开始处理时的文件系统为准，若遇上其它不同的文件系统目录则略过。<br>\n",
    "-X<文件>或–exclude-from=<文件> 在<文件>指定目录或文件。<br>\n",
    "–exclude=<目录或文件> 略过指定的目录或文件。<br>\n",
    "–max-depth=<目录层数> 超过指定层数的目录后，予以忽略。<br>\n",
    "–help 显示帮助。<br>\n",
    "–version 显示版本信息。<br>\n",
    "\n",
    "1、要显示一个目录树及其每个子树的磁盘使用情况<br>\n",
    "du /home/linux<br>\n",
    "这在/home/linux目录及其每个子目录中显示了磁盘块数。<br>\n",
    "2、要通过以1024字节为单位显示一个目录树及其每个子树的磁盘使用情况<br>\n",
    "du -k /home/linux<br>\n",
    "这在/home/linux目录及其每个子目录中显示了 1024 字节磁盘块数。<br>\n",
    "3、以MB为单位显示一个目录树及其每个子树的磁盘使用情况<br>\n",
    "du -m /home/linux<br>\n",
    "这在/home/linux目录及其每个子目录中显示了 MB 磁盘块数。<br>\n",
    "4、以GB为单位显示一个目录树及其每个子树的磁盘使用情况<br>\n",
    "du -g /home/linux<br>\n",
    "这在/home/linux目录及其每个子目录中显示了 GB 磁盘块数。<br>\n",
    "5、查看当前目录下所有目录以及子目录的大小：<br>\n",
    "du -h .<br>\n",
    "“.”代表当前目录下。也可以换成一个明确的路径<br>\n",
    "-h表示用K、M、G的人性化形式显示<br>\n",
    "6、查看当前目录下user目录的大小，并不想看其他目录以及其子目录：<br>\n",
    "du -sh user<br>\n",
    "-s表示总结的意思，即只列出一个总结的值<br>\n",
    "du -h --max-depth=0 user<br>\n",
    "--max-depth=n表示只深入到第n层目录，此处设置为0，即表示不深入到子目录。<br>\n",
    "7、列出user目录及其子目录下所有目录和文件的大小：<br>\n",
    "du -ah user<br>\n",
    "-a表示包括目录和文件<br>\n",
    "8、列出当前目录中的目录名不包括xyz字符串的目录的大小：<br>\n",
    "du -h --exclude='*xyz*'<br>\n",
    "9、想在一个屏幕下列出更多的关于user目录及子目录大小的信息：<br>\n",
    "du -0h user<br>\n",
    "-0（杠零）表示每列出一个目录的信息，不换行，而是直接输出下一个目录的信息。<br>\n",
    "10、只显示一个目录树的全部磁盘使用情况<br>\n",
    "du -s /home/linux<br>\n",
    "11、查看各文件夹大小:du -h --max-depth=1<br>"
   ]
  }
 ],
 "metadata": {
  "kernelspec": {
   "display_name": "Python 3",
   "language": "python",
   "name": "python3"
  },
  "language_info": {
   "codemirror_mode": {
    "name": "ipython",
    "version": 3
   },
   "file_extension": ".py",
   "mimetype": "text/x-python",
   "name": "python",
   "nbconvert_exporter": "python",
   "pygments_lexer": "ipython3",
   "version": "3.7.0"
  }
 },
 "nbformat": 4,
 "nbformat_minor": 2
}
