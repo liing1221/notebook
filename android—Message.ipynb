{
 "cells": [
  {
   "cell_type": "markdown",
   "id": "7e43cda1",
   "metadata": {},
   "source": [
    "# SharedPreferences\n",
    "　　参考：[1](https://www.jianshu.com/p/a0fbdd4f28e7)   \n",
    "　　　　　[2](https://blog.csdn.net/nihaomabmt/article/details/83340998)   \n",
    "　　　　　[]()   \n",
    "　　　　　[]()   \n",
    "　　　　　[]()   \n",
    "　　　　　[]()   \n",
    "　　　　　[]()   \n",
    "\n",
    "## 一、\n",
    "\n",
    "## 二、\n",
    "\n",
    "## 三、\n",
    "\n",
    "## 四、"
   ]
  }
 ],
 "metadata": {
  "kernelspec": {
   "display_name": "Python 3",
   "language": "python",
   "name": "python3"
  },
  "language_info": {
   "codemirror_mode": {
    "name": "ipython",
    "version": 3
   },
   "file_extension": ".py",
   "mimetype": "text/x-python",
   "name": "python",
   "nbconvert_exporter": "python",
   "pygments_lexer": "ipython3",
   "version": "3.9.7"
  }
 },
 "nbformat": 4,
 "nbformat_minor": 5
}
