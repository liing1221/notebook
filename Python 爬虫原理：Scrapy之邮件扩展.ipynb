{
 "cells": [
  {
   "cell_type": "markdown",
   "metadata": {},
   "source": [
    "## Scrapy 发送邮件详解\n",
    "　　参考：[scrapy发送邮件](https://www.cnblogs.com/mangM/p/10790591.html)<br>\n",
    "　　　　　[Scrapy使用MailSender发送邮件](https://developer.aliyun.com/article/810928)<br>\n",
    "　　　　　[Scrapy监控爬虫状况，邮件发送功能及爬虫停止信息](https://www.jianshu.com/p/36ae2c2a016f)<br>\n",
    "　　　　　[Scrapy : Stats Collection, Sending e-mail](https://blog.csdn.net/weixin_46192930/article/details/107480126)<br>\n",
    "　　　　　[Scrapy学习笔记-使用signals来监控spider的状态](https://blog.csdn.net/fengxueersui/article/details/80930621)<br>\n",
    "　　　　　[使用scrapy的mail模块发送邮件](https://blog.csdn.net/You_are_my_dream/article/details/60868329)<br>"
   ]
  },
  {
   "cell_type": "code",
   "execution_count": 1,
   "metadata": {},
   "outputs": [
    {
     "ename": "ModuleNotFoundError",
     "evalue": "No module named 'scrapy'",
     "output_type": "error",
     "traceback": [
      "\u001b[1;31m---------------------------------------------------------------------------\u001b[0m",
      "\u001b[1;31mModuleNotFoundError\u001b[0m                       Traceback (most recent call last)",
      "\u001b[1;32m<ipython-input-1-1996e588629f>\u001b[0m in \u001b[0;36m<module>\u001b[1;34m\u001b[0m\n\u001b[0;32m      2\u001b[0m \u001b[1;33m\u001b[0m\u001b[0m\n\u001b[0;32m      3\u001b[0m \u001b[1;32mimport\u001b[0m \u001b[0mlogging\u001b[0m\u001b[1;33m\u001b[0m\u001b[1;33m\u001b[0m\u001b[0m\n\u001b[1;32m----> 4\u001b[1;33m \u001b[1;32mfrom\u001b[0m \u001b[0mscrapy\u001b[0m \u001b[1;32mimport\u001b[0m \u001b[0msignals\u001b[0m\u001b[1;33m\u001b[0m\u001b[1;33m\u001b[0m\u001b[0m\n\u001b[0m\u001b[0;32m      5\u001b[0m \u001b[1;32mfrom\u001b[0m \u001b[0mscrapy\u001b[0m\u001b[1;33m.\u001b[0m\u001b[0mexceptions\u001b[0m \u001b[1;32mimport\u001b[0m \u001b[0mNotConfigured\u001b[0m\u001b[1;33m\u001b[0m\u001b[1;33m\u001b[0m\u001b[0m\n\u001b[0;32m      6\u001b[0m \u001b[1;32mfrom\u001b[0m \u001b[0mscrapy\u001b[0m\u001b[1;33m.\u001b[0m\u001b[0mmail\u001b[0m \u001b[1;32mimport\u001b[0m \u001b[0mMailSender\u001b[0m\u001b[1;33m\u001b[0m\u001b[1;33m\u001b[0m\u001b[0m\n",
      "\u001b[1;31mModuleNotFoundError\u001b[0m: No module named 'scrapy'"
     ]
    }
   ],
   "source": [
    "# 首先在settings同级的目录下创建extendions(扩展)文件夹，\n",
    "\n",
    "import logging\n",
    "from scrapy import signals\n",
    "from scrapy.exceptions import NotConfigured\n",
    "from scrapy.mail import MailSender\n",
    "logger = logging.getLogger(__name__)\n",
    "class SendEmail(object):\n",
    "\n",
    "    def __init__(self,sender,crawler):\n",
    "        self.sender = sender\n",
    "        crawler.signals.connect(self.spider_idle, signal=signals.spider_idle)\n",
    "        crawler.signals.connect(self.spider_closed, signal=signals.spider_closed)\n",
    "\n",
    "    @classmethod\n",
    "    def from_crawler(cls,crawler):\n",
    "        if not crawler.settings.getbool('MYEXT_ENABLED'):\n",
    "            raise NotConfigured\n",
    "\n",
    "        mail_host = crawler.settings.get('MAIL_HOST') # 发送邮件的服务器\n",
    "        mail_port = crawler.settings.get('MAIL_PORT') # 邮件发送者\n",
    "        mail_user = crawler.settings.get('MAIL_USER') # 邮件发送者\n",
    "        mail_pass = crawler.settings.get('MAIL_PASS') # 发送邮箱的密码不是你注册时的密码，而是授权码！！！切记！\n",
    "\n",
    "        sender = MailSender(mail_host,mail_user,mail_user,mail_pass,mail_port) #由于这里邮件的发送者和邮件账户是同一个就都写了mail_user了\n",
    "        h = cls(sender,crawler)\n",
    "\n",
    "        return h\n",
    "\n",
    "    def spider_idle(self,spider):\n",
    "        logger.info('idle spider %s' % spider.name)\n",
    "\n",
    "    def spider_closed(self, spider):\n",
    "        logger.info(\"closed spider %s\", spider.name)\n",
    "        body = 'spider[%s] is closed' %spider.name\n",
    "        subject = '[%s] good!!!' %spider.name\n",
    "        # self.sender.send(to={'zfeijun@foxmail.com'}, subject=subject, body=body)\n",
    "        return self.sender.send(to={'zfeijun@foxmail.com'}, subject=subject, body=body)\n",
    "    \n",
    "# 这里为什么是return self.sender.send，是因为直接用sender.send会报builtins.AttributeError: 'NoneType' object has no attribute 'bio_read'的错误（邮件会发送成功），具体原因不是很懂，有大牛知道的可以指导一下。\n",
    "\n",
    "# 解决方法:[参考](https://github.com/scrapy/scrapy/issues/3478)\n",
    "\n",
    "#     在sender.send前加return就好了。\n",
    "\n",
    "# 在扩展中写好代码后，需要在settings中启用\n",
    "\n",
    "EXTENSIONS = {\n",
    "    # 'scrapy.extensions.telnet.TelnetConsole': 300,\n",
    "    'bukalapak.extendions.sendmail.SendEmail': 300,\n",
    "}\n",
    "MYEXT_ENABLED = True"
   ]
  }
 ],
 "metadata": {
  "kernelspec": {
   "display_name": "Python [conda env:root] *",
   "language": "python",
   "name": "conda-root-py"
  },
  "language_info": {
   "codemirror_mode": {
    "name": "ipython",
    "version": 3
   },
   "file_extension": ".py",
   "mimetype": "text/x-python",
   "name": "python",
   "nbconvert_exporter": "python",
   "pygments_lexer": "ipython3",
   "version": "3.7.4"
  }
 },
 "nbformat": 4,
 "nbformat_minor": 2
}
