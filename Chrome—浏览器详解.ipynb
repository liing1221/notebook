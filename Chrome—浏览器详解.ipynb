{
 "cells": [
  {
   "cell_type": "markdown",
   "metadata": {},
   "source": [
    "## Chrome—浏览器详解"
   ]
  },
  {
   "cell_type": "markdown",
   "metadata": {},
   "source": [
    "#### 1、Chrome安装<br>\n",
    "安装依赖<br>\n",
    ">sudo apt-get install libxss1 libappindicator1 libindicator7<br>\n",
    "\n",
    "下载Chrome安装包<br>\n",
    ">wget https://dl.google.com/linux/direct/google-chrome-stable_current_amd64.deb<br>\n",
    "\n",
    "安装<br>\n",
    ">sudo dpkg -i google-chrome*.deb<br>\n",
    "sudo apt-get install -f<br>"
   ]
  },
  {
   "cell_type": "markdown",
   "metadata": {},
   "source": [
    "#### 2、Chrome快捷键\n",
    "参考：[Chrome 浏览器快捷键大全](https://liulanmi.com/zt/145.html)<br>\n",
    "**窗口和标签页快捷方式：**<br>\n",
    "Ctrl+N\t打开新窗口<br>\n",
    "按住 Ctrl‎ 键，然后点击链接\t在新标签页中打开链接<br>\n",
    "按住 Shift 键，然后点击链接\t在新窗口中打开链接<br>\n",
    "Alt+F4\t关闭当前窗口<br>\n",
    "Ctrl+T\t打开新标签页<br>\n",
    "Ctrl+Shift+T\t重新打开上次关闭的标签页。 谷歌浏览器可记住您关闭的最后 10 个标签页。<br>\n",
    "将链接拖动到标签页内\t在指定标签页中打开链接<br>\n",
    "将链接拖动到两个标签页之间\t在新标签页横条上的指定位置打开链接<br>\n",
    "Ctrl+1 到 Ctrl+8\t切换到指定位置编号的标签页。 您按下的数字代表标签页横条上的位置。<br>\n",
    "Ctrl+9\t切换到最后一个标签页<br>\n",
    "Ctrl+Tab\t切换到下一个标签页<br>\n",
    "Ctrl+Shift+Tab\t切换到上一个标签页<br>\n",
    "Ctrl+W 或 Ctrl+F4\t关闭当前标签页或弹出式窗口<br>\n",
    "**地址栏快捷方式:**<br>\n",
    "在地址栏，进行下列操作之一：<br>\n",
    "键入搜索字词\t使用默认搜索引擎进行搜索<br>\n",
    "键入网址中”www.”和 “.com”之间的部分，然后按 Ctrl+Enter\t为您在地址栏中输入的内容添加”www.”和”.com”，然后打开网址<br>\n",
    "键入搜索引擎关键字或网址，按Tab 键，然后键入搜索字词\t使用与关键字或网址相关联的搜索引擎进行搜索,如果谷歌浏览器可以识别您要使用的搜索引擎，将会提示您按 Tab 键。<br>\n",
    "F6 或 Ctrl+L\t突出显示网址区域中的内容<br>\n",
    "输入网址，然后按 Alt+Enter\t在新标签页中打开网址<br>\n",
    "**打开谷歌浏览器功能的快捷方式:**<br>\n",
    "Ctrl+B\t打开和关闭书签栏<br>\n",
    "Ctrl+H\t查看历史记录页<br>\n",
    "Ctrl+J\t查看下载页<br>\n",
    "Shift+Escape\t查看任务管理器<br>\n",
    "Shift+Alt+T\t将键盘焦点设置在谷歌浏览器工具栏上。 使用键盘上的向右和向左箭头，导航至工具栏的不同区域。<br>\n",
    "**网页快捷方式:**<br>\n",
    "Ctrl+P\t打印当前页<br>\n",
    "F5\t重新加载当前页<br>\n",
    "Ctrl+F5 或 Shift+F5\t重新加载当前页，但忽略缓存内容<br>\n",
    "按住 Alt 键，然后点击链接\t下载链接<br>\n",
    "Ctrl+F\t打开”在网页上查找”框<br>\n",
    "Ctrl+G 或 F3\t查找与您在”在网页上查找”框中输入的内容相匹配的下一个匹配项<br>\n",
    "Ctrl+Shift+G 或 Shift+F3\t查找与您在”在网页上查找”框中输入的内容相匹配的上一个匹配项<br>\n",
    "Ctrl+U\t查看源代码<br>\n",
    "将链接拖动到书签栏\t将链接加入书签<br>\n",
    "Ctrl+D\t将当前网页加入书签<br>\n",
    "Ctrl++\t放大文字<br>\n",
    "Ctrl+-\t缩小文字<br>\n",
    "Ctrl+0\t还原到正常文字大小<br>\n",
    "**文字快捷方式:**<br>\n",
    "突出显示内容，然后按 Ctrl+C\t将内容复制到剪贴板<br>\n",
    "将光标置于文字字段中，然后按 Ctrl+V\t从剪贴板粘贴当前内容<br>\n",
    "将光标置于文字字段中，然后按 Ctrl+Shift+V\t从剪贴板粘贴当前内容的纯文字部分<br>\n",
    "突出显示文字字段的内容，然后按 Ctrl+X\t删除内容<br>"
   ]
  }
 ],
 "metadata": {
  "kernelspec": {
   "display_name": "Python 3",
   "language": "python",
   "name": "python3"
  },
  "language_info": {
   "codemirror_mode": {
    "name": "ipython",
    "version": 3
   },
   "file_extension": ".py",
   "mimetype": "text/x-python",
   "name": "python",
   "nbconvert_exporter": "python",
   "pygments_lexer": "ipython3",
   "version": "3.7.0"
  }
 },
 "nbformat": 4,
 "nbformat_minor": 2
}
