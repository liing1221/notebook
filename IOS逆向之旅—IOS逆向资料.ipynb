{
 "cells": [
  {
   "cell_type": "markdown",
   "id": "18f0b1ec",
   "metadata": {},
   "source": [
    "[IOS逆向资料](https://www.yuque.com/yuzhiboweishimodaitu/boq7pt/wd5cdt)   \n",
    "[安卓逆向](https://www.yuque.com/longyf/db1klc/tol48n)   \n",
    "[iOS 逆向（三）逆向工具](https://www.yuque.com/wenghengcong/ios/uy67xg)  \n",
    "[iOS 逆向](https://www.yuque.com/wenghengcong/ios/ld1ih2)   \n",
    "[逆向技术研究](https://www.yuque.com/rkabyss/empvkc)   \n",
    "[iOS逆向](https://www.yuque.com/mengxianliang/tpwtek)  \n",
    "[iOS逆向实战](https://www.yuque.com/u12101430/fopz92)   \n",
    "[安卓逆向-Java基础](https://www.yuque.com/guanxinzeluan-weepw/fdvfd5)   \n",
    "[基于Android studio动态调试smali全过程](https://www.jianshu.com/p/9843e80f5ac5)  \n",
    "[]()   \n",
    "[]()   \n",
    "[]()  \n",
    "[]()   \n",
    "[]()   \n",
    "[]()  \n",
    "[]()   \n",
    "[]()   \n",
    "[]()  \n",
    "[]()   \n",
    "[]()   \n",
    "[]()  \n",
    "[]()   \n",
    "[]()   \n",
    "[]()  \n",
    "[]()   \n",
    "[]()   \n",
    "[]()  \n",
    "[]()   \n",
    "[]()   \n",
    "[]()  \n",
    "[]()   "
   ]
  }
 ],
 "metadata": {
  "kernelspec": {
   "display_name": "Python 3 (ipykernel)",
   "language": "python",
   "name": "python3"
  },
  "language_info": {
   "codemirror_mode": {
    "name": "ipython",
    "version": 3
   },
   "file_extension": ".py",
   "mimetype": "text/x-python",
   "name": "python",
   "nbconvert_exporter": "python",
   "pygments_lexer": "ipython3",
   "version": "3.9.7"
  }
 },
 "nbformat": 4,
 "nbformat_minor": 5
}
