{
 "cells": [
  {
   "cell_type": "markdown",
   "metadata": {},
   "source": [
    "## Postman 教程\n",
    "　　参考：<br>\n",
    "　　　　　[基本教程](http://book.crifan.com/books/api_tool_postman/website/postman_func_ui_cfg/)<br>\n",
    "　　　　　[Postman安装与使用](https://www.cnblogs.com/fnng/p/9136434.html)<br>\n",
    "     \n",
    "POST:application/json数据<br>\n",
    "请求方式：POST<br>\n",
    "请求路径：接口地址<br>\n",
    "参数：Body选项卡选择 raw，然后在后边的下拉选项中选择 JSON（application/json） ,此时postman会自动帮你设置响应头Content-Type:application/json,不需要你自己去手动再选择Headers去设置了，之后在下边的文本区域中输入你要发送的 json 文本即可；最后点击postman的 Send 按钮，发送请求，在下边的body区域就可以看到服务端返回的响应了。<br>\n",
    "\n",
    "     "
   ]
  }
 ],
 "metadata": {
  "kernelspec": {
   "display_name": "Python 3",
   "language": "python",
   "name": "python3"
  },
  "language_info": {
   "codemirror_mode": {
    "name": "ipython",
    "version": 3
   },
   "file_extension": ".py",
   "mimetype": "text/x-python",
   "name": "python",
   "nbconvert_exporter": "python",
   "pygments_lexer": "ipython3",
   "version": "3.7.4"
  }
 },
 "nbformat": 4,
 "nbformat_minor": 2
}
