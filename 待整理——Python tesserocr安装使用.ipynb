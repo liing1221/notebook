{
 "cells": [
  {
   "cell_type": "markdown",
   "metadata": {},
   "source": [
    "## tesserocr详解\n",
    "　　参考：[]()<br>\n",
    "　　　　　[Python第三方模块tesserocr安装](https://www.cnblogs.com/Jimc/p/9772930.html)<br>\n",
    "　　　　　[tesserocr版本资源](https://digi.bib.uni-mannheim.de/tesseract/)<br>\n",
    "　　　　　[tesserocr(whl)资源](https://github.com/simonflueckiger/tesserocr-windows_build/releases)<br>\n",
    "　　　　　[win10 安装tesserocr和tesseract的问题和安装过程](https://blog.csdn.net/lianxiaobao/article/details/82465010)<br>\n"
   ]
  }
 ],
 "metadata": {
  "kernelspec": {
   "display_name": "Python 3",
   "language": "python",
   "name": "python3"
  },
  "language_info": {
   "codemirror_mode": {
    "name": "ipython",
    "version": 3
   },
   "file_extension": ".py",
   "mimetype": "text/x-python",
   "name": "python",
   "nbconvert_exporter": "python",
   "pygments_lexer": "ipython3",
   "version": "3.7.4"
  }
 },
 "nbformat": 4,
 "nbformat_minor": 2
}
