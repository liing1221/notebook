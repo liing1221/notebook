{
 "cells": [
  {
   "cell_type": "markdown",
   "id": "28bbc31a",
   "metadata": {},
   "source": [
    "# snap详解\n",
    "[Linux Command snap 软件包管理](https://blog.csdn.net/xixihahalelehehe/article/details/124266900)   \n",
    "[Ubuntu 使用 snap 常用操作](https://www.pianshen.com/article/2174147726/)  "
   ]
  }
 ],
 "metadata": {
  "kernelspec": {
   "display_name": "Python 3 (ipykernel)",
   "language": "python",
   "name": "python3"
  },
  "language_info": {
   "codemirror_mode": {
    "name": "ipython",
    "version": 3
   },
   "file_extension": ".py",
   "mimetype": "text/x-python",
   "name": "python",
   "nbconvert_exporter": "python",
   "pygments_lexer": "ipython3",
   "version": "3.9.7"
  }
 },
 "nbformat": 4,
 "nbformat_minor": 5
}
