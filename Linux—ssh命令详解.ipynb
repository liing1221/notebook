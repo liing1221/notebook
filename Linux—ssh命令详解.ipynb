{
 "cells": [
  {
   "cell_type": "markdown",
   "id": "4e864108",
   "metadata": {},
   "source": [
    "# ssh命令详解\n",
    "　　参考：[]()    \n",
    "　　　　　[Linux开启ssh服务](https://blog.csdn.net/m0_60941423/article/details/121744741)    \n",
    "　　　　　[]()    \n",
    "　　　　　[]()    \n",
    "　　　　　[]()    \n",
    "　　　　　[]()    \n"
   ]
  }
 ],
 "metadata": {
  "kernelspec": {
   "display_name": "Python 3",
   "language": "python",
   "name": "python3"
  },
  "language_info": {
   "codemirror_mode": {
    "name": "ipython",
    "version": 3
   },
   "file_extension": ".py",
   "mimetype": "text/x-python",
   "name": "python",
   "nbconvert_exporter": "python",
   "pygments_lexer": "ipython3",
   "version": "3.9.7"
  }
 },
 "nbformat": 4,
 "nbformat_minor": 5
}
