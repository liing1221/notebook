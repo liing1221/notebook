{
 "cells": [
  {
   "cell_type": "markdown",
   "id": "8d73e544",
   "metadata": {},
   "source": [
    "# 第一章 IPython：超越Python\n",
    "　　IPython,致力于提供“科学计算的全生命周期开发工具”。如果将 Python 看作数据科学任务的引擎，那么 IPython 就是一个交互式控制面板。\n",
    "## 1.1 IPython使用方式\n",
    "　　两张使用方式：IPython shell 和 IPython Notebook。<br>\n",
    "### 1.1.1 启动IPython shell\n",
    "　　命令行中输入 ipython 启动 IPython 解释器。<br>\n",
    "### 1.1.2 启动Jupyter Notebook\n",
    "　　Jupyter Notebook 是 IPython shell 基于浏览器的图形界面，提供了一系列丰富的动态展示功能。Jupyter Notebook 不仅可以执行 Python/IPython 语句，还允许用户添加格式化文本、静态和动态的可视化图像、数学公式、JavaScript 插件，等等。不仅如此，这些 Notebook 文档还能以共享方式存储，以便其他人可以打开这些 Notebook，并且在他们自己的系统中执行这些 Notebook 代码。<br>\n",
    "　　尽管 IPython Notebook 是通过你的 Web 浏览器窗口进行查看和编辑的，但是它必须与一个正在运行的 Python 进程连接才能执行代码。想\n",
    "要启动这个进程（也被称作“核”，kernel），需要在你系统的命令行中输入以下命令：<br>\n",
    ">\\\\$ jupyter notebook<br>\n",
    "\n",
    "## 1.2 IPython的帮助和文档\n",
    "　　通过 IPython 工具来快速获取帮助信息：符号 ? 用于浏览文档，符号 ?? 用于浏览源代码，而 Tab 键可以用于自动补全。<br>\n",
    "### 1.2.1 用符号?获取文档\n",
    "　　Python 语言和其数据科学生态系统是应用户需求而创建的，而用户的很大一部分需求就是获取文档。每一个 Python 对象都有一个字符串的引用，该字符串即 docstring。大多数情况下，该字符串包含对象的简要介绍和使用方法。Python 内置的 help() 函数可以获取这些信息，并且能打印输出结果。<br>\n",
    ">\\\\$ len?<br>\n",
    "\\\\$ [1, 2, 3].insert?<br>\n",
    "\\\\$ [1, 2, 3]?<br>\n",
    "### 1.2.2 通过符号??获取源代码\n",
    ">\\\\$ square??<br>\n",
    "\n",
    "　　如果你经常使用 ?? 后缀，就会发现它有时不能显示源代码。这是因为你查询的对象并不是用 Python 实现的，而是用 C 语言或其他编译扩展语言实现的。在这种情况下，?? 后缀将等同于 ? 后缀。<br>\n",
    "### 1.2.3 用Tab补全的方式探索模块\n",
    "　　IPython 另一个有用的接口是用 Tab 键自动补全和探索对象、模块及命名空间的内容。<br>"
   ]
  }
 ],
 "metadata": {
  "kernelspec": {
   "display_name": "Python 3",
   "language": "python",
   "name": "python3"
  },
  "language_info": {
   "codemirror_mode": {
    "name": "ipython",
    "version": 3
   },
   "file_extension": ".py",
   "mimetype": "text/x-python",
   "name": "python",
   "nbconvert_exporter": "python",
   "pygments_lexer": "ipython3",
   "version": "3.8.8"
  }
 },
 "nbformat": 4,
 "nbformat_minor": 5
}
