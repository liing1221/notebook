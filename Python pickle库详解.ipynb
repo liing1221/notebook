{
 "cells": [
  {
   "cell_type": "markdown",
   "metadata": {},
   "source": [
    "## Python pickle库详解"
   ]
  },
  {
   "cell_type": "markdown",
   "metadata": {},
   "source": [
    "#### 介绍：<br>\n",
    "在机器学习中，我们常常需要把训练好的模型存储起来，这样在进行决策时直接将模型读出，而不需要重新训练模型，这样就大大节约了时间。Python提供的pickle模块就很好地解决了这个问题，它可以序列化对象并保存到磁盘中，并在需要的时候读取出来，任何对象都可以执行序列化操作。<br>\n",
    "\n",
    "Pickle模块中最常用的函数为：\n",
    "\n",
    "（1）pickle.dump(obj, file, [,protocol])<br>\n",
    "        函数的功能：将obj对象序列化存入已经打开的file中。<br>\n",
    "        参数讲解：<br>\n",
    "        obj：想要序列化的obj对象。<br>\n",
    "        file:文件名称。<br>\n",
    "        protocol：序列化使用的协议。如果该项省略，则默认为0。如果为负值或HIGHEST_PROTOCOL，则使用最高的协议版本。\n",
    "        \n",
    "（2）pickle.load(file)<br>\n",
    "        函数的功能：将file中的对象序列化读出。<br>\n",
    "        参数讲解：<br>\n",
    "        file：文件名称。\n",
    "        \n",
    "（3）pickle.dumps(obj[, protocol])<br>\n",
    "        函数的功能：将obj对象序列化为string形式，而不是存入文件中。<br>\n",
    "        参数讲解：<br>\n",
    "        obj：想要序列化的obj对象。<br>\n",
    "        protocal：如果该项省略，则默认为0。如果为负值或HIGHEST_PROTOCOL，则使用最高的协议版本。\n",
    "        \n",
    "（4）pickle.loads(string)<br>\n",
    "        函数的功能：从string中读出序列化前的obj对象。<br>\n",
    "        参数讲解：<br>\n",
    "        string：文件名称。\n",
    "\n",
    "【注】 dump() 与 load() 相比 dumps() 和 loads() 还有另一种能力：dump()函数能一个接着一个地将几个对象序列化存储到同一个文件中，随后调用load()来以同样的顺序反序列化读出这些对象。"
   ]
  }
 ],
 "metadata": {
  "kernelspec": {
   "display_name": "python36",
   "language": "python",
   "name": "python36"
  },
  "language_info": {
   "codemirror_mode": {
    "name": "ipython",
    "version": 3
   },
   "file_extension": ".py",
   "mimetype": "text/x-python",
   "name": "python",
   "nbconvert_exporter": "python",
   "pygments_lexer": "ipython3",
   "version": "3.7.1"
  }
 },
 "nbformat": 4,
 "nbformat_minor": 2
}
