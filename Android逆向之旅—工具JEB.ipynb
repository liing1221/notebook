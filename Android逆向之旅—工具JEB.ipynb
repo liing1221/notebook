{
 "cells": [
  {
   "cell_type": "markdown",
   "id": "f37ca171",
   "metadata": {},
   "source": [
    "# JEB使用\n",
    "[JEB 的安装](https://cuiqingcai.com/31082.html)  \n",
    "[[原创]jeb-demo-4.x 破解 ](https://bbs.pediy.com/thread-268316.htm)  \n",
    "[反编译工具互锤 2) jeb 爆锤 jadx 和 GDA](https://www.bilibili.com/read/cv13441191?spm_id_from=333.999.0.0)  \n",
    "[]()  \n",
    "[]()  \n",
    "[]()  \n",
    "[]()  "
   ]
  }
 ],
 "metadata": {
  "kernelspec": {
   "display_name": "Python 3 (ipykernel)",
   "language": "python",
   "name": "python3"
  },
  "language_info": {
   "codemirror_mode": {
    "name": "ipython",
    "version": 3
   },
   "file_extension": ".py",
   "mimetype": "text/x-python",
   "name": "python",
   "nbconvert_exporter": "python",
   "pygments_lexer": "ipython3",
   "version": "3.9.7"
  }
 },
 "nbformat": 4,
 "nbformat_minor": 5
}
