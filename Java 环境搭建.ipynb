{
 "cells": [
  {
   "cell_type": "markdown",
   "metadata": {},
   "source": [
    "## Java环境搭建\n",
    "　　参考：[如何在Ubuntu 18.04上安装Java](https://cloud.tencent.com/developer/article/1162527)  \n",
    "　　　　　[linux安装java步骤](https://www.cnblogs.com/wjup/p/11041274.html)  \n",
    "　　　　　[在Linux下安装javajdk详细教程](https://blog.csdn.net/qq_37968908/article/details/88978152)<br>\n",
    "　　　　　[Linux安装jdk详细步骤](https://blog.csdn.net/weixin_44538107/article/details/88683530)<br>\n",
    "　　　　　[linux安装jdk8](https://blog.csdn.net/pdsu161530247/article/details/81582980)<br>\n",
    "　　　　　[]()<br>\n",
    "　　　　　[]()<br>\n",
    "　　　　　[]()<br>\n",
    "　　　　　[]()<br>\n",
    "　　　　　[]()<br>"
   ]
  }
 ],
 "metadata": {
  "kernelspec": {
   "display_name": "Python 3",
   "language": "python",
   "name": "python3"
  },
  "language_info": {
   "codemirror_mode": {
    "name": "ipython",
    "version": 3
   },
   "file_extension": ".py",
   "mimetype": "text/x-python",
   "name": "python",
   "nbconvert_exporter": "python",
   "pygments_lexer": "ipython3",
   "version": "3.7.4"
  }
 },
 "nbformat": 4,
 "nbformat_minor": 2
}
