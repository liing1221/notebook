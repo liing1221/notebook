{
 "cells": [
  {
   "cell_type": "markdown",
   "metadata": {},
   "source": [
    "## Android逆向工具与编程基础\n",
    "　　参考：<br>\n",
    "  \n",
    "### 逆向工具总结：\n",
    "1、AndroidKiller<br>\n",
    "2、JEB<br>\n",
    "3、IDA<br>\n",
    "4、Java2Smali<br>\n",
    "5、ArmToASM<br>\n",
    "6、ApkScan-PKID<br>\n",
    "7、apktool<br>\n",
    "8、xposed<br>\n",
    "9、Android Device Monitor<br>\n",
    "10、Android Studio<br>\n",
    "11、[Frida操作手册](https://www.52pojie.cn/forum.php?mod=viewthread&tid=836277&extra=page%3D2%26filter%3Ddigest%26digest%3D1)<br>\n",
    "\n",
    "### 逆向编程基础：\n",
    "1、[arm基础](https://www.xuebuyuan.com/3233695.html)<br>\n",
    "2、[smali基础](https://www.cnblogs.com/bmjoker/p/10506623.html)<br>\n",
    "3、[java基础](https://www.runoob.com/java/java-intro.html)<br>\n",
    "　　[Android逆向-java代码基础](https://www.52pojie.cn/forum.php?mod=viewthread&tid=684492&extra=page%3D1%26filter%3Ddigest%26digest%3D1)<br>\n",
    "4、[c++基础](https://www.runoob.com/cplusplus/cpp-tutorial.html)<br>\n",
    "5、[吾爱破解安卓逆向入门教程](https://www.52pojie.cn/forum.php?mod=viewthread&tid=408645&extra=page%3D1%26filter%3Dtypeid%26typeid%3D236)<br>\n",
    "6、[apktool基础用法](https://www.jianshu.com/p/87f32d8cbeac)<br>\n",
    "7、[Android逆向Hook学习Xposed](https://www.52pojie.cn/thread-873013-1-1.html?tdsourcetag=s_pctim_aiomsg)<br>\n",
    "8、[XposedHook实例](https://www.jianshu.com/p/34697a75bff7)<br>\n",
    "9、[Xposed如何实现类中函数的调用](https://blog.csdn.net/omnispace/article/details/50816740)<br>\n",
    "10、[动态调试smali](https://www.52pojie.cn/thread-658865-1-1.html)<br>\n",
    "11、[动态调试so](https://www.52pojie.cn/thread-742686-1-1.html)<br>\n",
    "　　[Android逆向之动态调试总结](https://www.52pojie.cn/forum.php?mod=viewthread&tid=293648&extra=page%3D4%26filter%3Ddigest%26digest%3D1)<br>\n",
    "12、[ida使用说明](https://www.52pojie.cn/thread-648679-1-1.html)<br>\n",
    "13、[Android Device Monitor测试查看logcat](https://blog.csdn.net/qq_32434307/article/details/90053047)<br>\n",
    "14、[ADB常用命令及其用法大全](https://blog.csdn.net/qq_39969226/article/details/87897863)<br>\n",
    "15、[教我兄弟学Android逆向](https://blog.csdn.net/assyiran/category_7682684.html)<br>\n",
    "16、[Android逆向Hook学习—Xposed](https://www.52pojie.cn/forum.php?mod=viewthread&tid=873013&extra=page%3D1%26filter%3Dtypeid%26typeid%3D236&page=1)<br>\n",
    "17、[Android逆向Hook学习—Android inline Hook](https://www.52pojie.cn/thread-945614-1-1.html)<br>\n",
    "18、[从OWASP CrackMe学Android逆向(一)(二）](https://www.52pojie.cn/forum.php?mod=viewthread&tid=1048837&extra=page%3D2%26filter%3Ddigest%26digest%3D1)<br>\n",
    "19、[Xposed快速入门例子(1、2)](https://www.52pojie.cn/forum.php?mod=viewthread&tid=787229&extra=page%3D1%26filter%3Dtypeid%26typeid%3D236)<br>选\n",
    "20、逆向示例精选：[Android】apk破解之“异常”破解](https://www.52pojie.cn/forum.php?mod=viewthread&tid=196268&extra=page%3D4%26filter%3Ddigest%26digest%3D1)、[安卓手机下xx.apk JAVA破解之旅](https://www.52pojie.cn/forum.php?mod=viewthread&tid=191522&extra=page%3D4%26filter%3Ddigest%26digest%3D1)、[Android逆向之旅---分析某直播App的协议加密原理以及调用加密方法进行协议参数构造 ](https://www.52pojie.cn/forum.php?mod=viewthread&tid=654477&extra=page%3D3%26filter%3Ddigest%26digest%3D1)、[Android逆向之旅---破解某应用加密算法(动态调试so和hook so代码)](https://www.52pojie.cn/forum.php?mod=viewthread&tid=839971&extra=page%3D2%26filter%3Ddigest%26digest%3D1)、[Android中分析某短视频的数据请求加密协议(第二篇)](https://www.52pojie.cn/forum.php?mod=viewthread&tid=682323&extra=page%3D1%26filter%3Ddigest%26digest%3D1)、[Android中\"最右App\"的签名算法解析(ARM指令学习恶心篇)](https://www.52pojie.cn/forum.php?mod=viewthread&tid=878748&extra=page%3D1%26filter%3Ddigest%26digest%3D1)<br>\n",
    "21、[吾爱破解安卓逆向入门教程--导航帖](https://www.52pojie.cn/thread-408645-1-1.html)<br>\n",
    "22、[安卓逆向分析笔记](https://www.52pojie.cn/thread-888820-1-1.html)<br>\n",
    "23、[android 逆向菜鸟速参手册完蛋版](https://www.52pojie.cn/thread-313949-1-1.html)<br>"
   ]
  }
 ],
 "metadata": {
  "kernelspec": {
   "display_name": "Python 3",
   "language": "python",
   "name": "python3"
  },
  "language_info": {
   "codemirror_mode": {
    "name": "ipython",
    "version": 3
   },
   "file_extension": ".py",
   "mimetype": "text/x-python",
   "name": "python",
   "nbconvert_exporter": "python",
   "pygments_lexer": "ipython3",
   "version": "3.7.1"
  }
 },
 "nbformat": 4,
 "nbformat_minor": 2
}
