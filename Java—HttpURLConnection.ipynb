{
 "cells": [
  {
   "cell_type": "markdown",
   "id": "76e371af",
   "metadata": {},
   "source": [
    "# HttpURLConnection\n",
    "　　参考：[1](https://blog.csdn.net/w690333243/article/details/53097485/)   \n",
    "　　　　　[2](https://blog.csdn.net/fengyeNom1/article/details/84568046)   \n",
    "　　　　　[3](https://www.cnblogs.com/caoweixiong/p/14716187.html)   \n",
    "　　　　　[3]()   \n",
    "　　　　　[]()   \n",
    "　　　　　[]()   \n",
    "　　　　　[]()   \n",
    "　　　　　[]()   \n",
    "\n",
    "## 一、\n",
    "\n",
    "## 二、\n",
    "\n",
    "## 三、\n",
    "\n",
    "## 四、"
   ]
  }
 ],
 "metadata": {
  "kernelspec": {
   "display_name": "Python 3",
   "language": "python",
   "name": "python3"
  },
  "language_info": {
   "codemirror_mode": {
    "name": "ipython",
    "version": 3
   },
   "file_extension": ".py",
   "mimetype": "text/x-python",
   "name": "python",
   "nbconvert_exporter": "python",
   "pygments_lexer": "ipython3",
   "version": "3.9.7"
  }
 },
 "nbformat": 4,
 "nbformat_minor": 5
}
