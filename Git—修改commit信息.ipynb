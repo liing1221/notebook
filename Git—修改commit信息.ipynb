{
 "cells": [
  {
   "cell_type": "markdown",
   "id": "d4557c19",
   "metadata": {},
   "source": [
    "# Commit Message 修改\n",
    "[git rebase 命令介绍](https://www.cnblogs.com/FengZeng666/p/15394597.html)   \n",
    "\n",
    "\n",
    "## 一、说明\n",
    "　　很多时候，我们项目对提交的message有格式要求，如果我们git commit提交之后，格式不正确，那就无法push，这时候需要修改提交的message。  \n",
    "## 二、修改\n",
    "### 2.1、修改本次(最近)提交message\n",
    "　　有时候，我们刚提交完一个 commit，但是发现 commit 的描述不符合规范或者需要纠正，这时候，我们可以通过 git commit --amend 命令来修改刚刚提交 commit 的 Commit Message。\n",
    "```shell\n",
    "git log –oneline   # 查看当前分支的日志记录。\n",
    "git commit --amend     # 进入一个交互界面，在交互界面中，修改最近一次的 Commit Message，完成后 :wq 退出\n",
    "```\n",
    "### 2.2、修改指定的某次提交的message\n",
    "#### 2.2.1、查看最近的多少条提交记录\n",
    "```shell\n",
    " git log --oneline -10    # 查看最近的10条提交记录\n",
    "```\n",
    "#### 2.2.2、修改message状态\n",
    "　　进入message的编辑界面,(按insert进入编辑模式)将需要修改的记录前面的 pick 改为 edit ,(-i 要修改id的前一条id)\n",
    "然后保存并退出（按ESC 再输入:wq  按Enter）\n",
    "```shell\n",
    "git rebase -i HEAD~3 或者 git rebase -i 5c9e137      # 假设需要修改倒数第三次记录\n",
    "```\n",
    "#### 2.2.3、修改message\n",
    "```shell\n",
    "git commit --amend        # 修改message,使用上一步同样的方法修改,然后保存退出\n",
    "```\n",
    "\n",
    "在使用命令 git rebase --continue 完成全部操作  \n",
    "再次查看log，可以看到我们的message已经编辑成功  \n",
    "\n"
   ]
  }
 ],
 "metadata": {
  "kernelspec": {
   "display_name": "Python 3 (ipykernel)",
   "language": "python",
   "name": "python3"
  },
  "language_info": {
   "codemirror_mode": {
    "name": "ipython",
    "version": 3
   },
   "file_extension": ".py",
   "mimetype": "text/x-python",
   "name": "python",
   "nbconvert_exporter": "python",
   "pygments_lexer": "ipython3",
   "version": "3.9.12"
  }
 },
 "nbformat": 4,
 "nbformat_minor": 5
}
