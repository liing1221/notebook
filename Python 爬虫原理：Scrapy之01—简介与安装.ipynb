{
 "cells": [
  {
   "cell_type": "markdown",
   "metadata": {},
   "source": [
    "## Scrapy详解\n",
    "　　参考：[官方文档](https://scrapy-chs.readthedocs.io/zh_CN/latest/intro/overview.html)<br>\n",
    "　　　　　[Scrapy教程](http://codingdict.com/article/4917)<br>\n",
    " \n",
    "### 一、Scrapy简介\n",
    "  Scrapy是一个为了爬取网站数据，提取结构性数据而编写的应用框架。 可以应用在包括数据挖掘，信息处理或存储历史数据等一系列的程序中。其最初是为了 页面抓取 (更确切来说, 网络抓取 )所设计的， 也可以应用在获取API所返回的数据(例如 Amazon Associates Web Services ) 或者通用的网络爬虫。<br>\n",
    "  Scrapy是快速的高级Web爬虫框架，用于爬取网站并从其页面中提取结构化数据。它可以用于从数据挖掘到监视和自动测试的广泛用途。<br>\n",
    "　　**Scrapy优点;**<br>\n",
    ">1、Scrapy是一个开放源代码并可以免费使用网络爬虫框架。<br>\n",
    "2、Scrapy很容易扩展，快速和强大， 易于构建和扩展大型爬取项目。<br>\n",
    "3、Scrapy是一个跨平台的应用程序框架（Windows，Linux，Mac OS和BSD）。<br>\n",
    "4、Scrapy实现高并发异步处理请求，速度很快，且可以使用自动调节机制调整抓取速度。<br>\n",
    "\n",
    "　　Scrapy 是基于twisted框架开发而来，twisted是一个流行的事件驱动的python网络框架。因此Scrapy使用了一种非阻塞（又名异步）的代码来实现并发（基于Twisted实现单线程并发下载页面）。也具备解析下载内容功能、帮助实现“递归”、帮助完成数据持久化（数据写入硬盘或数据库）、还具备一些扩展性功能（自定义组件）。<br>\n",
    "### 二、Scrapy安装\n",
    "#### 1、Windows平台\n",
    "1、安装wheel<br>\n",
    ">pip3 install wheel   # 安装后，便支持通过wheel文件安装软件([wheel文件官网](https://www.lfd.uci.edu/~gohlke/pythonlibs))。<br>\n",
    "\n",
    "2、下载twisted（Scrapy基于twisted框架）：<br>\n",
    "    下载地址: http://www.lfd.uci.edu/~gohlke/pythonlibs/#twisted<br>\n",
    "    安装twisted.<br>\n",
    "    进入下载目录，执行： <br>\n",
    ">pip3 install Twisted‑17.1.0‑cp35‑cp35m‑win_amd64.whl<br>\n",
    "\n",
    "3、下载并安装pywin32： <br>   \n",
    ">pip3 install pywin32<br>\n",
    "\n",
    "4、安装scrapy<br>\n",
    ">pip3 install scrapy<br>\n",
    "#### 2、Linux平台<br>\n",
    ">pip3 install scrapy<br>\n",
    "\n",
    "### 三、Scrapy核心组件与工作流程\n",
    "#### 1、五大核心组件介绍\n",
    "**引擎(Engine)**<br>\n",
    "　　用来处理整个系统的数据流处理, 触发事务(框架核心)<br>\n",
    "**管道(Pipeline)**<br>\n",
    "　　负责处理爬虫从网页中抽取的实体，主要的功能是持久化实体、验证实体的有效性、清除不需要的信息。当页面被爬虫解析后，将被发送到项目管道，并经过几个特定的次序处理数据。<br>\n",
    "**调度器(Scheduler)**<br>\n",
    "　　用来接受引擎发过来的请求, 压入队列中, 并在引擎再次请求的时候返回. 可以想像成一个URL（抓取网页的网址或者说是链接）的优先队列, 由它来决定下一个要抓取的网址是什么, 同时去除重复的网址。<br>\n",
    "**下载器(Downloader)**<br>\n",
    "　　用于下载网页内容, 并将网页内容返回给蜘蛛(Scrapy下载器是建立在twisted这个高效的异步模型上的)<br>\n",
    "**爬虫文件(Spiders)**<br>\n",
    "　　爬虫是主要干活的, 用于从特定的网页中提取自己需要的信息, 即所谓的实体(Item)。用户也可以从中提取出链接,让Scrapy继续抓取下一个页面<br>\n",
    "#### 2、五大核心组件工作流程\n",
    "![Scrapy工作流程图](./images/scrapy01.png)<br>\n",
    "　　引擎首先会将爬虫文件中的起始url获取，并提交到调度器中。如果需要从url中下载数据，则调度器会将url通过引擎提交给下载器，下载器根据url去下载指定内容（响应器）。下载好的数据会通过引擎移交给爬虫文件，爬虫文件可以将下载的数据进行指定格式的解析。如果解析出的数据需要进行持久化存储，则爬虫文件会将解析好的数据通过引擎移交给管道进行持久化存储。<br>\n",
    "\n"
   ]
  }
 ],
 "metadata": {
  "kernelspec": {
   "display_name": "Python 3",
   "language": "python",
   "name": "python3"
  },
  "language_info": {
   "codemirror_mode": {
    "name": "ipython",
    "version": 3
   },
   "file_extension": ".py",
   "mimetype": "text/x-python",
   "name": "python",
   "nbconvert_exporter": "python",
   "pygments_lexer": "ipython3",
   "version": "3.7.4"
  }
 },
 "nbformat": 4,
 "nbformat_minor": 2
}
