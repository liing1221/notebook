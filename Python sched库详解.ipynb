{
 "cells": [
  {
   "cell_type": "markdown",
   "metadata": {},
   "source": [
    "## Python sched库详解\n",
    "　　参考：[Python标准库之sched模块介绍](https://www.cnblogs.com/luminousjj/p/9340082.html)<br>"
   ]
  },
  {
   "cell_type": "markdown",
   "metadata": {},
   "source": [
    "sched——通用时间调度器\n",
    "\n",
    "　　sched模块实现了一个通用事件调度器，在调度器类使用一个延迟函数等待特定的时间，执行任务。同时支持多线程应用程序，在每个任务执行后会立刻调用延时函数，以确保其他线程也能执行。<br>\n",
    "　　通过sched模块可以实现通过自定义时间，自定义函数，自定义优先级来执行函数。<br>"
   ]
  },
  {
   "cell_type": "markdown",
   "metadata": {},
   "source": [
    "　　sched 模块内容很简单，只定义了一个类。\n",
    ">class sched.scheduler(timefunc, delayfunc) \n",
    "\n",
    "　　这个类定义了调度事件的通用接口，它需要外部传入两个参数， timefunc 是一个没有参数的，返回时间类型数字的函数(常用使用的如time模块里面的time)，delayfunc 应该是一个需要一个参数调用（与timefunc的输出兼容），并且表示延迟多少个时间单位执行的函数(常用的如time模块的sleep)。当然，你也可以自己实现时间暂停的函数。<br>\n"
   ]
  },
  {
   "cell_type": "markdown",
   "metadata": {},
   "source": [
    "scheduler对象拥有下面这些方法或属性:"
   ]
  },
  {
   "cell_type": "markdown",
   "metadata": {},
   "source": [
    "\n",
    "1、scheduler.enterabs(time, priority, action, argument) <br>  \n",
    "    加入一个事件, time参数应该是一个与传递给构造函数的timefunc参数的返回值相兼容的数值类型，是绝对时间，表示到某一时刻执行action。在同一时间到达的事件将按照 priority 顺序执行。执行事件其实就是执行action(argument)。argument必须是一个包含action参数的元组。返回值是一个事件，它可以用于稍后取消事件(请参见 cancel() )。<br>\n",
    "\n",
    "2、scheduler.enter(delay, priority, action, argument)  <br>  \n",
    "    第一个参数是一个整数或浮点数，代表多少秒后执行这个action任务。<br>\n",
    "    第二个参数priority是优先级，0代表优先级最高，1次之，2次次之，当两个任务是预定在同一个时刻执行时，根据优先级决定谁先执行。<br>\n",
    "    第三个参数就是你要执行的任务，可以简单理解成你要执行任务的函数的函数名。<br>\n",
    "    第四个参数是你要传入这个定时执行函数名函数的参数，参数要以元组形式传入。<br>\n",
    "    该方法表示在一个延迟或规定时间之后执行事件。其参数、含义和返回值与enterabs()相同。其实内部enterabs就是用来被enter调用。<br>\n",
    "    \n",
    "3、scheduler.cancel(event) <br>  \n",
    "    从队列中删除事件。如果事件不是当前队列中的事件，则该方法将抛出一个ValueError 。<br>\n",
    "\n",
    "4、scheduler.empty()   <br>\n",
    "    判断队列是否为空。<br>\n",
    "\n",
    "5、scheduler.run() <br>  \n",
    "    运行所有预定的事件。这个函数将等待(使用传递给构造函数的delayfunc()函数)，然后执行事件，直到不再有预定的事件。每个事件在同一线程中运行，所以如果一个任务执行时间大于其他任务的等待时间，那么其他任务会推迟任务的执行时间，这样保证没有任务丢失，但这些任务的调用时间会比设定的推迟。 <br>   \n",
    "    在多线程场景中，会有线程安全问题，run()函数会阻塞主线程。官方建议使用 threading.Timer 类代替,就是直接执行Print start和print end，而定时任务会分开执行。打印end不会阻塞。<br>\n",
    ">import time<br>\n",
    "import sched<br>\n",
    "from threading import Timer<br>\n",
    "def print_name(str):<br>\n",
    "　　print \"i'm %s\"%str<br>\n",
    "print \"start\"<br>\n",
    "Timer(5,print_name,(\"superman\",)).start()<br>\n",
    "Timer(10,print_name,(\"spiderman\",)).start()<br>\n",
    "print \"end\"<br>\n",
    "\n",
    "6、scheduler.queue   \n",
    "    只读属性，返回一个即将到达的事件列表(按到达事件排序)，每个事件都是有time、priority、action、argument组成的namedtuple。<br>"
   ]
  }
 ],
 "metadata": {
  "kernelspec": {
   "display_name": "Python 3",
   "language": "python",
   "name": "python3"
  },
  "language_info": {
   "codemirror_mode": {
    "name": "ipython",
    "version": 3
   },
   "file_extension": ".py",
   "mimetype": "text/x-python",
   "name": "python",
   "nbconvert_exporter": "python",
   "pygments_lexer": "ipython3",
   "version": "3.7.4"
  }
 },
 "nbformat": 4,
 "nbformat_minor": 2
}
