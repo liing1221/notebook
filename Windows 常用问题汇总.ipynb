{
 "cells": [
  {
   "cell_type": "markdown",
   "id": "248f221f",
   "metadata": {},
   "source": [
    "# 常用问题汇总\n",
    "\n",
    "\n",
    "## 1、输入法快捷键能相关\n",
    "[输入法的半角和全角切换](https://blog.csdn.net/Klhz555/article/details/124532712)   "
   ]
  }
 ],
 "metadata": {
  "kernelspec": {
   "display_name": "Python 3 (ipykernel)",
   "language": "python",
   "name": "python3"
  }
 },
 "nbformat": 4,
 "nbformat_minor": 5
}
