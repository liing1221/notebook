{
 "cells": [
  {
   "cell_type": "markdown",
   "id": "cf551e14",
   "metadata": {},
   "source": [
    "# stash管理\n",
    "　　参考：[]()     \n",
    "　　　　　[修改后git pull异常](https://blog.csdn.net/ydm19891101/article/details/104505624/)   \n",
    "　　　　　[]()   \n",
    "　　　　　[]()   \n",
    "　　　　　[]()   \n",
    "　　　　　[]()   \n",
    "　　　　　[]()   \n",
    "\n",
    "## 一、stash说明\n",
    "　　stash 一个 git 的新的堆栈区 - 本地（不同于暂存区 - 类似于一个栈的结构，先进后出）。当一个需要开发到一半(因要开发另外一个需求时或其他操作)没办法继续开发下去，且又不想用git commit将改动提交到版本库，此时，git stash就发挥了作用。  \n",
    "　　当你用stash将改动存起来之后，可以随意切换分支，之后还可以将存在stash中存储的改动，恢复到任意一个分支上。  \n",
    "　　实际开发过程中，经常会遇到同时开发多个需求的情况。可以用 git stash 堆栈来解决这个问题（当然，如果你对 git stash 掌握不好，也可以创建多个分支来解决）。  \n",
    "　\n",
    "## 二、stash命令\n",
    "```shell\n",
    "# 1、将改动存储到堆栈\n",
    "git stash\n",
    "git stash save    # 将未提交的更改缓存，并从当前分支移除更改\n",
    "# 默认的缓存名称为最新一次提交的 commit -m 的内容，如果没有本地提交则是拉远程仓库是的commit内容 \n",
    "git stash -u save \"备注信息\"\n",
    "# -u ： 表示包括 untracked files 全部存储（相当于 git add 后再 git stash）。（默认情况下，stash 只保存暂存区的修改 和 工作区已经存在文件的修改)\n",
    "# 注意：使用该命令会使 git status 变为 nothing to commit，working tree clean\n",
    "#　　　　git diff 和 git diff --cached 分别用来查看工作区和暂存区的修改\n",
    "\n",
    "# 2、将堆栈中的stash应用到工作区\n",
    "git stash apply stash@{id}   # 将堆栈中的指定stash应用到工作区（同时保留堆栈的内容），栈顶id为0\n",
    "git stash apply       # 将最近一次（栈顶）stash 应用到工作区\n",
    "\n",
    "git stash pop     # 将栈顶的stash应用到当前工作区，同时删除栈内此条stash\n",
    "\n",
    "# 3、查看stash堆栈中的内容\n",
    "git stash list    # 列表 - 堆栈中多个 stash 通过stash_id来区分 栈顶id为0\n",
    "\n",
    "# 4、查看stash与当前分支的差异  \n",
    "git stash show\n",
    "git stash show stash@{id}     # 查看stash与当前分支差异\n",
    "git stash show -p       # 查看详细的差异\n",
    "\n",
    "# 5、删除堆栈中的stash\n",
    "git stash drop      # 删除最近一个stash\n",
    "git stash drop stash@{id}    # 删除指定stash\n",
    "git stash clear     # 删除所有的stash\n",
    "\n",
    "# 6、指定或最新缓存创建分支\n",
    "git stash branch\n",
    "```\n"
   ]
  }
 ],
 "metadata": {
  "kernelspec": {
   "display_name": "Python 3 (ipykernel)",
   "language": "python",
   "name": "python3"
  },
  "language_info": {
   "codemirror_mode": {
    "name": "ipython",
    "version": 3
   },
   "file_extension": ".py",
   "mimetype": "text/x-python",
   "name": "python",
   "nbconvert_exporter": "python",
   "pygments_lexer": "ipython3",
   "version": "3.9.7"
  }
 },
 "nbformat": 4,
 "nbformat_minor": 5
}
