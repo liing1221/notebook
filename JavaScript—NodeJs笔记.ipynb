{
 "cells": [
  {
   "cell_type": "markdown",
   "metadata": {},
   "source": [
    "# NodeJs\n",
    "　　参考：[Node - 从0基础到实战企业官网](https://juejin.cn/post/6844903745755545614)<br>\n",
    "　　　　　[一篇文章构建你的 NodeJS 知识体系](https://juejin.cn/post/6844903767926636558)<br>\n",
    "　　　　　[深入理解 Node.js 的 Inspector](https://mp.weixin.qq.com/s/GLIlhURSrCYQ-8Bqg7i1kA)<br>"
   ]
  }
 ],
 "metadata": {
  "kernelspec": {
   "display_name": "Python 3",
   "language": "python",
   "name": "python3"
  },
  "language_info": {
   "codemirror_mode": {
    "name": "ipython",
    "version": 3
   },
   "file_extension": ".py",
   "mimetype": "text/x-python",
   "name": "python",
   "nbconvert_exporter": "python",
   "pygments_lexer": "ipython3",
   "version": "3.7.4"
  }
 },
 "nbformat": 4,
 "nbformat_minor": 4
}
