{
 "cells": [
  {
   "cell_type": "markdown",
   "metadata": {},
   "source": [
    "## Jieba分词\n",
    "　　参考：[jieba分词模块学习](https://www.jianshu.com/p/0e389247ebb0)<br>\n",
    "　　　　　[简明 jieba 中文分词教程](https://www.jianshu.com/p/883c2171cdb5?utm_campaign=maleskine&utm_content=note&utm_medium=seo_notes&utm_source=recommendation)<br>"
   ]
  }
 ],
 "metadata": {
  "kernelspec": {
   "display_name": "Python 3",
   "language": "python",
   "name": "python3"
  },
  "language_info": {
   "codemirror_mode": {
    "name": "ipython",
    "version": 3
   },
   "file_extension": ".py",
   "mimetype": "text/x-python",
   "name": "python",
   "nbconvert_exporter": "python",
   "pygments_lexer": "ipython3",
   "version": "3.7.4"
  }
 },
 "nbformat": 4,
 "nbformat_minor": 4
}
