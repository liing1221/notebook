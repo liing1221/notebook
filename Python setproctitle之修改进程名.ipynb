{
 "cells": [
  {
   "cell_type": "markdown",
   "metadata": {},
   "source": [
    "## Python setproctitle之修改进程名\n",
    "### 1、安装\n",
    ">git clone https://github.com/dvarrazzo/py-setproctitle.git<br>\n",
    "cd py-setproctitle<br>\n",
    "python setup.py build<br>\n",
    "python setup.py install<br>\n",
    "pip install setproctitle<br>\n",
    "\n",
    "### 2、示例\n",
    ">import setproctitle<br>\n",
    "setproctitle.setproctitle(\"进程别名\")<br>\n",
    "\n",
    "### 3、验证\n",
    ">ps -ef | grep python　　　　# 已经没有python的影子了<br>\n",
    "ps -ef | egrep '进程名'<br>"
   ]
  }
 ],
 "metadata": {
  "kernelspec": {
   "display_name": "Python 3",
   "language": "python",
   "name": "python3"
  },
  "language_info": {
   "codemirror_mode": {
    "name": "ipython",
    "version": 3
   },
   "file_extension": ".py",
   "mimetype": "text/x-python",
   "name": "python",
   "nbconvert_exporter": "python",
   "pygments_lexer": "ipython3",
   "version": "3.6.8"
  }
 },
 "nbformat": 4,
 "nbformat_minor": 2
}
