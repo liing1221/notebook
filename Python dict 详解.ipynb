{
 "cells": [
  {
   "cell_type": "markdown",
   "metadata": {},
   "source": [
    "## Python dict 详解"
   ]
  },
  {
   "cell_type": "markdown",
   "metadata": {},
   "source": [
    "#### 一、dict的特性"
   ]
  },
  {
   "cell_type": "markdown",
   "metadata": {},
   "source": [
    "      dict是python中的一个可变的数据类型，用{}表示，dict的key必须是不可变的数据类型，而value的数据类型可以任意\n",
    "\n",
    "      格式：{key:value,key:value,key:value}\n",
    "\n",
    "      注：键值对如果是字符串使用单引号，最后一个键值对没有逗号\n",
    "\n",
    "      dict的优点：\n",
    "\n",
    "        ①：查询速度快，可以二分查找\n",
    "\n",
    "        ②：key是不可以重复的 \n",
    "\n",
    "      注：　　　\n",
    "\n",
    "        不可变数据类型： 元组，bool，int , str 可以hash\n",
    "        可变数据类型： dict ，list， set"
   ]
  },
  {
   "cell_type": "code",
   "execution_count": 7,
   "metadata": {},
   "outputs": [],
   "source": [
    "        dict={'name':'jinxin','age':18,'male':'男'}"
   ]
  },
  {
   "cell_type": "markdown",
   "metadata": {},
   "source": [
    "#### 二、dict的方法："
   ]
  },
  {
   "cell_type": "markdown",
   "metadata": {},
   "source": [
    "   1、dict 内部采用哈希算法将键指向值得存储位置，因此字典的键必须是唯一的，而且字典的查找效率为 O(1),查找快，但字典元素在内存中散列存储，比较消耗内存空间。字典取键值的方法有两种："
   ]
  },
  {
   "cell_type": "code",
   "execution_count": 6,
   "metadata": {},
   "outputs": [
    {
     "data": {
      "text/plain": [
       "'jinxin'"
      ]
     },
     "execution_count": 6,
     "metadata": {},
     "output_type": "execute_result"
    }
   ],
   "source": [
    "        dict['name']"
   ]
  },
  {
   "cell_type": "markdown",
   "metadata": {},
   "source": [
    "   dict.get(key, default=None) :  获取字典中键为key的值(不可使用关键字传参)，若键存在，则取出对应的值，若不存在，则在字典中添加{key:default}的元素，并返回default值。"
   ]
  },
  {
   "cell_type": "code",
   "execution_count": 21,
   "metadata": {},
   "outputs": [
    {
     "data": {
      "text/plain": [
       "175"
      ]
     },
     "execution_count": 21,
     "metadata": {},
     "output_type": "execute_result"
    }
   ],
   "source": [
    "        dict.get('high',175)"
   ]
  },
  {
   "cell_type": "markdown",
   "metadata": {},
   "source": [
    "2、dict添加的方法：（dict有两种增加的方法）"
   ]
  },
  {
   "cell_type": "markdown",
   "metadata": {},
   "source": [
    "第一种：如果没有的键值对，则进行添加，如果有，则将值进行覆盖"
   ]
  },
  {
   "cell_type": "code",
   "execution_count": 22,
   "metadata": {},
   "outputs": [],
   "source": [
    "        dict['age']=16"
   ]
  },
  {
   "cell_type": "markdown",
   "metadata": {},
   "source": [
    "第二种：如果有键值对，不做任何改变，没有键值对，才进行添加"
   ]
  },
  {
   "cell_type": "code",
   "execution_count": 23,
   "metadata": {},
   "outputs": [
    {
     "data": {
      "text/plain": [
       "'65kg'"
      ]
     },
     "execution_count": 23,
     "metadata": {},
     "output_type": "execute_result"
    }
   ],
   "source": [
    "        dict.setdefault('weight','65kg')"
   ]
  },
  {
   "cell_type": "markdown",
   "metadata": {},
   "source": [
    "3、字典的查询："
   ]
  },
  {
   "cell_type": "markdown",
   "metadata": {},
   "source": [
    "第一类：字典键查询：    dict.keys()     以列表返回一个字典所有的键；\n",
    "      字典值查询：    dict.values()    以列表返回字典中的所有值；\n",
    "      字典键值查询：\tdict.items()    以列表返回可遍历的(键, 值)元组数组。"
   ]
  },
  {
   "cell_type": "markdown",
   "metadata": {},
   "source": [
    "第二类：字典的键的存在性查询：\tdict.has_key(key)   如果键在字典dict里返回true，否则返回false  "
   ]
  },
  {
   "cell_type": "markdown",
   "metadata": {},
   "source": [
    "第三类：字典某一个键值查询：dict.get(key, default=None) 查询某个键是否存在，如果不存在此键，则会返回None；若存在，则返回对应的键值"
   ]
  },
  {
   "cell_type": "markdown",
   "metadata": {},
   "source": [
    "4、字典的创建："
   ]
  },
  {
   "cell_type": "markdown",
   "metadata": {},
   "source": [
    "dict()  创建空字典"
   ]
  },
  {
   "cell_type": "markdown",
   "metadata": {},
   "source": [
    "dict(('name', 'li'))  以键与值得元组创建字典"
   ]
  },
  {
   "cell_type": "markdown",
   "metadata": {},
   "source": [
    "dict.fromkeys(seq[, val])  创建一个新字典，以序列 seq 中元素做字典的键，val 为字典所有键对应的初始值"
   ]
  },
  {
   "cell_type": "markdown",
   "metadata": {},
   "source": [
    "5、字典的更新："
   ]
  },
  {
   "cell_type": "markdown",
   "metadata": {},
   "source": [
    "dict.update(dict2)    把字典dict2的键/值对更新到dict里， 没有返回值"
   ]
  },
  {
   "cell_type": "markdown",
   "metadata": {},
   "source": [
    "6、字典的删除"
   ]
  },
  {
   "cell_type": "markdown",
   "metadata": {},
   "source": [
    "   pop()删除，如果有键，则删除，如果没有则会报错，如果不希望出现报错信息，可以在删除的后面添加信息"
   ]
  },
  {
   "cell_type": "markdown",
   "metadata": {},
   "source": [
    "   popitem()删除，随机删除，返回的是一个元组，元组里面存储的删除的键值，推荐使用pop()方法进行删除"
   ]
  },
  {
   "cell_type": "markdown",
   "metadata": {},
   "source": [
    "del()删除，del()可以删除整个字典，也可以删除字典的某个键，如果删除的键不存在，则会出现报错"
   ]
  },
  {
   "cell_type": "markdown",
   "metadata": {},
   "source": [
    "clear()删除， 字典清空"
   ]
  },
  {
   "cell_type": "markdown",
   "metadata": {},
   "source": [
    "7、字典的复制（浅复制）："
   ]
  },
  {
   "cell_type": "markdown",
   "metadata": {},
   "source": [
    "dict.copy()  返回一个字典的浅复制"
   ]
  }
 ],
 "metadata": {
  "kernelspec": {
   "display_name": "Python 3",
   "language": "python",
   "name": "python3"
  },
  "language_info": {
   "codemirror_mode": {
    "name": "ipython",
    "version": 3
   },
   "file_extension": ".py",
   "mimetype": "text/x-python",
   "name": "python",
   "nbconvert_exporter": "python",
   "pygments_lexer": "ipython3",
   "version": "3.7.0"
  }
 },
 "nbformat": 4,
 "nbformat_minor": 2
}
