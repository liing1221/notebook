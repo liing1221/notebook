{
 "cells": [
  {
   "cell_type": "markdown",
   "metadata": {},
   "source": [
    "## Python Execjs解析JS库详解"
   ]
  },
  {
   "cell_type": "markdown",
   "metadata": {},
   "source": [
    "针对现在大部分的网站都是使用js加载，js加密的，并不能直接抓取，同时网站又会通过代码混淆等手段，增加JS代码的破解难度，这时通过直接破解JS代码反反爬虫就变得异常困难，此时使用一些第三方JS类库来执行js语句，就大大简化反反爬虫的难度：<br>\n",
    "可用来执行JS的类库有：<br>\n",
    ">execjs，PyV8，selenium，node<br>\n",
    "\n",
    "这里主要讲一下execjs，一个比较好用且容易上手的类库（支持py2，与py3），支持 JS runtime。[PyExecJS官方](https://pypi.org/project/PyExecJS/)<br>\n",
    ">安装：<br>\n",
    "pip install PyExecJS<br>\n",
    "\n",
    "运行时环境:　　　　#execjs会自动使用当前电脑上的运行时环境（建议用nodejs，与Phantomjs）<br>\n",
    "> execjs.get().name 　　　　　# this value is depends on your environment.<br>\n",
    "os.environ[\"EXECJS_RUNTIME\"] = \"Node\"<br>\n",
    "execjs.get().name<br>\n",
    "'Node.js (V8)'<br>\n",
    "\n",
    "通过运行时环境运行js<br>\n",
    ">调用 execjs.compile() 编译并加载 js 文件内容。<br>\n",
    "使用call()调用js中的方法<br>\n",
    "> default = execjs.get() 　　　　# the automatically picked runtime<br>\n",
    " default.eval(\"1 + 2\")<br>\n",
    " import execjs.runtime_names<br>\n",
    " jscript = execjs.get(execjs.runtime_names.JScript)<br>\n",
    " jscript.eval(\"1 + 2\")<br>\n",
    " node = execjs.get(execjs.runtime_names.Node)<br>\n",
    " node.eval(\"1 + 2\")<br>\n",
    "\n",
    "简单案例:<br>\n",
    ">import execjs<br>\n",
    " execjs.eval(\"'red yellow blue'.split(' ')\")<br>\n",
    "['red', 'yellow', 'blue']<br>\n",
    " ctx = execjs.compile(\"\"\"<br>\n",
    "    function add(x, y) {<br>\n",
    "        return x + y;<br>\n",
    "     }<br>\n",
    " \"\"\")<br>\n",
    "ctx.call(\"add\", 1, 2)<br>\n",
    "3<br>\n"
   ]
  }
 ],
 "metadata": {
  "kernelspec": {
   "display_name": "Python 3",
   "language": "python",
   "name": "python3"
  },
  "language_info": {
   "codemirror_mode": {
    "name": "ipython",
    "version": 3
   },
   "file_extension": ".py",
   "mimetype": "text/x-python",
   "name": "python",
   "nbconvert_exporter": "python",
   "pygments_lexer": "ipython3",
   "version": "3.7.0"
  }
 },
 "nbformat": 4,
 "nbformat_minor": 2
}
