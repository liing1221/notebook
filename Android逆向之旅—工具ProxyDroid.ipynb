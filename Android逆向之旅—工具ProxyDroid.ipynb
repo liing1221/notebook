{
 "cells": [
  {
   "cell_type": "markdown",
   "id": "887f8e78",
   "metadata": {},
   "source": [
    "# ProxyDroid工具\n",
    "[]()  \n",
    "[]()  \n",
    "[]()  \n",
    "[]()  \n",
    "[]()  \n",
    "[]()  \n",
    "[]()  \n",
    "\n",
    "\n",
    "## 一、简介\n",
    "　　除了校验HTTPS证书防止中间人抓包以外，常见的方法还有通过检测代理防止抓包，其原理是检测到设备开启系统代理后，APP中通过代码实现禁用代理，以OkHttp框架为例，示列代码如下:\n",
    "```android\n",
    "/*\n",
    "        * 检测代理\n",
    "        * 直接绕过代理，网络正常但抓包工具无法抓包\n",
    "         */\n",
    "        mCheckProxy = findViewById(R.id.checkProxy);\n",
    "        mCheckProxy.setOnCheckedChangeListener(new CompoundButton.OnCheckedChangeListener() {\n",
    "            @Override\n",
    "            public void onCheckedChanged(CompoundButton buttonView, boolean isChecked) {\n",
    "                if (isChecked){\n",
    "                    client = new OkHttpClient().newBuilder().proxy(Proxy.NO_PROXY).build();\n",
    "                }else{\n",
    "                    client = new OkHttpClient();\n",
    "                }\n",
    "            }\n",
    "        });\n",
    "```\n",
    "对抗方法也比较简单，可以使用iptables对请求进行强制转发，ProxyDroid全局代理工具就是通过iptables实现的，所以使用ProxyDroid开启代理，可以比较有效的绕过代理检测。\n",
    "\n",
    "## 二、ProxyDroid设置\n",
    "### 2.1、推荐从Google Play下载ProxyDroid\n",
    "\n",
    "### 2.2、对ProxyDroid进行配置（基本配置）\n",
    "       （1 ）Auto Setting不勾选，我们手动进行配置。\n",
    "       （2 ）Host：输入代理服务器IP。\n",
    "       （3 ）Port：输入代理服务器端口。\n",
    "       （4 ）Proxy Type选择代理服务器提供服务类型：我这里选择Socks5。\n",
    "       （5 ）Auto Connect为当2G/3G/WIFI网络开启时，自动开启代理服务。不勾选，我们手动启动，以获取最大灵活性。\n",
    "       （6 ）Bypass Addresses：相当于黑名单列表，选择排除代理的IP范围，有需要的可以自己手动设置。\n",
    "\n",
    "### 2.3、认证信息配置\n",
    "       （1）Enable Authentication ：如果代理服务器需要账户、密码认证，勾选。\n",
    "       （2）User ：认证账户名。\n",
    "       （3）Password ：认证密码。\n",
    "       （4）NTLM Authentication：NTLM/ NTLM2，Windows早期的一种认证方式，不用勾选。\n",
    "\n",
    "### 2.4、特征设置\n",
    "       （1）Global Proxy：一定要勾选，即为全局代理，代理所有App。\n",
    "       （2）Individual Proxy：单独代理所选App ，勾选了（1）的不用管。\n",
    "       （3）Bypass Mode：勾选了代表（2）中所选App不代理，勾选了（1）的不用管。\n",
    "       （4）DNS Proxy：开启DNS代理。\n",
    "\n",
    "### 2.5、通知设置\n",
    "        （1 ）Ringtone ：选择通知铃声。\n",
    "        （2 ）Vibrate ：选择连接发生变化时是否震\n"
   ]
  }
 ],
 "metadata": {
  "kernelspec": {
   "display_name": "Python 3 (ipykernel)",
   "language": "python",
   "name": "python3"
  },
  "language_info": {
   "codemirror_mode": {
    "name": "ipython",
    "version": 3
   },
   "file_extension": ".py",
   "mimetype": "text/x-python",
   "name": "python",
   "nbconvert_exporter": "python",
   "pygments_lexer": "ipython3",
   "version": "3.9.12"
  }
 },
 "nbformat": 4,
 "nbformat_minor": 5
}
