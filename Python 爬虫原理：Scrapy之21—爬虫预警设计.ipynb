{
 "cells": [
  {
   "cell_type": "markdown",
   "metadata": {},
   "source": [
    "# 爬虫预警设计\n",
    "　　参考：[如何给你的爬虫添加预警系统](https://blog.csdn.net/weixin_34320159/article/details/93165090)<br>\n",
    "　　　　　[基于scrapy框架的实时监控数据获取](https://www.jianshu.com/p/99be1e6f1605)<br>\n",
    "　　　　　[Scrapy框架-去重原理讲解、数据收集以及信号量知识](https://www.jianshu.com/p/ec6bb7b67f19)<br>\n",
    "　　　　　[scrapy自定义扩展(extensions)实现实时监控scrapy爬虫的运行状态](https://segmentfault.com/a/1190000022687723)<br>"
   ]
  }
 ],
 "metadata": {
  "kernelspec": {
   "display_name": "Python 3",
   "language": "python",
   "name": "python3"
  },
  "language_info": {
   "codemirror_mode": {
    "name": "ipython",
    "version": 3
   },
   "file_extension": ".py",
   "mimetype": "text/x-python",
   "name": "python",
   "nbconvert_exporter": "python",
   "pygments_lexer": "ipython3",
   "version": "3.7.4"
  }
 },
 "nbformat": 4,
 "nbformat_minor": 4
}
