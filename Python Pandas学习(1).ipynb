{
 "cells": [
  {
   "cell_type": "markdown",
   "metadata": {},
   "source": [
    "## Python Pandas学习(1)\n",
    "参考：[Pandas教程](https://www.yiibai.com/pandas/python_pandas_series.html)<br>"
   ]
  },
  {
   "cell_type": "markdown",
   "metadata": {},
   "source": [
    "## 1、pandas 绘制箱型图：DataFrame.boxplot(column=None, by=None, ax=None, fontsize=None, rot=0, grid=True, figsize=None, layout=None, return_type=None, **kwds)<br>\n",
    "**方法说明:**<br> \n",
    "　　　　　boxplot方法只是用于DataFrame，Series对象没有此方法<br>\n",
    "**参数说明:**<br>\n",
    "　　　　　column，默认为None，输入为str 或由str构成的list,其作用是指定要进行箱型图分析的列<br>\n",
    "　　　　　by，默认为None，str or array-like，其作用为pandas的group by，通过指定by=‘columns’，可进行多组合箱型图分析<br>\n",
    "　　　　　ax，matplotlib.axes.Axes的对象，没有太大作用<br>\n",
    "　　　　　fontsize，箱型图坐标轴字体大小<br>\n",
    "　　　　　rot，箱型图坐标轴旋转角度<br>\n",
    "　　　　　grid，箱型图网格线是否显示<br>\n",
    "　　　　　figsize，箱型图窗口尺寸大小<br>\n",
    "　　　　　layout，必须配合by 一起使用，类似于subplot 的画布分区域功能<br>\n",
    "　　　　　return_type，指定返回对象的类型，默认为None,可输入的参数为‘axes’,‘dict’,‘both’，当与by一起使用是，返回的对象为Series或array(for return_type = None)<br>\n",
    "**箱型图返回结果说明：**<br>\n",
    "　　　　　当指定return_type=‘dict’时，其结果值为一个字典，字典索引为固定的'whiskers'、'caps'、'boxes'、'fliers'、'means'，此时，通过指定索引值获取相应数据。如：\n",
    "boxplot['fliers'][1].get_xdata()<br>\n"
   ]
  }
 ],
 "metadata": {
  "kernelspec": {
   "display_name": "Python 3",
   "language": "python",
   "name": "python3"
  },
  "language_info": {
   "codemirror_mode": {
    "name": "ipython",
    "version": 3
   },
   "file_extension": ".py",
   "mimetype": "text/x-python",
   "name": "python",
   "nbconvert_exporter": "python",
   "pygments_lexer": "ipython3",
   "version": "3.7.4"
  }
 },
 "nbformat": 4,
 "nbformat_minor": 2
}
