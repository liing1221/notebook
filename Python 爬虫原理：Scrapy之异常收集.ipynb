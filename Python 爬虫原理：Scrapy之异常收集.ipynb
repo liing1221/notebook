{
 "cells": [
  {
   "cell_type": "markdown",
   "metadata": {},
   "source": [
    "## Scrapy异常收集\n",
    "\n",
    "### 1、异常：twisted.internet.error.CannotListenError<br>\n",
    "　　描述：Couldn't listen on 0.0.0.0:6800: [Errno 98] Address already in use.<br>\n",
    "　　原因：不能使用telnet console同时运行两个scrapy进程(scrapy shell)。<br>\n",
    "　　解决办法：<br>\n",
    "　　　　1、关掉一个scrapy shell，或者在settings.py中添加如下代码禁用telnet console.<br>\n",
    ">EXTENSIONS = {<br>\n",
    "    'scrapy.telnet.TelnetConsole': None<br>\n",
    " }<br>\n",
    "\n",
    "　　　　2、启用 Telnet console 的 server服务（未验证过，[参考](https://blog.csdn.net/liwei123o0/article/details/41758665)）。<br>\n",
    "　　　　　　文件地址：/twisted/names/server.py<br>\n",
    "　　　　　　启动： python /twisted/names/server.py<br>\n",
    "    \n",
    "\n"
   ]
  }
 ],
 "metadata": {
  "kernelspec": {
   "display_name": "Python 3",
   "language": "python",
   "name": "python3"
  },
  "language_info": {
   "codemirror_mode": {
    "name": "ipython",
    "version": 3
   },
   "file_extension": ".py",
   "mimetype": "text/x-python",
   "name": "python",
   "nbconvert_exporter": "python",
   "pygments_lexer": "ipython3",
   "version": "3.7.4"
  }
 },
 "nbformat": 4,
 "nbformat_minor": 2
}
