{
 "cells": [
  {
   "cell_type": "markdown",
   "metadata": {},
   "source": [
    "## 机器学习——资源汇总"
   ]
  },
  {
   "cell_type": "markdown",
   "metadata": {},
   "source": [
    "[sklearn文档与TensorFlow翻译](https://www.jianshu.com/u/22f9710c20ed)<br>\n",
    "[机器学习：数据预处理，特征选择，降维](https://www.cnblogs.com/dshn/p/8856173.html)<br>\n",
    "[TensorFlow基础知识](https://mbd.baidu.com/newspage/data/landingshare?context=%7B%22nid%22%3A%22news_9724918307365099076%22%2C%22sourceFrom%22%3A%22bjh%22%2C%22url_data%22%3A%22bjhauthor%22%7D)<br>\n",
    "[Seaborn画图](https://www.jianshu.com/u/b722f573ab1c)"
   ]
  },
  {
   "cell_type": "code",
   "execution_count": null,
   "metadata": {},
   "outputs": [],
   "source": []
  }
 ],
 "metadata": {
  "kernelspec": {
   "display_name": "Python 3",
   "language": "python",
   "name": "python3"
  },
  "language_info": {
   "codemirror_mode": {
    "name": "ipython",
    "version": 3
   },
   "file_extension": ".py",
   "mimetype": "text/x-python",
   "name": "python",
   "nbconvert_exporter": "python",
   "pygments_lexer": "ipython3",
   "version": "3.7.0"
  }
 },
 "nbformat": 4,
 "nbformat_minor": 2
}
