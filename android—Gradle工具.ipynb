{
 "cells": [
  {
   "cell_type": "markdown",
   "id": "3c04e109",
   "metadata": {},
   "source": [
    "# Gradle工具\n",
    "[gradle 资源](https://services.gradle.org/distributions/)  \n",
    "[Android Studio Gradle插件版本与Gradle 版本对应关系](https://blog.csdn.net/Sn_Keys/article/details/126306117)"
   ]
  }
 ],
 "metadata": {
  "kernelspec": {
   "display_name": "Python 3 (ipykernel)",
   "language": "python",
   "name": "python3"
  },
  "language_info": {
   "codemirror_mode": {
    "name": "ipython",
    "version": 3
   },
   "file_extension": ".py",
   "mimetype": "text/x-python",
   "name": "python",
   "nbconvert_exporter": "python",
   "pygments_lexer": "ipython3",
   "version": "3.9.7"
  }
 },
 "nbformat": 4,
 "nbformat_minor": 5
}
