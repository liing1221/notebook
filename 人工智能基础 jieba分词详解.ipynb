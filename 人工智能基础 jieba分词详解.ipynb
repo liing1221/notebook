{
 "cells": [
  {
   "cell_type": "markdown",
   "metadata": {},
   "source": [
    "## jieba分词库学习使用\n",
    "　　参考：[GitHub](https://github.com/fxsjy/jieba)<br>\n",
    "　　　　　[jieba分词介绍](https://blog.csdn.net/qq_34337272/article/details/79554772)<br>\n",
    "　　　　　[基于python中jieba包的中文分词中详细使用](https://blog.csdn.net/meiqi0538/article/details/80213431)<br>\n",
    "　　　　　[python中使用jieba进行中文分词](https://blog.csdn.net/ebzxw/article/details/80304761)<br>\n",
    "　　　　　[Python中文分词组件 jieba](https://www.oschina.net/p/jieba)<br>\n",
    "　　　　　[基于python中jieba包的中文分词中详细使用](https://blog.csdn.net/meiqi0538/article/details/80213431)<br>\n",
    "　　　　　[Python大数据：jieba分词，词频统计](https://www.jianshu.com/p/f516292d8b9c)<br>\n",
    "　　　　　[Python3 jieba分词](https://blog.csdn.net/sinat_34022298/article/details/75943272)<br>\n",
    "　　　　　[Python中文分词库jieba,pkusegwg性能准确度比较](https://www.jb51.net/article/180113.htm)<br>"
   ]
  }
 ],
 "metadata": {
  "kernelspec": {
   "display_name": "Python 3",
   "language": "python",
   "name": "python3"
  },
  "language_info": {
   "codemirror_mode": {
    "name": "ipython",
    "version": 3
   },
   "file_extension": ".py",
   "mimetype": "text/x-python",
   "name": "python",
   "nbconvert_exporter": "python",
   "pygments_lexer": "ipython3",
   "version": "3.7.1"
  }
 },
 "nbformat": 4,
 "nbformat_minor": 2
}
