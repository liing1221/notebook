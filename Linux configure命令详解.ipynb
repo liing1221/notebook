{
 "cells": [
  {
   "cell_type": "markdown",
   "metadata": {},
   "source": [
    "## Linux configure命令详解\n",
    "　　参考：[linux下configure命令详细介绍](https://www.cnblogs.com/xuezhileikaku/articles/5343107.html)<br>\n",
    "　　　　　[Linux下configure命令参数的详细说明](https://www.linuxidc.com/Linux/2007-09/7601p2.htm)<br>)<br>\n",
    "### 1、简介：\n",
    "　　Linux环境下的软件安装，并不是一件容易的事情;如果通过源代码编译后在安装，当然事情就更为复杂一些;现在安装各种软件的教程都非常普遍;但万变不离其中，对基础知识的扎实掌握，安装各种软件的问题就迎刃而解了。Configure脚本配置工具就是基础之一，它是autoconf的工具的基本应用。<br>\n",
    "　　与一些技巧相比，Configure显得基础一些，当然使用和学习起来就显得枯燥乏味一些，当然要成为高手，对基础的熟悉不能超越哦。<br>"
   ]
  }
 ],
 "metadata": {
  "kernelspec": {
   "display_name": "Python 3",
   "language": "python",
   "name": "python3"
  },
  "language_info": {
   "codemirror_mode": {
    "name": "ipython",
    "version": 3
   },
   "file_extension": ".py",
   "mimetype": "text/x-python",
   "name": "python",
   "nbconvert_exporter": "python",
   "pygments_lexer": "ipython3",
   "version": "3.6.8"
  }
 },
 "nbformat": 4,
 "nbformat_minor": 2
}
