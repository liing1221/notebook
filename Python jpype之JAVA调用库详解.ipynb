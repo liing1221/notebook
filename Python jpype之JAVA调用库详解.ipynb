{
 "cells": [
  {
   "cell_type": "markdown",
   "metadata": {},
   "source": [
    "## Python jpype之JAVA调用库详解\n",
    "参考：[Jpype(PyPi地址)](https://pypi.org/project/JPype1/)<br>\n",
    "　　　[Jpype官方地址](http://jpype.sourceforge.net/)<br>\n",
    "　　　[Jpype版本库](https://pypi.org/project/JPype1/#files)<br>\n",
    "　　　[]()[]()\n",
    "　　Python 作为一种灵活的软件开发语言在当今被广泛使用。在软件开发过程中，有时需要在 Python 项目中利用既有的 Java 代码，已达到节省时间和开发成本的目的。因此，找到一个 Python 代码调用 Java 代码的桥梁是非常有意义的。 JPype 就是这样的一个工具，利用它可以使 Python 程序方便的调用 Java 代码，从而扩充 Python 语言的能力，弥补 Python 语言的不足。<br>\n",
    "### 下载安装Jpype：\n",
    "**安装：**<br>\n",
    "环境：Python3.6<br>\n",
    "JAVA（Jar包）安装：<br>\n",
    "　　1、需要下载好JDK，且版本要大于1.7，配置好环境变量JAVA_HOME。\n",
    "　　2、如果JDK 是64 Bit，python解释器要64Bit （或者都是32 Bit）版本不一致会导致JVM运行时内存泄漏报异常：Process finished with exit code -1073741819 (0xC0000005)\n",
    "VS C++：<br>\n",
    "　　可在控制面板 > 程序内查看C++安装情。<br>\n",
    "　　下载VS C++ 插件，http://landinghub.visualstudio.com/visual-cpp-build-tools 安装完成后，注册系统环境变量。<br>\n",
    "　　根据提示，在已经安装的VS C++ tool的cmd prompt 中，输入 pip install jpype1 安装。<br>\n",
    "注意：JAVA 与 Python 位数不一样，可能导致内存泄漏错误（Error: Process finished with exit code -1073741819(0xC0000005)）,建议都装64位。<br> \n",
    ">pip install jpype1　　或安装whl包：  pip install  \\*\\*.whl<br>\n",
    "\n",
    "注意：将安装包放在Python包的路径下，或指定的包环境路径下。cmd操作到该文件路径下，或在文件路径框输入cmd 或者 在文件路径下快捷键：ctrl+shift 右键\n",
    "调出shell窗口进行如下操作：<br>\n",
    ">eg: pip install  JPype1_py3-0.5.5.2-cp35-none-win_amd64.whl<br>\n",
    "\n",
    "　　若没有安装visual C++编译器， 则会报错（如Error：Microsoft Visual C++ 10.0 is required(Unable to find vcvarsall.bat)）。<br>\n",
    "**测试安装成功：**<br>\n",
    "　　下面是一个简单的 python 程序hello world ，通过 JPype 调用 Java 的打印函数，打印出字符串。<br>\n",
    ">import jpype<br>\n",
    " 　jvmPath = jpype.getDefaultJVMPath()<br>\n",
    " 　jpype.startJVM(jvmPath)<br>\n",
    " 　jpype.java.lang.System.out.println( “ hello world! ” )<br>\n",
    " 　jpype.shutdownJVM()<br>\n",
    "\n"
   ]
  }
 ],
 "metadata": {
  "kernelspec": {
   "display_name": "Python 3",
   "language": "python",
   "name": "python3"
  },
  "language_info": {
   "codemirror_mode": {
    "name": "ipython",
    "version": 3
   },
   "file_extension": ".py",
   "mimetype": "text/x-python",
   "name": "python",
   "nbconvert_exporter": "python",
   "pygments_lexer": "ipython3",
   "version": "3.6.8"
  }
 },
 "nbformat": 4,
 "nbformat_minor": 2
}
