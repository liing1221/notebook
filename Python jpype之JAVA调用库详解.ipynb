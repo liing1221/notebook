{
 "cells": [
  {
   "cell_type": "markdown",
   "metadata": {},
   "source": [
    "## Python jpype之JAVA调用库详解\n",
    "参考：[Jpype(PyPi地址)](https://pypi.org/project/JPype1/)<br>\n",
    "　　　[Jpype官方地址](http://jpype.sourceforge.net/)<br>\n",
    "　　　[Jpype版本库](https://pypi.org/project/JPype1/#files)<br>\n",
    "　　　[]()[]()\n",
    "　　Python 作为一种灵活的软件开发语言在当今被广泛使用。在软件开发过程中，有时需要在 Python 项目中利用既有的 Java 代码，已达到节省时间和开发成本的目的。因此，找到一个 Python 代码调用 Java 代码的桥梁是非常有意义的。 JPype 就是这样的一个工具，利用它可以使 Python 程序方便的调用 Java 代码，从而扩充 Python 语言的能力，弥补 Python 语言的不足。<br>\n",
    "### 下载安装Jpype：\n",
    "\n"
   ]
  }
 ],
 "metadata": {
  "kernelspec": {
   "display_name": "Python 3",
   "language": "python",
   "name": "python3"
  },
  "language_info": {
   "codemirror_mode": {
    "name": "ipython",
    "version": 3
   },
   "file_extension": ".py",
   "mimetype": "text/x-python",
   "name": "python",
   "nbconvert_exporter": "python",
   "pygments_lexer": "ipython3",
   "version": "3.6.8"
  }
 },
 "nbformat": 4,
 "nbformat_minor": 2
}
