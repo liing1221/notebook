{
 "cells": [
  {
   "cell_type": "markdown",
   "metadata": {},
   "source": [
    "# UIAutomator2库详解\n",
    "　　参考：[python UIAutomator2使用超详细教程](https://www.jb51.net/article/205942.htm)<br>\n",
    "　　　　　[]()<br>\n",
    "　　　　　[]()<br>\n",
    "　　　　　[]()<br>\n",
    "　　　　　[]()<br>\n",
    "　　　　　[]()<br>\n",
    "　　　　　[]()<br>"
   ]
  }
 ],
 "metadata": {
  "kernelspec": {
   "display_name": "Python 3 (ipykernel)",
   "language": "python",
   "name": "python3"
  },
  "language_info": {
   "codemirror_mode": {
    "name": "ipython",
    "version": 3
   },
   "file_extension": ".py",
   "mimetype": "text/x-python",
   "name": "python",
   "nbconvert_exporter": "python",
   "pygments_lexer": "ipython3",
   "version": "3.9.7"
  }
 },
 "nbformat": 4,
 "nbformat_minor": 4
}
