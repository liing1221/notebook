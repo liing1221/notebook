{
 "cells": [
  {
   "cell_type": "markdown",
   "id": "21d265cb",
   "metadata": {},
   "source": [
    "# 加密算法与应用—MOD算法与身份证尾数\n",
    "\n",
    "[身份证尾号是X的人到底有多特殊？](https://m.thepaper.cn/baijiahao_20608648)   "
   ]
  }
 ],
 "metadata": {
  "kernelspec": {
   "display_name": "Python 3 (ipykernel)",
   "language": "python",
   "name": "python3"
  },
  "language_info": {
   "codemirror_mode": {
    "name": "ipython",
    "version": 3
   },
   "file_extension": ".py",
   "mimetype": "text/x-python",
   "name": "python",
   "nbconvert_exporter": "python",
   "pygments_lexer": "ipython3",
   "version": "3.9.7"
  }
 },
 "nbformat": 4,
 "nbformat_minor": 5
}
