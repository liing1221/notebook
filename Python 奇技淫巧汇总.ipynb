{
 "cells": [
  {
   "cell_type": "markdown",
   "id": "3f302e92",
   "metadata": {},
   "source": [
    "# Python 奇技淫巧\n",
    "\n",
    "\n",
    "## 1、for ... else ...\n",
    "　　在python中，我们常见的与else连接到一起来使用的方法有if ... else ... 用法，在这里，给大家介绍另一种与else连接到一起进行组合使用的方法：for ... else ...    \n",
    "```python\n",
    "a=[1,2,3,4,5,6]\n",
    "for i in a:\n",
    "    # 测试1\n",
    "    print(i)\n",
    "    # 测试2\n",
    "    # if i > 3:\n",
    "    #     print(i)\n",
    "    # 测试3\n",
    "    # if i > 3：\n",
    "    #     break\n",
    "else:\n",
    "    print(i+1,'输出一个else')\n",
    "```\n",
    "　　结论：  \n",
    "  + for 循环正常执行结束后，else 语句中的内容也执行。   \n",
    "  + for 循环中的内容执行完条件判断再进行循环，结束后，else 语句中的内容也会被执行。  \n",
    "  + 当 for 循环被 break 中断，else 语句不再执行。  \n",
    "  \n",
    "\n"
   ]
  }
 ],
 "metadata": {
  "kernelspec": {
   "display_name": "Python 3 (ipykernel)",
   "language": "python",
   "name": "python3"
  },
  "language_info": {
   "codemirror_mode": {
    "name": "ipython",
    "version": 3
   },
   "file_extension": ".py",
   "mimetype": "text/x-python",
   "name": "python",
   "nbconvert_exporter": "python",
   "pygments_lexer": "ipython3",
   "version": "3.9.7"
  }
 },
 "nbformat": 4,
 "nbformat_minor": 5
}
