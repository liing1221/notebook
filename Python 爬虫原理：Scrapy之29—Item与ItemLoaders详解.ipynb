{
 "cells": [
  {
   "cell_type": "markdown",
   "metadata": {},
   "source": [
    "# Item与ItemLoaders详解\n",
    "　　参考：[Scrapy爬虫入门教程六 Items（项目）](https://www.jianshu.com/p/b8bd95348ffe)<br>\n",
    "　　　　　[Scrapy爬虫入门教程七 Item Loaders（项目加载器）](https://www.jianshu.com/p/f51d93f82f21)<br>\n",
    "　　　　　[Scrapy基础(十三)————ItemLoader的简单使用](https://www.cnblogs.com/ruoniao/p/6925839.html)<br>\n",
    "　　　　　[如何使用scrapy中的ItemLoader提取数据？](https://blog.csdn.net/zwq912318834/article/details/79530828)<br>\n",
    "　　　　　[关于Scrapy ItemLoader、MapCompose、Compose、input_processor与output_processor的一些理解](https://blog.csdn.net/zhaohaibo_/article/details/105418792)<br>\n",
    "　　　　　[Scrapy Item Loaders使用方法](https://blog.csdn.net/sinat_41622641/article/details/83869173)<br>\n",
    "　　　　　[Scrapy进阶知识点总结（三）——Items与Item Loaders](https://www.cnblogs.com/fengf233/p/11298623.html)<br>"
   ]
  }
 ],
 "metadata": {
  "kernelspec": {
   "display_name": "Python 3",
   "language": "python",
   "name": "python3"
  },
  "language_info": {
   "codemirror_mode": {
    "name": "ipython",
    "version": 3
   },
   "file_extension": ".py",
   "mimetype": "text/x-python",
   "name": "python",
   "nbconvert_exporter": "python",
   "pygments_lexer": "ipython3",
   "version": "3.7.4"
  }
 },
 "nbformat": 4,
 "nbformat_minor": 4
}
