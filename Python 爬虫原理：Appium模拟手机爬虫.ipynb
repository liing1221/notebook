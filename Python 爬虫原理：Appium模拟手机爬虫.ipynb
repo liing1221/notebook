{
 "cells": [
  {
   "cell_type": "markdown",
   "metadata": {},
   "source": [
    "## Appium模拟手机爬虫\n",
    "　　参考：[python3 爬虫实战 ：用 Appium 抓取手机 app 微信朋友圈的数据](https://blog.csdn.net/freeking101/article/details/83787073)<br>\n",
    "　　　　　[Android + Appium 自动化测试完整的环境配置及代码详解](https://blog.csdn.net/u010381752/article/details/81874273)<br>\n",
    "　　　　　[python + 夜神模拟器 + appium 小红书app数据抓取](https://blog.csdn.net/weixin_44393345/article/details/105998720)<br>\n",
    "　　　　　[appium抓取app应用数据](https://www.imooc.com/article/80382)<br>\n",
    "　　　　　[Appium抓取app数据](https://blog.csdn.net/u014442978/article/details/87612753)<br>\n",
    "　　　　　[Appium随笔博客](https://www.cnblogs.com/fnng/category/695788.html)<br>"
   ]
  }
 ],
 "metadata": {
  "kernelspec": {
   "display_name": "Python 3",
   "language": "python",
   "name": "python3"
  },
  "language_info": {
   "codemirror_mode": {
    "name": "ipython",
    "version": 3
   },
   "file_extension": ".py",
   "mimetype": "text/x-python",
   "name": "python",
   "nbconvert_exporter": "python",
   "pygments_lexer": "ipython3",
   "version": "3.7.4"
  }
 },
 "nbformat": 4,
 "nbformat_minor": 2
}
