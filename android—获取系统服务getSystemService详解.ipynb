{
 "cells": [
  {
   "cell_type": "markdown",
   "id": "0407ae8a",
   "metadata": {},
   "source": [
    "# getSystemService详解\n",
    "　　参考：[Android详细教程（基础篇）：三十三、Android获取服务getSystemService详解](https://blog.csdn.net/makyan/article/details/89322252)   \n",
    "　　　　　[getSystemservice()原理](https://blog.csdn.net/zhll3377/article/details/7278564)   \n",
    "　　　　　[Android 系统服务（getSystemService）的常用用法介绍（一）](https://blog.csdn.net/qaz0699/article/details/98939924)   \n",
    "　　　　　[getSystemService()；的使用](https://blog.csdn.net/qq_35427437/article/details/80889120)   \n",
    "　　　　　[]()   \n",
    "　　　　　[]()   \n",
    "　　　　　[]()   \n",
    "\n",
    "## 一、\n",
    "\n",
    "## 二、\n",
    "\n",
    "## 三、\n",
    "\n",
    "## 四、\n"
   ]
  }
 ],
 "metadata": {
  "kernelspec": {
   "display_name": "Python 3",
   "language": "python",
   "name": "python3"
  },
  "language_info": {
   "codemirror_mode": {
    "name": "ipython",
    "version": 3
   },
   "file_extension": ".py",
   "mimetype": "text/x-python",
   "name": "python",
   "nbconvert_exporter": "python",
   "pygments_lexer": "ipython3",
   "version": "3.9.7"
  }
 },
 "nbformat": 4,
 "nbformat_minor": 5
}
