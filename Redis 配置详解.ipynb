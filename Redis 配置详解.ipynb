{
 "cells": [
  {
   "cell_type": "markdown",
   "metadata": {},
   "source": [
    " ## Redis 配置详解\n",
    "　　参考：[redis详解](https://www.cnblogs.com/ysocean/tag/Redis%E8%AF%A6%E8%A7%A3/)<br>\n",
    "　　　　　[redis连接池ConnectionPool](https://www.cnblogs.com/hello-/articles/7460634.html)<br>\n",
    "　　　　　[Windows版Redis的配置文件说明](https://blog.csdn.net/dkingyaoyao/article/details/81567470)<br>\n",
    "　　　　　[windows下redis的配置文件(redis.windows.conf)](https://blog.csdn.net/qq_35307406/article/details/80101331)<br>\n",
    "　　　　　[windows下redis配置密码](https://www.cnblogs.com/GuoJunwen/p/9238624.html)<br>\n",
    "　　　　　[Windows Redis默认配置文件，Redis配置不生效解决方案](https://www.cnblogs.com/fanshuyao/p/7193299.html)<br>"
   ]
  }
 ],
 "metadata": {
  "kernelspec": {
   "display_name": "Python 3",
   "language": "python",
   "name": "python3"
  },
  "language_info": {
   "codemirror_mode": {
    "name": "ipython",
    "version": 3
   },
   "file_extension": ".py",
   "mimetype": "text/x-python",
   "name": "python",
   "nbconvert_exporter": "python",
   "pygments_lexer": "ipython3",
   "version": "3.7.4"
  }
 },
 "nbformat": 4,
 "nbformat_minor": 2
}
