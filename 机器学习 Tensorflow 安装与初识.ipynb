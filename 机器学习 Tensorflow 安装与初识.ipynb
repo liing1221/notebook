{
 "cells": [
  {
   "cell_type": "markdown",
   "metadata": {},
   "source": [
    "## 机器学习 Tensorflow 安装与初识\n",
    "\n",
    "### 一、Tensorflow 安装：\n",
    "[Python与Tensorflow版本对应](https://docs.floydhub.com/guides/environments/)(人工智能学习资源)<br>\n",
    "[TensorFlow 官方文档中文版](http://wiki.jikexueyuan.com/project/tensorflow-zh/)(极客学院)<br>\n",
    "[Tensorflow 官方安装文档](https://tensorflow.google.cn/install/pip)<br>\n",
    "**pip安装：**<br>\n",
    ">pip install tensorboard==1.12.0<br>\n",
    "pip install tensorflow-gpu==1.12.0<br>\n",
    "pip uninstall tensorflow<br>\n",
    "pip uninstall tensorflow-gpu<br>\n",
    "pip uninstall tensorboard<br>\n",
    "　　升级：<br>\n",
    "pip install --upgrade --ignore-installed tensorflow<br>\n",
    "gpu：pip install --upgrade --ignore-installed tensorflow-gpu<br>\n",
    "\n",
    "**conda安装：**<br>\n",
    ">conda remove tensorflow<br>\n",
    "conda remove tensorflow-gpu<br>\n",
    "conda install tensorflow-gpu==1.4.1<br>\n",
    "conda install -c anaconda tensorflow-gpu=1.4.1<br>"
   ]
  }
 ],
 "metadata": {
  "kernelspec": {
   "display_name": "Python 3",
   "language": "python",
   "name": "python3"
  },
  "language_info": {
   "codemirror_mode": {
    "name": "ipython",
    "version": 3
   },
   "file_extension": ".py",
   "mimetype": "text/x-python",
   "name": "python",
   "nbconvert_exporter": "python",
   "pygments_lexer": "ipython3",
   "version": "3.7.1"
  }
 },
 "nbformat": 4,
 "nbformat_minor": 2
}
