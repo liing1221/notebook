{
 "cells": [
  {
   "cell_type": "markdown",
   "metadata": {},
   "source": [
    "## 机器学习 Tensorflow 安装与初识\n",
    "\n",
    "### 一、Tensorflow 安装：\n",
    "[Python与Tensorflow版本对应](https://docs.floydhub.com/guides/environments/)(人工智能学习资源)<br>\n",
    "[TensorFlow 官方文档中文版](http://wiki.jikexueyuan.com/project/tensorflow-zh/)(极客学院)<br>\n",
    "[Tensorflow 官方安装文档](https://tensorflow.google.cn/install/pip)<br>\n",
    "**pip安装：**<br>\n",
    ">pip install tensorboard==1.12.0<br>\n",
    "pip install tensorflow-gpu==1.12.0<br>\n",
    "pip uninstall tensorflow<br>\n",
    "pip uninstall tensorflow-gpu<br>\n",
    "pip uninstall tensorboard<br>\n",
    "　　升级：<br>\n",
    "pip install --upgrade --ignore-installed tensorflow<br>\n",
    "gpu：pip install --upgrade --ignore-installed tensorflow-gpu<br>\n",
    "\n",
    "**conda安装：**<br>\n",
    ">conda remove tensorflow<br>\n",
    "conda remove tensorflow-gpu<br>\n",
    "conda install tensorflow-gpu==1.4.1<br>\n",
    "conda install -c anaconda tensorflow-gpu=1.4.1<br>\n",
    "### 二、异常：\n",
    "1、**异常值：**Your CPU supports instructions that this TensorFlow binary was not compiled to use: SSE4.1 SSE4.2 AVX AVX2 FMA。<br>\n",
    "　　**解释：**警告说你的Tensorflow不能使用系统的SSE4.1 SSE4.2 AVX AVX2 FMA这些指令集进行编译。<br>\n",
    "　　　　　那为什么会出现这种警告呢？<br>\n",
    "　　　　　　　由于tensorflow默认分布是在没有CPU扩展的情况下构建的，例如SSE4.1，SSE4.2，AVX，AVX2，FMA等。默认版本（来自pip install <br>\n",
    "　　　　　tensorflow的版本）旨在与尽可能多的CPU兼容。另一个观点是，即使使用这些扩展名，CPU的速度也要比GPU慢很多，并且期望在GPU<br>\n",
    "　　　　　上执行中型和大型机器学习培训。<br>\n",
    "　　　　　　　高级矢量扩展（AVX）是英特尔在2008年3月提出的英特尔和AMD微处理器的x86指令集体系结构的扩展，英特尔首先通过Sandy Bridge处<br>\n",
    "　　　　　理器在2011年第一季度推出，随后由AMD推出Bulldozer处理器在2011年第三季度.AVX提供了新功能，新指令和新编码方案。特别是，AVX引入<br>\n",
    "　　　　　了融合乘法累加（FMA）操作，加速了线性代数计算，即点积，矩阵乘法，卷积等。几乎所有机器学习训练都涉及大量这些操作，因此将会支<br>\n",
    "　　　　　持VX和FMA的CPU（最高达300％）更快。该警告指出您的CPU确实支持AVX（hooray！）。<br>\n",
    "　　　　　在此强调一下：<br>\n",
    "　　　　　　　这只限于CPU。如果你有一个GPU，你不应该关心AVX的支持，因为大多数昂贵的操作将被分派到一个GPU设备上（除非明确地设置）。在<br>\n",
    "　　　　　这种情况下，您可以简单地忽略此警告。<br>\n",
    "　 **解决办法：**<br>\n",
    "　　　如果安装的是**GPU版本**：<br>\n",
    "　　　如果你有一个GPU，你不应该关心AVX的支持，因为大多数昂贵的操作将被分派到一个GPU设备上（除非明确地设置）。可以简单地忽略此警告：<br> \n",
    ">import os <br>\n",
    "os.environ['TF_CPP_MIN_LOG_LEVEL'] = '2'<br>\n",
    "\n",
    "　　　如果安装的是**CPU版本**（pip install tensorflow）：<br>\n",
    "　　　方法一：忽略这个警告<br>\n",
    ">import os<br>\n",
    "os.environ[\"TF_CPP_MIN_LOG_LEVEL\"]='0'　　　# 默认的显示等级，无屏蔽信息，显示所有INFO、WARNING、ERROR、FATAL信息 <br>\n",
    "os.environ[\"TF_CPP_MIN_LOG_LEVEL\"]='1' 　　　# 屏蔽INFO信息，显示WARNING、ERROR、FATAL信息 <br> \n",
    "os.environ[\"TF_CPP_MIN_LOG_LEVEL\"]='2'　　　 # 屏蔽INFO、WARNING信息，显示 ERROR、FATAL信息 <br>\n",
    "os.environ[\"TF_CPP_MIN_LOG_LEVEL\"]='3'　　　 # 屏蔽INFO、WARNING、ERROR信息，显示 FATAL信息<br>\n",
    "\n",
    "　　　方法二：彻底解决，换成支持cpu用AVX2编译的TensorFlow版本。<br>\n",
    ">pip uninstall tensorflow　　　　　# 首先，卸载原来版本的TensorFlow。<br>\n",
    "pip list　　　　　　　　　　　　　# 完成后可以用 pip list查看一下所有库，检查是否成功卸载。<br>\n",
    "pip install tensorflow-1.6.0-cp36-cp36m-win_amd64.whl　　# 然后去github下载正确的tf版本，Windows点[这里下载](https://github.com/fo40225/tensorflow-windows-wheel)。类Linux系统点[这里下载](https://github.com/lakshayg/tensorflow-build)。<br>\n",
    "\n",
    "　　　方法三：彻底解决，编译TensorFlow源码 <br>\n",
    "　　　如果您没有GPU并且希望尽可能多地利用CPU，那么如果您的CPU支持AVX，AVX2和FMA，则应该从针对CPU优化的源构建tensorflow，这里未作深入研究。\n",
    "\n",
    "　　　成功安装后，再次运行TensorFlow就不会报错啦！<br>\n"
   ]
  }
 ],
 "metadata": {
  "kernelspec": {
   "display_name": "Python 3",
   "language": "python",
   "name": "python3"
  },
  "language_info": {
   "codemirror_mode": {
    "name": "ipython",
    "version": 3
   },
   "file_extension": ".py",
   "mimetype": "text/x-python",
   "name": "python",
   "nbconvert_exporter": "python",
   "pygments_lexer": "ipython3",
   "version": "3.7.1"
  }
 },
 "nbformat": 4,
 "nbformat_minor": 2
}
