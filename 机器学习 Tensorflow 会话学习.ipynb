{
 "cells": [
  {
   "cell_type": "markdown",
   "metadata": {},
   "source": [
    "## 机器学习 Tensorflow 会话学习\n",
    "\n",
    "### 一、Tensorflow创建会话\n",
    ">tf.Session()　　　　　　　#　创建一个会话<br>\n",
    "tf.Session().as_default()　　　　　#　创建一个默认会话<br>\n",
    "\n",
    "   那么问题来了，会话和默认会话有什么区别呢？TensorFlow会自动生成一个默认的计算图，如果没有特殊指定，运算会自动加入这个计算图中。TensorFlow中的会话也有类似的机制，但是TensorFlow不会自动生成默认的会话，而是需要手动指定。<br>\n",
    "   tf.Session()创建一个会话，当上下文管理器退出时会话关闭和资源释放自动完成。<br>\n",
    "   tf.Session().as_default()创建一个默认会话，当上下文管理器退出时会话没有关闭，还可以通过调用会话进行run()和eval()操作。如果想让默认会话在退出上下文管理器时关闭会话，可以调用sess.close()方法。<br>\n"
   ]
  }
 ],
 "metadata": {
  "kernelspec": {
   "display_name": "Python 3",
   "language": "python",
   "name": "python3"
  },
  "language_info": {
   "codemirror_mode": {
    "name": "ipython",
    "version": 3
   },
   "file_extension": ".py",
   "mimetype": "text/x-python",
   "name": "python",
   "nbconvert_exporter": "python",
   "pygments_lexer": "ipython3",
   "version": "3.6.8"
  }
 },
 "nbformat": 4,
 "nbformat_minor": 2
}
