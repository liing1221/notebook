{
 "cells": [
  {
   "cell_type": "markdown",
   "metadata": {},
   "source": [
    "## codecs 编码转换库详解\n",
    "　　参考：[python模块之codecs1](https://www.cnblogs.com/666666pingzi/p/11462722.html)<br>\n",
    "　　　　　[python模块之codecs2](https://www.cnblogs.com/misswangxing/p/8603529.html)<br>"
   ]
  }
 ],
 "metadata": {
  "kernelspec": {
   "display_name": "Python 3",
   "language": "python",
   "name": "python3"
  },
  "language_info": {
   "codemirror_mode": {
    "name": "ipython",
    "version": 3
   },
   "file_extension": ".py",
   "mimetype": "text/x-python",
   "name": "python",
   "nbconvert_exporter": "python",
   "pygments_lexer": "ipython3",
   "version": "3.7.4"
  }
 },
 "nbformat": 4,
 "nbformat_minor": 2
}
