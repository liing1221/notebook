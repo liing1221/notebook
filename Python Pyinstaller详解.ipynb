{
 "cells": [
  {
   "cell_type": "markdown",
   "metadata": {},
   "source": [
    "# pyinstaller 详解\n",
    "　　参考：[使用pyinstaller和scrapy没有这样的文件或目录错误](https://stackoverflow.com/questions/49085970/no-such-file-or-directory-error-using-pyinstaller-and-scrapy)<br>\n",
    "　　　　　[Pyinstaller打包Scrapy项目的实现步骤](https://www.zhangshengrong.com/p/noXQb9Qr1G/)<br>\n",
    "　　　　　['utf-8' codec can't decode byte 0xce](https://blog.csdn.net/qq_38343111/article/details/91362920)<br>\n",
    "　　　　　[用Pyinstaller打包Scrapy项目问题解决！！！](https://blog.csdn.net/la_vie_est_belle/article/details/79017358)<br>\n",
    "　　　　　[用pyinstaller打包scrapy成exe文件](https://www.cnblogs.com/SuperRui/p/15455966.html)<br>\n",
    "　　　　　[PyInstaller运行时信息(sys.MEIPASS)](https://blog.csdn.net/u012895183/article/details/82495865)<br>\n",
    "　　　　　[Python中 sys.\\_MEIPASS 是什么](https://blog.csdn.net/MAOZEXIJR/article/details/91971027)<br>\n",
    "　　　　　[pyinstaller使用-python项目转换成exe可执行文件](https://youzipi.blog.csdn.net/article/details/50620122)<br>\n",
    "　　　　　[Pyinstaller 打包发布经验总结](https://blog.csdn.net/weixin_42052836/article/details/82315118)<br>\n",
    "　　　　　[用 Pyinstaller 打包 Python 程序 + 解决打包结果过大的问题](https://blog.csdn.net/frostime/article/details/90523062)<br>\n",
    "　　　　　[PyInstaller（exe程序打包）](https://www.cnblogs.com/guyuyun/p/11074424.html)<br>\n",
    "　　　　　[Python Pyinstaller打包含pandas库的py文件遇到的坑](https://my.oschina.net/u/4325212/blog/3907937)<br>"
   ]
  }
 ],
 "metadata": {
  "kernelspec": {
   "display_name": "Python 3",
   "language": "python",
   "name": "python3"
  },
  "language_info": {
   "codemirror_mode": {
    "name": "ipython",
    "version": 3
   },
   "file_extension": ".py",
   "mimetype": "text/x-python",
   "name": "python",
   "nbconvert_exporter": "python",
   "pygments_lexer": "ipython3",
   "version": "3.7.4"
  }
 },
 "nbformat": 4,
 "nbformat_minor": 4
}
