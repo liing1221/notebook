{
 "cells": [
  {
   "cell_type": "markdown",
   "id": "0b5933e3",
   "metadata": {},
   "source": [
    "# nm命令详解\n",
    "\n",
    "[Linux nm命令详解](https://blog.csdn.net/qq_36393978/article/details/124104635)  "
   ]
  }
 ],
 "metadata": {
  "kernelspec": {
   "display_name": "Python 3 (ipykernel)",
   "language": "python",
   "name": "python3"
  },
  "language_info": {
   "codemirror_mode": {
    "name": "ipython",
    "version": 3
   },
   "file_extension": ".py",
   "mimetype": "text/x-python",
   "name": "python",
   "nbconvert_exporter": "python",
   "pygments_lexer": "ipython3",
   "version": "3.9.7"
  }
 },
 "nbformat": 4,
 "nbformat_minor": 5
}
