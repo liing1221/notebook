{
 "cells": [
  {
   "cell_type": "markdown",
   "metadata": {},
   "source": [
    "# Tampermonkey\n",
    "　　参考：[]()  \n",
    "　　　　　[Tampermonkey中文文档（部分）](https://blog.csdn.net/abc45628/article/details/53919135)  \n",
    "　　　　　[Chrome神器插件—油猴Tampermonkey](https://blog.csdn.net/qq_20492999/article/details/81708646)  \n",
    "　　　　　[TamperMonkey编写脚本常用api中文版](https://blog.csdn.net/good_good_xiu/article/details/118298477)  \n",
    "　　　　　[最新Tampermonkey 中文文档解析](https://fizzz.blog.csdn.net/article/details/102638553)  \n",
    "　　　　　[简单的Tampermonkey入门](https://blog.csdn.net/baidu_24501701/article/details/74908512)  \n",
    "　　　　　[js逆向工具-油猴Tampermonkey脚本hook案例](https://blog.csdn.net/weixin_43411585/article/details/109798452)  \n",
    "　　　　　[]()  \n",
    "　　　　　[]()  \n",
    "     \n"
   ]
  }
 ],
 "metadata": {
  "kernelspec": {
   "display_name": "Python 3",
   "language": "python",
   "name": "python3"
  },
  "language_info": {
   "codemirror_mode": {
    "name": "ipython",
    "version": 3
   },
   "file_extension": ".py",
   "mimetype": "text/x-python",
   "name": "python",
   "nbconvert_exporter": "python",
   "pygments_lexer": "ipython3",
   "version": "3.7.4"
  }
 },
 "nbformat": 4,
 "nbformat_minor": 4
}
