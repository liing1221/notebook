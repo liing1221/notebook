{
 "cells": [
  {
   "cell_type": "markdown",
   "metadata": {},
   "source": [
    "## pipreqs&requirements.txt\n",
    "\n",
    "### 一、简介\n",
    "　　Python项目开发的时候，总是要搭建和部署依赖环境。我们在使用python内置库的同时，也还会使用一些强大的python第三方库。此时，手动记录、维护、安装这些依赖就是件麻烦的事情，总是会出现遗漏或版本错误等问题，降低开发部署效率。python项目的requirements.txt文件可以解决所有这些麻烦。我们只需要使用pip或pipreqs对requirements.txt做好维护即可。<br>\n",
    "　　我们可以使用pip或pipreqs一键生成项目的requirements.txt依赖文件，差别是：使用pip生成时，pip工具会检查项目的所有依赖环境，生成requirements.txt,这样就包含了很多不必要的python内置库(除非特别需要跟踪维护内置库的版本)；使用pipreqs生成时，requirements.txt文件只会包含项目依赖的python第三方库，文件比较简洁。<br>\n",
    "### 二、创建requirements.txt\n",
    "#### 1、 适用于 单虚拟环境的情况\n",
    ">pip freeze > requirements.txt\n",
    "\n",
    "　　为什么只适用于单虚拟环境？因为这种方式，会将环境中的依赖包全都加入，如果使用的全局环境，则下载的所有包都会在里面，不管是不时当前项目依赖的，当然这种情况并不是我们想要的。<br>\n",
    "#### 2、使用 pipreqs(推荐使用) \n",
    ">pip install pipreqs\n",
    "\n",
    "　　这个工具的好处是可以通过对项目目录的扫描，自动发现使用了那些类库，自动生成依赖清单。<br>\n",
    "　　缺点是可能会有些偏差，需要检查并自己调整下。<br>\n",
    ">pipreqs . --encoding=utf8 --force　　　# 在当前目录生成\n",
    "\n",
    "　　注意: <br>\n",
    "　　--encoding=utf8 为使用utf8编码，不然可能会报UnicodeDecodeError: 'gbk' codec can't decode byte 0xae in position 406: illegal multibyte sequence 的错误。<br>\n",
    "　　--force 强制执行，当 生成目录下的requirements.txt存在时覆盖。<br>\n",
    "### 三、使用requirements.txt安装依赖\n",
    ">pip install -r requirements.txt\n",
    "pip install -i https://pypi.doubanio.com/simple/ -r requirements.txt　　　# 换源安装，提高速度\n",
    "\n",
    "### 四、pipreqs用法\n",
    "#### 4.1、安装：\n",
    ">pip install pipreqs\n",
    "#### 4.2、用法：   \n",
    "　　在项目的根目录下使用<br>\n",
    ">pipreqs ./   \n",
    "\n",
    "　　如果是Windows系统，会报编码错误 (UnicodeDecodeError: 'gbk' codec can't decode byte 0xa8 in position 24: illegal multibyte sequence)  \n",
    "此时，指定编码格式<br>\n",
    ">pipreqs ./ --encoding=utf8\n",
    "\n",
    "　　详细用法：\n",
    ">pipreqs [options] <path>\n",
    "\n",
    "　　**选项：**<br>\n",
    "--use-local仅使用本地包信息而不是查询PyPI<br>\n",
    "--pypi-server <url>使用自定义PyPi服务器<br>\n",
    "--proxy <url>使用Proxy，参数将传递给请求库。你也可以设置<br>\n",
    "　　**终端中的环境参数：**<br>\n",
    "\\$ export HTTP_PROXY =“http://10.10.1.10:3128”<br>\n",
    "\\$ export HTTPS_PROXY =“https://10.10.1.10:1080”<br>\n",
    "--debug打印调试信息<br>\n",
    "--ignore <dirs> ...忽略额外的目录<br>\n",
    "--encoding <charset>使用编码参数打开文件<br>\n",
    "--savepath <file>保存给定文件中的需求列表<br>\n",
    "--print输出标准输出中的需求列表<br>\n",
    "--force覆盖现有的requirements.txt<br>\n",
    "--diff <file>将requirements.txt中的模块与项目导入进行比较。<br>\n",
    "--clean <file>通过删除未在项目中导入的模块来清理requirements.txt。<br>"
   ]
  }
 ],
 "metadata": {
  "kernelspec": {
   "display_name": "Python 3",
   "language": "python",
   "name": "python3"
  },
  "language_info": {
   "codemirror_mode": {
    "name": "ipython",
    "version": 3
   },
   "file_extension": ".py",
   "mimetype": "text/x-python",
   "name": "python",
   "nbconvert_exporter": "python",
   "pygments_lexer": "ipython3",
   "version": "3.7.4"
  }
 },
 "nbformat": 4,
 "nbformat_minor": 4
}
