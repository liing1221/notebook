{
 "cells": [
  {
   "cell_type": "markdown",
   "metadata": {},
   "source": [
    "## Frida 教程(一)\n",
    "　　参考：[Frida 官方文档](https://frida.re/docs/javascript-api/#java)<br>\n",
    "　　　　　[Frida 脚本系列1-4[《 FRIDA系列文章》](https://github.com/r0ysue/AndroidSecurityStudy)](https://www.anquanke.com/member/131652)<br>"
   ]
  }
 ],
 "metadata": {
  "kernelspec": {
   "display_name": "Python 3",
   "language": "python",
   "name": "python3"
  },
  "language_info": {
   "codemirror_mode": {
    "name": "ipython",
    "version": 3
   },
   "file_extension": ".py",
   "mimetype": "text/x-python",
   "name": "python",
   "nbconvert_exporter": "python",
   "pygments_lexer": "ipython3",
   "version": "3.7.4"
  }
 },
 "nbformat": 4,
 "nbformat_minor": 2
}
