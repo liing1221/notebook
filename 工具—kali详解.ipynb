{
 "cells": [
  {
   "cell_type": "markdown",
   "id": "faf5f8bc",
   "metadata": {},
   "source": [
    "# Kali详解\n",
    "[kali全版本镜像下载地址](http://old.kali.org/kali-images/)   \n",
    "[kali功能介绍及安装（超详细）](https://blog.csdn.net/zizizizizi_/article/details/109204335)   \n",
    "[kali的简介](https://blog.csdn.net/qq_60837186/article/details/120649903)   \n",
    "[Kali简介](https://blog.csdn.net/qq_45740212/article/details/113239157)   \n",
    "[Kali Linux 从入门到精通](https://blog.csdn.net/qq_33592583/category_7353453.html)   \n",
    "[kali使用教程（一）：常用命令和基本工具使用](https://blog.csdn.net/u011871680/article/details/121696450)   \n",
    "[保姆级安装教程【手把手教你安装Kali】](https://blog.csdn.net/zegeai/article/details/122660361)   \n",
    "[第1章 Kali Linux入门 一篇就够了](https://blog.csdn.net/weixin_43510203/article/details/107857105)   \n",
    "[]()   \n",
    "[]()   "
   ]
  }
 ],
 "metadata": {
  "kernelspec": {
   "display_name": "Python 3 (ipykernel)",
   "language": "python",
   "name": "python3"
  },
  "language_info": {
   "codemirror_mode": {
    "name": "ipython",
    "version": 3
   },
   "file_extension": ".py",
   "mimetype": "text/x-python",
   "name": "python",
   "nbconvert_exporter": "python",
   "pygments_lexer": "ipython3",
   "version": "3.9.7"
  }
 },
 "nbformat": 4,
 "nbformat_minor": 5
}
