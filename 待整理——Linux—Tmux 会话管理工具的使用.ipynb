{
 "cells": [
  {
   "cell_type": "markdown",
   "metadata": {},
   "source": [
    "## Tmux会话管理工具的使用\n",
    "　　参考:<br>\n",
    "　　　　[官方手册](http://man.openbsd.org/OpenBSD-current/man1/tmux.1)<br>\n",
    "　　　　[Tmux 速成教程：技巧和调整](https://www.cnblogs.com/maoxiaolv/p/5526602.html)<br>\n",
    "　　　　[Tmux 使用教程](http://www.ruanyifeng.com/blog/2019/10/tmux.html)<br>\n",
    "　　　　[Tmux使用手册](http://louiszhai.github.io/2017/09/30/tmux/#%E5%9F%BA%E6%9C%AC%E6%A6%82%E5%BF%B5)<br>\n",
    "　　　　[tmux基本操作](https://www.cnblogs.com/liuguanglin/p/9290345.html)<br>\n",
    "　　　　[tmux基本操作指令](https://blog.csdn.net/ai6319/article/details/102328742)<br>\n",
    "　　　　[Linux终端复用神器-Tmux使用梳理](https://www.cnblogs.com/kevingrace/p/6496899.html)<br>\n",
    "　　　　[保持tmux窗口名更改后不变](https://www.cnblogs.com/zhuzi8849/p/6279297.html)<br>\n",
    "　　　　[Tmux Resurrect: 保存和恢复 tmux 工作状态](https://blog.csdn.net/syrchina/article/details/105265882)<br>\n",
    "　　　　[效率为王：终端管理工具 Tmux](https://blog.csdn.net/GitChat/article/details/79019453)<br>\n",
    "　　　　[tmux多窗口工具基本操作](https://blog.csdn.net/tony_vip/article/details/102778686)<br>\n",
    "　　　　[如何设置tmux，使其在打开指定窗口的情况下启动？](https://cloud.tencent.com/developer/ask/29904)<br>"
   ]
  }
 ],
 "metadata": {
  "kernelspec": {
   "display_name": "Python 3",
   "language": "python",
   "name": "python3"
  },
  "language_info": {
   "codemirror_mode": {
    "name": "ipython",
    "version": 3
   },
   "file_extension": ".py",
   "mimetype": "text/x-python",
   "name": "python",
   "nbconvert_exporter": "python",
   "pygments_lexer": "ipython3",
   "version": "3.8.8"
  }
 },
 "nbformat": 4,
 "nbformat_minor": 2
}
