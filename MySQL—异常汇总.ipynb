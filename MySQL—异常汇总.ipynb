{
 "cells": [
  {
   "cell_type": "markdown",
   "metadata": {},
   "source": [
    "## Mysql 异常汇总\n",
    "\n",
    "\n",
    "\n",
    "### 1、[mysql报错\"ERROR 1206 (HY000): The total number of locks exceeds the lock table size\"的解决方法](https://blog.csdn.net/slvher/article/details/9532107)<br>\n",
    "\n",
    "### 2、[ERROR 1118 (42000): Row size too large. The maximum row size for the used table type, not counting B](https://blog.csdn.net/yabingshi_tech/article/details/47257367)<br>"
   ]
  }
 ],
 "metadata": {
  "kernelspec": {
   "display_name": "Python 3",
   "language": "python",
   "name": "python3"
  },
  "language_info": {
   "codemirror_mode": {
    "name": "ipython",
    "version": 3
   },
   "file_extension": ".py",
   "mimetype": "text/x-python",
   "name": "python",
   "nbconvert_exporter": "python",
   "pygments_lexer": "ipython3",
   "version": "3.6.8"
  }
 },
 "nbformat": 4,
 "nbformat_minor": 2
}
