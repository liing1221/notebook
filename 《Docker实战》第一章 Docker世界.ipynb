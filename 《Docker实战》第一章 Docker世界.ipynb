{
 "cells": [
  {
   "cell_type": "markdown",
   "metadata": {},
   "source": [
    "# 进入Docker世界\n",
    "　　参考：[Docker官方产品手册](https://docs.docker.com/desktop/)<br>\n",
    "## 一、Docker简介\n",
    "## 二、Docker解决的问题\n",
    "## 三、为什么用Docker如此重要\n",
    "## 四、何时何处使用Docker\n",
    "## 五、Docker安装\n",
    "### 5.1 Centos7安装Docker\n",
    "　　参考：[在Centos上安装Docker](https://docs.docker.com/engine/install/centos/)<br>\n",
    "#### 5.1.1 查看Centos内核版本\n",
    "　　Docker 要求 CentOS 系统的内核版本高于 3.10 ，查看本页面的前提条件来验证你的CentOS 版本是否支持 Docker 。<br>\n",
    "> \\$ uname -r　　　# 通过 uname -r 命令查看你当前的内核版本<br>\n",
    "\n",
    "#### 5.1.2 使用 root 权限登录 Centos。确保 yum 包更新到最新。\n",
    ">~\\# yum update\n",
    "\n",
    "#### 5.1.3 卸载旧版本(如果安装过旧版本的话)\n",
    ">~\\# yum remove docker  docker-common docker-selinux docker-engine\n",
    "\n",
    "#### 5.1.4 安装需要的软件包， yum-util 提供yum-config-manager功能，另外两个是devicemapper驱动依赖的\n",
    ">~\\# yum install -y yum-utils device-mapper-persistent-data lvm2\n",
    "\n",
    "#### 5.1.5 设置yum源 及更新yum缓存\n",
    ">~\\# yum-config-manager --add-repo http://mirrors.aliyun.com/docker-ce/linux/centos/docker-ce.repo<br>\n",
    "~\\# yum makecache fast<br>\n",
    "\n",
    "#### 5.1.6 可以查看所有仓库中所有docker版本，并选择特定版本安装\n",
    ">~\\# yum list docker-ce --showduplicates | sort -r\n",
    "\n",
    "#### 5.1.7 安装docker\n",
    ">~\\# yum install docker-ce 　　# repo中默认只开启stable仓库<br>\n",
    "~\\# yum install <FQPN>　　　# 例如：sudo yum install docker-ce-17.12.0.ce<br>\n",
    "\n",
    "#### 5.1.8 启动Docker守护进程并加入开机启动\n",
    ">~\\# systemctl start docker<br>\n",
    "~\\# systemctl enable docker<br>\n",
    "\n",
    "#### 5.1.9 验证安装是否成功(有client和service两部分表示docker安装启动都成功了)\n",
    ">~\\# docker version\n"
   ]
  }
 ],
 "metadata": {
  "kernelspec": {
   "display_name": "Python 3",
   "language": "python",
   "name": "python3"
  },
  "language_info": {
   "codemirror_mode": {
    "name": "ipython",
    "version": 3
   },
   "file_extension": ".py",
   "mimetype": "text/x-python",
   "name": "python",
   "nbconvert_exporter": "python",
   "pygments_lexer": "ipython3",
   "version": "3.7.4"
  }
 },
 "nbformat": 4,
 "nbformat_minor": 4
}
