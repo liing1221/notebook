{
 "cells": [
  {
   "cell_type": "markdown",
   "metadata": {},
   "source": [
    "# errback使用详解\n",
    "　　参考：[scrapy的errback](https://blog.csdn.net/m0_37148637/article/details/103461378)<br>\n",
    "　　　　　[scrapy中响应码设置及errback的使用](https://blog.csdn.net/HYESC/article/details/80426523)<br>\n",
    "　　　　　[scrapy中的请求错误回调函数errback](https://blog.csdn.net/qq_41020281/article/details/81350471)<br>"
   ]
  }
 ],
 "metadata": {
  "kernelspec": {
   "display_name": "Python 3",
   "language": "python",
   "name": "python3"
  },
  "language_info": {
   "codemirror_mode": {
    "name": "ipython",
    "version": 3
   },
   "file_extension": ".py",
   "mimetype": "text/x-python",
   "name": "python",
   "nbconvert_exporter": "python",
   "pygments_lexer": "ipython3",
   "version": "3.7.4"
  }
 },
 "nbformat": 4,
 "nbformat_minor": 4
}
