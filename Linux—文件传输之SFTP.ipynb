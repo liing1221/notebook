{
 "cells": [
  {
   "cell_type": "markdown",
   "metadata": {},
   "source": [
    "## SFTP协议"
   ]
  },
  {
   "cell_type": "markdown",
   "metadata": {},
   "source": [
    "①SSH:<br>\n",
    "　　是一个安全外壳协议。传统的网络服务程序，如：ftp、pop和telnet在本质上都是不安全的，因为它们在网络上用明文传送口令和数据，别有用心的人非常容易就可以截获这些口令和数据。而且，这些服务程序的安全验证方式也是有其弱点的， 就是很容易受到“中间人”（man-in-the-middle）这种方式的攻击。所谓“中间人”的攻击方式， 就是“中间人”冒充真正的服务器接收你传给服务器的数据，然后再冒充你把数据传给真正的服务器。服务器和你之间的数据传送被“中间人”一转手做了手脚之后，就会出现很严重的问题。通过使用SSH，你可以把所有传输的数据进行加密，这样\"中间人\"这种攻击方式就不可能实现了，而且也能够防止DNS欺骗和IP欺骗。使用SSH，还有一个额外的好处就是传输的数据是经过压缩的，所以可以加快传输的速度。SSH有很多功能，它既可以代替Telnet，又可以为FTP、PoP、甚至为PPP提供一个安全的\"通道\"<br>\n",
    "②sshd：<br>\n",
    "　　sshd服务使用SSH协议可以用来进行远程控制， 或在计算机之间传送文件<br>\n",
    "  　个人理解：sshd是一个服务进程，ssh是一个安全协议，制定了安全通信的协议规则，然后sshd服务是基于这个安全协议工作的<br>\n",
    "本地一个客户端比如：(securecrt：支持ssh协议的客户端)     服务器开启ssh协议和sshd服务,才能完成客户端和服务器端的安全传输<br>\n",
    "③FTP（ File Tranfer Protocal）:<br>\n",
    "　　文件传输协议。<br>\n",
    "④SFTP（Secure File Tranfer Protocal）:<br>\n",
    "　　安全文件传输协议，对比ftp协议的话，是在文件传输过程中进行了加密处理，由于传输过程中会进行加密，解密，传输效率会低于ftp，使用语法与ftp是一样的<br>\n",
    "sftp与ftp语法一致，现在罗列一下所用到的命令，用于远程文件与本地文件传输:<br>\n",
    "1.连接远程服务器（默认端口号：22）<br>\n",
    ">sftp -P 22 username@ip address<br>\n",
    ">open [用户@]主机[:端口]　　　　　　　　连接到远程主机 <br>\n",
    ">输入你服务器账户连接密码<br>\n",
    "\n",
    "2.切换查看路径<br>\n",
    ">cd 路径                      更改远程目录到“路径” <br>\n",
    ">lcd 路径                     更改本地目录到“路径” <br>\n",
    ">pwd                         显示远程工作目录  <br>\n",
    ">lpwd                        打印本地工作目录  <br>\n",
    "\n",
    "3.查看看文件<br>\n",
    ">ls [选项] [路径]                显示远程目录列表 <br>\n",
    ">lls [选项] [路径]               显示本地目录列表 <br>\n",
    "\n",
    "4.创建目录移动文件<br>\n",
    ">mkdir 路径                    创建远程目录  <br>\n",
    ">lmkdir 路径                   创建本地目录  <br>\n",
    ">mv oldpath newpath              移动远程文件 <br>\n",
    "\n",
    "5.更改文件权限<br>\n",
    ">chgrp group path                将文件“path”的组更改为“group” <br>\n",
    ">chmod mode path         　　　　　将文件“path”的权限更改为“mode” <br>\n",
    ">chown owner path                将文件“path”的属主更改为“owner”<br>\n",
    "\n",
    "6.移除目录删除文件<br>\n",
    ">rmdir 路径                    移除远程目录 <br>\n",
    ">lrmdir 路径                   移除本地目录 <br>\n",
    ">rm 路径                      删除远程文件 <br>\n",
    ">lrm 路径                     删除本地文件 <br>\n",
    "\n",
    "7.!command\n",
    ">!command\n",
    "这个是指在linux上执行command这个命令， 比如!ls是列举linux当前目录下的东东， !rm a.txt是删除linux当前目录下的a.txt文件。\n",
    "这个命令非常非常有用， 因为在sftp> 后输入命令， 默认值针对sftp服务器的， 所以执行rm a.txt删除的是sftp服务器上的a.txt文件， 而非本地的linux上的a.txt文件。\n",
    "\n",
    "8.其他辅助命令<br>\n",
    ">help                        显示这个帮助文本  <br>\n",
    ">version                      显示协议版本 <br>\n",
    ">exit                        退出 sftp  <br>\n",
    ">quit                        退出 sftp  <br>\n",
    "\n",
    "9.下载文件：<br>\n",
    "　　①切换至你需要存放文件目的路径下(比如我存放到E:/)<br>\n",
    ">lcd E:/<br>\n",
    "\n",
    "　　②.获取文件至本地(远程服务器down至本地）<br>\n",
    ">get file_name<br>\n",
    ">get -r directory_name<br>\n",
    "可以看到下载进度<br>\n",
    "\n",
    "　　③.查看是否下载至本地<br>\n",
    ">lls<br>\n",
    "    可以看到你下载的文件<br>\n",
    "   \n",
    "10.上传文件<br>\n",
    "　　①服务器端切换至你需要存放的目录下<br>\n",
    ">cd your/path/to<br>\n",
    "\n",
    "　　②上传文件(远程服务器down至本地）<br>\n",
    ">put file_name<br>\n",
    ">put -r directory_name(上传文件夹)<br>\n",
    "可以看到上传进度<br>\n",
    "\n",
    "　　③.查看是否上传成功（当前服务器存放目录下）执行<br>\n",
    ">ls<br>\n",
    "命令说明：<br>\n",
    "lls：查看本地目录文件<br>\n",
    "lcd ：切换本地目录<br>\n",
    "ls：查看服务器端目录文件<br>\n",
    "cd：切换服务器目录<br>\n",
    "这四个命令任意切换，多加‘l’的就是本地的查看、切换，ls,cd就是服务器端的查看，切换<br>"
   ]
  },
  {
   "cell_type": "markdown",
   "metadata": {},
   "source": [
    "ln existingpath linkpath       符号链接远程文件 <br>\n",
    "symlink existingpath linkpath  符号链接远程文件 <br>"
   ]
  }
 ],
 "metadata": {
  "kernelspec": {
   "display_name": "Python 3",
   "language": "python",
   "name": "python3"
  },
  "language_info": {
   "codemirror_mode": {
    "name": "ipython",
    "version": 3
   },
   "file_extension": ".py",
   "mimetype": "text/x-python",
   "name": "python",
   "nbconvert_exporter": "python",
   "pygments_lexer": "ipython3",
   "version": "3.7.4"
  }
 },
 "nbformat": 4,
 "nbformat_minor": 2
}
