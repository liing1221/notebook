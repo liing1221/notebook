{
 "cells": [
  {
   "cell_type": "markdown",
   "metadata": {},
   "source": [
    "## Python time 库详解\n",
    "　　参考：[Python标准库-time](https://docs.python.org/zh-cn/3/library/time.html)<br>\n",
    "　　　　　[Python 日期和时间](https://www.runoob.com/python/python-date-time.html)<br>\n",
    "　　　　　[python时间-time模块](https://www.cnblogs.com/scolia/p/5575376.html)<br>\n",
    "　　　　　[Python time三种时间转换小结](https://www.jb51.net/article/242095.htm)<br>\n",
    "　　　　　[怎么在python中对时区进行设置](https://www.yisu.com/zixun/372628.html)<br>\n",
    "　　　　　[python pytz时区设置模块](https://www.cnblogs.com/zqifa/p/python-pytz-1.html)<br>\n",
    "　　　　　[python获取国内时间及其时区 pytz模块的使用](https://blog.csdn.net/kz_java/article/details/123615508)<br>\n",
    "\n",
    "\n",
    "\n",
    "## 一、时间相关\n",
    "GMT：格林尼治时间，是世界时和地球经线的起点。  \n",
    "UTC：通用协调时，一般可以当成GMT一样的使用。  \n",
    "时间戳：当前的时间到1970年1月1日 8:00（中国时间）的秒数，即这个起点为0，当前到起点所经过的秒数，就是时间戳。  \n",
    "\n",
    "### 1.1、Python 处理微秒\n",
    ">print (datetime.datetime.now().strftime('%Y-%m-%d %H:%M:%S.%f'))\n",
    "\n"
   ]
  }
 ],
 "metadata": {
  "kernelspec": {
   "display_name": "Python 3 (ipykernel)",
   "language": "python",
   "name": "python3"
  },
  "language_info": {
   "codemirror_mode": {
    "name": "ipython",
    "version": 3
   },
   "file_extension": ".py",
   "mimetype": "text/x-python",
   "name": "python",
   "nbconvert_exporter": "python",
   "pygments_lexer": "ipython3",
   "version": "3.9.7"
  }
 },
 "nbformat": 4,
 "nbformat_minor": 2
}
