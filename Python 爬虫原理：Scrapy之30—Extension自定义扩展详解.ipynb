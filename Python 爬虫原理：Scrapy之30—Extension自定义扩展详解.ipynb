{
 "cells": [
  {
   "cell_type": "markdown",
   "metadata": {},
   "source": [
    "# Extension自定义扩展详解\n",
    "　　参考：[Scrapy之Extension实例——计算吞吐量及时延](https://blog.csdn.net/q_an1314/article/details/51188137)<br>\n",
    "　　　　　[自动限速(AutoThrottle)扩展](https://wiki.jikexueyuan.com/project/scrapy/autothrottle.html)<br>\n",
    "　　　　　[scrapy自定义扩展(extensions)实现实时监控scrapy爬虫的运行状态](https://www.cnblogs.com/kanadeblisst/p/12918723.html)<br>\n",
    "　　　　　[AutoThrottle 扩展1](https://www.osgeo.cn/scrapy/topics/autothrottle.html)<br>\n",
    "　　　　　[AutoThrottle 扩展2](https://www.kancloud.cn/apachecn/scrapy-doc-zh/1946355)<br>"
   ]
  }
 ],
 "metadata": {
  "kernelspec": {
   "display_name": "Python 3",
   "language": "python",
   "name": "python3"
  },
  "language_info": {
   "codemirror_mode": {
    "name": "ipython",
    "version": 3
   },
   "file_extension": ".py",
   "mimetype": "text/x-python",
   "name": "python",
   "nbconvert_exporter": "python",
   "pygments_lexer": "ipython3",
   "version": "3.7.4"
  }
 },
 "nbformat": 4,
 "nbformat_minor": 4
}
