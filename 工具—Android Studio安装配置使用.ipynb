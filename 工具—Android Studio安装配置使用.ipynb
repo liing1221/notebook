{
 "cells": [
  {
   "cell_type": "markdown",
   "metadata": {},
   "source": [
    "# Android Studio\n",
    "　　参考：[官方指南](https://developer.android.google.cn/studio/install)<br>\n",
    "　　　　　[菜鸟教程](https://www.runoob.com/android/android-studio-install.html)<br>\n",
    "　　　　　[官方下载](https://developer.android.google.cn/studio)<br>\n",
    "　　　　　[Android Studio的安装，史上最详细(超多图)](https://blog.csdn.net/qq_41976613/article/details/91432304)<br>\n",
    "　　　　　[Android Studio安装及环境配置教程](https://blog.csdn.net/xuw_xy/article/details/89524335)<br>\n",
    "　　　　　[Android Studio 下载安装教程](https://blog.csdn.net/qq_37138756/article/details/100513554)<br>\n",
    "　　　　　[完整版—Android studio入门教程](https://blog.csdn.net/qq_34584049/article/details/78259191)<br>\n",
    "## 一、概览\n",
    "　　Android Studio 是开发 Android 应用程序的官方 IDE，基于 Intellij IDEA。你可以从官网Android Studio下载下载最新版本的 Android Studio。如果你是在 Windows 上安装 Android Studio 的新人，找到名为 android-studio-bundle-135.17407740-windows.exe 文件下载，并通过 Android Studio 向导指南运行。<br>\n",
    "　　如果要在 Mac 或者 Linux 上安装 Android Studio，可以从Android Studio Mac 下载或者Android Studio Linux 下载来下载最新版本，查看随下载文件提供的说明。除了 IntelliJ 强大的代码编辑器和开发者工具，Android Studio 还提供更多可提高 Android 应用构建效率的功能：<br>\n",
    "　　1)、基于 Gradle 的灵活构建系统<br>\n",
    "　　2)、快速且功能丰富的模拟器<br>\n",
    "　　3)、统一的环境（供您开发适用于所有 Android 设备的应用）<br>\n",
    "　　4)、Apply Changes 功能可将代码和资源更改推送到正在运行的应用，而无需重启应用<br>\n",
    "　　5)、代码模板和 GitHub 集成，可协助您打造常见的应用功能及导入示例代码<br>\n",
    "　　6)、大量的测试工具和框架<br>\n",
    "　　7)、Lint 工具，能够找出性能、易用性和版本兼容性等方面的问题<br>\n",
    "　　8)、C++ 和 NDK 支持<br>\n",
    "　　9)、内置对 Google Cloud Platform 的支持，可轻松集成 Google Cloud Messaging 和 App Engine<br>\n",
    "　　[阅读详情](https://developer.android.google.cn/studio/intro)<br>\n",
    "## 二、安装Android Studio\n",
    "　　确保在安装 Android Studio 之前，已经安装好 Java JDK，并配置好Java开发环境。<br>\n",
    "　　直接电脑桌面windows+R 输入cmd：  上代码：分别输入java 、javac 、javadoc、java -version  + enter键   成功的有输出，说明java环境安装成功。<br>\n",
    "### 2.1、Windows 系统安装 Android Studio：\n",
    "　　下载Android Studio安装包。<br>\n",
    "　　如果您下载了 .exe 文件（推荐），请双击以启动该文件。<br>\n",
    "　　如果您下载了 .zip 文件，请解压缩 ZIP 文件，将 android-studio 文件夹复制到 Program Files 文件夹中，然后依次打开 android-studio > bin 文件夹并启动 studio64.exe（对于 64 位计算机）或 studio.exe（对于 32 位计算机）。<br>\n",
    "　　按照 Android Studio 中设置向导的指示安装它推荐的所有 SDK 软件包。<br>\n",
    "\n",
    "\n",
    "\n",
    "\n",
    "\n",
    "\n",
    "\n",
    "\n",
    "\n",
    "\n",
    "\n",
    "\n",
    "\n",
    "\n"
   ]
  }
 ],
 "metadata": {
  "kernelspec": {
   "display_name": "Python 3",
   "language": "python",
   "name": "python3"
  },
  "language_info": {
   "codemirror_mode": {
    "name": "ipython",
    "version": 3
   },
   "file_extension": ".py",
   "mimetype": "text/x-python",
   "name": "python",
   "nbconvert_exporter": "python",
   "pygments_lexer": "ipython3",
   "version": "3.7.4"
  }
 },
 "nbformat": 4,
 "nbformat_minor": 4
}
