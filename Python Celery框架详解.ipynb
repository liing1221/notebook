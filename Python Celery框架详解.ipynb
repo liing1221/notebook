{
 "cells": [
  {
   "cell_type": "markdown",
   "metadata": {},
   "source": [
    "# Celery框架详解\n",
    "　　参考：[《Celery 中文手册》](https://www.celerycn.io/)<br>\n",
    "　　　　　[Python 并行分布式框架 Celery](https://blog.csdn.net/freeking101/article/details/74707619)<br>\n",
    "　　　　　[Python 并行分布式框架：Celery 超详细介绍](https://blog.csdn.net/liuxiaochen123/article/details/47981111)<br>\n",
    "　　　　　[]()<br>\n",
    "　　　　　[]()<br>"
   ]
  }
 ],
 "metadata": {
  "kernelspec": {
   "display_name": "Python 3",
   "language": "python",
   "name": "python3"
  },
  "language_info": {
   "codemirror_mode": {
    "name": "ipython",
    "version": 3
   },
   "file_extension": ".py",
   "mimetype": "text/x-python",
   "name": "python",
   "nbconvert_exporter": "python",
   "pygments_lexer": "ipython3",
   "version": "3.7.4"
  }
 },
 "nbformat": 4,
 "nbformat_minor": 4
}
