{
 "cells": [
  {
   "cell_type": "markdown",
   "metadata": {},
   "source": [
    "## crontab  定时任务\n",
    "　　参考：[参考教程](https://linuxtools-rst.readthedocs.io/zh_CN/latest/tool/crontab.html)<br>\n",
    "　　[crontab文件与日志位置](https://blog.csdn.net/steven_liwen/article/details/80335847)、[crontab重启](https://www.cnblogs.com/fatfatdachao/p/9229891.html)、[【linux】【tomcat】linux下定时重启tomcat 【CentOS 6.4】【CentOS 7.6】](https://www.cnblogs.com/sxdcgaq8080/p/10730633.html)<br>"
   ]
  },
  {
   "cell_type": "code",
   "execution_count": null,
   "metadata": {},
   "outputs": [],
   "source": []
  }
 ],
 "metadata": {
  "kernelspec": {
   "display_name": "Python 3",
   "language": "python",
   "name": "python3"
  },
  "language_info": {
   "codemirror_mode": {
    "name": "ipython",
    "version": 3
   },
   "file_extension": ".py",
   "mimetype": "text/x-python",
   "name": "python",
   "nbconvert_exporter": "python",
   "pygments_lexer": "ipython3",
   "version": "3.7.4"
  }
 },
 "nbformat": 4,
 "nbformat_minor": 2
}
