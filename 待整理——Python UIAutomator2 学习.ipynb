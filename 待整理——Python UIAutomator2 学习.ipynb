{
 "cells": [
  {
   "cell_type": "markdown",
   "metadata": {},
   "source": [
    "## UIAutomator2 APP测试框架\n",
    "　　参考：[python UIAutomator2使用超详细教程](https://www.jb51.net/article/205942.htm)<br>"
   ]
  }
 ],
 "metadata": {},
 "nbformat": 4,
 "nbformat_minor": 4
}
