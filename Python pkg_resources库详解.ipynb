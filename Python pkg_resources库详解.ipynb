{
 "cells": [
  {
   "cell_type": "markdown",
   "metadata": {},
   "source": [
    "# pkg_resources库详解\n",
    "　　参考：[python pkg_resources模块简介](https://blog.csdn.net/weixin_42716570/article/details/113574908)<br>\n",
    "　　　　　[Python | pkg_resources简介](https://blog.csdn.net/weixin_43360896/article/details/115563610)<br>"
   ]
  }
 ],
 "metadata": {
  "kernelspec": {
   "display_name": "Python 3",
   "language": "python",
   "name": "python3"
  },
  "language_info": {
   "codemirror_mode": {
    "name": "ipython",
    "version": 3
   },
   "file_extension": ".py",
   "mimetype": "text/x-python",
   "name": "python",
   "nbconvert_exporter": "python",
   "pygments_lexer": "ipython3",
   "version": "3.7.4"
  }
 },
 "nbformat": 4,
 "nbformat_minor": 4
}
