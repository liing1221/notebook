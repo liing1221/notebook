{
 "cells": [
  {
   "cell_type": "markdown",
   "metadata": {},
   "source": [
    "# Portainer使用\n",
    "　　参考：[]()<br>\n",
    "　　　　　[]()<br>\n",
    "　　　　　[]()<br>\n",
    "　　　　　[]()<br>\n",
    "　　　　　[Portainer -- Docker可视化管理工具的安装配置及使用](https://blog.csdn.net/A632189007/article/details/78779920)<br>\n",
    "## Portainer介绍\n",
    "　　Portainer是Docker的图形化管理工具，提供状态显示面板、应用模板快速部署、容器镜像网络数据卷的基本操作（包括上传下载镜像，创建容器等操作）、事件日志显示、容器控制台操作、Swarm集群和服务等集中管理和操作、登录用户管理和控制等功能。功能十分全面，基本能满足中小型单位对容器管理的全部需求。<br>\n",
    "## 下载Portainer镜像\n",
    ">~\\\\$ docker search portainer　　# 查询当前有哪些Portainer镜像<br>\n",
    "~\\\\$ docker pull portainer/portainer　　　# 下载镜像<br>\n",
    "\n",
    "## 运行镜像\n",
    "\n",
    ">~\\\\$ \\# 本机模式<br>\n",
    "docker run -d -p 9000:9000 -v /var/run/docker.sock:/var/run/docker.sock --restart=always --name prtainer portainer/portainer<br>\n",
    "~\\\\$ \\# 远程模式<br>\n",
    "~\\\\$ docker run -d -p 9000:9000 --restart=always --name prtainer portainer/portainer<br>\n",
    "\n",
    "## 访问Portainer容器\n",
    "访问地址：http://IP:9000\n",
    "首次登录需要设置admin的密码\n",
    "选择docker连接\n",
    "选择Local，代表本地模式，portainer仅管理本机的docker容器\n",
    "选择Remote，代表远程模式，名称随意，在Endpoint URL中填写docker节点的地址:docker远程端口（docker安装教程中的设置的-H 0.0.0.0:2375中的2375）\n",
    "\n",
    "\n",
    "\n",
    "\n"
   ]
  }
 ],
 "metadata": {
  "kernelspec": {
   "display_name": "Python 3",
   "language": "python",
   "name": "python3"
  },
  "language_info": {
   "codemirror_mode": {
    "name": "ipython",
    "version": 3
   },
   "file_extension": ".py",
   "mimetype": "text/x-python",
   "name": "python",
   "nbconvert_exporter": "python",
   "pygments_lexer": "ipython3",
   "version": "3.7.4"
  }
 },
 "nbformat": 4,
 "nbformat_minor": 4
}
