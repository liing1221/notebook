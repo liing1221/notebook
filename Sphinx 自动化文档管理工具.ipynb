{
 "cells": [
  {
   "cell_type": "markdown",
   "metadata": {},
   "source": [
    "## Sphinx 自动化文档管理工具\n",
    "　　参考：［python项目结构及相关文件编写](https://blog.csdn.net/chinabestchina/article/details/84948243)<br>\n",
    "\n",
    "\n",
    "### 一、python项目结构<br>\n",
    "1、python项目主要包括以下几部分（结构示意）：<br>\n",
    ">项目名<br>\n",
    "｜<br>\n",
    "｜－－bin          # 可执行文件<br>\n",
    "｜<br>\n",
    "｜－－docs            # 项目文档<br>\n",
    "｜<br>\n",
    "｜－－项目名        # 此处是具体的项目代码<br>\n",
    "｜    ｜<br>\n",
    "｜    ｜－－main.py<br>\n",
    "｜<br>\n",
    "｜－－tests          # 此处是测试代码<br>\n",
    "｜<br>\n",
    "｜－－README.md          # 项目介绍文档<br>\n",
    "｜<br>\n",
    "｜－－requirements.txt       # Python项目依赖包定义<br>\n",
    "\n",
    "### 二、requirements.txt\n",
    "　　requirements.txt是定义项目依赖的python包，可通过工具生成。<br>\n",
    "　　工具可以生成两种依赖包定义，一是项目依赖的python包，二是所在python环境安装的python包。<br>\n",
    "##### 1、生成项目依赖包步骤：<br>\n",
    "a、安装pipreqs工具，命令：sudo pip3 install pipreqs<br>\n",
    "b、到项目根目录下，命令： pipreqs ./<br> \n",
    "这时就会生成requirements.txt文件<br>\n",
    "##### 2、生成整个当前python环境安装的python包：<br>\n",
    "到项目根目录下，直接运行：pip3 freeze > requirements.txt<br>\n",
    "##### 3、requirements.txt安装<br>\n",
    "命令：pip3 install -r requirements.txt<br>\n",
    "\n",
    "    \n",
    "    \n",
    "    "
   ]
  }
 ],
 "metadata": {
  "kernelspec": {
   "display_name": "Python 3",
   "language": "python",
   "name": "python3"
  },
  "language_info": {
   "codemirror_mode": {
    "name": "ipython",
    "version": 3
   },
   "file_extension": ".py",
   "mimetype": "text/x-python",
   "name": "python",
   "nbconvert_exporter": "python",
   "pygments_lexer": "ipython3",
   "version": "3.7.4"
  }
 },
 "nbformat": 4,
 "nbformat_minor": 2
}
