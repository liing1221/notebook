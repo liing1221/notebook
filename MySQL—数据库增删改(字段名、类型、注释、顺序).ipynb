{
 "cells": [
  {
   "cell_type": "markdown",
   "metadata": {},
   "source": [
    "## MySQL—数据库增删改(字段名、类型、注释、顺序)"
   ]
  },
  {
   "cell_type": "markdown",
   "metadata": {},
   "source": [
    "1.登录数据库<br>\n",
    ">mysql -u root -p 数据库用户密码\n",
    "\n",
    "2.查询所有数据表<br>\n",
    ">show tables;<br>\n",
    ">use 数据表名称;     切换数据表\n",
    "\n",
    "3.查询表的字段信息<br>\n",
    ">desc 表名称;\n",
    "\n",
    "4.添加表字段<br>\n",
    ">alter table table1 add transactor varchar(10) not Null;<br>\n",
    ">alter table table1 add id int unsigned not Null auto_increment primary key<br>\n",
    "\n",
    "5.批量添加字段<br>\n",
    "　　方法一：这里可以使用事务<br>\n",
    ">bagin;                                       // 事务开始<br>\n",
    ">alter table em_day_data add f_day_house7 int(11);<br>\n",
    ">alter table em_day_data add f_day_house8 int(11);<br>\n",
    ">alter table em_day_data add f_day_house9 int(11);<br>\n",
    ">alter table em_day_data add f_day_house10 int(11);<br>\n",
    ">commit;                                      // 提交事务，事务结束<br>\n",
    "事务（transaction）是由一系列操作序列构成的程序执行单元，这些操作要么都做，要么都不做，是一个不可分割的工作单位。<br>\n",
    "\n",
    "　　方法二 :mysql 批量为表添加多个字段<br>\n",
    ">alter table 表名 add (字段1 类型(长度),字段2 类型(长度),字段3 类型(长度));<br>\n",
    ">alter table em_day_data add (f_day_house11 int(11),f_day_house12 int(11),f_day_house13 int(11));<br>\n",
    " \n",
    "6.删除一个字段<br>\n",
    ">ALTER TABLE mytable DROP 字段名;\n",
    ">alter table user DROP COLUMN new2;\n",
    "\n",
    "7.修改某个表的字段类型及指定为空或非空<br>\n",
    ">alter table 表名称 modify 字段名称 字段类型 约束;          // DEFAULT NULL  默认为空  NOT NULL   默认不能为空<br>\n",
    "\n",
    "8.修改某个表的字段名称及指定为空或非空<br>\n",
    ">alter table 表名称 change 字段原名称 字段新名称 字段类型 约束; // 修改一个字段的名称，此时一定要重新指定该字段的类型<br>\n",
    "\n",
    "9.批量修改字段名称<br>\n",
    ">alter table 表名 change 修改前字段名1  修改后字段名称1 int(11) not null,<br>\n",
    ">change 修改前字段名2  修改后字段名称2 int(11) not null,<br>\n",
    ">change 修改前字段名3  修改后字段名称3 int(11) not null,<br>\n",
    ">change 修改前字段名4  修改后字段名称4 int(11) not null,<br>\n",
    ">change 修改前字段名5  修改后字段名称5 int(11) not null<br>\n",
    "\n",
    "在网站重构中，通常会进行数据结构的修改，所以添加，删除，增加mysql表的字段是难免的，有时为了方便，还会增加修改表或字段的注释，把同字段属性调整到一块儿。这些操作可以在phpmyadmin或者别的mysql管理工具中完成，但是我们有时为了更方便的管理，会选择写sql语句来实现。<br> \n",
    "10.添加注释<br>\n",
    ">ALTER TABLE `table_name` COMMENT'注释';                // 可以为表添加注释<br>\n",
    ">ALTER TABLE `table_name` CHANGE `column_name` `column_name` type(longth) UNSIGNED NULL DEFAULT NULL COMMENT '注释'// 为字段添加注释，同样适用于修改<br>\n",
    "\n",
    "11.调整字段顺序：<br>\n",
    ">alter table 表名 change 字段名 新字段名 字段类型 默认值 after 字段名(跳到哪个字段之后)<br>"
   ]
  }
 ],
 "metadata": {
  "kernelspec": {
   "display_name": "Python 3",
   "language": "python",
   "name": "python3"
  },
  "language_info": {
   "codemirror_mode": {
    "name": "ipython",
    "version": 3
   },
   "file_extension": ".py",
   "mimetype": "text/x-python",
   "name": "python",
   "nbconvert_exporter": "python",
   "pygments_lexer": "ipython3",
   "version": "3.6.8"
  }
 },
 "nbformat": 4,
 "nbformat_minor": 2
}
