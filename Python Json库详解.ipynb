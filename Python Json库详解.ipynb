{
 "cells": [
  {
   "cell_type": "markdown",
   "metadata": {},
   "source": [
    "# Json库详解\n",
    "\n",
    "\n",
    "## 异常处理分析\n",
    "#### 问题描述：\n",
    "　　json.loads(text,encoding='utf8') 报Unexpected UTF-8 BOM (decode using utf-8-sig)错误，将encoding改为'utf-8-sig'仍然报错。<br>\n",
    "#### 原因分析：\n",
    "　　text包含BOM字符<br>\n",
    "#### 解决方案：\n",
    "　　将BOM头去掉，代码如下：<br>\n",
    ">if text.startswith(u'\\ufeff'):<br>\n",
    "　　text = text.encode('utf8')[3:].decode('utf8')<br>\n"
   ]
  }
 ],
 "metadata": {
  "kernelspec": {
   "display_name": "Python 3",
   "language": "python",
   "name": "python3"
  },
  "language_info": {
   "codemirror_mode": {
    "name": "ipython",
    "version": 3
   },
   "file_extension": ".py",
   "mimetype": "text/x-python",
   "name": "python",
   "nbconvert_exporter": "python",
   "pygments_lexer": "ipython3",
   "version": "3.7.4"
  }
 },
 "nbformat": 4,
 "nbformat_minor": 4
}
