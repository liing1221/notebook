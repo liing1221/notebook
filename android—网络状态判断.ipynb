{
 "cells": [
  {
   "cell_type": "markdown",
   "id": "bfea907b",
   "metadata": {},
   "source": [
    "# 网络状态判断\n",
    "　　参考：[Android的网络状态判断](https://blog.csdn.net/qiuchangyong/article/details/121503885)    \n",
    "　　　　　[安卓中判断网络连接状态的方法](https://blog.51cto.com/u_8886495/1406715)    \n",
    "　　　　　[检测网络状态 & 监听网络变化](https://blog.51cto.com/u_12358040/5409394)    \n",
    "　　　　　[]()   \n",
    "　　　　　[]()   \n",
    "　　　　　[]()   \n",
    "　　　　　[]()   "
   ]
  }
 ],
 "metadata": {
  "kernelspec": {
   "display_name": "Python 3",
   "language": "python",
   "name": "python3"
  },
  "language_info": {
   "codemirror_mode": {
    "name": "ipython",
    "version": 3
   },
   "file_extension": ".py",
   "mimetype": "text/x-python",
   "name": "python",
   "nbconvert_exporter": "python",
   "pygments_lexer": "ipython3",
   "version": "3.9.7"
  }
 },
 "nbformat": 4,
 "nbformat_minor": 5
}
