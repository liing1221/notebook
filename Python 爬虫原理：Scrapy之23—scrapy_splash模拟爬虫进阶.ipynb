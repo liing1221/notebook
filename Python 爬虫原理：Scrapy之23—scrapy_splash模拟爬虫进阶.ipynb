{
 "cells": [
  {
   "cell_type": "markdown",
   "metadata": {},
   "source": [
    "# Scrapy_splash模拟爬虫进阶\n",
    "　　参考：[scrapy爬虫开发(9)Splash下载服务器](https://blog.csdn.net/csdn_yym/article/details/86571523)<br>\n",
    "　　　　　[深入使用 Splash 服务](https://m.imooc.com/wiki/scrapylesson-deepsplash)<br>"
   ]
  }
 ],
 "metadata": {
  "kernelspec": {
   "display_name": "Python 3",
   "language": "python",
   "name": "python3"
  },
  "language_info": {
   "codemirror_mode": {
    "name": "ipython",
    "version": 3
   },
   "file_extension": ".py",
   "mimetype": "text/x-python",
   "name": "python",
   "nbconvert_exporter": "python",
   "pygments_lexer": "ipython3",
   "version": "3.7.4"
  }
 },
 "nbformat": 4,
 "nbformat_minor": 4
}
