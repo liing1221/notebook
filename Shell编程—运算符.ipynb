{
 "cells": [
  {
   "cell_type": "markdown",
   "id": "9733011e",
   "metadata": {},
   "source": [
    "# Shell 运算符\n",
    "\n",
    "[shell教程及脚本编写](https://juejin.cn/post/6973878462268801031)  \n",
    "[Shell编程教程](https://www.ngui.cc/article/show-727638.html?action=onClick)   \n",
    "[shell学习教程](https://blog.csdn.net/w918589859/article/details/108752592)  \n",
    "[Shell高级教程](http://c.biancheng.net/shell/advanced/)  \n",
    "[shell 教程](https://blog.csdn.net/qq_43762191/article/details/123036200)  \n",
    "[菜鸟 Shell 教程](https://www.runoob.com/linux/linux-shell.html)    \n",
    "[Shell入门教程 ](https://linux265.com/course/shell-tutorials.html)   \n",
    "[运维派-Shell教程](http://www.yunweipai.com/34318.html)  "
   ]
  }
 ],
 "metadata": {
  "kernelspec": {
   "display_name": "Python 3 (ipykernel)",
   "language": "python",
   "name": "python3"
  },
  "language_info": {
   "codemirror_mode": {
    "name": "ipython",
    "version": 3
   },
   "file_extension": ".py",
   "mimetype": "text/x-python",
   "name": "python",
   "nbconvert_exporter": "python",
   "pygments_lexer": "ipython3",
   "version": "3.9.7"
  }
 },
 "nbformat": 4,
 "nbformat_minor": 5
}
