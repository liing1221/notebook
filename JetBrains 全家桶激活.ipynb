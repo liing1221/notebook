{
 "cells": [
  {
   "cell_type": "markdown",
   "id": "ad6e54db",
   "metadata": {},
   "source": [
    "# JetBrains激活\n",
    "　　参考：[IntelliJ IDEA 2021.3最新永久激活IDEA破解教程，可激活IDEA至2099年！](http://www.itmind.net/11229.html) - 测试有效        "
   ]
  }
 ],
 "metadata": {
  "kernelspec": {
   "display_name": "Python 3 (ipykernel)",
   "language": "python",
   "name": "python3"
  },
  "language_info": {
   "codemirror_mode": {
    "name": "ipython",
    "version": 3
   },
   "file_extension": ".py",
   "mimetype": "text/x-python",
   "name": "python",
   "nbconvert_exporter": "python",
   "pygments_lexer": "ipython3",
   "version": "3.9.7"
  }
 },
 "nbformat": 4,
 "nbformat_minor": 5
}
