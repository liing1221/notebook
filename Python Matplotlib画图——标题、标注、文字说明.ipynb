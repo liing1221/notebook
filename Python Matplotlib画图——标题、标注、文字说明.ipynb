{
 "cells": [
  {
   "cell_type": "markdown",
   "metadata": {},
   "source": [
    "## Python Matplotlib画图——标题、标注、文字说明"
   ]
  },
  {
   "cell_type": "markdown",
   "metadata": {},
   "source": [
    "## 1、设置图像标题：   plt.title(name)<br>\n",
    "　　　　　　**title常用参数**<br>\n",
    "　　　　　　fontsize　　　　设置字体大小，默认12，可选参数 ['xx-small', 'x-small', 'small', 'medium', 'large','x-large', 'xx-large']<br>\n",
    "　　　　　　fontweight　　　设置字体粗细，可选参数 ['light', 'normal', 'medium', 'semibold', 'bold', 'heavy', 'black']<br>\n",
    "　　　　　　fontstyle　　　设置字体类型，可选参数[ 'normal' | 'italic' | 'oblique' ]，italic斜体，oblique倾斜<br>\n",
    "　　　　　　verticalalignment　　　设置水平对齐方式 ，可选参数 ： 'center' , 'top' , 'bottom' ,'baseline' <br>\n",
    "　　　　　　horizontalalignment　　设置垂直对齐方式，可选参数：left,right,center<br>\n",
    "　　　　　　rotation　　(旋转角度)可选参数为:vertical,horizontal 也可以为数字<br>\n",
    "　　　　　　alpha　　　　透明度，参数值0至1之间<br>\n",
    "　　　　　　backgroundcolor　　　　标题背景颜色<br>\n",
    "　　　　　　bbox给标题增加外框 ，常用参数如下：<br>\n",
    "　　　　　　　　boxstyle方框外形<br>\n",
    "　　　　　　　　facecolor(简写fc)背景颜色<br>\n",
    "　　　　　　　　edgecolor(简写ec)边框线条颜色<br>\n",
    "　　　　　　　　edgewidth边框线条大小<br>\n"
   ]
  },
  {
   "cell_type": "code",
   "execution_count": 3,
   "metadata": {},
   "outputs": [
    {
     "data": {
      "text/plain": [
       "Text(0.5,1,'Interesting')"
      ]
     },
     "execution_count": 3,
     "metadata": {},
     "output_type": "execute_result"
    }
   ],
   "source": [
    "import matplotlib.pyplot as plt \n",
    "plt.title('Interesting Graph',fontsize='large',fontweight='bold') #设置字体大小与格式\n",
    "plt.title('Interesting Graph',color='blue')                      #设置字体颜色\n",
    "plt.title('Interesting Graph',loc ='left')                      #设置字体位置\n",
    "plt.title('Interesting Graph',verticalalignment='bottom')      #设置垂直对齐方式\n",
    "plt.title('Interesting Graph',rotation=45)                    #设置字体旋转角度\n",
    "plt.title('Interesting',bbox=dict(facecolor='g', edgecolor='blue', alpha=0.65 ))  # 标题边框"
   ]
  },
  {
   "cell_type": "markdown",
   "metadata": {},
   "source": [
    "## 2、设置图像标注文字：plt.annotate(s='str' ,xy=(x,y) ,xytext=(l1,l2) ,..)\n",
    "　　　　　　**参数说明**<br>\n",
    "　　　　　　s　　　　　为注释文本内容 <br>\n",
    "　　　　　　xy 　　　　为被注释的坐标点<br>\n",
    "　　　　　　xytext 　　为注释文字的坐标位置<br>\n",
    "　　　　　　xycoords 　参数如下:<br>\n",
    "　　　　　　　　figure points　　　　　　　points from the lower left of the figure 点在图左下方<br>\n",
    "　　　　　　　　figure pixels　　　　　　　pixels from the lower left of the figure 图左下角的像素<br>\n",
    "　　　　　　　　figure fraction　　　　　　fraction of figure from lower left 左下角数字部分<br>\n",
    "　　　　　　　　axes points　　　　　　　　points from lower left corner of axes 从左下角点的坐标<br>\n",
    "　　　　　　　　axes pixels　　　　　　　　pixels from lower left corner of axes 从左下角的像素坐标<br>\n",
    "　　　　　　　　axes fraction　　　　　　　fraction of axes from lower left 左下角部分<br>\n",
    "　　　　　　　　data　　　　　　　　　　　　use the coordinate system of the object being annotated(default) 使用的坐标系统被注释的对象（默认）<br>\n",
    "　　　　　　　　polar(theta,r)　　　　　　　if not native ‘data’ coordinates t<br>\n",
    "　　　　　　textcoords　　设置注释文字偏移量<br>\n",
    "　　　　　　　　| 参数 | 坐标系 | <br>\n",
    "　　　　　　　　| 'offset points' |　　　　　　| <br>\n",
    "　　　　　　　　| 'figure points' | 距离图形左下角的点数量 | <br>\n",
    "　　　　　　　　| 'figure pixels' | 距离图形左下角的像素数量 | <br>\n",
    "　　　　　　　　| 'figure fraction' | 0,0 是图形左下角，1,1 是右上角 | <br>\n",
    "　　　　　　　　| 'axes points' | 距离轴域左下角的点数量 | <br>\n",
    "　　　　　　　　| 'axes pixels' | 距离轴域左下角的像素数量 | <br>\n",
    "　　　　　　　　| 'axes fraction' | 0,0 是轴域左下角，1,1 是右上角 | <br>\n",
    "　　　　　　　　| 'data' | 使用轴域数据坐标系 |<br>\n",
    "　　　　　　arrowprops　　箭头参数,参数类型为字典dict<br>\n",
    "　　　　　　　　width　　　　　　　the width of the arrow in points                              点箭头的宽度<br>\n",
    "　　　　　　　　headwidth　　　　　the width of the base of the arrow head in points  在点的箭头底座的宽度<br>\n",
    "　　　　　　　　headlength　　　　the length of the arrow head in points                   点箭头的长度<br>\n",
    "　　　　　　　　shrink　　　　　　 fraction of total length to ‘shrink’ from both ends  总长度为分数“缩水”从两端<br>\n",
    "　　　　　　　　facecolor　　　　　箭头颜色<br>\n",
    "　　　　　　bbox　　　　　给标题增加外框 ，常用参数如下：<br>\n",
    "　　　　　　　　boxstyle　　　　　　　方框外形<br>\n",
    "　　　　　　　　facecolor(简写fc)　　　　背景颜色<br>\n",
    "　　　　　　　　edgecolor(简写ec)　　　边框线条颜色<br>\n",
    "　　　　　　　　edgewidth　　　　　　　边框线条大小<br>"
   ]
  },
  {
   "cell_type": "code",
   "execution_count": 6,
   "metadata": {},
   "outputs": [],
   "source": [
    "bbox=dict(boxstyle='round,pad=0.5',fc='yellow',ec='k',lw=1,alpha=0.5)   # fc为facecolor,ec为edgecolor,lw为lineweight<br>"
   ]
  },
  {
   "cell_type": "markdown",
   "metadata": {},
   "source": [
    "## 3、设置图像文字说明：text(x,y,string,fontsize=15,verticalalignment=\"top\",horizontalalignment=\"right\")<br>\n",
    "\n",
    "　　　　　　x,y:　　　　　　　表示坐标值上的值<br>\n",
    "　　　　　　string:　　　　　　表示说明文字<br>\n",
    "　　　　　　fontsize:　　　　　表示字体大小<br>\n",
    "　　　　　　verticalalignment(简写va)：垂直对齐方式 ，参数：[ ‘center’ | ‘top’ | ‘bottom’ | ‘baseline’ ]<br>\n",
    "　　　　　　horizontalalignment(简写ha)：水平对齐方式 ，参数：[ ‘center’ | ‘right’ | ‘left’ ]<br>\n",
    "　　　　　　xycoords　　　　　　选择指定的坐标轴系统:<br>\n",
    "　　　　　　　　　　　　figure points 　　　　　　points from the lower left of the figure 点在图左下方<br>\n",
    "　　　　　　　　　　　　figure pixels 　　　　　　pixels from the lower left of the figure 图左下角的像素<br>\n",
    "　　　　　　　　　　　　figure fraction　　　　　　fraction of figure from lower left 左下角数字部分<br>\n",
    "　　　　　　　　　　　　axes points  　　　　　　points from lower left corner of axes 从左下角点的坐标<br>\n",
    "　　　　　　　　　　　　axes pixels  　　　　　　pixels from lower left corner of axes 从左下角的像素坐标<br>\n",
    "　　　　　　　　　　　　axes fraction　　　　　　fraction of axes from lower left 左下角部分<br>\n",
    "　　　　　　　　　　　　data    　　　　　　use the coordinate system of the object being annotated(default) 使用的坐标系统被注释的对象（默认）<br>\n",
    "　　　　　　　　　　　　polar(theta,r)　　　　　　if not native ‘data’ coordinates t<br>\n",
    "　　　　　　arrowprops　　　　　　箭头参数,参数类型为字典dict<br>\n",
    "　　　　　　　　　　　　width           the width of the arrow in points                              点箭头的宽度<br>\n",
    "　　　　　　　　　　　　headwidth   the width of the base of the arrow head in points  在点的箭头底座的宽度<br>\n",
    "　　　　　　　　　　　　headlength  the length of the arrow head in points                   点箭头的长度<br>\n",
    "　　　　　　　　　　　　shrink          fraction of total length to ‘shrink’ from both ends  总长度为分数“缩水”从两端<br>\n",
    "　　　　　　　　　　　　facecolor     箭头颜色<br>\n",
    "　　　　　　bbox　　　　　　给标题增加外框 ，常用参数如下：<br>\n",
    "　　　　　　　　　　　　boxstyle方框外形<br>\n",
    "　　　　　　　　　　　　facecolor(简写fc)背景颜色<br>\n",
    "　　　　　　　　　　　　edgecolor(简写ec)边框线条颜色<br>\n",
    "　　　　　　　　　　　　edgewidth边框线条大小<br>"
   ]
  },
  {
   "cell_type": "code",
   "execution_count": 12,
   "metadata": {},
   "outputs": [
    {
     "data": {
      "text/plain": [
       "Text(0.6,0.6,'$\\\\mathcal{A}\\\\mathrm{sin}(2 \\\\omega t)$')"
      ]
     },
     "execution_count": 12,
     "metadata": {},
     "output_type": "execute_result"
    },
    {
     "data": {
      "image/png": "[encoded data removed]",
      "text/plain": [
       "<Figure size 432x288 with 1 Axes>"
      ]
     },
     "metadata": {
      "needs_background": "light"
     },
     "output_type": "display_data"
    }
   ],
   "source": [
    "plt.title(r'$\\alpha_i > \\beta_i$', fontsize=20)\n",
    "plt.text(1, -0.6, r'$\\sum_{i=0}^\\infty x_i$', fontsize=20)\n",
    "plt.text(0.6, 0.6, r'$\\mathcal{A}\\mathrm{sin}(2 \\omega t)$',fontsize=20)"
   ]
  },
  {
   "cell_type": "markdown",
   "metadata": {},
   "source": [
    "## 4、[plt.rcParams[key] = value](https://www.cnblogs.com/pacino12134/p/9776882.html)\n",
    "pylot使用rc配置文件来自定义图形的各种默认属性，称之为rc配置或rc参数。通过rc参数可以修改默认的属性，包括窗体大小、每英寸的点数、线条宽度、颜色、样式、坐标轴、坐标和网络属性、文本、字体等。\n",
    "\n",
    "rc参数存储在字典变量中，通过字典的方式进行访问"
   ]
  },
  {
   "cell_type": "markdown",
   "metadata": {},
   "source": [
    "## 5、plt.axis('off')    #打印图片的时候不显示坐标轴"
   ]
  }
 ],
 "metadata": {
  "kernelspec": {
   "display_name": "Python 3",
   "language": "python",
   "name": "python3"
  },
  "language_info": {
   "codemirror_mode": {
    "name": "ipython",
    "version": 3
   },
   "file_extension": ".py",
   "mimetype": "text/x-python",
   "name": "python",
   "nbconvert_exporter": "python",
   "pygments_lexer": "ipython3",
   "version": "3.7.0"
  }
 },
 "nbformat": 4,
 "nbformat_minor": 2
}
