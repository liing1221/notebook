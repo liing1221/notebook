{
 "cells": [
  {
   "cell_type": "markdown",
   "metadata": {},
   "source": [
    "## Vim 使用与快捷键"
   ]
  },
  {
   "cell_type": "markdown",
   "metadata": {},
   "source": [
    "#### 4、vim 跳转操作\n",
    "：set nu 显示行号<br>\n",
    "：行号　　　跳转到指定行， 如 ：1 跳转到首行<br>\n",
    "：$ 　　　　跳转到文件末尾<br>\n",
    "：gg　　　　跳转到文件头<br>\n",
    "：shift + g　跳转到文件末尾<br>"
   ]
  },
  {
   "cell_type": "markdown",
   "metadata": {},
   "source": [
    "#### 5、vim 查找与替换"
   ]
  },
  {
   "cell_type": "markdown",
   "metadata": {},
   "source": [
    "#### 6、vim 撤销、回退操作<br>\n",
    "在vi中按u可以撤销一次操作<br>\n",
    "Ctrl+r 恢复上一步被撤销的操作<br>\n",
    "\n",
    "注意：如果你输入“u”两次，你的文本恢复原样，那应该是你的Vim被配置在Vi兼容模式了。<br>\n",
    "重做\n",
    "如果你撤销得太多，你可以输入CTRL-R（redo）回退前一个命令。换句话说，它撤销一个撤销。<br>\n",
    "有一个特殊版本的撤销命令：“U”（行撤销）。行撤销命令撤销所有在前一个编辑行上的操作。<br>\n",
    "输入这些命令两次取消前一个“U”：<br>\n",
    "A very intelligent turtle<br>\n",
    "xxxx 删除very<br>\n",
    "A intelligent turtle<br>\n",
    "xxxxxx 删除turtle<br>\n",
    "A intelligent<br>\n",
    "用“U”恢复行<br>\n",
    "A very intelligent turtle<br>\n",
    "用“u”撤销“U”<br>\n",
    "A intelligent<br>\n",
    "“U”命令自己改变自己，“u”命令撤销操作，CTRL-R命令重做操作。这有点乱，但不用担心，用“u”和CTRL-R命令你可以切换到任何状态。<br>\n",
    "流行的文本编辑器通常都有前进和后退功能，可以在文件中曾经浏览过的位置之间来回移动。在 vim 中使用 Ctrl-O 执行后退，使用 Ctrl-I 执行前进。<br>\n",
    "#### 7、vim批量插入、删除\n",
    "vim批量插入：<br>\n",
    ">1.采用正则的方式 <br>\n",
    "在普通模式下，输入如下命令 <br>\n",
    ":%s/^/123/g　　　　　#这样就在行首插入123三个字符<br>\n",
    "2.可视块模式<br> \n",
    "比如想在文件中每行行首插入三个字符，在普通模式下，ctrl+v可进入可视块模式。gg到文件最开始位置，然后ctrl+v进入可视块模式，再按G到文件最后一行。然后shift+i进入插入模式，输入’123’,再连按两次esc，这样就达到了在每行行首插入’123’的目的。<br>\n",
    "\n",
    "vim 批量删除：<br>\n",
    ">1.采用正则的方式 <br>\n",
    "在普通模式下，输入如下命令<br> \n",
    ":%s/^…//g　　　　　 #这样就将行首的三个字符用空白串替换，即达到了删除行首三个字符的效果<br>\n",
    "2.可视块模式 <br>\n",
    "比如想删除文件中每行前三个字符，在普通模式下，ctrl+v可进入可视块模式。gg到文件最开始位置，然后ctrl+v进入可视块模式，再按G到文件最后一行。然后用方向键或者l调整选中位置。比如想删除三个字符，按三次l，然后再按d或者x，就可以将每行行首三个字符删除。 <br>\n",
    "这种方式的好处是删除的过程比较清晰<br>\n"
   ]
  },
  {
   "cell_type": "markdown",
   "metadata": {},
   "source": [
    "#### 7、vim缩进\n",
    "1、多行或快缩进：<br>\n",
    "　　按v进入visual状态，选择多行，用>或<缩进或缩出 <br>\n",
    "2、通常根据语言特征使用自动缩进排版：<br>\n",
    "　　在命令状态下对当前行用== （连按=两次）, 或对多行用n==（n是自然数）表示自动缩进从当前行起的下面n行。<br>\n",
    "　　你可以试试把代码缩进任意打乱再用n==排版，相当于一般IDE里的code format。使用gg=G可对整篇代码进行排版。<br>"
   ]
  },
  {
   "cell_type": "code",
   "execution_count": null,
   "metadata": {},
   "outputs": [],
   "source": []
  }
 ],
 "metadata": {
  "kernelspec": {
   "display_name": "Python 3",
   "language": "python",
   "name": "python3"
  },
  "language_info": {
   "codemirror_mode": {
    "name": "ipython",
    "version": 3
   },
   "file_extension": ".py",
   "mimetype": "text/x-python",
   "name": "python",
   "nbconvert_exporter": "python",
   "pygments_lexer": "ipython3",
   "version": "3.7.0"
  }
 },
 "nbformat": 4,
 "nbformat_minor": 2
}
