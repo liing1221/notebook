{
 "cells": [
  {
   "cell_type": "markdown",
   "metadata": {},
   "source": [
    "## Windows 任务计划"
   ]
  },
  {
   "cell_type": "markdown",
   "metadata": {},
   "source": [
    "#### 1、Windows 定时任务"
   ]
  },
  {
   "cell_type": "markdown",
   "metadata": {},
   "source": [
    "最近要做一个每天在Windows10上每天定时启动Python脚本的程序，学习了一下如何设置一个系统的定时任务计划。<br>\n",
    "1）、计算机->右键“管理”->系统工具（也可以cmd输入taskschd.msc回车）->任务计划程序->右侧：创建基本任务或创建任务(用户组选择管理员或系统用户）：<br>\n",
    "![创建任务](./images/win_1.jpg)"
   ]
  },
  {
   "cell_type": "markdown",
   "metadata": {},
   "source": [
    "2）、按需要制定任务触发策略：\n",
    "![触发策略](./images/win_2.jpg)"
   ]
  },
  {
   "cell_type": "markdown",
   "metadata": {},
   "source": [
    "3）、设定任务操作与执行文件\n",
    "![任务操作](./images/win_3.jpg)"
   ]
  },
  {
   "cell_type": "markdown",
   "metadata": {},
   "source": [
    "4)、根据任务策略，设置任务执行条件及其他设置，点击确定即可。你已经设置好可以自动执行的任务计划了！<br>\n",
    "注意：当执行任务计划的用户组选择为系统用户时：任务可以后台执行，不再弹出cmd命令窗口。"
   ]
  },
  {
   "cell_type": "markdown",
   "metadata": {},
   "source": [
    "5）、附：[windows事件ID大全](https://www.cnblogs.com/croso/p/5310310.html)"
   ]
  }
 ],
 "metadata": {
  "kernelspec": {
   "display_name": "Python 3",
   "language": "python",
   "name": "python3"
  },
  "language_info": {
   "codemirror_mode": {
    "name": "ipython",
    "version": 3
   },
   "file_extension": ".py",
   "mimetype": "text/x-python",
   "name": "python",
   "nbconvert_exporter": "python",
   "pygments_lexer": "ipython3",
   "version": "3.7.1"
  }
 },
 "nbformat": 4,
 "nbformat_minor": 2
}
