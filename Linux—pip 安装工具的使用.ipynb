{
 "cells": [
  {
   "cell_type": "markdown",
   "metadata": {},
   "source": [
    "## Pip 安装工具的使用"
   ]
  },
  {
   "cell_type": "markdown",
   "metadata": {},
   "source": [
    "#### Python镜像源<br>\n",
    "阿里云 http://mirrors.aliyun.com/pypi/simple/<br>\n",
    "中国科技大学 https://pypi.mirrors.ustc.edu.cn/simple/ <br>\n",
    "豆瓣(douban) http://pypi.douban.com/simple/ <br>\n",
    "清华大学 https://pypi.tuna.tsinghua.edu.cn/simple/<br>\n",
    "中国科学技术大学 http://pypi.mirrors.ustc.edu.cn/simple/<br>\n",
    "修改配置默认源：<br>\n",
    "1、需要创建或修改配置文件（一般都是创建）<br>\n",
    "linux的文件在~/.pip/pip.conf<br>\n",
    "windows在%HOMEPATH%\\pip\\pip.ini）<br>\n",
    "2、修改内容为：<br>\n",
    "\\[global\\]<br>\n",
    "index-url = http://pypi.douban.com/simple<br>\n",
    "\\[install\\]<br>\n",
    "trusted-host=pypi.douban.com<br> \n",
    "这样在使用pip来安装时，会默认调用该镜像。<br>\n",
    ">#!/usr/bin/python <br>\n",
    "import os<br> \n",
    "package = raw_input(\"Please input the package which you want to install!\\n\")<br>\n",
    "command = \"pip install %s -i http://pypi.mirrors.ustc.edu.cn/simple --trusted-host pypi.mirrors.ustc.edu.cn\" % package<br>\n",
    "os.system(command)<br>"
   ]
  },
  {
   "cell_type": "markdown",
   "metadata": {},
   "source": [
    "#### pip 工具使用"
   ]
  },
  {
   "cell_type": "markdown",
   "metadata": {},
   "source": [
    "#### pip安装错误处理<br>\n",
    "1、错误：Retrying (Retry(total=4, connect=None, read=None, redirect=None, status=None)) after connection broken by 'ConnectTimeoutError<br>\n",
    "解决办法：pip install selectivesearch -i http://pypi.douban.com/simple --trusted-host pypi.douban.com<br>\n",
    "2、错误：信任与安全主机错误<br>\n",
    "解决办法： pip install web.py -i http://pypi.douban.com/simple --trusted-host pypi.douban.com<br>\n",
    "3、错误：Fatal Python error: init_sys_streams: can't initialize sys standard streams；LookupError: unknow encoding: 65001<br>\n",
    "解决办法：命令行执行set pythonioencoding=utf-8 <br>\n",
    "4、错误：Python--Cmd窗口运行Python时（或者PIP安装第三方库时）提示：Fatal Python error: Py_Initialize: can't initialize sys standard streams LookupError: unknown encoding: cp65001<br>\n",
    "参考：[Cmd窗口运行Python时：unknown encoding: cp65001](https://www.bbsmax.com/A/Vx5M013gJN/)<br>\n",
    "解决办法：（结合chcp查看cmd代码页，并修改为合适编码）set pythonioencoding=utf-8 <br>"
   ]
  }
 ],
 "metadata": {
  "kernelspec": {
   "display_name": "Python 3",
   "language": "python",
   "name": "python3"
  },
  "language_info": {
   "codemirror_mode": {
    "name": "ipython",
    "version": 3
   },
   "file_extension": ".py",
   "mimetype": "text/x-python",
   "name": "python",
   "nbconvert_exporter": "python",
   "pygments_lexer": "ipython3",
   "version": "3.6.8"
  }
 },
 "nbformat": 4,
 "nbformat_minor": 2
}
