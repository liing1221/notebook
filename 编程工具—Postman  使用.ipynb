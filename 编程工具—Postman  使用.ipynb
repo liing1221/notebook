{
 "cells": [
  {
   "cell_type": "markdown",
   "metadata": {},
   "source": [
    "## Postman 教程\n",
    "　　参考：<br>\n",
    "　　　　　[基本教程](http://book.crifan.com/books/api_tool_postman/website/postman_func_ui_cfg/)<br>\n",
    "　　　　　[Postman安装与使用](https://www.cnblogs.com/fnng/p/9136434.html)<br>"
   ]
  }
 ],
 "metadata": {
  "kernelspec": {
   "display_name": "Python 3",
   "language": "python",
   "name": "python3"
  },
  "language_info": {
   "codemirror_mode": {
    "name": "ipython",
    "version": 3
   },
   "file_extension": ".py",
   "mimetype": "text/x-python",
   "name": "python",
   "nbconvert_exporter": "python",
   "pygments_lexer": "ipython3",
   "version": "3.7.4"
  }
 },
 "nbformat": 4,
 "nbformat_minor": 2
}
