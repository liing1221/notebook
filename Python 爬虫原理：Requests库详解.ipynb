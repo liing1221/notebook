{
 "cells": [
  {
   "cell_type": "markdown",
   "metadata": {},
   "source": [
    "## Python 爬虫原理：Requests库详解\n",
    "\n",
    "\n",
    "### 异常处理：\n",
    "#### 1、请求参数有中文的问题：\n",
    "　　**异常：UnicodeEncodeError:** 'latin-1' codec can't encode characters in position 179-182　　参考：[ Python中requests框架传入中文参数问题](https://testerhome.com/topics/7989)<br>\n",
    "　　python中使用requests模块http请求时,发现中文参数不会自动的URL编码,并且没有找到类似urllib (python3)模块中urllib.parse.quote(\"中文\")手动URL编码的方法.研究了半天发现requests模块对中文参数有3种不同的处理方式.<br>\n",
    "1)、requests模块自动URL编码参数<br>\n",
    "　　要使参数自动URL编码,需要将请求参数以字典的形式定义,如下:<br>\n",
    ">url = \"http://www.baidu.com\"<br>\n",
    "pdict = {\"name\":\"中文测试\"}<br>\n",
    "requests.post(url = url,data = pdict,proxies = proxy)<br>\n",
    "\n",
    "效果如下,中文被URL编码正确处理:<br>\n",
    ">name=%E4%B8%AD%E6...<br>\n",
    "\n",
    "2)、参数原样输出,不需要编码处理<br>\n",
    "　　使用dictionary定义参数,发送请求时requests模块会自动URL编码处理参数.但有些时候可能不需要编码,要求参数原样输出,这个时候将参数直接定义成字符串即可.<br>\n",
    ">url = \"http://www.baidu.com\"<br>\n",
    "pstr1 = \"name=中文\".encode(\"utf-8\")<br>\n",
    "requests.post(url = url,data = pstr1, proxies = proxy)<br>\n",
    "\n",
    "效果如下,参数原样输出:<br>\n",
    ">name=中文<br>\n",
    "\n",
    "　　注:参数需要utf-8编码,否则会报错Use body.encode('utf-8') if you want to send it encoded in UTF-8. <br>\n",
    "3)、参数使用format或%格式化,导致参数str变成bytes<br>\n",
    "　　有些时候直接定义的字符串参数,其中有的参数是变量,需要format或%格式化控制变量.这个时候会发现格式化后的参数变成了bytes.<br>\n",
    ">url = \"http://www.baidu.com\"<br>\n",
    "pstr2 = \"name={0}\".format(\"中文\".encode(\"utf-8\"))<br>\n",
    "requests.post(url = url,data = pstr2, proxies = proxy)<br>\n",
    "\n",
    "参数变成了bytes <br>\n",
    "　　在该种请求下: <br>\n",
    "　　1. 如果参数需要URL编码.当参数少的时候可以使用dict定义.如果参数太多,dict比较麻烦,可以针对参数使用urllib.parse.quote(\"中文\")手动encode成URL编码.<br> \n",
    "　　2. 如果中文参数需要原样输出.将参数格式化完成后再编码即可.pstr2 = \"name={0}\".format(\"中文\").encode(\"utf-8\")<br>\n",
    "4)、手动url编码：<br>\n",
    ">urllib.parse.quote(string[, safe])<br>\n",
    "urllib.parse.quote_plus(string[, safe])<br>\n",
    "\n",
    "对字符串进行编码。参数safe指定不需要编码的字符。<br>\n",
    "#### 1、请求传参形如“%25E4%25BA%25B2%25E5%25AD%2590”的问题：\n",
    "　　解释：这是经过二次编码的URL编码,其中%25是经过二次编码的结果,其原形就是百分号,所以经一次解码后应为 %E4%BA%B2%E5%AD%90 然后就能看出这是经URL编码的UTF-8字符,每三组对应一个汉字,解码后就是\"亲子\"二字了。\n",
    "\n"
   ]
  }
 ],
 "metadata": {
  "kernelspec": {
   "display_name": "Python 3",
   "language": "python",
   "name": "python3"
  },
  "language_info": {
   "codemirror_mode": {
    "name": "ipython",
    "version": 3
   },
   "file_extension": ".py",
   "mimetype": "text/x-python",
   "name": "python",
   "nbconvert_exporter": "python",
   "pygments_lexer": "ipython3",
   "version": "3.6.8"
  }
 },
 "nbformat": 4,
 "nbformat_minor": 2
}
