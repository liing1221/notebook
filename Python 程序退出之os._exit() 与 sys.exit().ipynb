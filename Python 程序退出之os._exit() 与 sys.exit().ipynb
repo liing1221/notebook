{
 "cells": [
  {
   "cell_type": "markdown",
   "metadata": {},
   "source": [
    "## Python 程序退出之 os._exit() 与 sys.exit()\n",
    "\n",
    "Python的程序有两中退出方式：os._exit()， sys.exit()。本文介绍这两种方式的区别和选择。<br>\n",
    "os._exit()：会直接将python程序终止，之后的所有代码都不会继续执行。<br>\n",
    "sys.exit()：会引发一个异常 SystemExit，如果这个异常没有被捕获，那么python解释器将会退出。如果有捕获此异常的代码，那么这些代码还是会执行。捕获这个异常可以做一些额外的清理工作。0为正常退出，其他数值（1-127）为不正常，可抛异常事件供捕获。<br>\n",
    "举例说明:<br>\n",
    ">import os\n",
    " try:\n",
    "   os._exit(0)\n",
    " except:\n",
    "   print 'die.'\n",
    "\n",
    "此处不会打出”going to die”<br>\n",
    ">import sys\n",
    "try:\n",
    "    sys.exit(0)\n",
    "except:\n",
    "    print 'die'\n",
    "finally:\n",
    "    print 'cleanup'\n",
    "\n",
    "输出：<br>\n",
    ">die\n",
    "cleanup\n",
    "\n",
    "区别:<br>\n",
    "综上，sys.exit()的退出比较优雅，调用后会引发SystemExit异常，可以捕获此异常做清理工作。os._exit()直接将python解释器退出，余下的语句不会执行。<br>\n",
    "一般情况下使用sys.exit()即可，一般在fork出来的子进程中使用os._exit()<br>\n",
    "一般来说os._exit() 用于在线程中退出 <br>\n",
    "sys.exit() 用于在主线程中退出。<br>\n",
    "exit() 跟 C 语言等其他语言的 exit() 应该是一样的。 <br>\n",
    "os._exit() 调用 C 语言的 _exit() 函数。<br>\n",
    "builtin.exit 是一个 Quitter 对象，这个对象的 call 方法会抛出一个 SystemExit 异常。<br>"
   ]
  }
 ],
 "metadata": {
  "kernelspec": {
   "display_name": "Python 3",
   "language": "python",
   "name": "python3"
  },
  "language_info": {
   "codemirror_mode": {
    "name": "ipython",
    "version": 3
   },
   "file_extension": ".py",
   "mimetype": "text/x-python",
   "name": "python",
   "nbconvert_exporter": "python",
   "pygments_lexer": "ipython3",
   "version": "3.6.8"
  }
 },
 "nbformat": 4,
 "nbformat_minor": 2
}
