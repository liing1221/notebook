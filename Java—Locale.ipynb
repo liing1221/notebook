{
 "cells": [
  {
   "cell_type": "markdown",
   "id": "86fdb606",
   "metadata": {},
   "source": [
    "# Locale\n",
    "　　参考：[]()   \n",
    "　　　　　[java中的Locale类讲解](https://blog.csdn.net/yucan1234/article/details/114654781)   \n",
    "　　　　　[国际化的locale类详解](https://blog.csdn.net/u013310119/article/details/64127771)   \n",
    "　　　　　[]()   \n",
    "　　　　　[]()   \n",
    "　　　　　[]()   \n",
    "　　　　　[]()   \n",
    "\n",
    "## 一、\n",
    "\n",
    "## 二、\n",
    "\n",
    "## 三、\n",
    "\n",
    "## 四、"
   ]
  }
 ],
 "metadata": {
  "kernelspec": {
   "display_name": "Python 3 (ipykernel)",
   "language": "python",
   "name": "python3"
  },
  "language_info": {
   "codemirror_mode": {
    "name": "ipython",
    "version": 3
   },
   "file_extension": ".py",
   "mimetype": "text/x-python",
   "name": "python",
   "nbconvert_exporter": "python",
   "pygments_lexer": "ipython3",
   "version": "3.9.12"
  }
 },
 "nbformat": 4,
 "nbformat_minor": 5
}
