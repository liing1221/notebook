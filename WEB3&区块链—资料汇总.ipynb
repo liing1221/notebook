{
 "cells": [
  {
   "cell_type": "markdown",
   "id": "90d31e95",
   "metadata": {},
   "source": [
    "WEB3&区块链—资料汇总\n",
    "[Web3 课程概览：教你一步步成为 Top 级开发者 ](https://www.sohu.com/a/575352876_121118710)    \n",
    "[Web 3.0入门教程](https://blog.csdn.net/duoshehuan6005/article/details/126061962)    \n",
    "[收藏！关于Web3的有效学习资源汇总](https://zhuanlan.zhihu.com/p/419482902)    \n",
    "[Web3 ｜ 50+免费课程，web3入门都在这里了](https://www.xiaohongshu.com/discovery/item/6314220d0000000012009827)   [北大肖臻-区块链技术与应用](http://zhenxiao.com/blockchain/)    \n",
    "[]()    \n",
    "[]()    "
   ]
  }
 ],
 "metadata": {
  "kernelspec": {
   "display_name": "Python 3 (ipykernel)",
   "language": "python",
   "name": "python3"
  },
  "language_info": {
   "codemirror_mode": {
    "name": "ipython",
    "version": 3
   },
   "file_extension": ".py",
   "mimetype": "text/x-python",
   "name": "python",
   "nbconvert_exporter": "python",
   "pygments_lexer": "ipython3",
   "version": "3.9.7"
  }
 },
 "nbformat": 4,
 "nbformat_minor": 5
}
